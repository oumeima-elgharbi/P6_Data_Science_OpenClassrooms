{
 "cells": [
  {
   "cell_type": "markdown",
   "source": [
    "- OpenClassrooms Project 6, Data Scientist\n",
    "- Author : Oumeima EL GHARBI\n",
    "- Date : October, November 2022"
   ],
   "metadata": {
    "collapsed": false,
    "pycharm": {
     "name": "#%% md\n"
    }
   }
  },
  {
   "cell_type": "markdown",
   "source": [
    "### Importing libraries"
   ],
   "metadata": {
    "collapsed": false,
    "pycharm": {
     "name": "#%% md\n"
    }
   }
  },
  {
   "cell_type": "code",
   "execution_count": 84,
   "outputs": [
    {
     "data": {
      "application/javascript": "IPython.notebook.set_autosave_interval(300000)"
     },
     "metadata": {},
     "output_type": "display_data"
    },
    {
     "name": "stdout",
     "output_type": "stream",
     "text": [
      "Autosaving every 300 seconds\n"
     ]
    }
   ],
   "source": [
    "import pandas as pd\n",
    "%reset -f\n",
    "\n",
    "import warnings\n",
    "warnings.filterwarnings(action=\"ignore\")\n",
    "\n",
    "from functions import *\n",
    "\n",
    "\n",
    "from os import listdir\n",
    "from os.path import isfile, join\n",
    "\n",
    "from sklearn.preprocessing import LabelEncoder\n",
    "\n",
    "\n",
    "# visualization\n",
    "import seaborn as sns\n",
    "import matplotlib.pyplot as plt\n",
    "\n",
    "from pandarallel import pandarallel\n",
    "\n",
    "%matplotlib inline\n",
    "%autosave 300"
   ],
   "metadata": {
    "collapsed": false,
    "pycharm": {
     "name": "#%%\n"
    }
   }
  },
  {
   "cell_type": "code",
   "execution_count": 85,
   "outputs": [],
   "source": [
    "# Starting time\n",
    "t0 = time()\n",
    "\n",
    "input_path = \"./dataset/source/\"\n",
    "images_path = \"./dataset/images/\"\n",
    "input_filename = \"flipkart_com-ecommerce_sample.csv\"\n",
    "input_file = \"{}{}\".format(input_path, input_filename)\n",
    "\n",
    "output_path = \"./dataset/cleaned/\""
   ],
   "metadata": {
    "collapsed": false,
    "pycharm": {
     "name": "#%%\n"
    }
   }
  },
  {
   "cell_type": "markdown",
   "source": [
    "## Part I : Exploratory Data Analysis"
   ],
   "metadata": {
    "collapsed": false,
    "pycharm": {
     "name": "#%% md\n"
    }
   }
  },
  {
   "cell_type": "markdown",
   "source": [
    "##### Importing the images' description from a csv file"
   ],
   "metadata": {
    "collapsed": false,
    "pycharm": {
     "name": "#%% md\n"
    }
   }
  },
  {
   "cell_type": "code",
   "execution_count": 86,
   "outputs": [],
   "source": [
    "raw_data = pd.read_csv(input_file)"
   ],
   "metadata": {
    "collapsed": false,
    "pycharm": {
     "name": "#%%\n"
    }
   }
  },
  {
   "cell_type": "code",
   "execution_count": 87,
   "outputs": [
    {
     "data": {
      "text/plain": "                            uniq_id            crawl_timestamp  \\\n0  55b85ea15a1536d46b7190ad6fff8ce7  2016-04-30 03:22:56 +0000   \n1  7b72c92c2f6c40268628ec5f14c6d590  2016-04-30 03:22:56 +0000   \n2  64d5d4a258243731dc7bbb1eef49ad74  2016-04-30 03:22:56 +0000   \n3  d4684dcdc759dd9cdf41504698d737d8  2016-06-20 08:49:52 +0000   \n4  6325b6870c54cd47be6ebfbffa620ec7  2016-06-20 08:49:52 +0000   \n\n                                         product_url  \\\n0  http://www.flipkart.com/elegance-polyester-mul...   \n1  http://www.flipkart.com/sathiyas-cotton-bath-t...   \n2  http://www.flipkart.com/eurospa-cotton-terry-f...   \n3  http://www.flipkart.com/santosh-royal-fashion-...   \n4  http://www.flipkart.com/jaipur-print-cotton-fl...   \n\n                                        product_name  \\\n0  Elegance Polyester Multicolor Abstract Eyelet ...   \n1                         Sathiyas Cotton Bath Towel   \n2                Eurospa Cotton Terry Face Towel Set   \n3  SANTOSH ROYAL FASHION Cotton Printed King size...   \n4  Jaipur Print Cotton Floral King sized Double B...   \n\n                               product_category_tree               pid  \\\n0  [\"Home Furnishing >> Curtains & Accessories >>...  CRNEG7BKMFFYHQ8Z   \n1  [\"Baby Care >> Baby Bath & Skin >> Baby Bath T...  BTWEGFZHGBXPHZUH   \n2  [\"Baby Care >> Baby Bath & Skin >> Baby Bath T...  BTWEG6SHXTDB2A2Y   \n3  [\"Home Furnishing >> Bed Linen >> Bedsheets >>...  BDSEJT9UQWHDUBH4   \n4  [\"Home Furnishing >> Bed Linen >> Bedsheets >>...  BDSEJTHNGWVGWWQU   \n\n   retail_price  discounted_price                                 image  \\\n0        1899.0             899.0  55b85ea15a1536d46b7190ad6fff8ce7.jpg   \n1         600.0             449.0  7b72c92c2f6c40268628ec5f14c6d590.jpg   \n2           NaN               NaN  64d5d4a258243731dc7bbb1eef49ad74.jpg   \n3        2699.0            1299.0  d4684dcdc759dd9cdf41504698d737d8.jpg   \n4        2599.0             698.0  6325b6870c54cd47be6ebfbffa620ec7.jpg   \n\n   is_FK_Advantage_product                                        description  \\\n0                    False  Key Features of Elegance Polyester Multicolor ...   \n1                    False  Specifications of Sathiyas Cotton Bath Towel (...   \n2                    False  Key Features of Eurospa Cotton Terry Face Towe...   \n3                    False  Key Features of SANTOSH ROYAL FASHION Cotton P...   \n4                    False  Key Features of Jaipur Print Cotton Floral Kin...   \n\n        product_rating       overall_rating                  brand  \\\n0  No rating available  No rating available               Elegance   \n1  No rating available  No rating available               Sathiyas   \n2  No rating available  No rating available                Eurospa   \n3  No rating available  No rating available  SANTOSH ROYAL FASHION   \n4  No rating available  No rating available           Jaipur Print   \n\n                              product_specifications  \n0  {\"product_specification\"=>[{\"key\"=>\"Brand\", \"v...  \n1  {\"product_specification\"=>[{\"key\"=>\"Machine Wa...  \n2  {\"product_specification\"=>[{\"key\"=>\"Material\",...  \n3  {\"product_specification\"=>[{\"key\"=>\"Brand\", \"v...  \n4  {\"product_specification\"=>[{\"key\"=>\"Machine Wa...  ",
      "text/html": "<div>\n<style scoped>\n    .dataframe tbody tr th:only-of-type {\n        vertical-align: middle;\n    }\n\n    .dataframe tbody tr th {\n        vertical-align: top;\n    }\n\n    .dataframe thead th {\n        text-align: right;\n    }\n</style>\n<table border=\"1\" class=\"dataframe\">\n  <thead>\n    <tr style=\"text-align: right;\">\n      <th></th>\n      <th>uniq_id</th>\n      <th>crawl_timestamp</th>\n      <th>product_url</th>\n      <th>product_name</th>\n      <th>product_category_tree</th>\n      <th>pid</th>\n      <th>retail_price</th>\n      <th>discounted_price</th>\n      <th>image</th>\n      <th>is_FK_Advantage_product</th>\n      <th>description</th>\n      <th>product_rating</th>\n      <th>overall_rating</th>\n      <th>brand</th>\n      <th>product_specifications</th>\n    </tr>\n  </thead>\n  <tbody>\n    <tr>\n      <th>0</th>\n      <td>55b85ea15a1536d46b7190ad6fff8ce7</td>\n      <td>2016-04-30 03:22:56 +0000</td>\n      <td>http://www.flipkart.com/elegance-polyester-mul...</td>\n      <td>Elegance Polyester Multicolor Abstract Eyelet ...</td>\n      <td>[\"Home Furnishing &gt;&gt; Curtains &amp; Accessories &gt;&gt;...</td>\n      <td>CRNEG7BKMFFYHQ8Z</td>\n      <td>1899.0</td>\n      <td>899.0</td>\n      <td>55b85ea15a1536d46b7190ad6fff8ce7.jpg</td>\n      <td>False</td>\n      <td>Key Features of Elegance Polyester Multicolor ...</td>\n      <td>No rating available</td>\n      <td>No rating available</td>\n      <td>Elegance</td>\n      <td>{\"product_specification\"=&gt;[{\"key\"=&gt;\"Brand\", \"v...</td>\n    </tr>\n    <tr>\n      <th>1</th>\n      <td>7b72c92c2f6c40268628ec5f14c6d590</td>\n      <td>2016-04-30 03:22:56 +0000</td>\n      <td>http://www.flipkart.com/sathiyas-cotton-bath-t...</td>\n      <td>Sathiyas Cotton Bath Towel</td>\n      <td>[\"Baby Care &gt;&gt; Baby Bath &amp; Skin &gt;&gt; Baby Bath T...</td>\n      <td>BTWEGFZHGBXPHZUH</td>\n      <td>600.0</td>\n      <td>449.0</td>\n      <td>7b72c92c2f6c40268628ec5f14c6d590.jpg</td>\n      <td>False</td>\n      <td>Specifications of Sathiyas Cotton Bath Towel (...</td>\n      <td>No rating available</td>\n      <td>No rating available</td>\n      <td>Sathiyas</td>\n      <td>{\"product_specification\"=&gt;[{\"key\"=&gt;\"Machine Wa...</td>\n    </tr>\n    <tr>\n      <th>2</th>\n      <td>64d5d4a258243731dc7bbb1eef49ad74</td>\n      <td>2016-04-30 03:22:56 +0000</td>\n      <td>http://www.flipkart.com/eurospa-cotton-terry-f...</td>\n      <td>Eurospa Cotton Terry Face Towel Set</td>\n      <td>[\"Baby Care &gt;&gt; Baby Bath &amp; Skin &gt;&gt; Baby Bath T...</td>\n      <td>BTWEG6SHXTDB2A2Y</td>\n      <td>NaN</td>\n      <td>NaN</td>\n      <td>64d5d4a258243731dc7bbb1eef49ad74.jpg</td>\n      <td>False</td>\n      <td>Key Features of Eurospa Cotton Terry Face Towe...</td>\n      <td>No rating available</td>\n      <td>No rating available</td>\n      <td>Eurospa</td>\n      <td>{\"product_specification\"=&gt;[{\"key\"=&gt;\"Material\",...</td>\n    </tr>\n    <tr>\n      <th>3</th>\n      <td>d4684dcdc759dd9cdf41504698d737d8</td>\n      <td>2016-06-20 08:49:52 +0000</td>\n      <td>http://www.flipkart.com/santosh-royal-fashion-...</td>\n      <td>SANTOSH ROYAL FASHION Cotton Printed King size...</td>\n      <td>[\"Home Furnishing &gt;&gt; Bed Linen &gt;&gt; Bedsheets &gt;&gt;...</td>\n      <td>BDSEJT9UQWHDUBH4</td>\n      <td>2699.0</td>\n      <td>1299.0</td>\n      <td>d4684dcdc759dd9cdf41504698d737d8.jpg</td>\n      <td>False</td>\n      <td>Key Features of SANTOSH ROYAL FASHION Cotton P...</td>\n      <td>No rating available</td>\n      <td>No rating available</td>\n      <td>SANTOSH ROYAL FASHION</td>\n      <td>{\"product_specification\"=&gt;[{\"key\"=&gt;\"Brand\", \"v...</td>\n    </tr>\n    <tr>\n      <th>4</th>\n      <td>6325b6870c54cd47be6ebfbffa620ec7</td>\n      <td>2016-06-20 08:49:52 +0000</td>\n      <td>http://www.flipkart.com/jaipur-print-cotton-fl...</td>\n      <td>Jaipur Print Cotton Floral King sized Double B...</td>\n      <td>[\"Home Furnishing &gt;&gt; Bed Linen &gt;&gt; Bedsheets &gt;&gt;...</td>\n      <td>BDSEJTHNGWVGWWQU</td>\n      <td>2599.0</td>\n      <td>698.0</td>\n      <td>6325b6870c54cd47be6ebfbffa620ec7.jpg</td>\n      <td>False</td>\n      <td>Key Features of Jaipur Print Cotton Floral Kin...</td>\n      <td>No rating available</td>\n      <td>No rating available</td>\n      <td>Jaipur Print</td>\n      <td>{\"product_specification\"=&gt;[{\"key\"=&gt;\"Machine Wa...</td>\n    </tr>\n  </tbody>\n</table>\n</div>"
     },
     "execution_count": 87,
     "metadata": {},
     "output_type": "execute_result"
    }
   ],
   "source": [
    "raw_data.head()"
   ],
   "metadata": {
    "collapsed": false,
    "pycharm": {
     "name": "#%%\n"
    }
   }
  },
  {
   "cell_type": "code",
   "execution_count": 88,
   "outputs": [
    {
     "name": "stdout",
     "output_type": "stream",
     "text": [
      "We have 1050 unique ids for the textual descriptions\n"
     ]
    }
   ],
   "source": [
    "all_text_id = raw_data['uniq_id']\n",
    "print(\"We have\", all_text_id.unique().shape[0], \"unique ids for the textual descriptions\")"
   ],
   "metadata": {
    "collapsed": false,
    "pycharm": {
     "name": "#%%\n"
    }
   }
  },
  {
   "cell_type": "markdown",
   "source": [
    "##### Getting the images' id"
   ],
   "metadata": {
    "collapsed": false,
    "pycharm": {
     "name": "#%% md\n"
    }
   }
  },
  {
   "cell_type": "code",
   "execution_count": 89,
   "outputs": [
    {
     "name": "stdout",
     "output_type": "stream",
     "text": [
      "We read the folder in which we have all the csv files.\n",
      "We have locally 1050 images.\n"
     ]
    }
   ],
   "source": [
    "print(\"We read the folder in which we have all the csv files.\")\n",
    "\n",
    "all_images_id = [f for f in listdir(images_path) if isfile(join(images_path, f))]\n",
    "\n",
    "print(\"We have locally\", len(all_images_id), \"images.\")"
   ],
   "metadata": {
    "collapsed": false,
    "pycharm": {
     "name": "#%%\n"
    }
   }
  },
  {
   "cell_type": "markdown",
   "source": [
    "##### Checking that the 1050 images match the textual descriptions"
   ],
   "metadata": {
    "collapsed": false,
    "pycharm": {
     "name": "#%% md\n"
    }
   }
  },
  {
   "cell_type": "raw",
   "source": [
    "all_text_id_list = all_text_id.tolist()\n",
    "\n",
    "all_text_id_list"
   ],
   "metadata": {
    "collapsed": false,
    "pycharm": {
     "name": "#%% raw\n"
    }
   }
  },
  {
   "cell_type": "code",
   "execution_count": 90,
   "outputs": [],
   "source": [
    "df_images_id = pd.DataFrame({\"id\": [img[:-4] for img in all_images_id]}) # :-4 o remove the .jpg of the string\n",
    "\n",
    "df_text_id = all_text_id.copy()\n",
    "# transforming the pandas Series into a Df\n",
    "df_text_id = pd.DataFrame({\"id\": all_text_id})"
   ],
   "metadata": {
    "collapsed": false,
    "pycharm": {
     "name": "#%%\n"
    }
   }
  },
  {
   "cell_type": "code",
   "execution_count": 91,
   "outputs": [
    {
     "data": {
      "text/plain": "                                 id\n0  55b85ea15a1536d46b7190ad6fff8ce7\n1  7b72c92c2f6c40268628ec5f14c6d590\n2  64d5d4a258243731dc7bbb1eef49ad74\n3  d4684dcdc759dd9cdf41504698d737d8\n4  6325b6870c54cd47be6ebfbffa620ec7",
      "text/html": "<div>\n<style scoped>\n    .dataframe tbody tr th:only-of-type {\n        vertical-align: middle;\n    }\n\n    .dataframe tbody tr th {\n        vertical-align: top;\n    }\n\n    .dataframe thead th {\n        text-align: right;\n    }\n</style>\n<table border=\"1\" class=\"dataframe\">\n  <thead>\n    <tr style=\"text-align: right;\">\n      <th></th>\n      <th>id</th>\n    </tr>\n  </thead>\n  <tbody>\n    <tr>\n      <th>0</th>\n      <td>55b85ea15a1536d46b7190ad6fff8ce7</td>\n    </tr>\n    <tr>\n      <th>1</th>\n      <td>7b72c92c2f6c40268628ec5f14c6d590</td>\n    </tr>\n    <tr>\n      <th>2</th>\n      <td>64d5d4a258243731dc7bbb1eef49ad74</td>\n    </tr>\n    <tr>\n      <th>3</th>\n      <td>d4684dcdc759dd9cdf41504698d737d8</td>\n    </tr>\n    <tr>\n      <th>4</th>\n      <td>6325b6870c54cd47be6ebfbffa620ec7</td>\n    </tr>\n  </tbody>\n</table>\n</div>"
     },
     "execution_count": 91,
     "metadata": {},
     "output_type": "execute_result"
    }
   ],
   "source": [
    "df_text_id.head()"
   ],
   "metadata": {
    "collapsed": false,
    "pycharm": {
     "name": "#%%\n"
    }
   }
  },
  {
   "cell_type": "code",
   "execution_count": 92,
   "outputs": [
    {
     "data": {
      "text/plain": "                                 id\n0  009099b1f6e1e8f893ec29a7023153c4\n1  0096e89cc25a8b96fb9808716406fe94\n2  00cbbc837d340fa163d11e169fbdb952\n3  00d84a518e0550612fcfcba3b02b6255\n4  00e966a5049a262cfc72e6bbf68b80e7",
      "text/html": "<div>\n<style scoped>\n    .dataframe tbody tr th:only-of-type {\n        vertical-align: middle;\n    }\n\n    .dataframe tbody tr th {\n        vertical-align: top;\n    }\n\n    .dataframe thead th {\n        text-align: right;\n    }\n</style>\n<table border=\"1\" class=\"dataframe\">\n  <thead>\n    <tr style=\"text-align: right;\">\n      <th></th>\n      <th>id</th>\n    </tr>\n  </thead>\n  <tbody>\n    <tr>\n      <th>0</th>\n      <td>009099b1f6e1e8f893ec29a7023153c4</td>\n    </tr>\n    <tr>\n      <th>1</th>\n      <td>0096e89cc25a8b96fb9808716406fe94</td>\n    </tr>\n    <tr>\n      <th>2</th>\n      <td>00cbbc837d340fa163d11e169fbdb952</td>\n    </tr>\n    <tr>\n      <th>3</th>\n      <td>00d84a518e0550612fcfcba3b02b6255</td>\n    </tr>\n    <tr>\n      <th>4</th>\n      <td>00e966a5049a262cfc72e6bbf68b80e7</td>\n    </tr>\n  </tbody>\n</table>\n</div>"
     },
     "execution_count": 92,
     "metadata": {},
     "output_type": "execute_result"
    }
   ],
   "source": [
    "df_images_id.head()"
   ],
   "metadata": {
    "collapsed": false,
    "pycharm": {
     "name": "#%%\n"
    }
   }
  },
  {
   "cell_type": "code",
   "execution_count": 93,
   "outputs": [
    {
     "data": {
      "text/plain": "(2100, 1)"
     },
     "metadata": {},
     "output_type": "display_data"
    }
   ],
   "source": [
    "df_concat = pd.concat([df_images_id, df_text_id]) #.drop_duplicates(keep=False)\n",
    "display(df_concat.shape)"
   ],
   "metadata": {
    "collapsed": false,
    "pycharm": {
     "name": "#%%\n"
    }
   }
  },
  {
   "cell_type": "code",
   "execution_count": 94,
   "outputs": [
    {
     "data": {
      "text/plain": "Empty DataFrame\nColumns: [id]\nIndex: []",
      "text/html": "<div>\n<style scoped>\n    .dataframe tbody tr th:only-of-type {\n        vertical-align: middle;\n    }\n\n    .dataframe tbody tr th {\n        vertical-align: top;\n    }\n\n    .dataframe thead th {\n        text-align: right;\n    }\n</style>\n<table border=\"1\" class=\"dataframe\">\n  <thead>\n    <tr style=\"text-align: right;\">\n      <th></th>\n      <th>id</th>\n    </tr>\n  </thead>\n  <tbody>\n  </tbody>\n</table>\n</div>"
     },
     "metadata": {},
     "output_type": "display_data"
    }
   ],
   "source": [
    "df_concat = pd.concat([df_images_id, df_text_id]).drop_duplicates(keep=False)\n",
    "display(df_concat)"
   ],
   "metadata": {
    "collapsed": false,
    "pycharm": {
     "name": "#%%\n"
    }
   }
  },
  {
   "cell_type": "markdown",
   "source": [
    "We have checked that every image that we have locally matches a description that can be found in the csv file."
   ],
   "metadata": {
    "collapsed": false,
    "pycharm": {
     "name": "#%% md\n"
    }
   }
  },
  {
   "cell_type": "markdown",
   "source": [
    "##### Exploration of the dataset that contains the descriptions"
   ],
   "metadata": {
    "collapsed": false,
    "pycharm": {
     "name": "#%% md\n"
    }
   }
  },
  {
   "cell_type": "code",
   "execution_count": 95,
   "outputs": [
    {
     "name": "stdout",
     "output_type": "stream",
     "text": [
      "<class 'pandas.core.frame.DataFrame'>\n",
      "RangeIndex: 1050 entries, 0 to 1049\n",
      "Data columns (total 15 columns):\n",
      " #   Column                   Non-Null Count  Dtype  \n",
      "---  ------                   --------------  -----  \n",
      " 0   uniq_id                  1050 non-null   object \n",
      " 1   crawl_timestamp          1050 non-null   object \n",
      " 2   product_url              1050 non-null   object \n",
      " 3   product_name             1050 non-null   object \n",
      " 4   product_category_tree    1050 non-null   object \n",
      " 5   pid                      1050 non-null   object \n",
      " 6   retail_price             1049 non-null   float64\n",
      " 7   discounted_price         1049 non-null   float64\n",
      " 8   image                    1050 non-null   object \n",
      " 9   is_FK_Advantage_product  1050 non-null   bool   \n",
      " 10  description              1050 non-null   object \n",
      " 11  product_rating           1050 non-null   object \n",
      " 12  overall_rating           1050 non-null   object \n",
      " 13  brand                    712 non-null    object \n",
      " 14  product_specifications   1049 non-null   object \n",
      "dtypes: bool(1), float64(2), object(12)\n",
      "memory usage: 116.0+ KB\n"
     ]
    }
   ],
   "source": [
    "raw_data.info()"
   ],
   "metadata": {
    "collapsed": false,
    "pycharm": {
     "name": "#%%\n"
    }
   }
  },
  {
   "cell_type": "code",
   "execution_count": 96,
   "outputs": [
    {
     "data": {
      "text/plain": "uniq_id                      0\ncrawl_timestamp              0\nproduct_url                  0\nproduct_name                 0\nproduct_category_tree        0\npid                          0\nretail_price                 1\ndiscounted_price             1\nimage                        0\nis_FK_Advantage_product      0\ndescription                  0\nproduct_rating               0\noverall_rating               0\nbrand                      338\nproduct_specifications       1\ndtype: int64"
     },
     "execution_count": 96,
     "metadata": {},
     "output_type": "execute_result"
    }
   ],
   "source": [
    "raw_data.isna().sum()"
   ],
   "metadata": {
    "collapsed": false,
    "pycharm": {
     "name": "#%%\n"
    }
   }
  },
  {
   "cell_type": "markdown",
   "source": [
    "##### Checking that the uniq_id = image without .jpg"
   ],
   "metadata": {
    "collapsed": false,
    "pycharm": {
     "name": "#%% md\n"
    }
   }
  },
  {
   "cell_type": "code",
   "execution_count": 97,
   "outputs": [
    {
     "data": {
      "text/plain": "                            uniq_id                                 image  \\\n0  55b85ea15a1536d46b7190ad6fff8ce7  55b85ea15a1536d46b7190ad6fff8ce7.jpg   \n1  7b72c92c2f6c40268628ec5f14c6d590  7b72c92c2f6c40268628ec5f14c6d590.jpg   \n2  64d5d4a258243731dc7bbb1eef49ad74  64d5d4a258243731dc7bbb1eef49ad74.jpg   \n3  d4684dcdc759dd9cdf41504698d737d8  d4684dcdc759dd9cdf41504698d737d8.jpg   \n4  6325b6870c54cd47be6ebfbffa620ec7  6325b6870c54cd47be6ebfbffa620ec7.jpg   \n\n   Matches  \n0     True  \n1     True  \n2     True  \n3     True  \n4     True  ",
      "text/html": "<div>\n<style scoped>\n    .dataframe tbody tr th:only-of-type {\n        vertical-align: middle;\n    }\n\n    .dataframe tbody tr th {\n        vertical-align: top;\n    }\n\n    .dataframe thead th {\n        text-align: right;\n    }\n</style>\n<table border=\"1\" class=\"dataframe\">\n  <thead>\n    <tr style=\"text-align: right;\">\n      <th></th>\n      <th>uniq_id</th>\n      <th>image</th>\n      <th>Matches</th>\n    </tr>\n  </thead>\n  <tbody>\n    <tr>\n      <th>0</th>\n      <td>55b85ea15a1536d46b7190ad6fff8ce7</td>\n      <td>55b85ea15a1536d46b7190ad6fff8ce7.jpg</td>\n      <td>True</td>\n    </tr>\n    <tr>\n      <th>1</th>\n      <td>7b72c92c2f6c40268628ec5f14c6d590</td>\n      <td>7b72c92c2f6c40268628ec5f14c6d590.jpg</td>\n      <td>True</td>\n    </tr>\n    <tr>\n      <th>2</th>\n      <td>64d5d4a258243731dc7bbb1eef49ad74</td>\n      <td>64d5d4a258243731dc7bbb1eef49ad74.jpg</td>\n      <td>True</td>\n    </tr>\n    <tr>\n      <th>3</th>\n      <td>d4684dcdc759dd9cdf41504698d737d8</td>\n      <td>d4684dcdc759dd9cdf41504698d737d8.jpg</td>\n      <td>True</td>\n    </tr>\n    <tr>\n      <th>4</th>\n      <td>6325b6870c54cd47be6ebfbffa620ec7</td>\n      <td>6325b6870c54cd47be6ebfbffa620ec7.jpg</td>\n      <td>True</td>\n    </tr>\n  </tbody>\n</table>\n</div>"
     },
     "execution_count": 97,
     "metadata": {},
     "output_type": "execute_result"
    }
   ],
   "source": [
    "dataset_ids = raw_data.copy()\n",
    "dataset_ids = dataset_ids[[\"uniq_id\", \"image\"]]\n",
    "\n",
    "#dataset_ids[\"image_without_jpg\"] = dataset_ids[\"image\"].str.slice(stop=-4)\n",
    "dataset_ids[\"Matches\"] = dataset_ids[\"uniq_id\"] == dataset_ids[\"image\"].str.slice(stop=-4)\n",
    "\n",
    "dataset_ids.head()"
   ],
   "metadata": {
    "collapsed": false,
    "pycharm": {
     "name": "#%%\n"
    }
   }
  },
  {
   "cell_type": "code",
   "execution_count": 98,
   "outputs": [
    {
     "name": "stdout",
     "output_type": "stream",
     "text": [
      "We checked if the unique id matches the image name for all the data and we got only :  [ True]\n"
     ]
    }
   ],
   "source": [
    "print(\"We checked if the unique id matches the image name for all the data and we got only : \", dataset_ids[\"Matches\"].unique())"
   ],
   "metadata": {
    "collapsed": false,
    "pycharm": {
     "name": "#%%\n"
    }
   }
  },
  {
   "cell_type": "code",
   "execution_count": 98,
   "outputs": [],
   "source": [],
   "metadata": {
    "collapsed": false,
    "pycharm": {
     "name": "#%%\n"
    }
   }
  },
  {
   "cell_type": "markdown",
   "source": [
    "### 1) Cleaning\n"
   ],
   "metadata": {
    "collapsed": false,
    "pycharm": {
     "name": "#%% md\n"
    }
   }
  },
  {
   "cell_type": "code",
   "execution_count": 99,
   "outputs": [],
   "source": [
    "#Traitement des catégories\n",
    "def split_categories(category, level):\n",
    "    '''FOnction qui affiche les '''\n",
    "    category = category.split('[\"')[1].split('\"]')[0]\n",
    "    cat = category.split(' >> ')\n",
    "    if(len(cat)) < 3:\n",
    "        cat = [cat[0], cat[1], 'None']\n",
    "        if(len(cat))<2:\n",
    "            cat = [cat[0], 'None', 'None']\n",
    "    return cat[level]\n",
    "\n",
    "def split_categories_1(category):\n",
    "    return split_categories(category, 0)\n",
    "\n",
    "def split_categories_2(category):\n",
    "    return split_categories(category, 1)\n",
    "\n",
    "def split_categories_3(category):\n",
    "    return split_categories(category, 2)\n",
    "\n",
    "def detail_categories(df):\n",
    "    dataframe = df.copy()\n",
    "    dataframe['category_1'] = dataframe['product_category_tree'].apply(split_categories_1)\n",
    "    dataframe['category_2'] = dataframe['product_category_tree'].apply(split_categories_2)\n",
    "    dataframe['category_3'] = dataframe['product_category_tree'].apply(split_categories_3)\n",
    "    return dataframe.drop(['product_category_tree'], axis=1)\n",
    "\n",
    "\n",
    "data_v1 = detail_categories(raw_data)"
   ],
   "metadata": {
    "collapsed": false,
    "pycharm": {
     "name": "#%%\n"
    }
   }
  },
  {
   "cell_type": "code",
   "execution_count": 100,
   "outputs": [
    {
     "data": {
      "text/plain": "                               uniq_id            crawl_timestamp  \\\n0     55b85ea15a1536d46b7190ad6fff8ce7  2016-04-30 03:22:56 +0000   \n1     7b72c92c2f6c40268628ec5f14c6d590  2016-04-30 03:22:56 +0000   \n2     64d5d4a258243731dc7bbb1eef49ad74  2016-04-30 03:22:56 +0000   \n3     d4684dcdc759dd9cdf41504698d737d8  2016-06-20 08:49:52 +0000   \n4     6325b6870c54cd47be6ebfbffa620ec7  2016-06-20 08:49:52 +0000   \n...                                ...                        ...   \n1045  958f54f4c46b53c8a0a9b8167d9140bc  2015-12-01 10:15:43 +0000   \n1046  fd6cbcc22efb6b761bd564c28928483c  2015-12-01 10:15:43 +0000   \n1047  5912e037d12774bb73a2048f35a00009  2015-12-01 10:15:43 +0000   \n1048  c3edc504d1b4f0ba6224fa53a43a7ad6  2015-12-01 10:15:43 +0000   \n1049  f2f027ad6a6df617c9f125173da71e44  2015-12-01 10:15:43 +0000   \n\n                                            product_url  \\\n0     http://www.flipkart.com/elegance-polyester-mul...   \n1     http://www.flipkart.com/sathiyas-cotton-bath-t...   \n2     http://www.flipkart.com/eurospa-cotton-terry-f...   \n3     http://www.flipkart.com/santosh-royal-fashion-...   \n4     http://www.flipkart.com/jaipur-print-cotton-fl...   \n...                                                 ...   \n1045  http://www.flipkart.com/oren-empower-extra-lar...   \n1046  http://www.flipkart.com/wallmantra-large-vinyl...   \n1047  http://www.flipkart.com/uberlyfe-extra-large-p...   \n1048  http://www.flipkart.com/wallmantra-medium-viny...   \n1049  http://www.flipkart.com/uberlyfe-large-vinyl-s...   \n\n                                           product_name  \\\n0     Elegance Polyester Multicolor Abstract Eyelet ...   \n1                            Sathiyas Cotton Bath Towel   \n2                   Eurospa Cotton Terry Face Towel Set   \n3     SANTOSH ROYAL FASHION Cotton Printed King size...   \n4     Jaipur Print Cotton Floral King sized Double B...   \n...                                                 ...   \n1045     Oren Empower Extra Large Self Adhesive Sticker   \n1046             Wallmantra Large Vinyl Sticker Sticker   \n1047  Uberlyfe Extra Large Pigmented Polyvinyl Films...   \n1048            Wallmantra Medium Vinyl Sticker Sticker   \n1049                       Uberlyfe Large Vinyl Sticker   \n\n                                  product_category_tree               pid  \\\n0     [\"Home Furnishing >> Curtains & Accessories >>...  CRNEG7BKMFFYHQ8Z   \n1     [\"Baby Care >> Baby Bath & Skin >> Baby Bath T...  BTWEGFZHGBXPHZUH   \n2     [\"Baby Care >> Baby Bath & Skin >> Baby Bath T...  BTWEG6SHXTDB2A2Y   \n3     [\"Home Furnishing >> Bed Linen >> Bedsheets >>...  BDSEJT9UQWHDUBH4   \n4     [\"Home Furnishing >> Bed Linen >> Bedsheets >>...  BDSEJTHNGWVGWWQU   \n...                                                 ...               ...   \n1045  [\"Baby Care >> Baby & Kids Gifts >> Stickers >...  STIE88ZGTX65GH4V   \n1046  [\"Baby Care >> Baby & Kids Gifts >> Stickers >...  STIEC889ZD5GDCVQ   \n1047  [\"Baby Care >> Baby & Kids Gifts >> Stickers >...  STIE5UVGW2JWVWCT   \n1048  [\"Baby Care >> Baby & Kids Gifts >> Stickers >...  STIEC889ZGFD3RCE   \n1049  [\"Baby Care >> Baby & Kids Gifts >> Stickers >...  STIE2ZEPACRQJKH7   \n\n      retail_price  discounted_price                                 image  \\\n0           1899.0             899.0  55b85ea15a1536d46b7190ad6fff8ce7.jpg   \n1            600.0             449.0  7b72c92c2f6c40268628ec5f14c6d590.jpg   \n2              NaN               NaN  64d5d4a258243731dc7bbb1eef49ad74.jpg   \n3           2699.0            1299.0  d4684dcdc759dd9cdf41504698d737d8.jpg   \n4           2599.0             698.0  6325b6870c54cd47be6ebfbffa620ec7.jpg   \n...            ...               ...                                   ...   \n1045        1399.0             999.0  958f54f4c46b53c8a0a9b8167d9140bc.jpg   \n1046        4930.0            1896.0  fd6cbcc22efb6b761bd564c28928483c.jpg   \n1047        4500.0            1449.0  5912e037d12774bb73a2048f35a00009.jpg   \n1048        3465.0            1333.0  c3edc504d1b4f0ba6224fa53a43a7ad6.jpg   \n1049        1190.0             595.0  f2f027ad6a6df617c9f125173da71e44.jpg   \n\n      is_FK_Advantage_product  \\\n0                       False   \n1                       False   \n2                       False   \n3                       False   \n4                       False   \n...                       ...   \n1045                    False   \n1046                    False   \n1047                    False   \n1048                    False   \n1049                    False   \n\n                                            description       product_rating  \\\n0     Key Features of Elegance Polyester Multicolor ...  No rating available   \n1     Specifications of Sathiyas Cotton Bath Towel (...  No rating available   \n2     Key Features of Eurospa Cotton Terry Face Towe...  No rating available   \n3     Key Features of SANTOSH ROYAL FASHION Cotton P...  No rating available   \n4     Key Features of Jaipur Print Cotton Floral Kin...  No rating available   \n...                                                 ...                  ...   \n1045  Oren Empower Extra Large Self Adhesive Sticker...  No rating available   \n1046  Wallmantra Large Vinyl Sticker Sticker (Pack o...  No rating available   \n1047  Buy Uberlyfe Extra Large Pigmented Polyvinyl F...  No rating available   \n1048  Buy Wallmantra Medium Vinyl Sticker Sticker fo...  No rating available   \n1049  Buy Uberlyfe Large Vinyl Sticker for Rs.595 on...                    4   \n\n           overall_rating                  brand  \\\n0     No rating available               Elegance   \n1     No rating available               Sathiyas   \n2     No rating available                Eurospa   \n3     No rating available  SANTOSH ROYAL FASHION   \n4     No rating available           Jaipur Print   \n...                   ...                    ...   \n1045  No rating available           Oren Empower   \n1046  No rating available             Wallmantra   \n1047  No rating available               Uberlyfe   \n1048  No rating available             Wallmantra   \n1049                    4               Uberlyfe   \n\n                                 product_specifications  \n0     {\"product_specification\"=>[{\"key\"=>\"Brand\", \"v...  \n1     {\"product_specification\"=>[{\"key\"=>\"Machine Wa...  \n2     {\"product_specification\"=>[{\"key\"=>\"Material\",...  \n3     {\"product_specification\"=>[{\"key\"=>\"Brand\", \"v...  \n4     {\"product_specification\"=>[{\"key\"=>\"Machine Wa...  \n...                                                 ...  \n1045  {\"product_specification\"=>[{\"key\"=>\"Number of ...  \n1046  {\"product_specification\"=>[{\"key\"=>\"Number of ...  \n1047  {\"product_specification\"=>[{\"key\"=>\"Number of ...  \n1048  {\"product_specification\"=>[{\"key\"=>\"Number of ...  \n1049  {\"product_specification\"=>[{\"key\"=>\"Sales Pack...  \n\n[1050 rows x 15 columns]",
      "text/html": "<div>\n<style scoped>\n    .dataframe tbody tr th:only-of-type {\n        vertical-align: middle;\n    }\n\n    .dataframe tbody tr th {\n        vertical-align: top;\n    }\n\n    .dataframe thead th {\n        text-align: right;\n    }\n</style>\n<table border=\"1\" class=\"dataframe\">\n  <thead>\n    <tr style=\"text-align: right;\">\n      <th></th>\n      <th>uniq_id</th>\n      <th>crawl_timestamp</th>\n      <th>product_url</th>\n      <th>product_name</th>\n      <th>product_category_tree</th>\n      <th>pid</th>\n      <th>retail_price</th>\n      <th>discounted_price</th>\n      <th>image</th>\n      <th>is_FK_Advantage_product</th>\n      <th>description</th>\n      <th>product_rating</th>\n      <th>overall_rating</th>\n      <th>brand</th>\n      <th>product_specifications</th>\n    </tr>\n  </thead>\n  <tbody>\n    <tr>\n      <th>0</th>\n      <td>55b85ea15a1536d46b7190ad6fff8ce7</td>\n      <td>2016-04-30 03:22:56 +0000</td>\n      <td>http://www.flipkart.com/elegance-polyester-mul...</td>\n      <td>Elegance Polyester Multicolor Abstract Eyelet ...</td>\n      <td>[\"Home Furnishing &gt;&gt; Curtains &amp; Accessories &gt;&gt;...</td>\n      <td>CRNEG7BKMFFYHQ8Z</td>\n      <td>1899.0</td>\n      <td>899.0</td>\n      <td>55b85ea15a1536d46b7190ad6fff8ce7.jpg</td>\n      <td>False</td>\n      <td>Key Features of Elegance Polyester Multicolor ...</td>\n      <td>No rating available</td>\n      <td>No rating available</td>\n      <td>Elegance</td>\n      <td>{\"product_specification\"=&gt;[{\"key\"=&gt;\"Brand\", \"v...</td>\n    </tr>\n    <tr>\n      <th>1</th>\n      <td>7b72c92c2f6c40268628ec5f14c6d590</td>\n      <td>2016-04-30 03:22:56 +0000</td>\n      <td>http://www.flipkart.com/sathiyas-cotton-bath-t...</td>\n      <td>Sathiyas Cotton Bath Towel</td>\n      <td>[\"Baby Care &gt;&gt; Baby Bath &amp; Skin &gt;&gt; Baby Bath T...</td>\n      <td>BTWEGFZHGBXPHZUH</td>\n      <td>600.0</td>\n      <td>449.0</td>\n      <td>7b72c92c2f6c40268628ec5f14c6d590.jpg</td>\n      <td>False</td>\n      <td>Specifications of Sathiyas Cotton Bath Towel (...</td>\n      <td>No rating available</td>\n      <td>No rating available</td>\n      <td>Sathiyas</td>\n      <td>{\"product_specification\"=&gt;[{\"key\"=&gt;\"Machine Wa...</td>\n    </tr>\n    <tr>\n      <th>2</th>\n      <td>64d5d4a258243731dc7bbb1eef49ad74</td>\n      <td>2016-04-30 03:22:56 +0000</td>\n      <td>http://www.flipkart.com/eurospa-cotton-terry-f...</td>\n      <td>Eurospa Cotton Terry Face Towel Set</td>\n      <td>[\"Baby Care &gt;&gt; Baby Bath &amp; Skin &gt;&gt; Baby Bath T...</td>\n      <td>BTWEG6SHXTDB2A2Y</td>\n      <td>NaN</td>\n      <td>NaN</td>\n      <td>64d5d4a258243731dc7bbb1eef49ad74.jpg</td>\n      <td>False</td>\n      <td>Key Features of Eurospa Cotton Terry Face Towe...</td>\n      <td>No rating available</td>\n      <td>No rating available</td>\n      <td>Eurospa</td>\n      <td>{\"product_specification\"=&gt;[{\"key\"=&gt;\"Material\",...</td>\n    </tr>\n    <tr>\n      <th>3</th>\n      <td>d4684dcdc759dd9cdf41504698d737d8</td>\n      <td>2016-06-20 08:49:52 +0000</td>\n      <td>http://www.flipkart.com/santosh-royal-fashion-...</td>\n      <td>SANTOSH ROYAL FASHION Cotton Printed King size...</td>\n      <td>[\"Home Furnishing &gt;&gt; Bed Linen &gt;&gt; Bedsheets &gt;&gt;...</td>\n      <td>BDSEJT9UQWHDUBH4</td>\n      <td>2699.0</td>\n      <td>1299.0</td>\n      <td>d4684dcdc759dd9cdf41504698d737d8.jpg</td>\n      <td>False</td>\n      <td>Key Features of SANTOSH ROYAL FASHION Cotton P...</td>\n      <td>No rating available</td>\n      <td>No rating available</td>\n      <td>SANTOSH ROYAL FASHION</td>\n      <td>{\"product_specification\"=&gt;[{\"key\"=&gt;\"Brand\", \"v...</td>\n    </tr>\n    <tr>\n      <th>4</th>\n      <td>6325b6870c54cd47be6ebfbffa620ec7</td>\n      <td>2016-06-20 08:49:52 +0000</td>\n      <td>http://www.flipkart.com/jaipur-print-cotton-fl...</td>\n      <td>Jaipur Print Cotton Floral King sized Double B...</td>\n      <td>[\"Home Furnishing &gt;&gt; Bed Linen &gt;&gt; Bedsheets &gt;&gt;...</td>\n      <td>BDSEJTHNGWVGWWQU</td>\n      <td>2599.0</td>\n      <td>698.0</td>\n      <td>6325b6870c54cd47be6ebfbffa620ec7.jpg</td>\n      <td>False</td>\n      <td>Key Features of Jaipur Print Cotton Floral Kin...</td>\n      <td>No rating available</td>\n      <td>No rating available</td>\n      <td>Jaipur Print</td>\n      <td>{\"product_specification\"=&gt;[{\"key\"=&gt;\"Machine Wa...</td>\n    </tr>\n    <tr>\n      <th>...</th>\n      <td>...</td>\n      <td>...</td>\n      <td>...</td>\n      <td>...</td>\n      <td>...</td>\n      <td>...</td>\n      <td>...</td>\n      <td>...</td>\n      <td>...</td>\n      <td>...</td>\n      <td>...</td>\n      <td>...</td>\n      <td>...</td>\n      <td>...</td>\n      <td>...</td>\n    </tr>\n    <tr>\n      <th>1045</th>\n      <td>958f54f4c46b53c8a0a9b8167d9140bc</td>\n      <td>2015-12-01 10:15:43 +0000</td>\n      <td>http://www.flipkart.com/oren-empower-extra-lar...</td>\n      <td>Oren Empower Extra Large Self Adhesive Sticker</td>\n      <td>[\"Baby Care &gt;&gt; Baby &amp; Kids Gifts &gt;&gt; Stickers &gt;...</td>\n      <td>STIE88ZGTX65GH4V</td>\n      <td>1399.0</td>\n      <td>999.0</td>\n      <td>958f54f4c46b53c8a0a9b8167d9140bc.jpg</td>\n      <td>False</td>\n      <td>Oren Empower Extra Large Self Adhesive Sticker...</td>\n      <td>No rating available</td>\n      <td>No rating available</td>\n      <td>Oren Empower</td>\n      <td>{\"product_specification\"=&gt;[{\"key\"=&gt;\"Number of ...</td>\n    </tr>\n    <tr>\n      <th>1046</th>\n      <td>fd6cbcc22efb6b761bd564c28928483c</td>\n      <td>2015-12-01 10:15:43 +0000</td>\n      <td>http://www.flipkart.com/wallmantra-large-vinyl...</td>\n      <td>Wallmantra Large Vinyl Sticker Sticker</td>\n      <td>[\"Baby Care &gt;&gt; Baby &amp; Kids Gifts &gt;&gt; Stickers &gt;...</td>\n      <td>STIEC889ZD5GDCVQ</td>\n      <td>4930.0</td>\n      <td>1896.0</td>\n      <td>fd6cbcc22efb6b761bd564c28928483c.jpg</td>\n      <td>False</td>\n      <td>Wallmantra Large Vinyl Sticker Sticker (Pack o...</td>\n      <td>No rating available</td>\n      <td>No rating available</td>\n      <td>Wallmantra</td>\n      <td>{\"product_specification\"=&gt;[{\"key\"=&gt;\"Number of ...</td>\n    </tr>\n    <tr>\n      <th>1047</th>\n      <td>5912e037d12774bb73a2048f35a00009</td>\n      <td>2015-12-01 10:15:43 +0000</td>\n      <td>http://www.flipkart.com/uberlyfe-extra-large-p...</td>\n      <td>Uberlyfe Extra Large Pigmented Polyvinyl Films...</td>\n      <td>[\"Baby Care &gt;&gt; Baby &amp; Kids Gifts &gt;&gt; Stickers &gt;...</td>\n      <td>STIE5UVGW2JWVWCT</td>\n      <td>4500.0</td>\n      <td>1449.0</td>\n      <td>5912e037d12774bb73a2048f35a00009.jpg</td>\n      <td>False</td>\n      <td>Buy Uberlyfe Extra Large Pigmented Polyvinyl F...</td>\n      <td>No rating available</td>\n      <td>No rating available</td>\n      <td>Uberlyfe</td>\n      <td>{\"product_specification\"=&gt;[{\"key\"=&gt;\"Number of ...</td>\n    </tr>\n    <tr>\n      <th>1048</th>\n      <td>c3edc504d1b4f0ba6224fa53a43a7ad6</td>\n      <td>2015-12-01 10:15:43 +0000</td>\n      <td>http://www.flipkart.com/wallmantra-medium-viny...</td>\n      <td>Wallmantra Medium Vinyl Sticker Sticker</td>\n      <td>[\"Baby Care &gt;&gt; Baby &amp; Kids Gifts &gt;&gt; Stickers &gt;...</td>\n      <td>STIEC889ZGFD3RCE</td>\n      <td>3465.0</td>\n      <td>1333.0</td>\n      <td>c3edc504d1b4f0ba6224fa53a43a7ad6.jpg</td>\n      <td>False</td>\n      <td>Buy Wallmantra Medium Vinyl Sticker Sticker fo...</td>\n      <td>No rating available</td>\n      <td>No rating available</td>\n      <td>Wallmantra</td>\n      <td>{\"product_specification\"=&gt;[{\"key\"=&gt;\"Number of ...</td>\n    </tr>\n    <tr>\n      <th>1049</th>\n      <td>f2f027ad6a6df617c9f125173da71e44</td>\n      <td>2015-12-01 10:15:43 +0000</td>\n      <td>http://www.flipkart.com/uberlyfe-large-vinyl-s...</td>\n      <td>Uberlyfe Large Vinyl Sticker</td>\n      <td>[\"Baby Care &gt;&gt; Baby &amp; Kids Gifts &gt;&gt; Stickers &gt;...</td>\n      <td>STIE2ZEPACRQJKH7</td>\n      <td>1190.0</td>\n      <td>595.0</td>\n      <td>f2f027ad6a6df617c9f125173da71e44.jpg</td>\n      <td>False</td>\n      <td>Buy Uberlyfe Large Vinyl Sticker for Rs.595 on...</td>\n      <td>4</td>\n      <td>4</td>\n      <td>Uberlyfe</td>\n      <td>{\"product_specification\"=&gt;[{\"key\"=&gt;\"Sales Pack...</td>\n    </tr>\n  </tbody>\n</table>\n<p>1050 rows × 15 columns</p>\n</div>"
     },
     "execution_count": 100,
     "metadata": {},
     "output_type": "execute_result"
    }
   ],
   "source": [
    "raw_data"
   ],
   "metadata": {
    "collapsed": false,
    "pycharm": {
     "name": "#%%\n"
    }
   }
  },
  {
   "cell_type": "code",
   "execution_count": 101,
   "outputs": [
    {
     "data": {
      "text/plain": "                               uniq_id            crawl_timestamp  \\\n0     55b85ea15a1536d46b7190ad6fff8ce7  2016-04-30 03:22:56 +0000   \n1     7b72c92c2f6c40268628ec5f14c6d590  2016-04-30 03:22:56 +0000   \n2     64d5d4a258243731dc7bbb1eef49ad74  2016-04-30 03:22:56 +0000   \n3     d4684dcdc759dd9cdf41504698d737d8  2016-06-20 08:49:52 +0000   \n4     6325b6870c54cd47be6ebfbffa620ec7  2016-06-20 08:49:52 +0000   \n...                                ...                        ...   \n1045  958f54f4c46b53c8a0a9b8167d9140bc  2015-12-01 10:15:43 +0000   \n1046  fd6cbcc22efb6b761bd564c28928483c  2015-12-01 10:15:43 +0000   \n1047  5912e037d12774bb73a2048f35a00009  2015-12-01 10:15:43 +0000   \n1048  c3edc504d1b4f0ba6224fa53a43a7ad6  2015-12-01 10:15:43 +0000   \n1049  f2f027ad6a6df617c9f125173da71e44  2015-12-01 10:15:43 +0000   \n\n                                            product_url  \\\n0     http://www.flipkart.com/elegance-polyester-mul...   \n1     http://www.flipkart.com/sathiyas-cotton-bath-t...   \n2     http://www.flipkart.com/eurospa-cotton-terry-f...   \n3     http://www.flipkart.com/santosh-royal-fashion-...   \n4     http://www.flipkart.com/jaipur-print-cotton-fl...   \n...                                                 ...   \n1045  http://www.flipkart.com/oren-empower-extra-lar...   \n1046  http://www.flipkart.com/wallmantra-large-vinyl...   \n1047  http://www.flipkart.com/uberlyfe-extra-large-p...   \n1048  http://www.flipkart.com/wallmantra-medium-viny...   \n1049  http://www.flipkart.com/uberlyfe-large-vinyl-s...   \n\n                                           product_name               pid  \\\n0     Elegance Polyester Multicolor Abstract Eyelet ...  CRNEG7BKMFFYHQ8Z   \n1                            Sathiyas Cotton Bath Towel  BTWEGFZHGBXPHZUH   \n2                   Eurospa Cotton Terry Face Towel Set  BTWEG6SHXTDB2A2Y   \n3     SANTOSH ROYAL FASHION Cotton Printed King size...  BDSEJT9UQWHDUBH4   \n4     Jaipur Print Cotton Floral King sized Double B...  BDSEJTHNGWVGWWQU   \n...                                                 ...               ...   \n1045     Oren Empower Extra Large Self Adhesive Sticker  STIE88ZGTX65GH4V   \n1046             Wallmantra Large Vinyl Sticker Sticker  STIEC889ZD5GDCVQ   \n1047  Uberlyfe Extra Large Pigmented Polyvinyl Films...  STIE5UVGW2JWVWCT   \n1048            Wallmantra Medium Vinyl Sticker Sticker  STIEC889ZGFD3RCE   \n1049                       Uberlyfe Large Vinyl Sticker  STIE2ZEPACRQJKH7   \n\n      retail_price  discounted_price                                 image  \\\n0           1899.0             899.0  55b85ea15a1536d46b7190ad6fff8ce7.jpg   \n1            600.0             449.0  7b72c92c2f6c40268628ec5f14c6d590.jpg   \n2              NaN               NaN  64d5d4a258243731dc7bbb1eef49ad74.jpg   \n3           2699.0            1299.0  d4684dcdc759dd9cdf41504698d737d8.jpg   \n4           2599.0             698.0  6325b6870c54cd47be6ebfbffa620ec7.jpg   \n...            ...               ...                                   ...   \n1045        1399.0             999.0  958f54f4c46b53c8a0a9b8167d9140bc.jpg   \n1046        4930.0            1896.0  fd6cbcc22efb6b761bd564c28928483c.jpg   \n1047        4500.0            1449.0  5912e037d12774bb73a2048f35a00009.jpg   \n1048        3465.0            1333.0  c3edc504d1b4f0ba6224fa53a43a7ad6.jpg   \n1049        1190.0             595.0  f2f027ad6a6df617c9f125173da71e44.jpg   \n\n      is_FK_Advantage_product  \\\n0                       False   \n1                       False   \n2                       False   \n3                       False   \n4                       False   \n...                       ...   \n1045                    False   \n1046                    False   \n1047                    False   \n1048                    False   \n1049                    False   \n\n                                            description       product_rating  \\\n0     Key Features of Elegance Polyester Multicolor ...  No rating available   \n1     Specifications of Sathiyas Cotton Bath Towel (...  No rating available   \n2     Key Features of Eurospa Cotton Terry Face Towe...  No rating available   \n3     Key Features of SANTOSH ROYAL FASHION Cotton P...  No rating available   \n4     Key Features of Jaipur Print Cotton Floral Kin...  No rating available   \n...                                                 ...                  ...   \n1045  Oren Empower Extra Large Self Adhesive Sticker...  No rating available   \n1046  Wallmantra Large Vinyl Sticker Sticker (Pack o...  No rating available   \n1047  Buy Uberlyfe Extra Large Pigmented Polyvinyl F...  No rating available   \n1048  Buy Wallmantra Medium Vinyl Sticker Sticker fo...  No rating available   \n1049  Buy Uberlyfe Large Vinyl Sticker for Rs.595 on...                    4   \n\n           overall_rating                  brand  \\\n0     No rating available               Elegance   \n1     No rating available               Sathiyas   \n2     No rating available                Eurospa   \n3     No rating available  SANTOSH ROYAL FASHION   \n4     No rating available           Jaipur Print   \n...                   ...                    ...   \n1045  No rating available           Oren Empower   \n1046  No rating available             Wallmantra   \n1047  No rating available               Uberlyfe   \n1048  No rating available             Wallmantra   \n1049                    4               Uberlyfe   \n\n                                 product_specifications       category_1  \\\n0     {\"product_specification\"=>[{\"key\"=>\"Brand\", \"v...  Home Furnishing   \n1     {\"product_specification\"=>[{\"key\"=>\"Machine Wa...        Baby Care   \n2     {\"product_specification\"=>[{\"key\"=>\"Material\",...        Baby Care   \n3     {\"product_specification\"=>[{\"key\"=>\"Brand\", \"v...  Home Furnishing   \n4     {\"product_specification\"=>[{\"key\"=>\"Machine Wa...  Home Furnishing   \n...                                                 ...              ...   \n1045  {\"product_specification\"=>[{\"key\"=>\"Number of ...        Baby Care   \n1046  {\"product_specification\"=>[{\"key\"=>\"Number of ...        Baby Care   \n1047  {\"product_specification\"=>[{\"key\"=>\"Number of ...        Baby Care   \n1048  {\"product_specification\"=>[{\"key\"=>\"Number of ...        Baby Care   \n1049  {\"product_specification\"=>[{\"key\"=>\"Sales Pack...        Baby Care   \n\n                  category_2        category_3  \n0     Curtains & Accessories          Curtains  \n1           Baby Bath & Skin  Baby Bath Towels  \n2           Baby Bath & Skin  Baby Bath Towels  \n3                  Bed Linen         Bedsheets  \n4                  Bed Linen         Bedsheets  \n...                      ...               ...  \n1045       Baby & Kids Gifts          Stickers  \n1046       Baby & Kids Gifts          Stickers  \n1047       Baby & Kids Gifts          Stickers  \n1048       Baby & Kids Gifts          Stickers  \n1049       Baby & Kids Gifts          Stickers  \n\n[1050 rows x 17 columns]",
      "text/html": "<div>\n<style scoped>\n    .dataframe tbody tr th:only-of-type {\n        vertical-align: middle;\n    }\n\n    .dataframe tbody tr th {\n        vertical-align: top;\n    }\n\n    .dataframe thead th {\n        text-align: right;\n    }\n</style>\n<table border=\"1\" class=\"dataframe\">\n  <thead>\n    <tr style=\"text-align: right;\">\n      <th></th>\n      <th>uniq_id</th>\n      <th>crawl_timestamp</th>\n      <th>product_url</th>\n      <th>product_name</th>\n      <th>pid</th>\n      <th>retail_price</th>\n      <th>discounted_price</th>\n      <th>image</th>\n      <th>is_FK_Advantage_product</th>\n      <th>description</th>\n      <th>product_rating</th>\n      <th>overall_rating</th>\n      <th>brand</th>\n      <th>product_specifications</th>\n      <th>category_1</th>\n      <th>category_2</th>\n      <th>category_3</th>\n    </tr>\n  </thead>\n  <tbody>\n    <tr>\n      <th>0</th>\n      <td>55b85ea15a1536d46b7190ad6fff8ce7</td>\n      <td>2016-04-30 03:22:56 +0000</td>\n      <td>http://www.flipkart.com/elegance-polyester-mul...</td>\n      <td>Elegance Polyester Multicolor Abstract Eyelet ...</td>\n      <td>CRNEG7BKMFFYHQ8Z</td>\n      <td>1899.0</td>\n      <td>899.0</td>\n      <td>55b85ea15a1536d46b7190ad6fff8ce7.jpg</td>\n      <td>False</td>\n      <td>Key Features of Elegance Polyester Multicolor ...</td>\n      <td>No rating available</td>\n      <td>No rating available</td>\n      <td>Elegance</td>\n      <td>{\"product_specification\"=&gt;[{\"key\"=&gt;\"Brand\", \"v...</td>\n      <td>Home Furnishing</td>\n      <td>Curtains &amp; Accessories</td>\n      <td>Curtains</td>\n    </tr>\n    <tr>\n      <th>1</th>\n      <td>7b72c92c2f6c40268628ec5f14c6d590</td>\n      <td>2016-04-30 03:22:56 +0000</td>\n      <td>http://www.flipkart.com/sathiyas-cotton-bath-t...</td>\n      <td>Sathiyas Cotton Bath Towel</td>\n      <td>BTWEGFZHGBXPHZUH</td>\n      <td>600.0</td>\n      <td>449.0</td>\n      <td>7b72c92c2f6c40268628ec5f14c6d590.jpg</td>\n      <td>False</td>\n      <td>Specifications of Sathiyas Cotton Bath Towel (...</td>\n      <td>No rating available</td>\n      <td>No rating available</td>\n      <td>Sathiyas</td>\n      <td>{\"product_specification\"=&gt;[{\"key\"=&gt;\"Machine Wa...</td>\n      <td>Baby Care</td>\n      <td>Baby Bath &amp; Skin</td>\n      <td>Baby Bath Towels</td>\n    </tr>\n    <tr>\n      <th>2</th>\n      <td>64d5d4a258243731dc7bbb1eef49ad74</td>\n      <td>2016-04-30 03:22:56 +0000</td>\n      <td>http://www.flipkart.com/eurospa-cotton-terry-f...</td>\n      <td>Eurospa Cotton Terry Face Towel Set</td>\n      <td>BTWEG6SHXTDB2A2Y</td>\n      <td>NaN</td>\n      <td>NaN</td>\n      <td>64d5d4a258243731dc7bbb1eef49ad74.jpg</td>\n      <td>False</td>\n      <td>Key Features of Eurospa Cotton Terry Face Towe...</td>\n      <td>No rating available</td>\n      <td>No rating available</td>\n      <td>Eurospa</td>\n      <td>{\"product_specification\"=&gt;[{\"key\"=&gt;\"Material\",...</td>\n      <td>Baby Care</td>\n      <td>Baby Bath &amp; Skin</td>\n      <td>Baby Bath Towels</td>\n    </tr>\n    <tr>\n      <th>3</th>\n      <td>d4684dcdc759dd9cdf41504698d737d8</td>\n      <td>2016-06-20 08:49:52 +0000</td>\n      <td>http://www.flipkart.com/santosh-royal-fashion-...</td>\n      <td>SANTOSH ROYAL FASHION Cotton Printed King size...</td>\n      <td>BDSEJT9UQWHDUBH4</td>\n      <td>2699.0</td>\n      <td>1299.0</td>\n      <td>d4684dcdc759dd9cdf41504698d737d8.jpg</td>\n      <td>False</td>\n      <td>Key Features of SANTOSH ROYAL FASHION Cotton P...</td>\n      <td>No rating available</td>\n      <td>No rating available</td>\n      <td>SANTOSH ROYAL FASHION</td>\n      <td>{\"product_specification\"=&gt;[{\"key\"=&gt;\"Brand\", \"v...</td>\n      <td>Home Furnishing</td>\n      <td>Bed Linen</td>\n      <td>Bedsheets</td>\n    </tr>\n    <tr>\n      <th>4</th>\n      <td>6325b6870c54cd47be6ebfbffa620ec7</td>\n      <td>2016-06-20 08:49:52 +0000</td>\n      <td>http://www.flipkart.com/jaipur-print-cotton-fl...</td>\n      <td>Jaipur Print Cotton Floral King sized Double B...</td>\n      <td>BDSEJTHNGWVGWWQU</td>\n      <td>2599.0</td>\n      <td>698.0</td>\n      <td>6325b6870c54cd47be6ebfbffa620ec7.jpg</td>\n      <td>False</td>\n      <td>Key Features of Jaipur Print Cotton Floral Kin...</td>\n      <td>No rating available</td>\n      <td>No rating available</td>\n      <td>Jaipur Print</td>\n      <td>{\"product_specification\"=&gt;[{\"key\"=&gt;\"Machine Wa...</td>\n      <td>Home Furnishing</td>\n      <td>Bed Linen</td>\n      <td>Bedsheets</td>\n    </tr>\n    <tr>\n      <th>...</th>\n      <td>...</td>\n      <td>...</td>\n      <td>...</td>\n      <td>...</td>\n      <td>...</td>\n      <td>...</td>\n      <td>...</td>\n      <td>...</td>\n      <td>...</td>\n      <td>...</td>\n      <td>...</td>\n      <td>...</td>\n      <td>...</td>\n      <td>...</td>\n      <td>...</td>\n      <td>...</td>\n      <td>...</td>\n    </tr>\n    <tr>\n      <th>1045</th>\n      <td>958f54f4c46b53c8a0a9b8167d9140bc</td>\n      <td>2015-12-01 10:15:43 +0000</td>\n      <td>http://www.flipkart.com/oren-empower-extra-lar...</td>\n      <td>Oren Empower Extra Large Self Adhesive Sticker</td>\n      <td>STIE88ZGTX65GH4V</td>\n      <td>1399.0</td>\n      <td>999.0</td>\n      <td>958f54f4c46b53c8a0a9b8167d9140bc.jpg</td>\n      <td>False</td>\n      <td>Oren Empower Extra Large Self Adhesive Sticker...</td>\n      <td>No rating available</td>\n      <td>No rating available</td>\n      <td>Oren Empower</td>\n      <td>{\"product_specification\"=&gt;[{\"key\"=&gt;\"Number of ...</td>\n      <td>Baby Care</td>\n      <td>Baby &amp; Kids Gifts</td>\n      <td>Stickers</td>\n    </tr>\n    <tr>\n      <th>1046</th>\n      <td>fd6cbcc22efb6b761bd564c28928483c</td>\n      <td>2015-12-01 10:15:43 +0000</td>\n      <td>http://www.flipkart.com/wallmantra-large-vinyl...</td>\n      <td>Wallmantra Large Vinyl Sticker Sticker</td>\n      <td>STIEC889ZD5GDCVQ</td>\n      <td>4930.0</td>\n      <td>1896.0</td>\n      <td>fd6cbcc22efb6b761bd564c28928483c.jpg</td>\n      <td>False</td>\n      <td>Wallmantra Large Vinyl Sticker Sticker (Pack o...</td>\n      <td>No rating available</td>\n      <td>No rating available</td>\n      <td>Wallmantra</td>\n      <td>{\"product_specification\"=&gt;[{\"key\"=&gt;\"Number of ...</td>\n      <td>Baby Care</td>\n      <td>Baby &amp; Kids Gifts</td>\n      <td>Stickers</td>\n    </tr>\n    <tr>\n      <th>1047</th>\n      <td>5912e037d12774bb73a2048f35a00009</td>\n      <td>2015-12-01 10:15:43 +0000</td>\n      <td>http://www.flipkart.com/uberlyfe-extra-large-p...</td>\n      <td>Uberlyfe Extra Large Pigmented Polyvinyl Films...</td>\n      <td>STIE5UVGW2JWVWCT</td>\n      <td>4500.0</td>\n      <td>1449.0</td>\n      <td>5912e037d12774bb73a2048f35a00009.jpg</td>\n      <td>False</td>\n      <td>Buy Uberlyfe Extra Large Pigmented Polyvinyl F...</td>\n      <td>No rating available</td>\n      <td>No rating available</td>\n      <td>Uberlyfe</td>\n      <td>{\"product_specification\"=&gt;[{\"key\"=&gt;\"Number of ...</td>\n      <td>Baby Care</td>\n      <td>Baby &amp; Kids Gifts</td>\n      <td>Stickers</td>\n    </tr>\n    <tr>\n      <th>1048</th>\n      <td>c3edc504d1b4f0ba6224fa53a43a7ad6</td>\n      <td>2015-12-01 10:15:43 +0000</td>\n      <td>http://www.flipkart.com/wallmantra-medium-viny...</td>\n      <td>Wallmantra Medium Vinyl Sticker Sticker</td>\n      <td>STIEC889ZGFD3RCE</td>\n      <td>3465.0</td>\n      <td>1333.0</td>\n      <td>c3edc504d1b4f0ba6224fa53a43a7ad6.jpg</td>\n      <td>False</td>\n      <td>Buy Wallmantra Medium Vinyl Sticker Sticker fo...</td>\n      <td>No rating available</td>\n      <td>No rating available</td>\n      <td>Wallmantra</td>\n      <td>{\"product_specification\"=&gt;[{\"key\"=&gt;\"Number of ...</td>\n      <td>Baby Care</td>\n      <td>Baby &amp; Kids Gifts</td>\n      <td>Stickers</td>\n    </tr>\n    <tr>\n      <th>1049</th>\n      <td>f2f027ad6a6df617c9f125173da71e44</td>\n      <td>2015-12-01 10:15:43 +0000</td>\n      <td>http://www.flipkart.com/uberlyfe-large-vinyl-s...</td>\n      <td>Uberlyfe Large Vinyl Sticker</td>\n      <td>STIE2ZEPACRQJKH7</td>\n      <td>1190.0</td>\n      <td>595.0</td>\n      <td>f2f027ad6a6df617c9f125173da71e44.jpg</td>\n      <td>False</td>\n      <td>Buy Uberlyfe Large Vinyl Sticker for Rs.595 on...</td>\n      <td>4</td>\n      <td>4</td>\n      <td>Uberlyfe</td>\n      <td>{\"product_specification\"=&gt;[{\"key\"=&gt;\"Sales Pack...</td>\n      <td>Baby Care</td>\n      <td>Baby &amp; Kids Gifts</td>\n      <td>Stickers</td>\n    </tr>\n  </tbody>\n</table>\n<p>1050 rows × 17 columns</p>\n</div>"
     },
     "execution_count": 101,
     "metadata": {},
     "output_type": "execute_result"
    }
   ],
   "source": [
    "data_v1"
   ],
   "metadata": {
    "collapsed": false,
    "pycharm": {
     "name": "#%%\n"
    }
   }
  },
  {
   "cell_type": "code",
   "execution_count": 102,
   "outputs": [
    {
     "data": {
      "text/plain": "'[\"Kitchen & Dining >> Cookware >> Lids >> Elephant Lids\"]'"
     },
     "execution_count": 102,
     "metadata": {},
     "output_type": "execute_result"
    }
   ],
   "source": [
    "#raw_data[\"product_category_tree\"][0]\n",
    "raw_data[\"product_category_tree\"][300]"
   ],
   "metadata": {
    "collapsed": false,
    "pycharm": {
     "name": "#%%\n"
    }
   }
  },
  {
   "cell_type": "code",
   "execution_count": 103,
   "outputs": [
    {
     "data": {
      "text/plain": "0       Home Furnishing \n1             Baby Care \n2             Baby Care \n3       Home Furnishing \n4       Home Furnishing \n              ...       \n1045          Baby Care \n1046          Baby Care \n1047          Baby Care \n1048          Baby Care \n1049          Baby Care \nName: product_category_tree, Length: 1050, dtype: object"
     },
     "execution_count": 103,
     "metadata": {},
     "output_type": "execute_result"
    }
   ],
   "source": [
    "data_v12 = raw_data.copy()\n",
    "first_category = data_v12[\"product_category_tree\"]\n",
    "\n",
    "# we cut the sentences at every >>\n",
    "first_category_list = first_category.str.split(\">>\")\n",
    "\n",
    "first_category_list.str[0].str.slice(start=2)  # start after [\""
   ],
   "metadata": {
    "collapsed": false,
    "pycharm": {
     "name": "#%%\n"
    }
   }
  },
  {
   "cell_type": "code",
   "execution_count": 104,
   "outputs": [
    {
     "data": {
      "text/plain": "array([' Curtains ', ' Baby Bath Towels ', ' Bedsheets ',\n       ' Maserati Time Wrist Watches\"]', ' Camerii Wrist Watches\"]',\n       ' T STAR Wrist Watches\"]', ' Alfajr Wrist Watches\"]',\n       ' TAG Heuer Wrist Watches\"]', ' Calibro Wrist Watches\"]',\n       ' Cartier Wrist Watches\"]', ' Lois Caron Wrist Watches\"]',\n       ' Titan Wrist Watches\"]', ' Srushti Art Jewelry Wrist Watches\"]',\n       ' Escort Wrist Watches\"]', ' Jack klein Wrist Watches\"]',\n       ' North Moon Wrist Watches\"]', ' Franck Bella Wrist Watches\"]',\n       ' Ridas Wrist Watches\"]', ' Skmei Wrist Watches\"]',\n       ' Now Wrist Watches\"]', ' fastrack Wrist Watches\"]',\n       ' Disney Wrist Watches\"]', ' Vizion Wrist Watches\"]',\n       ' Elantra Wrist Watches\"]', ' Marvel Wrist Watches\"]',\n       ' Lenco Wrist Watches\"]', ' D\\'Signer Wrist Watches\"]',\n       ' Diwan Sets ', ' Duvet Covers ', ' Bath Mats\"]',\n       ' Home Fragrances ', ' Jug, Glass & Tray Sets ', ' Bulbs ',\n       ' JMD Printed Cushions Cover (Pack of 2, 40 cm*40 ...\"]',\n       \" Baby Girls' Clothes \",\n       ' Kripa\\'s Printed Cushions Cover (Pack of 2, 45 cm...\"]',\n       ' Conditioners ', ' AKUP Coffee Mugs ', ' Routers ', ' Keyboards ',\n       ' Casserole & Sets ', ' USB Gadgets ', ' Vanity Boxes ',\n       ' RYTHMX Combos and Kits ', ' Brillare Science Combos and Kits ',\n       ' Mars Combos and Kits ', ' Nails ', ' Bottles & Accessories ',\n       ' Shopmania Coffee Mugs ', ' Baby Mattresses ', ' Table Covers ',\n       ' Lunch Boxes ', ' Bowls ', ' Bottles & Sippers ', ' Lips ',\n       \" Baby Boys' Clothes \", ' Key Holders ', ' Showpieces ',\n       ' Baby Mosquito Nets ', ' Flower Vase ',\n       ' Wall Decals & Stickers ', ' Pots & Pans ', ' Language Learning ',\n       ' Coasters ', ' Parv Collections Showpieces\"]',\n       ' Exotic India Showpieces\"]', ' Aapno Rajasthan Showpieces\"]',\n       ' BeYOUtiful Showpieces\"]', ' Blankets, Quilts & Dohars\"]',\n       ' Inflatable Products ', ' Blankets, Quilts & Dohars ',\n       ' Table Lamps ', ' Baby Grooming Combos ', ' Printers & Inks ',\n       ' Mouse Pads ', ' Cushion Covers ', ' Pen Drives ',\n       ' Health Care Devices ', ' Hand Care ', ' Table Decor ',\n       ' Prithish Coffee Mugs\"]', ' Rockmantra Coffee Mugs\"]',\n       ' Rajesh Digital Coffee Mugs\"]', ' Printland Coffee Mugs\"]',\n       ' Returnfavors Coffee Mugs\"]', ' Kitchen Implements ',\n       ' Rastogi Handicrafts Showpieces\"]', ' NEHP Showpieces\"]',\n       ' S C Handicrafts Showpieces\"]', ' Ethnic ',\n       ' MA Design Hut Showpieces\"]', ' Purpledip Showpieces\"]',\n       ' Shoppingtara Showpieces\"]', ' Orange Tree Showpieces\"]',\n       ' Port Showpieces\"]', ' Tiedribbons Showpieces\"]',\n       ' Unique Design Showpieces\"]', ' Malhar Showpieces\"]', nan,\n       ' The Crafts House Showpieces\"]', ' Unravel India Showpieces\"]',\n       ' Woodino Handicrafts Showpieces\"]',\n       ' Unique Handicrafts Showpieces\"]', ' Mavi Showpieces\"]',\n       ' Pittsburgh Polo Club Wrist Watches ', ' palito Wrist Watches ',\n       ' Adino Wrist Watches ', ' ESIDON Wrist Watches ', ' Sofa Covers ',\n       ' Yves Bertelin Wrist Watches ', ' Contemporary ',\n       ' V9 Wrist Watches ', ' Bar Accessories ', ' CPU ', ' Lids ',\n       ' Deodorants ', ' Combo & kits ', ' Cases & Covers ',\n       ' Hair Care Accessories ', ' Portable Projectors ',\n       ' Changing Tables ', ' Adapters ', ' Strollers & Prams ',\n       ' Bar Glasses ', ' Fengshui ', ' Table Linen Sets ',\n       ' Baby Sleeping Bags ',\n       ' Tidy Printed Cushions Cover (Pack of 9, 50 cm*50...\"]',\n       ' Laptop Adapters ', ' Baby Shower Caps ',\n       ' Lushomes Living Room Furnishing ',\n       ' Prestige Pressure Cookers & Pans\"]', ' Bedsheets\"]',\n       ' Steamers & Idli Makers ', ' Bath Mats ', ' Hair Colors ',\n       ' Body and Essential Oils ', ' Kitchen Linen Sets ', ' Batteries ',\n       ' Sonata Wrist Watches\"]', ' Times Wrist Watches\"]',\n       ' Maxima Wrist Watches\"]', ' Nexus Wrist Watches\"]',\n       ' Logues Wrist Watches\"]', ' Global Nomad Wrist Watches\"]',\n       ' Noise Wrist Watches\"]', ' SF by Sonata Wrist Watches\"]',\n       ' Fluid Wrist Watches\"]', ' HMT Wrist Watches\"]',\n       ' Timewel Wrist Watches\"]', ' Petrol Wrist Watches\"]',\n       ' Only Kidz Wrist Watches\"]', ' Kool Kidz Wrist Watches\"]',\n       ' Olvin Wrist Watches\"]', ' Fastrack Wrist Watches\"]',\n       ' Hourglass Wrist Watches\"]', ' Gift Island Wrist Watches\"]',\n       ' Flippd Wrist Watches\"]', ' Neo Classic Wrist Watches\"]',\n       ' Cleaning Kits ', ' Cushions ', ' Artificial Plants ',\n       ' Wall Shelves ', ' posterchacha Coffee Mugs ',\n       ' Curren Nx Wrist Watches ', ' HP Laptops\"]',\n       ' Hammocks & Swings ', ' Bibs & Hankies ',\n       ' Boreal Baby Grooming ', ' Diaper Bags ', ' Lanterns ',\n       ' Home Cleaning ', ' Laptop Bags ', ' Processors ', ' Clocks ',\n       ' Curtains\"]', ' Romex Wrist Watches\"]', ' Photo Frames ',\n       ' Utensils ', ' Face Care ', ' Paintings ', ' Cushion Covers\"]',\n       ' Table Placemats ', ' Jaipur Raga Showpieces\"]',\n       ' Nappies & Cloth Diapers ', ' Table Runners\"]', ' Series Lights ',\n       ' Bath and Spa Accessories ',\n       ' brass gift center Religion & Devotion ', ' Cups & Saucers ',\n       ' Anti Dust Plugs ', ' Fogg Fashion Store Wrist Watches\"]',\n       ' Mxofere Combos and Kits\"]', ' SVM Wrist Watches\"]',\n       ' Fighter Wrist Watches\"]', ' Luba Wrist Watches\"]',\n       ' Perucci Wrist Watches\"]', ' Chappin & Nellson Wrist Watches\"]',\n       ' Oxyglow Combos and Kits\"]', ' Xemex Wrist Watches\"]',\n       ' Baby Blankets ', ' RRTC Wrist Watches\"]',\n       ' LUBA Wrist Watches\"]', ' Wild Ferns Eye Care\"]',\n       ' Rana Watches Wrist Watches\"]', ' R.S Wrist Watches\"]',\n       ' Bharatcraft Showpiece ', ' Firstrace Wrist Watches\"]',\n       ' CB Fashion Wrist Watches\"]', ' Timex Wrist Watches\"]',\n       \" Sivanna Men's Grooming \", ' Towels\"]', ' Baby Massage Oils ',\n       ' Health Care Accessories ', ' Jugs & Pitchers ', ' Posters ',\n       ' Table Clocks ', ' Wallpapers ', ' Adaa Showpieces\"]',\n       ' eCraftIndia Showpieces\"]', ' Shankh ', ' Cutlery ',\n       ' Floor Lamp ', ' Carpets & Rugs ', ' Lip Care ',\n       ' Baby Bedsheets ', ' Gramophones ',\n       ' Jaycoknit Religion & Devotion ', ' Makeup Accessories ',\n       ' Choppers & Peelers ', ' Vedic Deals Showpieces\"]',\n       ' AM Creation Coffee Mugs ', ' Baby Body Wash ',\n       ' Happiness Is Coffee Mugs ', ' Containers & Jars ',\n       ' HuppmeGift Coffee Mugs ', ' Decorations ', ' Eyes ', ' Soaps ',\n       ' Kitchen Tool Sets ', ' Cotton Buds ',\n       ' Computer Accessories Combos ', ' RAMs ',\n       ' Medicines & Treatment ', ' Shampoos ',\n       ' Medical Equipment & Accessories ', ' Stickers '], dtype=object)"
     },
     "execution_count": 104,
     "metadata": {},
     "output_type": "execute_result"
    }
   ],
   "source": [
    "data_v12[\"first_category\"] = data_v12[\"product_category_tree\"].str.split(\">>\").str[0].str.slice(start=2)\n",
    "\n",
    "data_v12[\"first_category\"].unique()\n",
    "\n",
    "second_category = data_v12[\"product_category_tree\"]\n",
    "\n",
    "# we cut the sentences at every >>\n",
    "second_category_list = second_category.str.split(\">>\")\n",
    "\n",
    "second_category_list\n",
    "second_category_list.str[1]  #.str.strip() # strip to remove blank space\n",
    "\n",
    "second_category_list.str[1].unique()\n",
    "\n",
    "data_v12[\"second_category\"] = data_v12[\"product_category_tree\"].str.split(\">>\").str[1]  #.strip()\n",
    "\n",
    "data_v12[\"second_category\"].unique()\n",
    "\n",
    "data_v12[\"third_category\"] = data_v12[\"product_category_tree\"].str.split(\">>\").str[2]  #.strip()\n",
    "\n",
    "data_v12[\"third_category\"].unique()"
   ],
   "metadata": {
    "collapsed": false,
    "pycharm": {
     "name": "#%%\n"
    }
   }
  },
  {
   "cell_type": "code",
   "execution_count": 105,
   "outputs": [
    {
     "data": {
      "text/plain": "                              uniq_id            crawl_timestamp  \\\n139  06749cbff1487f470438823f6952cfd1  2015-12-01 12:40:44 +0000   \n\n                                           product_url  \\\n139  http://www.flipkart.com/prithish-hop-jump-skip...   \n\n                                 product_name  \\\n139  Prithish Hop Jump Skip Black Ceramic Mug   \n\n                                 product_category_tree               pid  \\\n139  [\"Kitchen & Dining >> Coffee Mugs >> Prithish ...  MUGEB7J7RZDRUQH9   \n\n     retail_price  discounted_price                                 image  \\\n139         699.0             275.0  06749cbff1487f470438823f6952cfd1.jpg   \n\n     is_FK_Advantage_product  \\\n139                    False   \n\n                                           description       product_rating  \\\n139  Prithish Hop Jump Skip Black Ceramic Mug (330 ...  No rating available   \n\n          overall_rating brand  \\\n139  No rating available   NaN   \n\n                                product_specifications     first_category  \\\n139  {\"product_specification\"=>[{\"key\"=>\"Type\", \"va...  Kitchen & Dining    \n\n    second_category           third_category  \n139    Coffee Mugs    Prithish Coffee Mugs\"]  ",
      "text/html": "<div>\n<style scoped>\n    .dataframe tbody tr th:only-of-type {\n        vertical-align: middle;\n    }\n\n    .dataframe tbody tr th {\n        vertical-align: top;\n    }\n\n    .dataframe thead th {\n        text-align: right;\n    }\n</style>\n<table border=\"1\" class=\"dataframe\">\n  <thead>\n    <tr style=\"text-align: right;\">\n      <th></th>\n      <th>uniq_id</th>\n      <th>crawl_timestamp</th>\n      <th>product_url</th>\n      <th>product_name</th>\n      <th>product_category_tree</th>\n      <th>pid</th>\n      <th>retail_price</th>\n      <th>discounted_price</th>\n      <th>image</th>\n      <th>is_FK_Advantage_product</th>\n      <th>description</th>\n      <th>product_rating</th>\n      <th>overall_rating</th>\n      <th>brand</th>\n      <th>product_specifications</th>\n      <th>first_category</th>\n      <th>second_category</th>\n      <th>third_category</th>\n    </tr>\n  </thead>\n  <tbody>\n    <tr>\n      <th>139</th>\n      <td>06749cbff1487f470438823f6952cfd1</td>\n      <td>2015-12-01 12:40:44 +0000</td>\n      <td>http://www.flipkart.com/prithish-hop-jump-skip...</td>\n      <td>Prithish Hop Jump Skip Black Ceramic Mug</td>\n      <td>[\"Kitchen &amp; Dining &gt;&gt; Coffee Mugs &gt;&gt; Prithish ...</td>\n      <td>MUGEB7J7RZDRUQH9</td>\n      <td>699.0</td>\n      <td>275.0</td>\n      <td>06749cbff1487f470438823f6952cfd1.jpg</td>\n      <td>False</td>\n      <td>Prithish Hop Jump Skip Black Ceramic Mug (330 ...</td>\n      <td>No rating available</td>\n      <td>No rating available</td>\n      <td>NaN</td>\n      <td>{\"product_specification\"=&gt;[{\"key\"=&gt;\"Type\", \"va...</td>\n      <td>Kitchen &amp; Dining</td>\n      <td>Coffee Mugs</td>\n      <td>Prithish Coffee Mugs\"]</td>\n    </tr>\n  </tbody>\n</table>\n</div>"
     },
     "execution_count": 105,
     "metadata": {},
     "output_type": "execute_result"
    }
   ],
   "source": [
    "data_v12[data_v12[\"uniq_id\"] == \"06749cbff1487f470438823f6952cfd1\"]"
   ],
   "metadata": {
    "collapsed": false,
    "pycharm": {
     "name": "#%%\n"
    }
   }
  },
  {
   "cell_type": "code",
   "execution_count": 106,
   "outputs": [
    {
     "data": {
      "text/plain": "                               uniq_id            crawl_timestamp  \\\n0     55b85ea15a1536d46b7190ad6fff8ce7  2016-04-30 03:22:56 +0000   \n1     7b72c92c2f6c40268628ec5f14c6d590  2016-04-30 03:22:56 +0000   \n2     64d5d4a258243731dc7bbb1eef49ad74  2016-04-30 03:22:56 +0000   \n3     d4684dcdc759dd9cdf41504698d737d8  2016-06-20 08:49:52 +0000   \n4     6325b6870c54cd47be6ebfbffa620ec7  2016-06-20 08:49:52 +0000   \n...                                ...                        ...   \n1045  958f54f4c46b53c8a0a9b8167d9140bc  2015-12-01 10:15:43 +0000   \n1046  fd6cbcc22efb6b761bd564c28928483c  2015-12-01 10:15:43 +0000   \n1047  5912e037d12774bb73a2048f35a00009  2015-12-01 10:15:43 +0000   \n1048  c3edc504d1b4f0ba6224fa53a43a7ad6  2015-12-01 10:15:43 +0000   \n1049  f2f027ad6a6df617c9f125173da71e44  2015-12-01 10:15:43 +0000   \n\n                                            product_url  \\\n0     http://www.flipkart.com/elegance-polyester-mul...   \n1     http://www.flipkart.com/sathiyas-cotton-bath-t...   \n2     http://www.flipkart.com/eurospa-cotton-terry-f...   \n3     http://www.flipkart.com/santosh-royal-fashion-...   \n4     http://www.flipkart.com/jaipur-print-cotton-fl...   \n...                                                 ...   \n1045  http://www.flipkart.com/oren-empower-extra-lar...   \n1046  http://www.flipkart.com/wallmantra-large-vinyl...   \n1047  http://www.flipkart.com/uberlyfe-extra-large-p...   \n1048  http://www.flipkart.com/wallmantra-medium-viny...   \n1049  http://www.flipkart.com/uberlyfe-large-vinyl-s...   \n\n                                           product_name               pid  \\\n0     Elegance Polyester Multicolor Abstract Eyelet ...  CRNEG7BKMFFYHQ8Z   \n1                            Sathiyas Cotton Bath Towel  BTWEGFZHGBXPHZUH   \n2                   Eurospa Cotton Terry Face Towel Set  BTWEG6SHXTDB2A2Y   \n3     SANTOSH ROYAL FASHION Cotton Printed King size...  BDSEJT9UQWHDUBH4   \n4     Jaipur Print Cotton Floral King sized Double B...  BDSEJTHNGWVGWWQU   \n...                                                 ...               ...   \n1045     Oren Empower Extra Large Self Adhesive Sticker  STIE88ZGTX65GH4V   \n1046             Wallmantra Large Vinyl Sticker Sticker  STIEC889ZD5GDCVQ   \n1047  Uberlyfe Extra Large Pigmented Polyvinyl Films...  STIE5UVGW2JWVWCT   \n1048            Wallmantra Medium Vinyl Sticker Sticker  STIEC889ZGFD3RCE   \n1049                       Uberlyfe Large Vinyl Sticker  STIE2ZEPACRQJKH7   \n\n      retail_price  discounted_price                                 image  \\\n0           1899.0             899.0  55b85ea15a1536d46b7190ad6fff8ce7.jpg   \n1            600.0             449.0  7b72c92c2f6c40268628ec5f14c6d590.jpg   \n2              NaN               NaN  64d5d4a258243731dc7bbb1eef49ad74.jpg   \n3           2699.0            1299.0  d4684dcdc759dd9cdf41504698d737d8.jpg   \n4           2599.0             698.0  6325b6870c54cd47be6ebfbffa620ec7.jpg   \n...            ...               ...                                   ...   \n1045        1399.0             999.0  958f54f4c46b53c8a0a9b8167d9140bc.jpg   \n1046        4930.0            1896.0  fd6cbcc22efb6b761bd564c28928483c.jpg   \n1047        4500.0            1449.0  5912e037d12774bb73a2048f35a00009.jpg   \n1048        3465.0            1333.0  c3edc504d1b4f0ba6224fa53a43a7ad6.jpg   \n1049        1190.0             595.0  f2f027ad6a6df617c9f125173da71e44.jpg   \n\n      is_FK_Advantage_product  \\\n0                       False   \n1                       False   \n2                       False   \n3                       False   \n4                       False   \n...                       ...   \n1045                    False   \n1046                    False   \n1047                    False   \n1048                    False   \n1049                    False   \n\n                                            description       product_rating  \\\n0     Key Features of Elegance Polyester Multicolor ...  No rating available   \n1     Specifications of Sathiyas Cotton Bath Towel (...  No rating available   \n2     Key Features of Eurospa Cotton Terry Face Towe...  No rating available   \n3     Key Features of SANTOSH ROYAL FASHION Cotton P...  No rating available   \n4     Key Features of Jaipur Print Cotton Floral Kin...  No rating available   \n...                                                 ...                  ...   \n1045  Oren Empower Extra Large Self Adhesive Sticker...  No rating available   \n1046  Wallmantra Large Vinyl Sticker Sticker (Pack o...  No rating available   \n1047  Buy Uberlyfe Extra Large Pigmented Polyvinyl F...  No rating available   \n1048  Buy Wallmantra Medium Vinyl Sticker Sticker fo...  No rating available   \n1049  Buy Uberlyfe Large Vinyl Sticker for Rs.595 on...                    4   \n\n           overall_rating                  brand  \\\n0     No rating available               Elegance   \n1     No rating available               Sathiyas   \n2     No rating available                Eurospa   \n3     No rating available  SANTOSH ROYAL FASHION   \n4     No rating available           Jaipur Print   \n...                   ...                    ...   \n1045  No rating available           Oren Empower   \n1046  No rating available             Wallmantra   \n1047  No rating available               Uberlyfe   \n1048  No rating available             Wallmantra   \n1049                    4               Uberlyfe   \n\n                                 product_specifications       category_1  \\\n0     {\"product_specification\"=>[{\"key\"=>\"Brand\", \"v...  Home Furnishing   \n1     {\"product_specification\"=>[{\"key\"=>\"Machine Wa...        Baby Care   \n2     {\"product_specification\"=>[{\"key\"=>\"Material\",...        Baby Care   \n3     {\"product_specification\"=>[{\"key\"=>\"Brand\", \"v...  Home Furnishing   \n4     {\"product_specification\"=>[{\"key\"=>\"Machine Wa...  Home Furnishing   \n...                                                 ...              ...   \n1045  {\"product_specification\"=>[{\"key\"=>\"Number of ...        Baby Care   \n1046  {\"product_specification\"=>[{\"key\"=>\"Number of ...        Baby Care   \n1047  {\"product_specification\"=>[{\"key\"=>\"Number of ...        Baby Care   \n1048  {\"product_specification\"=>[{\"key\"=>\"Number of ...        Baby Care   \n1049  {\"product_specification\"=>[{\"key\"=>\"Sales Pack...        Baby Care   \n\n                  category_2        category_3  \n0     Curtains & Accessories          Curtains  \n1           Baby Bath & Skin  Baby Bath Towels  \n2           Baby Bath & Skin  Baby Bath Towels  \n3                  Bed Linen         Bedsheets  \n4                  Bed Linen         Bedsheets  \n...                      ...               ...  \n1045       Baby & Kids Gifts          Stickers  \n1046       Baby & Kids Gifts          Stickers  \n1047       Baby & Kids Gifts          Stickers  \n1048       Baby & Kids Gifts          Stickers  \n1049       Baby & Kids Gifts          Stickers  \n\n[1050 rows x 17 columns]",
      "text/html": "<div>\n<style scoped>\n    .dataframe tbody tr th:only-of-type {\n        vertical-align: middle;\n    }\n\n    .dataframe tbody tr th {\n        vertical-align: top;\n    }\n\n    .dataframe thead th {\n        text-align: right;\n    }\n</style>\n<table border=\"1\" class=\"dataframe\">\n  <thead>\n    <tr style=\"text-align: right;\">\n      <th></th>\n      <th>uniq_id</th>\n      <th>crawl_timestamp</th>\n      <th>product_url</th>\n      <th>product_name</th>\n      <th>pid</th>\n      <th>retail_price</th>\n      <th>discounted_price</th>\n      <th>image</th>\n      <th>is_FK_Advantage_product</th>\n      <th>description</th>\n      <th>product_rating</th>\n      <th>overall_rating</th>\n      <th>brand</th>\n      <th>product_specifications</th>\n      <th>category_1</th>\n      <th>category_2</th>\n      <th>category_3</th>\n    </tr>\n  </thead>\n  <tbody>\n    <tr>\n      <th>0</th>\n      <td>55b85ea15a1536d46b7190ad6fff8ce7</td>\n      <td>2016-04-30 03:22:56 +0000</td>\n      <td>http://www.flipkart.com/elegance-polyester-mul...</td>\n      <td>Elegance Polyester Multicolor Abstract Eyelet ...</td>\n      <td>CRNEG7BKMFFYHQ8Z</td>\n      <td>1899.0</td>\n      <td>899.0</td>\n      <td>55b85ea15a1536d46b7190ad6fff8ce7.jpg</td>\n      <td>False</td>\n      <td>Key Features of Elegance Polyester Multicolor ...</td>\n      <td>No rating available</td>\n      <td>No rating available</td>\n      <td>Elegance</td>\n      <td>{\"product_specification\"=&gt;[{\"key\"=&gt;\"Brand\", \"v...</td>\n      <td>Home Furnishing</td>\n      <td>Curtains &amp; Accessories</td>\n      <td>Curtains</td>\n    </tr>\n    <tr>\n      <th>1</th>\n      <td>7b72c92c2f6c40268628ec5f14c6d590</td>\n      <td>2016-04-30 03:22:56 +0000</td>\n      <td>http://www.flipkart.com/sathiyas-cotton-bath-t...</td>\n      <td>Sathiyas Cotton Bath Towel</td>\n      <td>BTWEGFZHGBXPHZUH</td>\n      <td>600.0</td>\n      <td>449.0</td>\n      <td>7b72c92c2f6c40268628ec5f14c6d590.jpg</td>\n      <td>False</td>\n      <td>Specifications of Sathiyas Cotton Bath Towel (...</td>\n      <td>No rating available</td>\n      <td>No rating available</td>\n      <td>Sathiyas</td>\n      <td>{\"product_specification\"=&gt;[{\"key\"=&gt;\"Machine Wa...</td>\n      <td>Baby Care</td>\n      <td>Baby Bath &amp; Skin</td>\n      <td>Baby Bath Towels</td>\n    </tr>\n    <tr>\n      <th>2</th>\n      <td>64d5d4a258243731dc7bbb1eef49ad74</td>\n      <td>2016-04-30 03:22:56 +0000</td>\n      <td>http://www.flipkart.com/eurospa-cotton-terry-f...</td>\n      <td>Eurospa Cotton Terry Face Towel Set</td>\n      <td>BTWEG6SHXTDB2A2Y</td>\n      <td>NaN</td>\n      <td>NaN</td>\n      <td>64d5d4a258243731dc7bbb1eef49ad74.jpg</td>\n      <td>False</td>\n      <td>Key Features of Eurospa Cotton Terry Face Towe...</td>\n      <td>No rating available</td>\n      <td>No rating available</td>\n      <td>Eurospa</td>\n      <td>{\"product_specification\"=&gt;[{\"key\"=&gt;\"Material\",...</td>\n      <td>Baby Care</td>\n      <td>Baby Bath &amp; Skin</td>\n      <td>Baby Bath Towels</td>\n    </tr>\n    <tr>\n      <th>3</th>\n      <td>d4684dcdc759dd9cdf41504698d737d8</td>\n      <td>2016-06-20 08:49:52 +0000</td>\n      <td>http://www.flipkart.com/santosh-royal-fashion-...</td>\n      <td>SANTOSH ROYAL FASHION Cotton Printed King size...</td>\n      <td>BDSEJT9UQWHDUBH4</td>\n      <td>2699.0</td>\n      <td>1299.0</td>\n      <td>d4684dcdc759dd9cdf41504698d737d8.jpg</td>\n      <td>False</td>\n      <td>Key Features of SANTOSH ROYAL FASHION Cotton P...</td>\n      <td>No rating available</td>\n      <td>No rating available</td>\n      <td>SANTOSH ROYAL FASHION</td>\n      <td>{\"product_specification\"=&gt;[{\"key\"=&gt;\"Brand\", \"v...</td>\n      <td>Home Furnishing</td>\n      <td>Bed Linen</td>\n      <td>Bedsheets</td>\n    </tr>\n    <tr>\n      <th>4</th>\n      <td>6325b6870c54cd47be6ebfbffa620ec7</td>\n      <td>2016-06-20 08:49:52 +0000</td>\n      <td>http://www.flipkart.com/jaipur-print-cotton-fl...</td>\n      <td>Jaipur Print Cotton Floral King sized Double B...</td>\n      <td>BDSEJTHNGWVGWWQU</td>\n      <td>2599.0</td>\n      <td>698.0</td>\n      <td>6325b6870c54cd47be6ebfbffa620ec7.jpg</td>\n      <td>False</td>\n      <td>Key Features of Jaipur Print Cotton Floral Kin...</td>\n      <td>No rating available</td>\n      <td>No rating available</td>\n      <td>Jaipur Print</td>\n      <td>{\"product_specification\"=&gt;[{\"key\"=&gt;\"Machine Wa...</td>\n      <td>Home Furnishing</td>\n      <td>Bed Linen</td>\n      <td>Bedsheets</td>\n    </tr>\n    <tr>\n      <th>...</th>\n      <td>...</td>\n      <td>...</td>\n      <td>...</td>\n      <td>...</td>\n      <td>...</td>\n      <td>...</td>\n      <td>...</td>\n      <td>...</td>\n      <td>...</td>\n      <td>...</td>\n      <td>...</td>\n      <td>...</td>\n      <td>...</td>\n      <td>...</td>\n      <td>...</td>\n      <td>...</td>\n      <td>...</td>\n    </tr>\n    <tr>\n      <th>1045</th>\n      <td>958f54f4c46b53c8a0a9b8167d9140bc</td>\n      <td>2015-12-01 10:15:43 +0000</td>\n      <td>http://www.flipkart.com/oren-empower-extra-lar...</td>\n      <td>Oren Empower Extra Large Self Adhesive Sticker</td>\n      <td>STIE88ZGTX65GH4V</td>\n      <td>1399.0</td>\n      <td>999.0</td>\n      <td>958f54f4c46b53c8a0a9b8167d9140bc.jpg</td>\n      <td>False</td>\n      <td>Oren Empower Extra Large Self Adhesive Sticker...</td>\n      <td>No rating available</td>\n      <td>No rating available</td>\n      <td>Oren Empower</td>\n      <td>{\"product_specification\"=&gt;[{\"key\"=&gt;\"Number of ...</td>\n      <td>Baby Care</td>\n      <td>Baby &amp; Kids Gifts</td>\n      <td>Stickers</td>\n    </tr>\n    <tr>\n      <th>1046</th>\n      <td>fd6cbcc22efb6b761bd564c28928483c</td>\n      <td>2015-12-01 10:15:43 +0000</td>\n      <td>http://www.flipkart.com/wallmantra-large-vinyl...</td>\n      <td>Wallmantra Large Vinyl Sticker Sticker</td>\n      <td>STIEC889ZD5GDCVQ</td>\n      <td>4930.0</td>\n      <td>1896.0</td>\n      <td>fd6cbcc22efb6b761bd564c28928483c.jpg</td>\n      <td>False</td>\n      <td>Wallmantra Large Vinyl Sticker Sticker (Pack o...</td>\n      <td>No rating available</td>\n      <td>No rating available</td>\n      <td>Wallmantra</td>\n      <td>{\"product_specification\"=&gt;[{\"key\"=&gt;\"Number of ...</td>\n      <td>Baby Care</td>\n      <td>Baby &amp; Kids Gifts</td>\n      <td>Stickers</td>\n    </tr>\n    <tr>\n      <th>1047</th>\n      <td>5912e037d12774bb73a2048f35a00009</td>\n      <td>2015-12-01 10:15:43 +0000</td>\n      <td>http://www.flipkart.com/uberlyfe-extra-large-p...</td>\n      <td>Uberlyfe Extra Large Pigmented Polyvinyl Films...</td>\n      <td>STIE5UVGW2JWVWCT</td>\n      <td>4500.0</td>\n      <td>1449.0</td>\n      <td>5912e037d12774bb73a2048f35a00009.jpg</td>\n      <td>False</td>\n      <td>Buy Uberlyfe Extra Large Pigmented Polyvinyl F...</td>\n      <td>No rating available</td>\n      <td>No rating available</td>\n      <td>Uberlyfe</td>\n      <td>{\"product_specification\"=&gt;[{\"key\"=&gt;\"Number of ...</td>\n      <td>Baby Care</td>\n      <td>Baby &amp; Kids Gifts</td>\n      <td>Stickers</td>\n    </tr>\n    <tr>\n      <th>1048</th>\n      <td>c3edc504d1b4f0ba6224fa53a43a7ad6</td>\n      <td>2015-12-01 10:15:43 +0000</td>\n      <td>http://www.flipkart.com/wallmantra-medium-viny...</td>\n      <td>Wallmantra Medium Vinyl Sticker Sticker</td>\n      <td>STIEC889ZGFD3RCE</td>\n      <td>3465.0</td>\n      <td>1333.0</td>\n      <td>c3edc504d1b4f0ba6224fa53a43a7ad6.jpg</td>\n      <td>False</td>\n      <td>Buy Wallmantra Medium Vinyl Sticker Sticker fo...</td>\n      <td>No rating available</td>\n      <td>No rating available</td>\n      <td>Wallmantra</td>\n      <td>{\"product_specification\"=&gt;[{\"key\"=&gt;\"Number of ...</td>\n      <td>Baby Care</td>\n      <td>Baby &amp; Kids Gifts</td>\n      <td>Stickers</td>\n    </tr>\n    <tr>\n      <th>1049</th>\n      <td>f2f027ad6a6df617c9f125173da71e44</td>\n      <td>2015-12-01 10:15:43 +0000</td>\n      <td>http://www.flipkart.com/uberlyfe-large-vinyl-s...</td>\n      <td>Uberlyfe Large Vinyl Sticker</td>\n      <td>STIE2ZEPACRQJKH7</td>\n      <td>1190.0</td>\n      <td>595.0</td>\n      <td>f2f027ad6a6df617c9f125173da71e44.jpg</td>\n      <td>False</td>\n      <td>Buy Uberlyfe Large Vinyl Sticker for Rs.595 on...</td>\n      <td>4</td>\n      <td>4</td>\n      <td>Uberlyfe</td>\n      <td>{\"product_specification\"=&gt;[{\"key\"=&gt;\"Sales Pack...</td>\n      <td>Baby Care</td>\n      <td>Baby &amp; Kids Gifts</td>\n      <td>Stickers</td>\n    </tr>\n  </tbody>\n</table>\n<p>1050 rows × 17 columns</p>\n</div>"
     },
     "execution_count": 106,
     "metadata": {},
     "output_type": "execute_result"
    }
   ],
   "source": [
    "data_v1"
   ],
   "metadata": {
    "collapsed": false,
    "pycharm": {
     "name": "#%%\n"
    }
   }
  },
  {
   "cell_type": "markdown",
   "source": [
    "##### Label Encoding"
   ],
   "metadata": {
    "collapsed": false,
    "pycharm": {
     "name": "#%% md\n"
    }
   }
  },
  {
   "cell_type": "code",
   "execution_count": 107,
   "outputs": [
    {
     "data": {
      "text/plain": "                               uniq_id            crawl_timestamp  \\\n0     55b85ea15a1536d46b7190ad6fff8ce7  2016-04-30 03:22:56 +0000   \n1     7b72c92c2f6c40268628ec5f14c6d590  2016-04-30 03:22:56 +0000   \n2     64d5d4a258243731dc7bbb1eef49ad74  2016-04-30 03:22:56 +0000   \n3     d4684dcdc759dd9cdf41504698d737d8  2016-06-20 08:49:52 +0000   \n4     6325b6870c54cd47be6ebfbffa620ec7  2016-06-20 08:49:52 +0000   \n...                                ...                        ...   \n1045  958f54f4c46b53c8a0a9b8167d9140bc  2015-12-01 10:15:43 +0000   \n1046  fd6cbcc22efb6b761bd564c28928483c  2015-12-01 10:15:43 +0000   \n1047  5912e037d12774bb73a2048f35a00009  2015-12-01 10:15:43 +0000   \n1048  c3edc504d1b4f0ba6224fa53a43a7ad6  2015-12-01 10:15:43 +0000   \n1049  f2f027ad6a6df617c9f125173da71e44  2015-12-01 10:15:43 +0000   \n\n                                            product_url  \\\n0     http://www.flipkart.com/elegance-polyester-mul...   \n1     http://www.flipkart.com/sathiyas-cotton-bath-t...   \n2     http://www.flipkart.com/eurospa-cotton-terry-f...   \n3     http://www.flipkart.com/santosh-royal-fashion-...   \n4     http://www.flipkart.com/jaipur-print-cotton-fl...   \n...                                                 ...   \n1045  http://www.flipkart.com/oren-empower-extra-lar...   \n1046  http://www.flipkart.com/wallmantra-large-vinyl...   \n1047  http://www.flipkart.com/uberlyfe-extra-large-p...   \n1048  http://www.flipkart.com/wallmantra-medium-viny...   \n1049  http://www.flipkart.com/uberlyfe-large-vinyl-s...   \n\n                                           product_name               pid  \\\n0     Elegance Polyester Multicolor Abstract Eyelet ...  CRNEG7BKMFFYHQ8Z   \n1                            Sathiyas Cotton Bath Towel  BTWEGFZHGBXPHZUH   \n2                   Eurospa Cotton Terry Face Towel Set  BTWEG6SHXTDB2A2Y   \n3     SANTOSH ROYAL FASHION Cotton Printed King size...  BDSEJT9UQWHDUBH4   \n4     Jaipur Print Cotton Floral King sized Double B...  BDSEJTHNGWVGWWQU   \n...                                                 ...               ...   \n1045     Oren Empower Extra Large Self Adhesive Sticker  STIE88ZGTX65GH4V   \n1046             Wallmantra Large Vinyl Sticker Sticker  STIEC889ZD5GDCVQ   \n1047  Uberlyfe Extra Large Pigmented Polyvinyl Films...  STIE5UVGW2JWVWCT   \n1048            Wallmantra Medium Vinyl Sticker Sticker  STIEC889ZGFD3RCE   \n1049                       Uberlyfe Large Vinyl Sticker  STIE2ZEPACRQJKH7   \n\n      retail_price  discounted_price                                 image  \\\n0           1899.0             899.0  55b85ea15a1536d46b7190ad6fff8ce7.jpg   \n1            600.0             449.0  7b72c92c2f6c40268628ec5f14c6d590.jpg   \n2              NaN               NaN  64d5d4a258243731dc7bbb1eef49ad74.jpg   \n3           2699.0            1299.0  d4684dcdc759dd9cdf41504698d737d8.jpg   \n4           2599.0             698.0  6325b6870c54cd47be6ebfbffa620ec7.jpg   \n...            ...               ...                                   ...   \n1045        1399.0             999.0  958f54f4c46b53c8a0a9b8167d9140bc.jpg   \n1046        4930.0            1896.0  fd6cbcc22efb6b761bd564c28928483c.jpg   \n1047        4500.0            1449.0  5912e037d12774bb73a2048f35a00009.jpg   \n1048        3465.0            1333.0  c3edc504d1b4f0ba6224fa53a43a7ad6.jpg   \n1049        1190.0             595.0  f2f027ad6a6df617c9f125173da71e44.jpg   \n\n      is_FK_Advantage_product  \\\n0                       False   \n1                       False   \n2                       False   \n3                       False   \n4                       False   \n...                       ...   \n1045                    False   \n1046                    False   \n1047                    False   \n1048                    False   \n1049                    False   \n\n                                            description       product_rating  \\\n0     Key Features of Elegance Polyester Multicolor ...  No rating available   \n1     Specifications of Sathiyas Cotton Bath Towel (...  No rating available   \n2     Key Features of Eurospa Cotton Terry Face Towe...  No rating available   \n3     Key Features of SANTOSH ROYAL FASHION Cotton P...  No rating available   \n4     Key Features of Jaipur Print Cotton Floral Kin...  No rating available   \n...                                                 ...                  ...   \n1045  Oren Empower Extra Large Self Adhesive Sticker...  No rating available   \n1046  Wallmantra Large Vinyl Sticker Sticker (Pack o...  No rating available   \n1047  Buy Uberlyfe Extra Large Pigmented Polyvinyl F...  No rating available   \n1048  Buy Wallmantra Medium Vinyl Sticker Sticker fo...  No rating available   \n1049  Buy Uberlyfe Large Vinyl Sticker for Rs.595 on...                    4   \n\n           overall_rating                  brand  \\\n0     No rating available               Elegance   \n1     No rating available               Sathiyas   \n2     No rating available                Eurospa   \n3     No rating available  SANTOSH ROYAL FASHION   \n4     No rating available           Jaipur Print   \n...                   ...                    ...   \n1045  No rating available           Oren Empower   \n1046  No rating available             Wallmantra   \n1047  No rating available               Uberlyfe   \n1048  No rating available             Wallmantra   \n1049                    4               Uberlyfe   \n\n                                 product_specifications       category_1  \\\n0     {\"product_specification\"=>[{\"key\"=>\"Brand\", \"v...  Home Furnishing   \n1     {\"product_specification\"=>[{\"key\"=>\"Machine Wa...        Baby Care   \n2     {\"product_specification\"=>[{\"key\"=>\"Material\",...        Baby Care   \n3     {\"product_specification\"=>[{\"key\"=>\"Brand\", \"v...  Home Furnishing   \n4     {\"product_specification\"=>[{\"key\"=>\"Machine Wa...  Home Furnishing   \n...                                                 ...              ...   \n1045  {\"product_specification\"=>[{\"key\"=>\"Number of ...        Baby Care   \n1046  {\"product_specification\"=>[{\"key\"=>\"Number of ...        Baby Care   \n1047  {\"product_specification\"=>[{\"key\"=>\"Number of ...        Baby Care   \n1048  {\"product_specification\"=>[{\"key\"=>\"Number of ...        Baby Care   \n1049  {\"product_specification\"=>[{\"key\"=>\"Sales Pack...        Baby Care   \n\n                  category_2        category_3  target  \n0     Curtains & Accessories          Curtains       4  \n1           Baby Bath & Skin  Baby Bath Towels       0  \n2           Baby Bath & Skin  Baby Bath Towels       0  \n3                  Bed Linen         Bedsheets       4  \n4                  Bed Linen         Bedsheets       4  \n...                      ...               ...     ...  \n1045       Baby & Kids Gifts          Stickers       0  \n1046       Baby & Kids Gifts          Stickers       0  \n1047       Baby & Kids Gifts          Stickers       0  \n1048       Baby & Kids Gifts          Stickers       0  \n1049       Baby & Kids Gifts          Stickers       0  \n\n[1050 rows x 18 columns]",
      "text/html": "<div>\n<style scoped>\n    .dataframe tbody tr th:only-of-type {\n        vertical-align: middle;\n    }\n\n    .dataframe tbody tr th {\n        vertical-align: top;\n    }\n\n    .dataframe thead th {\n        text-align: right;\n    }\n</style>\n<table border=\"1\" class=\"dataframe\">\n  <thead>\n    <tr style=\"text-align: right;\">\n      <th></th>\n      <th>uniq_id</th>\n      <th>crawl_timestamp</th>\n      <th>product_url</th>\n      <th>product_name</th>\n      <th>pid</th>\n      <th>retail_price</th>\n      <th>discounted_price</th>\n      <th>image</th>\n      <th>is_FK_Advantage_product</th>\n      <th>description</th>\n      <th>product_rating</th>\n      <th>overall_rating</th>\n      <th>brand</th>\n      <th>product_specifications</th>\n      <th>category_1</th>\n      <th>category_2</th>\n      <th>category_3</th>\n      <th>target</th>\n    </tr>\n  </thead>\n  <tbody>\n    <tr>\n      <th>0</th>\n      <td>55b85ea15a1536d46b7190ad6fff8ce7</td>\n      <td>2016-04-30 03:22:56 +0000</td>\n      <td>http://www.flipkart.com/elegance-polyester-mul...</td>\n      <td>Elegance Polyester Multicolor Abstract Eyelet ...</td>\n      <td>CRNEG7BKMFFYHQ8Z</td>\n      <td>1899.0</td>\n      <td>899.0</td>\n      <td>55b85ea15a1536d46b7190ad6fff8ce7.jpg</td>\n      <td>False</td>\n      <td>Key Features of Elegance Polyester Multicolor ...</td>\n      <td>No rating available</td>\n      <td>No rating available</td>\n      <td>Elegance</td>\n      <td>{\"product_specification\"=&gt;[{\"key\"=&gt;\"Brand\", \"v...</td>\n      <td>Home Furnishing</td>\n      <td>Curtains &amp; Accessories</td>\n      <td>Curtains</td>\n      <td>4</td>\n    </tr>\n    <tr>\n      <th>1</th>\n      <td>7b72c92c2f6c40268628ec5f14c6d590</td>\n      <td>2016-04-30 03:22:56 +0000</td>\n      <td>http://www.flipkart.com/sathiyas-cotton-bath-t...</td>\n      <td>Sathiyas Cotton Bath Towel</td>\n      <td>BTWEGFZHGBXPHZUH</td>\n      <td>600.0</td>\n      <td>449.0</td>\n      <td>7b72c92c2f6c40268628ec5f14c6d590.jpg</td>\n      <td>False</td>\n      <td>Specifications of Sathiyas Cotton Bath Towel (...</td>\n      <td>No rating available</td>\n      <td>No rating available</td>\n      <td>Sathiyas</td>\n      <td>{\"product_specification\"=&gt;[{\"key\"=&gt;\"Machine Wa...</td>\n      <td>Baby Care</td>\n      <td>Baby Bath &amp; Skin</td>\n      <td>Baby Bath Towels</td>\n      <td>0</td>\n    </tr>\n    <tr>\n      <th>2</th>\n      <td>64d5d4a258243731dc7bbb1eef49ad74</td>\n      <td>2016-04-30 03:22:56 +0000</td>\n      <td>http://www.flipkart.com/eurospa-cotton-terry-f...</td>\n      <td>Eurospa Cotton Terry Face Towel Set</td>\n      <td>BTWEG6SHXTDB2A2Y</td>\n      <td>NaN</td>\n      <td>NaN</td>\n      <td>64d5d4a258243731dc7bbb1eef49ad74.jpg</td>\n      <td>False</td>\n      <td>Key Features of Eurospa Cotton Terry Face Towe...</td>\n      <td>No rating available</td>\n      <td>No rating available</td>\n      <td>Eurospa</td>\n      <td>{\"product_specification\"=&gt;[{\"key\"=&gt;\"Material\",...</td>\n      <td>Baby Care</td>\n      <td>Baby Bath &amp; Skin</td>\n      <td>Baby Bath Towels</td>\n      <td>0</td>\n    </tr>\n    <tr>\n      <th>3</th>\n      <td>d4684dcdc759dd9cdf41504698d737d8</td>\n      <td>2016-06-20 08:49:52 +0000</td>\n      <td>http://www.flipkart.com/santosh-royal-fashion-...</td>\n      <td>SANTOSH ROYAL FASHION Cotton Printed King size...</td>\n      <td>BDSEJT9UQWHDUBH4</td>\n      <td>2699.0</td>\n      <td>1299.0</td>\n      <td>d4684dcdc759dd9cdf41504698d737d8.jpg</td>\n      <td>False</td>\n      <td>Key Features of SANTOSH ROYAL FASHION Cotton P...</td>\n      <td>No rating available</td>\n      <td>No rating available</td>\n      <td>SANTOSH ROYAL FASHION</td>\n      <td>{\"product_specification\"=&gt;[{\"key\"=&gt;\"Brand\", \"v...</td>\n      <td>Home Furnishing</td>\n      <td>Bed Linen</td>\n      <td>Bedsheets</td>\n      <td>4</td>\n    </tr>\n    <tr>\n      <th>4</th>\n      <td>6325b6870c54cd47be6ebfbffa620ec7</td>\n      <td>2016-06-20 08:49:52 +0000</td>\n      <td>http://www.flipkart.com/jaipur-print-cotton-fl...</td>\n      <td>Jaipur Print Cotton Floral King sized Double B...</td>\n      <td>BDSEJTHNGWVGWWQU</td>\n      <td>2599.0</td>\n      <td>698.0</td>\n      <td>6325b6870c54cd47be6ebfbffa620ec7.jpg</td>\n      <td>False</td>\n      <td>Key Features of Jaipur Print Cotton Floral Kin...</td>\n      <td>No rating available</td>\n      <td>No rating available</td>\n      <td>Jaipur Print</td>\n      <td>{\"product_specification\"=&gt;[{\"key\"=&gt;\"Machine Wa...</td>\n      <td>Home Furnishing</td>\n      <td>Bed Linen</td>\n      <td>Bedsheets</td>\n      <td>4</td>\n    </tr>\n    <tr>\n      <th>...</th>\n      <td>...</td>\n      <td>...</td>\n      <td>...</td>\n      <td>...</td>\n      <td>...</td>\n      <td>...</td>\n      <td>...</td>\n      <td>...</td>\n      <td>...</td>\n      <td>...</td>\n      <td>...</td>\n      <td>...</td>\n      <td>...</td>\n      <td>...</td>\n      <td>...</td>\n      <td>...</td>\n      <td>...</td>\n      <td>...</td>\n    </tr>\n    <tr>\n      <th>1045</th>\n      <td>958f54f4c46b53c8a0a9b8167d9140bc</td>\n      <td>2015-12-01 10:15:43 +0000</td>\n      <td>http://www.flipkart.com/oren-empower-extra-lar...</td>\n      <td>Oren Empower Extra Large Self Adhesive Sticker</td>\n      <td>STIE88ZGTX65GH4V</td>\n      <td>1399.0</td>\n      <td>999.0</td>\n      <td>958f54f4c46b53c8a0a9b8167d9140bc.jpg</td>\n      <td>False</td>\n      <td>Oren Empower Extra Large Self Adhesive Sticker...</td>\n      <td>No rating available</td>\n      <td>No rating available</td>\n      <td>Oren Empower</td>\n      <td>{\"product_specification\"=&gt;[{\"key\"=&gt;\"Number of ...</td>\n      <td>Baby Care</td>\n      <td>Baby &amp; Kids Gifts</td>\n      <td>Stickers</td>\n      <td>0</td>\n    </tr>\n    <tr>\n      <th>1046</th>\n      <td>fd6cbcc22efb6b761bd564c28928483c</td>\n      <td>2015-12-01 10:15:43 +0000</td>\n      <td>http://www.flipkart.com/wallmantra-large-vinyl...</td>\n      <td>Wallmantra Large Vinyl Sticker Sticker</td>\n      <td>STIEC889ZD5GDCVQ</td>\n      <td>4930.0</td>\n      <td>1896.0</td>\n      <td>fd6cbcc22efb6b761bd564c28928483c.jpg</td>\n      <td>False</td>\n      <td>Wallmantra Large Vinyl Sticker Sticker (Pack o...</td>\n      <td>No rating available</td>\n      <td>No rating available</td>\n      <td>Wallmantra</td>\n      <td>{\"product_specification\"=&gt;[{\"key\"=&gt;\"Number of ...</td>\n      <td>Baby Care</td>\n      <td>Baby &amp; Kids Gifts</td>\n      <td>Stickers</td>\n      <td>0</td>\n    </tr>\n    <tr>\n      <th>1047</th>\n      <td>5912e037d12774bb73a2048f35a00009</td>\n      <td>2015-12-01 10:15:43 +0000</td>\n      <td>http://www.flipkart.com/uberlyfe-extra-large-p...</td>\n      <td>Uberlyfe Extra Large Pigmented Polyvinyl Films...</td>\n      <td>STIE5UVGW2JWVWCT</td>\n      <td>4500.0</td>\n      <td>1449.0</td>\n      <td>5912e037d12774bb73a2048f35a00009.jpg</td>\n      <td>False</td>\n      <td>Buy Uberlyfe Extra Large Pigmented Polyvinyl F...</td>\n      <td>No rating available</td>\n      <td>No rating available</td>\n      <td>Uberlyfe</td>\n      <td>{\"product_specification\"=&gt;[{\"key\"=&gt;\"Number of ...</td>\n      <td>Baby Care</td>\n      <td>Baby &amp; Kids Gifts</td>\n      <td>Stickers</td>\n      <td>0</td>\n    </tr>\n    <tr>\n      <th>1048</th>\n      <td>c3edc504d1b4f0ba6224fa53a43a7ad6</td>\n      <td>2015-12-01 10:15:43 +0000</td>\n      <td>http://www.flipkart.com/wallmantra-medium-viny...</td>\n      <td>Wallmantra Medium Vinyl Sticker Sticker</td>\n      <td>STIEC889ZGFD3RCE</td>\n      <td>3465.0</td>\n      <td>1333.0</td>\n      <td>c3edc504d1b4f0ba6224fa53a43a7ad6.jpg</td>\n      <td>False</td>\n      <td>Buy Wallmantra Medium Vinyl Sticker Sticker fo...</td>\n      <td>No rating available</td>\n      <td>No rating available</td>\n      <td>Wallmantra</td>\n      <td>{\"product_specification\"=&gt;[{\"key\"=&gt;\"Number of ...</td>\n      <td>Baby Care</td>\n      <td>Baby &amp; Kids Gifts</td>\n      <td>Stickers</td>\n      <td>0</td>\n    </tr>\n    <tr>\n      <th>1049</th>\n      <td>f2f027ad6a6df617c9f125173da71e44</td>\n      <td>2015-12-01 10:15:43 +0000</td>\n      <td>http://www.flipkart.com/uberlyfe-large-vinyl-s...</td>\n      <td>Uberlyfe Large Vinyl Sticker</td>\n      <td>STIE2ZEPACRQJKH7</td>\n      <td>1190.0</td>\n      <td>595.0</td>\n      <td>f2f027ad6a6df617c9f125173da71e44.jpg</td>\n      <td>False</td>\n      <td>Buy Uberlyfe Large Vinyl Sticker for Rs.595 on...</td>\n      <td>4</td>\n      <td>4</td>\n      <td>Uberlyfe</td>\n      <td>{\"product_specification\"=&gt;[{\"key\"=&gt;\"Sales Pack...</td>\n      <td>Baby Care</td>\n      <td>Baby &amp; Kids Gifts</td>\n      <td>Stickers</td>\n      <td>0</td>\n    </tr>\n  </tbody>\n</table>\n<p>1050 rows × 18 columns</p>\n</div>"
     },
     "execution_count": 107,
     "metadata": {},
     "output_type": "execute_result"
    }
   ],
   "source": [
    "label_encoder = LabelEncoder()\n",
    "\n",
    "data_v2 = data_v1.copy()\n",
    "data_v2[\"target\"] = label_encoder.fit_transform(data_v2[\"category_1\"])\n",
    "data_v2"
   ],
   "metadata": {
    "collapsed": false,
    "pycharm": {
     "name": "#%%\n"
    }
   }
  },
  {
   "cell_type": "code",
   "execution_count": 108,
   "outputs": [],
   "source": [
    "data_cleaned = data_v2.copy()\n",
    "data_cleaned.to_csv(output_path + \"data_cleaned.csv\", index=False, sep=',')"
   ],
   "metadata": {
    "collapsed": false,
    "pycharm": {
     "name": "#%%\n"
    }
   }
  },
  {
   "cell_type": "code",
   "execution_count": 109,
   "outputs": [],
   "source": [
    "data_text = data_v2[[\"description\", \"category_1\", \"target\"]]\n",
    "data_text = data_text.rename(columns={\"description\": \"text\", \"category_1\": \"category\"})\n",
    "\n",
    "data_images = data_v2[[\"image\", \"category_1\", \"target\"]]\n",
    "data_images = data_images.rename(columns={\"image\": \"image_path\", \"category_1\": \"category\"})\n"
   ],
   "metadata": {
    "collapsed": false,
    "pycharm": {
     "name": "#%%\n"
    }
   }
  },
  {
   "cell_type": "code",
   "execution_count": 110,
   "outputs": [],
   "source": [
    "data_text.to_csv(output_path + \"data_text.csv\", index=False, sep=',')\n",
    "data_images.to_csv(output_path + \"data_images.csv\", index=False, sep=',')"
   ],
   "metadata": {
    "collapsed": false,
    "pycharm": {
     "name": "#%%\n"
    }
   }
  },
  {
   "cell_type": "code",
   "execution_count": 110,
   "outputs": [],
   "source": [],
   "metadata": {
    "collapsed": false,
    "pycharm": {
     "name": "#%%\n"
    }
   }
  },
  {
   "cell_type": "markdown",
   "source": [
    "### 2) Exploration"
   ],
   "metadata": {
    "collapsed": false,
    "pycharm": {
     "name": "#%% md\n"
    }
   }
  },
  {
   "cell_type": "code",
   "execution_count": 111,
   "outputs": [],
   "source": [
    "data_cleaned = pd.read_csv(output_path + \"data_cleaned.csv\")\n",
    "data_text = pd.read_csv(output_path + \"data_text.csv\")\n",
    "data_images = pd.read_csv(output_path + \"data_images.csv\")"
   ],
   "metadata": {
    "collapsed": false,
    "pycharm": {
     "name": "#%%\n"
    }
   }
  },
  {
   "cell_type": "code",
   "execution_count": 112,
   "outputs": [
    {
     "data": {
      "text/plain": "                            uniq_id            crawl_timestamp  \\\n0  55b85ea15a1536d46b7190ad6fff8ce7  2016-04-30 03:22:56 +0000   \n1  7b72c92c2f6c40268628ec5f14c6d590  2016-04-30 03:22:56 +0000   \n2  64d5d4a258243731dc7bbb1eef49ad74  2016-04-30 03:22:56 +0000   \n3  d4684dcdc759dd9cdf41504698d737d8  2016-06-20 08:49:52 +0000   \n4  6325b6870c54cd47be6ebfbffa620ec7  2016-06-20 08:49:52 +0000   \n\n                                         product_url  \\\n0  http://www.flipkart.com/elegance-polyester-mul...   \n1  http://www.flipkart.com/sathiyas-cotton-bath-t...   \n2  http://www.flipkart.com/eurospa-cotton-terry-f...   \n3  http://www.flipkart.com/santosh-royal-fashion-...   \n4  http://www.flipkart.com/jaipur-print-cotton-fl...   \n\n                                        product_name               pid  \\\n0  Elegance Polyester Multicolor Abstract Eyelet ...  CRNEG7BKMFFYHQ8Z   \n1                         Sathiyas Cotton Bath Towel  BTWEGFZHGBXPHZUH   \n2                Eurospa Cotton Terry Face Towel Set  BTWEG6SHXTDB2A2Y   \n3  SANTOSH ROYAL FASHION Cotton Printed King size...  BDSEJT9UQWHDUBH4   \n4  Jaipur Print Cotton Floral King sized Double B...  BDSEJTHNGWVGWWQU   \n\n   retail_price  discounted_price                                 image  \\\n0        1899.0             899.0  55b85ea15a1536d46b7190ad6fff8ce7.jpg   \n1         600.0             449.0  7b72c92c2f6c40268628ec5f14c6d590.jpg   \n2           NaN               NaN  64d5d4a258243731dc7bbb1eef49ad74.jpg   \n3        2699.0            1299.0  d4684dcdc759dd9cdf41504698d737d8.jpg   \n4        2599.0             698.0  6325b6870c54cd47be6ebfbffa620ec7.jpg   \n\n   is_FK_Advantage_product                                        description  \\\n0                    False  Key Features of Elegance Polyester Multicolor ...   \n1                    False  Specifications of Sathiyas Cotton Bath Towel (...   \n2                    False  Key Features of Eurospa Cotton Terry Face Towe...   \n3                    False  Key Features of SANTOSH ROYAL FASHION Cotton P...   \n4                    False  Key Features of Jaipur Print Cotton Floral Kin...   \n\n        product_rating       overall_rating                  brand  \\\n0  No rating available  No rating available               Elegance   \n1  No rating available  No rating available               Sathiyas   \n2  No rating available  No rating available                Eurospa   \n3  No rating available  No rating available  SANTOSH ROYAL FASHION   \n4  No rating available  No rating available           Jaipur Print   \n\n                              product_specifications       category_1  \\\n0  {\"product_specification\"=>[{\"key\"=>\"Brand\", \"v...  Home Furnishing   \n1  {\"product_specification\"=>[{\"key\"=>\"Machine Wa...        Baby Care   \n2  {\"product_specification\"=>[{\"key\"=>\"Material\",...        Baby Care   \n3  {\"product_specification\"=>[{\"key\"=>\"Brand\", \"v...  Home Furnishing   \n4  {\"product_specification\"=>[{\"key\"=>\"Machine Wa...  Home Furnishing   \n\n               category_2        category_3  target  \n0  Curtains & Accessories          Curtains       4  \n1        Baby Bath & Skin  Baby Bath Towels       0  \n2        Baby Bath & Skin  Baby Bath Towels       0  \n3               Bed Linen         Bedsheets       4  \n4               Bed Linen         Bedsheets       4  ",
      "text/html": "<div>\n<style scoped>\n    .dataframe tbody tr th:only-of-type {\n        vertical-align: middle;\n    }\n\n    .dataframe tbody tr th {\n        vertical-align: top;\n    }\n\n    .dataframe thead th {\n        text-align: right;\n    }\n</style>\n<table border=\"1\" class=\"dataframe\">\n  <thead>\n    <tr style=\"text-align: right;\">\n      <th></th>\n      <th>uniq_id</th>\n      <th>crawl_timestamp</th>\n      <th>product_url</th>\n      <th>product_name</th>\n      <th>pid</th>\n      <th>retail_price</th>\n      <th>discounted_price</th>\n      <th>image</th>\n      <th>is_FK_Advantage_product</th>\n      <th>description</th>\n      <th>product_rating</th>\n      <th>overall_rating</th>\n      <th>brand</th>\n      <th>product_specifications</th>\n      <th>category_1</th>\n      <th>category_2</th>\n      <th>category_3</th>\n      <th>target</th>\n    </tr>\n  </thead>\n  <tbody>\n    <tr>\n      <th>0</th>\n      <td>55b85ea15a1536d46b7190ad6fff8ce7</td>\n      <td>2016-04-30 03:22:56 +0000</td>\n      <td>http://www.flipkart.com/elegance-polyester-mul...</td>\n      <td>Elegance Polyester Multicolor Abstract Eyelet ...</td>\n      <td>CRNEG7BKMFFYHQ8Z</td>\n      <td>1899.0</td>\n      <td>899.0</td>\n      <td>55b85ea15a1536d46b7190ad6fff8ce7.jpg</td>\n      <td>False</td>\n      <td>Key Features of Elegance Polyester Multicolor ...</td>\n      <td>No rating available</td>\n      <td>No rating available</td>\n      <td>Elegance</td>\n      <td>{\"product_specification\"=&gt;[{\"key\"=&gt;\"Brand\", \"v...</td>\n      <td>Home Furnishing</td>\n      <td>Curtains &amp; Accessories</td>\n      <td>Curtains</td>\n      <td>4</td>\n    </tr>\n    <tr>\n      <th>1</th>\n      <td>7b72c92c2f6c40268628ec5f14c6d590</td>\n      <td>2016-04-30 03:22:56 +0000</td>\n      <td>http://www.flipkart.com/sathiyas-cotton-bath-t...</td>\n      <td>Sathiyas Cotton Bath Towel</td>\n      <td>BTWEGFZHGBXPHZUH</td>\n      <td>600.0</td>\n      <td>449.0</td>\n      <td>7b72c92c2f6c40268628ec5f14c6d590.jpg</td>\n      <td>False</td>\n      <td>Specifications of Sathiyas Cotton Bath Towel (...</td>\n      <td>No rating available</td>\n      <td>No rating available</td>\n      <td>Sathiyas</td>\n      <td>{\"product_specification\"=&gt;[{\"key\"=&gt;\"Machine Wa...</td>\n      <td>Baby Care</td>\n      <td>Baby Bath &amp; Skin</td>\n      <td>Baby Bath Towels</td>\n      <td>0</td>\n    </tr>\n    <tr>\n      <th>2</th>\n      <td>64d5d4a258243731dc7bbb1eef49ad74</td>\n      <td>2016-04-30 03:22:56 +0000</td>\n      <td>http://www.flipkart.com/eurospa-cotton-terry-f...</td>\n      <td>Eurospa Cotton Terry Face Towel Set</td>\n      <td>BTWEG6SHXTDB2A2Y</td>\n      <td>NaN</td>\n      <td>NaN</td>\n      <td>64d5d4a258243731dc7bbb1eef49ad74.jpg</td>\n      <td>False</td>\n      <td>Key Features of Eurospa Cotton Terry Face Towe...</td>\n      <td>No rating available</td>\n      <td>No rating available</td>\n      <td>Eurospa</td>\n      <td>{\"product_specification\"=&gt;[{\"key\"=&gt;\"Material\",...</td>\n      <td>Baby Care</td>\n      <td>Baby Bath &amp; Skin</td>\n      <td>Baby Bath Towels</td>\n      <td>0</td>\n    </tr>\n    <tr>\n      <th>3</th>\n      <td>d4684dcdc759dd9cdf41504698d737d8</td>\n      <td>2016-06-20 08:49:52 +0000</td>\n      <td>http://www.flipkart.com/santosh-royal-fashion-...</td>\n      <td>SANTOSH ROYAL FASHION Cotton Printed King size...</td>\n      <td>BDSEJT9UQWHDUBH4</td>\n      <td>2699.0</td>\n      <td>1299.0</td>\n      <td>d4684dcdc759dd9cdf41504698d737d8.jpg</td>\n      <td>False</td>\n      <td>Key Features of SANTOSH ROYAL FASHION Cotton P...</td>\n      <td>No rating available</td>\n      <td>No rating available</td>\n      <td>SANTOSH ROYAL FASHION</td>\n      <td>{\"product_specification\"=&gt;[{\"key\"=&gt;\"Brand\", \"v...</td>\n      <td>Home Furnishing</td>\n      <td>Bed Linen</td>\n      <td>Bedsheets</td>\n      <td>4</td>\n    </tr>\n    <tr>\n      <th>4</th>\n      <td>6325b6870c54cd47be6ebfbffa620ec7</td>\n      <td>2016-06-20 08:49:52 +0000</td>\n      <td>http://www.flipkart.com/jaipur-print-cotton-fl...</td>\n      <td>Jaipur Print Cotton Floral King sized Double B...</td>\n      <td>BDSEJTHNGWVGWWQU</td>\n      <td>2599.0</td>\n      <td>698.0</td>\n      <td>6325b6870c54cd47be6ebfbffa620ec7.jpg</td>\n      <td>False</td>\n      <td>Key Features of Jaipur Print Cotton Floral Kin...</td>\n      <td>No rating available</td>\n      <td>No rating available</td>\n      <td>Jaipur Print</td>\n      <td>{\"product_specification\"=&gt;[{\"key\"=&gt;\"Machine Wa...</td>\n      <td>Home Furnishing</td>\n      <td>Bed Linen</td>\n      <td>Bedsheets</td>\n      <td>4</td>\n    </tr>\n  </tbody>\n</table>\n</div>"
     },
     "execution_count": 112,
     "metadata": {},
     "output_type": "execute_result"
    }
   ],
   "source": [
    "data_cleaned.head()"
   ],
   "metadata": {
    "collapsed": false,
    "pycharm": {
     "name": "#%%\n"
    }
   }
  },
  {
   "cell_type": "code",
   "execution_count": 113,
   "outputs": [
    {
     "data": {
      "text/plain": "                                                text         category  target\n0  Key Features of Elegance Polyester Multicolor ...  Home Furnishing       4\n1  Specifications of Sathiyas Cotton Bath Towel (...        Baby Care       0\n2  Key Features of Eurospa Cotton Terry Face Towe...        Baby Care       0\n3  Key Features of SANTOSH ROYAL FASHION Cotton P...  Home Furnishing       4\n4  Key Features of Jaipur Print Cotton Floral Kin...  Home Furnishing       4",
      "text/html": "<div>\n<style scoped>\n    .dataframe tbody tr th:only-of-type {\n        vertical-align: middle;\n    }\n\n    .dataframe tbody tr th {\n        vertical-align: top;\n    }\n\n    .dataframe thead th {\n        text-align: right;\n    }\n</style>\n<table border=\"1\" class=\"dataframe\">\n  <thead>\n    <tr style=\"text-align: right;\">\n      <th></th>\n      <th>text</th>\n      <th>category</th>\n      <th>target</th>\n    </tr>\n  </thead>\n  <tbody>\n    <tr>\n      <th>0</th>\n      <td>Key Features of Elegance Polyester Multicolor ...</td>\n      <td>Home Furnishing</td>\n      <td>4</td>\n    </tr>\n    <tr>\n      <th>1</th>\n      <td>Specifications of Sathiyas Cotton Bath Towel (...</td>\n      <td>Baby Care</td>\n      <td>0</td>\n    </tr>\n    <tr>\n      <th>2</th>\n      <td>Key Features of Eurospa Cotton Terry Face Towe...</td>\n      <td>Baby Care</td>\n      <td>0</td>\n    </tr>\n    <tr>\n      <th>3</th>\n      <td>Key Features of SANTOSH ROYAL FASHION Cotton P...</td>\n      <td>Home Furnishing</td>\n      <td>4</td>\n    </tr>\n    <tr>\n      <th>4</th>\n      <td>Key Features of Jaipur Print Cotton Floral Kin...</td>\n      <td>Home Furnishing</td>\n      <td>4</td>\n    </tr>\n  </tbody>\n</table>\n</div>"
     },
     "execution_count": 113,
     "metadata": {},
     "output_type": "execute_result"
    }
   ],
   "source": [
    "data_text.head()"
   ],
   "metadata": {
    "collapsed": false,
    "pycharm": {
     "name": "#%%\n"
    }
   }
  },
  {
   "cell_type": "code",
   "execution_count": 114,
   "outputs": [
    {
     "data": {
      "text/plain": "                             image_path         category  target\n0  55b85ea15a1536d46b7190ad6fff8ce7.jpg  Home Furnishing       4\n1  7b72c92c2f6c40268628ec5f14c6d590.jpg        Baby Care       0\n2  64d5d4a258243731dc7bbb1eef49ad74.jpg        Baby Care       0\n3  d4684dcdc759dd9cdf41504698d737d8.jpg  Home Furnishing       4\n4  6325b6870c54cd47be6ebfbffa620ec7.jpg  Home Furnishing       4",
      "text/html": "<div>\n<style scoped>\n    .dataframe tbody tr th:only-of-type {\n        vertical-align: middle;\n    }\n\n    .dataframe tbody tr th {\n        vertical-align: top;\n    }\n\n    .dataframe thead th {\n        text-align: right;\n    }\n</style>\n<table border=\"1\" class=\"dataframe\">\n  <thead>\n    <tr style=\"text-align: right;\">\n      <th></th>\n      <th>image_path</th>\n      <th>category</th>\n      <th>target</th>\n    </tr>\n  </thead>\n  <tbody>\n    <tr>\n      <th>0</th>\n      <td>55b85ea15a1536d46b7190ad6fff8ce7.jpg</td>\n      <td>Home Furnishing</td>\n      <td>4</td>\n    </tr>\n    <tr>\n      <th>1</th>\n      <td>7b72c92c2f6c40268628ec5f14c6d590.jpg</td>\n      <td>Baby Care</td>\n      <td>0</td>\n    </tr>\n    <tr>\n      <th>2</th>\n      <td>64d5d4a258243731dc7bbb1eef49ad74.jpg</td>\n      <td>Baby Care</td>\n      <td>0</td>\n    </tr>\n    <tr>\n      <th>3</th>\n      <td>d4684dcdc759dd9cdf41504698d737d8.jpg</td>\n      <td>Home Furnishing</td>\n      <td>4</td>\n    </tr>\n    <tr>\n      <th>4</th>\n      <td>6325b6870c54cd47be6ebfbffa620ec7.jpg</td>\n      <td>Home Furnishing</td>\n      <td>4</td>\n    </tr>\n  </tbody>\n</table>\n</div>"
     },
     "execution_count": 114,
     "metadata": {},
     "output_type": "execute_result"
    }
   ],
   "source": [
    "data_images.head()"
   ],
   "metadata": {
    "collapsed": false,
    "pycharm": {
     "name": "#%%\n"
    }
   }
  },
  {
   "cell_type": "code",
   "execution_count": 115,
   "outputs": [
    {
     "data": {
      "text/plain": "0    [\"Home Furnishing >> Curtains & Accessories >>...\n1    [\"Baby Care >> Baby Bath & Skin >> Baby Bath T...\n2    [\"Baby Care >> Baby Bath & Skin >> Baby Bath T...\n3    [\"Home Furnishing >> Bed Linen >> Bedsheets >>...\n4    [\"Home Furnishing >> Bed Linen >> Bedsheets >>...\nName: product_category_tree, dtype: object"
     },
     "execution_count": 115,
     "metadata": {},
     "output_type": "execute_result"
    }
   ],
   "source": [
    "#pd.set_option('max_colwidth', None)\n",
    "raw_data[\"product_category_tree\"].head()"
   ],
   "metadata": {
    "collapsed": false,
    "pycharm": {
     "name": "#%%\n"
    }
   }
  },
  {
   "cell_type": "code",
   "execution_count": 116,
   "outputs": [
    {
     "data": {
      "text/plain": "0    {\"product_specification\"=>[{\"key\"=>\"Brand\", \"v...\n1    {\"product_specification\"=>[{\"key\"=>\"Machine Wa...\n2    {\"product_specification\"=>[{\"key\"=>\"Material\",...\n3    {\"product_specification\"=>[{\"key\"=>\"Brand\", \"v...\n4    {\"product_specification\"=>[{\"key\"=>\"Machine Wa...\nName: product_specifications, dtype: object"
     },
     "execution_count": 116,
     "metadata": {},
     "output_type": "execute_result"
    }
   ],
   "source": [
    "raw_data[\"product_specifications\"].head()"
   ],
   "metadata": {
    "collapsed": false,
    "pycharm": {
     "name": "#%%\n"
    }
   }
  },
  {
   "cell_type": "code",
   "execution_count": 116,
   "outputs": [],
   "source": [],
   "metadata": {
    "collapsed": false,
    "pycharm": {
     "name": "#%%\n"
    }
   }
  },
  {
   "cell_type": "code",
   "execution_count": 116,
   "outputs": [],
   "source": [],
   "metadata": {
    "collapsed": false,
    "pycharm": {
     "name": "#%%\n"
    }
   }
  },
  {
   "cell_type": "code",
   "execution_count": 116,
   "outputs": [],
   "source": [],
   "metadata": {
    "collapsed": false,
    "pycharm": {
     "name": "#%%\n"
    }
   }
  },
  {
   "cell_type": "code",
   "execution_count": 117,
   "outputs": [
    {
     "name": "stdout",
     "output_type": "stream",
     "text": [
      "computing time : 1.008809 sec\n",
      "computing time : 00:00:01\n"
     ]
    }
   ],
   "source": [
    "# End of notebook time\n",
    "t1 = time()\n",
    "print(\"computing time : {:8.6f} sec\".format(t1 - t0))\n",
    "print(\"computing time : \" + strftime('%H:%M:%S', gmtime(t1 - t0)))"
   ],
   "metadata": {
    "collapsed": false,
    "pycharm": {
     "name": "#%%\n"
    }
   }
  }
 ],
 "metadata": {
  "kernelspec": {
   "display_name": "Python 3",
   "language": "python",
   "name": "python3"
  },
  "language_info": {
   "codemirror_mode": {
    "name": "ipython",
    "version": 2
   },
   "file_extension": ".py",
   "mimetype": "text/x-python",
   "name": "python",
   "nbconvert_exporter": "python",
   "pygments_lexer": "ipython2",
   "version": "2.7.6"
  }
 },
 "nbformat": 4,
 "nbformat_minor": 0
}