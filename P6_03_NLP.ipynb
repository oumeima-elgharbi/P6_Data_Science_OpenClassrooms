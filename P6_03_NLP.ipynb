{
 "cells": [
  {
   "cell_type": "markdown",
   "source": [
    "- OpenClassrooms Project 6, Data Scientist\n",
    "- Author : Oumeima EL GHARBI\n",
    "- Date : October, November 2022"
   ],
   "metadata": {
    "collapsed": false,
    "pycharm": {
     "name": "#%% md\n"
    }
   }
  },
  {
   "cell_type": "markdown",
   "source": [
    "### Importing libraries"
   ],
   "metadata": {
    "collapsed": false,
    "pycharm": {
     "name": "#%% md\n"
    }
   }
  },
  {
   "cell_type": "code",
   "execution_count": 1,
   "outputs": [
    {
     "data": {
      "application/javascript": "IPython.notebook.set_autosave_interval(300000)"
     },
     "metadata": {},
     "output_type": "display_data"
    },
    {
     "name": "stdout",
     "output_type": "stream",
     "text": [
      "Autosaving every 300 seconds\n"
     ]
    }
   ],
   "source": [
    "import pandas as pd\n",
    "%reset -f\n",
    "\n",
    "import warnings\n",
    "warnings.filterwarnings(action=\"ignore\")\n",
    "\n",
    "from preprocess_NLP import *\n",
    "from common_graphs import *\n",
    "\n",
    "import tensorflow as tf\n",
    "\n",
    "\n",
    "\n",
    "from os import listdir\n",
    "from os.path import isfile, join\n",
    "import os\n",
    "\n",
    "# NLP\n",
    "import nltk\n",
    "from nltk.stem import WordNetLemmatizer, PorterStemmer\n",
    "from nltk.tokenize import word_tokenize, wordpunct_tokenize\n",
    "from nltk.corpus import words\n",
    "from nltk.corpus import stopwords\n",
    "from nltk.tokenize import RegexpTokenizer\n",
    "\n",
    "# import spacy\n",
    "\n",
    "# visualization\n",
    "import seaborn as sns\n",
    "import matplotlib.pyplot as plt\n",
    "from wordcloud import WordCloud ### WARNINGS !!\n",
    "from PIL import Image\n",
    "\n",
    "from pandarallel import pandarallel\n",
    "\n",
    "%matplotlib inline\n",
    "%autosave 300"
   ],
   "metadata": {
    "collapsed": false,
    "pycharm": {
     "name": "#%%\n"
    }
   }
  },
  {
   "cell_type": "code",
   "execution_count": 2,
   "outputs": [],
   "source": [
    "# Starting time\n",
    "t0 = time()\n",
    "\n",
    "input_path = \"./dataset/cleaned/\"\n",
    "input_filename = \"data_text.csv\"\n",
    "input_file = \"{}{}\".format(input_path, input_filename)\n",
    "\n",
    "output_path = \"./dataset/cleaned/\""
   ],
   "metadata": {
    "collapsed": false,
    "pycharm": {
     "name": "#%%\n"
    }
   }
  },
  {
   "cell_type": "markdown",
   "source": [
    "## Part I : Exploratory Data Analysis"
   ],
   "metadata": {
    "collapsed": false,
    "pycharm": {
     "name": "#%% md\n"
    }
   }
  },
  {
   "cell_type": "markdown",
   "source": [
    "##### General overview"
   ],
   "metadata": {
    "collapsed": false,
    "pycharm": {
     "name": "#%% md\n"
    }
   }
  },
  {
   "cell_type": "code",
   "execution_count": 3,
   "outputs": [],
   "source": [
    "data_text = pd.read_csv(input_file)"
   ],
   "metadata": {
    "collapsed": false,
    "pycharm": {
     "name": "#%%\n"
    }
   }
  },
  {
   "cell_type": "code",
   "execution_count": 4,
   "outputs": [
    {
     "data": {
      "text/plain": "                                        product_name  \\\n0  Elegance Polyester Multicolor Abstract Eyelet ...   \n1                         Sathiyas Cotton Bath Towel   \n2                Eurospa Cotton Terry Face Towel Set   \n3  SANTOSH ROYAL FASHION Cotton Printed King size...   \n4  Jaipur Print Cotton Floral King sized Double B...   \n\n                                                text         category  target  \n0  Key Features of Elegance Polyester Multicolor ...  Home Furnishing       4  \n1  Specifications of Sathiyas Cotton Bath Towel (...        Baby Care       0  \n2  Key Features of Eurospa Cotton Terry Face Towe...        Baby Care       0  \n3  Key Features of SANTOSH ROYAL FASHION Cotton P...  Home Furnishing       4  \n4  Key Features of Jaipur Print Cotton Floral Kin...  Home Furnishing       4  ",
      "text/html": "<div>\n<style scoped>\n    .dataframe tbody tr th:only-of-type {\n        vertical-align: middle;\n    }\n\n    .dataframe tbody tr th {\n        vertical-align: top;\n    }\n\n    .dataframe thead th {\n        text-align: right;\n    }\n</style>\n<table border=\"1\" class=\"dataframe\">\n  <thead>\n    <tr style=\"text-align: right;\">\n      <th></th>\n      <th>product_name</th>\n      <th>text</th>\n      <th>category</th>\n      <th>target</th>\n    </tr>\n  </thead>\n  <tbody>\n    <tr>\n      <th>0</th>\n      <td>Elegance Polyester Multicolor Abstract Eyelet ...</td>\n      <td>Key Features of Elegance Polyester Multicolor ...</td>\n      <td>Home Furnishing</td>\n      <td>4</td>\n    </tr>\n    <tr>\n      <th>1</th>\n      <td>Sathiyas Cotton Bath Towel</td>\n      <td>Specifications of Sathiyas Cotton Bath Towel (...</td>\n      <td>Baby Care</td>\n      <td>0</td>\n    </tr>\n    <tr>\n      <th>2</th>\n      <td>Eurospa Cotton Terry Face Towel Set</td>\n      <td>Key Features of Eurospa Cotton Terry Face Towe...</td>\n      <td>Baby Care</td>\n      <td>0</td>\n    </tr>\n    <tr>\n      <th>3</th>\n      <td>SANTOSH ROYAL FASHION Cotton Printed King size...</td>\n      <td>Key Features of SANTOSH ROYAL FASHION Cotton P...</td>\n      <td>Home Furnishing</td>\n      <td>4</td>\n    </tr>\n    <tr>\n      <th>4</th>\n      <td>Jaipur Print Cotton Floral King sized Double B...</td>\n      <td>Key Features of Jaipur Print Cotton Floral Kin...</td>\n      <td>Home Furnishing</td>\n      <td>4</td>\n    </tr>\n  </tbody>\n</table>\n</div>"
     },
     "execution_count": 4,
     "metadata": {},
     "output_type": "execute_result"
    }
   ],
   "source": [
    "data_text.head(5)"
   ],
   "metadata": {
    "collapsed": false,
    "pycharm": {
     "name": "#%%\n"
    }
   }
  },
  {
   "cell_type": "code",
   "execution_count": 5,
   "outputs": [
    {
     "data": {
      "text/plain": "                                           product_name  \\\n1045     Oren Empower Extra Large Self Adhesive Sticker   \n1046             Wallmantra Large Vinyl Sticker Sticker   \n1047  Uberlyfe Extra Large Pigmented Polyvinyl Films...   \n1048            Wallmantra Medium Vinyl Sticker Sticker   \n1049                       Uberlyfe Large Vinyl Sticker   \n\n                                                   text   category  target  \n1045  Oren Empower Extra Large Self Adhesive Sticker...  Baby Care       0  \n1046  Wallmantra Large Vinyl Sticker Sticker (Pack o...  Baby Care       0  \n1047  Buy Uberlyfe Extra Large Pigmented Polyvinyl F...  Baby Care       0  \n1048  Buy Wallmantra Medium Vinyl Sticker Sticker fo...  Baby Care       0  \n1049  Buy Uberlyfe Large Vinyl Sticker for Rs.595 on...  Baby Care       0  ",
      "text/html": "<div>\n<style scoped>\n    .dataframe tbody tr th:only-of-type {\n        vertical-align: middle;\n    }\n\n    .dataframe tbody tr th {\n        vertical-align: top;\n    }\n\n    .dataframe thead th {\n        text-align: right;\n    }\n</style>\n<table border=\"1\" class=\"dataframe\">\n  <thead>\n    <tr style=\"text-align: right;\">\n      <th></th>\n      <th>product_name</th>\n      <th>text</th>\n      <th>category</th>\n      <th>target</th>\n    </tr>\n  </thead>\n  <tbody>\n    <tr>\n      <th>1045</th>\n      <td>Oren Empower Extra Large Self Adhesive Sticker</td>\n      <td>Oren Empower Extra Large Self Adhesive Sticker...</td>\n      <td>Baby Care</td>\n      <td>0</td>\n    </tr>\n    <tr>\n      <th>1046</th>\n      <td>Wallmantra Large Vinyl Sticker Sticker</td>\n      <td>Wallmantra Large Vinyl Sticker Sticker (Pack o...</td>\n      <td>Baby Care</td>\n      <td>0</td>\n    </tr>\n    <tr>\n      <th>1047</th>\n      <td>Uberlyfe Extra Large Pigmented Polyvinyl Films...</td>\n      <td>Buy Uberlyfe Extra Large Pigmented Polyvinyl F...</td>\n      <td>Baby Care</td>\n      <td>0</td>\n    </tr>\n    <tr>\n      <th>1048</th>\n      <td>Wallmantra Medium Vinyl Sticker Sticker</td>\n      <td>Buy Wallmantra Medium Vinyl Sticker Sticker fo...</td>\n      <td>Baby Care</td>\n      <td>0</td>\n    </tr>\n    <tr>\n      <th>1049</th>\n      <td>Uberlyfe Large Vinyl Sticker</td>\n      <td>Buy Uberlyfe Large Vinyl Sticker for Rs.595 on...</td>\n      <td>Baby Care</td>\n      <td>0</td>\n    </tr>\n  </tbody>\n</table>\n</div>"
     },
     "execution_count": 5,
     "metadata": {},
     "output_type": "execute_result"
    }
   ],
   "source": [
    "data_text.tail(5)"
   ],
   "metadata": {
    "collapsed": false,
    "pycharm": {
     "name": "#%%\n"
    }
   }
  },
  {
   "cell_type": "code",
   "execution_count": 6,
   "outputs": [
    {
     "data": {
      "text/plain": "                                           product_name  \\\n1041      Wallmantra Extra Large Vinyl Stickers Sticker   \n823        Firstrace 101-107 Analog Watch  - For Couple   \n281                            Bhavya Velvet Sofa Cover   \n66       CHHOTE JANAB COZY MATTRESS PROTECTOR(SET OF 2)   \n563   Fluid FS201-BL01 Analog-Digital Watch  - For W...   \n475        Allin Exporters Cumin Seed Oil (Co2 Extract)   \n338     Adidas Get Ready and Natural Vitality Combo Set   \n730                    Foolzy Pack of 24 Lipsticks 84 g   \n483       4D Lenovo IdeaPad Y430g 6 Cell Laptop Battery   \n826           Timex TI000I70600 Analog Watch  - For Men   \n171             Prithish We're All Mad Here Ceramic Mug   \n519   Maxima 21131CPGI Mac Attivo Analog Watch  - Fo...   \n448                   3kFactory Baby Shower Cap- Purple   \n367           TP-Link Archer C20 AC750 Dual Band Router   \n614   Innovative Single Corner Stainless Steel Wall ...   \n815                  Regent Analog 28 cm Dia Wall Clock   \n229   Surface 180 Elephant Shape Handpainted Wooden ...   \n166                 Prithish Happy Birthday Ceramic Mug   \n779   Mxofere Combo Rose Jasmine Almond Honey Aloeve...   \n2                   Eurospa Cotton Terry Face Towel Set   \n\n                                                   text  \\\n1041  Buy Wallmantra Extra Large Vinyl Stickers Stic...   \n823   Firstrace 101-107 Analog Watch  - For Couple -...   \n281   Bhavya Velvet Sofa Cover (Grey Pack of 10) Pri...   \n66    Specifications of CHHOTE JANAB COZY MATTRESS P...   \n563   Fluid FS201-BL01 Analog-Digital Watch  - For W...   \n475   Key Features of Allin Exporters Cumin Seed Oil...   \n338   Flipkart.com: Buy Adidas Get Ready and Natural...   \n730   Flipkart.com: Buy Foolzy Pack of 24 Lipsticks ...   \n483   Buy 4D Lenovo IdeaPad Y430g 6 Cell Laptop Batt...   \n826   Timex TI000I70600 Analog Watch  - For Men - Bu...   \n171   Buy Prithish We're All Mad Here Ceramic Mug fo...   \n519   Maxima 21131CPGI Mac Attivo Analog Watch  - Fo...   \n448   Key Features of 3kFactory Baby Shower Cap- Pur...   \n367   Buy TP-Link Archer C20 AC750 Dual Band Router ...   \n614   Key Features of Innovative Single Corner Stain...   \n815   Buy Regent Analog 28 cm Dia Wall Clock for Rs....   \n229   Buy Surface 180 Elephant Shape Handpainted Woo...   \n166   Buy Prithish Happy Birthday Ceramic Mug for Rs...   \n779   Buy Mxofere Combo Rose Jasmine Almond Honey Al...   \n2     Key Features of Eurospa Cotton Terry Face Towe...   \n\n                        category  target  \n1041                   Baby Care       0  \n823                      Watches       6  \n281              Home Furnishing       4  \n66                     Baby Care       0  \n563                      Watches       6  \n475     Beauty and Personal Care       1  \n338     Beauty and Personal Care       1  \n730     Beauty and Personal Care       1  \n483                    Computers       2  \n826                      Watches       6  \n171             Kitchen & Dining       5  \n519                      Watches       6  \n448                    Baby Care       0  \n367                    Computers       2  \n614   Home Decor & Festive Needs       3  \n815   Home Decor & Festive Needs       3  \n229   Home Decor & Festive Needs       3  \n166             Kitchen & Dining       5  \n779     Beauty and Personal Care       1  \n2                      Baby Care       0  ",
      "text/html": "<div>\n<style scoped>\n    .dataframe tbody tr th:only-of-type {\n        vertical-align: middle;\n    }\n\n    .dataframe tbody tr th {\n        vertical-align: top;\n    }\n\n    .dataframe thead th {\n        text-align: right;\n    }\n</style>\n<table border=\"1\" class=\"dataframe\">\n  <thead>\n    <tr style=\"text-align: right;\">\n      <th></th>\n      <th>product_name</th>\n      <th>text</th>\n      <th>category</th>\n      <th>target</th>\n    </tr>\n  </thead>\n  <tbody>\n    <tr>\n      <th>1041</th>\n      <td>Wallmantra Extra Large Vinyl Stickers Sticker</td>\n      <td>Buy Wallmantra Extra Large Vinyl Stickers Stic...</td>\n      <td>Baby Care</td>\n      <td>0</td>\n    </tr>\n    <tr>\n      <th>823</th>\n      <td>Firstrace 101-107 Analog Watch  - For Couple</td>\n      <td>Firstrace 101-107 Analog Watch  - For Couple -...</td>\n      <td>Watches</td>\n      <td>6</td>\n    </tr>\n    <tr>\n      <th>281</th>\n      <td>Bhavya Velvet Sofa Cover</td>\n      <td>Bhavya Velvet Sofa Cover (Grey Pack of 10) Pri...</td>\n      <td>Home Furnishing</td>\n      <td>4</td>\n    </tr>\n    <tr>\n      <th>66</th>\n      <td>CHHOTE JANAB COZY MATTRESS PROTECTOR(SET OF 2)</td>\n      <td>Specifications of CHHOTE JANAB COZY MATTRESS P...</td>\n      <td>Baby Care</td>\n      <td>0</td>\n    </tr>\n    <tr>\n      <th>563</th>\n      <td>Fluid FS201-BL01 Analog-Digital Watch  - For W...</td>\n      <td>Fluid FS201-BL01 Analog-Digital Watch  - For W...</td>\n      <td>Watches</td>\n      <td>6</td>\n    </tr>\n    <tr>\n      <th>475</th>\n      <td>Allin Exporters Cumin Seed Oil (Co2 Extract)</td>\n      <td>Key Features of Allin Exporters Cumin Seed Oil...</td>\n      <td>Beauty and Personal Care</td>\n      <td>1</td>\n    </tr>\n    <tr>\n      <th>338</th>\n      <td>Adidas Get Ready and Natural Vitality Combo Set</td>\n      <td>Flipkart.com: Buy Adidas Get Ready and Natural...</td>\n      <td>Beauty and Personal Care</td>\n      <td>1</td>\n    </tr>\n    <tr>\n      <th>730</th>\n      <td>Foolzy Pack of 24 Lipsticks 84 g</td>\n      <td>Flipkart.com: Buy Foolzy Pack of 24 Lipsticks ...</td>\n      <td>Beauty and Personal Care</td>\n      <td>1</td>\n    </tr>\n    <tr>\n      <th>483</th>\n      <td>4D Lenovo IdeaPad Y430g 6 Cell Laptop Battery</td>\n      <td>Buy 4D Lenovo IdeaPad Y430g 6 Cell Laptop Batt...</td>\n      <td>Computers</td>\n      <td>2</td>\n    </tr>\n    <tr>\n      <th>826</th>\n      <td>Timex TI000I70600 Analog Watch  - For Men</td>\n      <td>Timex TI000I70600 Analog Watch  - For Men - Bu...</td>\n      <td>Watches</td>\n      <td>6</td>\n    </tr>\n    <tr>\n      <th>171</th>\n      <td>Prithish We're All Mad Here Ceramic Mug</td>\n      <td>Buy Prithish We're All Mad Here Ceramic Mug fo...</td>\n      <td>Kitchen &amp; Dining</td>\n      <td>5</td>\n    </tr>\n    <tr>\n      <th>519</th>\n      <td>Maxima 21131CPGI Mac Attivo Analog Watch  - Fo...</td>\n      <td>Maxima 21131CPGI Mac Attivo Analog Watch  - Fo...</td>\n      <td>Watches</td>\n      <td>6</td>\n    </tr>\n    <tr>\n      <th>448</th>\n      <td>3kFactory Baby Shower Cap- Purple</td>\n      <td>Key Features of 3kFactory Baby Shower Cap- Pur...</td>\n      <td>Baby Care</td>\n      <td>0</td>\n    </tr>\n    <tr>\n      <th>367</th>\n      <td>TP-Link Archer C20 AC750 Dual Band Router</td>\n      <td>Buy TP-Link Archer C20 AC750 Dual Band Router ...</td>\n      <td>Computers</td>\n      <td>2</td>\n    </tr>\n    <tr>\n      <th>614</th>\n      <td>Innovative Single Corner Stainless Steel Wall ...</td>\n      <td>Key Features of Innovative Single Corner Stain...</td>\n      <td>Home Decor &amp; Festive Needs</td>\n      <td>3</td>\n    </tr>\n    <tr>\n      <th>815</th>\n      <td>Regent Analog 28 cm Dia Wall Clock</td>\n      <td>Buy Regent Analog 28 cm Dia Wall Clock for Rs....</td>\n      <td>Home Decor &amp; Festive Needs</td>\n      <td>3</td>\n    </tr>\n    <tr>\n      <th>229</th>\n      <td>Surface 180 Elephant Shape Handpainted Wooden ...</td>\n      <td>Buy Surface 180 Elephant Shape Handpainted Woo...</td>\n      <td>Home Decor &amp; Festive Needs</td>\n      <td>3</td>\n    </tr>\n    <tr>\n      <th>166</th>\n      <td>Prithish Happy Birthday Ceramic Mug</td>\n      <td>Buy Prithish Happy Birthday Ceramic Mug for Rs...</td>\n      <td>Kitchen &amp; Dining</td>\n      <td>5</td>\n    </tr>\n    <tr>\n      <th>779</th>\n      <td>Mxofere Combo Rose Jasmine Almond Honey Aloeve...</td>\n      <td>Buy Mxofere Combo Rose Jasmine Almond Honey Al...</td>\n      <td>Beauty and Personal Care</td>\n      <td>1</td>\n    </tr>\n    <tr>\n      <th>2</th>\n      <td>Eurospa Cotton Terry Face Towel Set</td>\n      <td>Key Features of Eurospa Cotton Terry Face Towe...</td>\n      <td>Baby Care</td>\n      <td>0</td>\n    </tr>\n  </tbody>\n</table>\n</div>"
     },
     "execution_count": 6,
     "metadata": {},
     "output_type": "execute_result"
    }
   ],
   "source": [
    "data_text.sample(20)"
   ],
   "metadata": {
    "collapsed": false,
    "pycharm": {
     "name": "#%%\n"
    }
   }
  },
  {
   "cell_type": "markdown",
   "source": [
    "##### Global Statistics"
   ],
   "metadata": {
    "collapsed": false,
    "pycharm": {
     "name": "#%% md\n"
    }
   }
  },
  {
   "cell_type": "code",
   "execution_count": 7,
   "outputs": [
    {
     "name": "stdout",
     "output_type": "stream",
     "text": [
      "<class 'pandas.core.frame.DataFrame'>\n",
      "RangeIndex: 1050 entries, 0 to 1049\n",
      "Data columns (total 4 columns):\n",
      " #   Column        Non-Null Count  Dtype \n",
      "---  ------        --------------  ----- \n",
      " 0   product_name  1050 non-null   object\n",
      " 1   text          1050 non-null   object\n",
      " 2   category      1050 non-null   object\n",
      " 3   target        1050 non-null   int64 \n",
      "dtypes: int64(1), object(3)\n",
      "memory usage: 32.9+ KB\n"
     ]
    }
   ],
   "source": [
    "data_text.info()"
   ],
   "metadata": {
    "collapsed": false,
    "pycharm": {
     "name": "#%%\n"
    }
   }
  },
  {
   "cell_type": "code",
   "execution_count": 8,
   "outputs": [
    {
     "data": {
      "text/plain": "product_name    0\ntext            0\ncategory        0\ntarget          0\ndtype: int64"
     },
     "execution_count": 8,
     "metadata": {},
     "output_type": "execute_result"
    }
   ],
   "source": [
    "data_text.isna().sum()"
   ],
   "metadata": {
    "collapsed": false,
    "pycharm": {
     "name": "#%%\n"
    }
   }
  },
  {
   "cell_type": "code",
   "execution_count": 9,
   "outputs": [
    {
     "data": {
      "text/plain": "product_name    0.0\ntext            0.0\ncategory        0.0\ntarget          0.0\ndtype: float64"
     },
     "execution_count": 9,
     "metadata": {},
     "output_type": "execute_result"
    }
   ],
   "source": [
    "data_text.isna().mean()"
   ],
   "metadata": {
    "collapsed": false,
    "pycharm": {
     "name": "#%%\n"
    }
   }
  },
  {
   "cell_type": "code",
   "execution_count": 10,
   "outputs": [
    {
     "data": {
      "text/plain": "object    3\nint64     1\ndtype: int64"
     },
     "execution_count": 10,
     "metadata": {},
     "output_type": "execute_result"
    }
   ],
   "source": [
    "data_text.dtypes.value_counts()"
   ],
   "metadata": {
    "collapsed": false,
    "pycharm": {
     "name": "#%%\n"
    }
   }
  },
  {
   "cell_type": "code",
   "execution_count": 11,
   "outputs": [
    {
     "data": {
      "text/plain": "product_name    1050\ntext            1050\ncategory           7\ntarget             7\ndtype: int64"
     },
     "execution_count": 11,
     "metadata": {},
     "output_type": "execute_result"
    }
   ],
   "source": [
    "data_text.nunique()"
   ],
   "metadata": {
    "collapsed": false,
    "pycharm": {
     "name": "#%%\n"
    }
   }
  },
  {
   "cell_type": "code",
   "execution_count": 12,
   "outputs": [
    {
     "data": {
      "text/plain": "(1050, 4)"
     },
     "execution_count": 12,
     "metadata": {},
     "output_type": "execute_result"
    }
   ],
   "source": [
    "data_text.shape"
   ],
   "metadata": {
    "collapsed": false,
    "pycharm": {
     "name": "#%%\n"
    }
   }
  },
  {
   "cell_type": "code",
   "execution_count": 13,
   "outputs": [
    {
     "data": {
      "text/plain": "Empty DataFrame\nColumns: [product_name, text, category, target]\nIndex: []",
      "text/html": "<div>\n<style scoped>\n    .dataframe tbody tr th:only-of-type {\n        vertical-align: middle;\n    }\n\n    .dataframe tbody tr th {\n        vertical-align: top;\n    }\n\n    .dataframe thead th {\n        text-align: right;\n    }\n</style>\n<table border=\"1\" class=\"dataframe\">\n  <thead>\n    <tr style=\"text-align: right;\">\n      <th></th>\n      <th>product_name</th>\n      <th>text</th>\n      <th>category</th>\n      <th>target</th>\n    </tr>\n  </thead>\n  <tbody>\n  </tbody>\n</table>\n</div>"
     },
     "execution_count": 13,
     "metadata": {},
     "output_type": "execute_result"
    }
   ],
   "source": [
    "idx = data_text.duplicated(subset=\"text\", keep=\"first\")\n",
    "data_text.loc[idx, :].sort_values(\"text\")"
   ],
   "metadata": {
    "collapsed": false,
    "pycharm": {
     "name": "#%%\n"
    }
   }
  },
  {
   "cell_type": "code",
   "execution_count": 14,
   "outputs": [
    {
     "data": {
      "text/plain": "                                             product_name  \\\ncount                                                1050   \nunique                                               1050   \ntop     Elegance Polyester Multicolor Abstract Eyelet ...   \nfreq                                                    1   \n\n                                                     text         category  \ncount                                                1050             1050  \nunique                                               1050                7  \ntop     Key Features of Elegance Polyester Multicolor ...  Home Furnishing  \nfreq                                                    1              150  ",
      "text/html": "<div>\n<style scoped>\n    .dataframe tbody tr th:only-of-type {\n        vertical-align: middle;\n    }\n\n    .dataframe tbody tr th {\n        vertical-align: top;\n    }\n\n    .dataframe thead th {\n        text-align: right;\n    }\n</style>\n<table border=\"1\" class=\"dataframe\">\n  <thead>\n    <tr style=\"text-align: right;\">\n      <th></th>\n      <th>product_name</th>\n      <th>text</th>\n      <th>category</th>\n    </tr>\n  </thead>\n  <tbody>\n    <tr>\n      <th>count</th>\n      <td>1050</td>\n      <td>1050</td>\n      <td>1050</td>\n    </tr>\n    <tr>\n      <th>unique</th>\n      <td>1050</td>\n      <td>1050</td>\n      <td>7</td>\n    </tr>\n    <tr>\n      <th>top</th>\n      <td>Elegance Polyester Multicolor Abstract Eyelet ...</td>\n      <td>Key Features of Elegance Polyester Multicolor ...</td>\n      <td>Home Furnishing</td>\n    </tr>\n    <tr>\n      <th>freq</th>\n      <td>1</td>\n      <td>1</td>\n      <td>150</td>\n    </tr>\n  </tbody>\n</table>\n</div>"
     },
     "execution_count": 14,
     "metadata": {},
     "output_type": "execute_result"
    }
   ],
   "source": [
    "data_text.describe(include=\"object\")"
   ],
   "metadata": {
    "collapsed": false,
    "pycharm": {
     "name": "#%%\n"
    }
   }
  },
  {
   "cell_type": "code",
   "execution_count": 15,
   "outputs": [
    {
     "data": {
      "text/plain": "4    0.142857\n0    0.142857\n6    0.142857\n3    0.142857\n5    0.142857\n1    0.142857\n2    0.142857\nName: target, dtype: float64"
     },
     "execution_count": 15,
     "metadata": {},
     "output_type": "execute_result"
    }
   ],
   "source": [
    "data_text.target.value_counts(normalize=True)"
   ],
   "metadata": {
    "collapsed": false,
    "pycharm": {
     "name": "#%%\n"
    }
   }
  },
  {
   "cell_type": "code",
   "execution_count": 16,
   "outputs": [
    {
     "data": {
      "text/plain": "<AxesSubplot:ylabel='target'>"
     },
     "execution_count": 16,
     "metadata": {},
     "output_type": "execute_result"
    },
    {
     "data": {
      "text/plain": "<Figure size 432x288 with 1 Axes>",
      "image/png": "[encoded data removed]"
     },
     "metadata": {},
     "output_type": "display_data"
    }
   ],
   "source": [
    "data_text.target.value_counts().plot(kind=\"pie\")"
   ],
   "metadata": {
    "collapsed": false,
    "pycharm": {
     "name": "#%%\n"
    }
   }
  },
  {
   "cell_type": "markdown",
   "source": [
    "##### Length"
   ],
   "metadata": {
    "collapsed": false,
    "pycharm": {
     "name": "#%% md\n"
    }
   }
  },
  {
   "cell_type": "code",
   "execution_count": 17,
   "outputs": [
    {
     "data": {
      "text/plain": "0       1420\n1        444\n2       1258\n3        858\n4       1197\n        ... \n1045    2432\n1046    1660\n1047     262\n1048     210\n1049     187\nName: text, Length: 1050, dtype: int64"
     },
     "execution_count": 17,
     "metadata": {},
     "output_type": "execute_result"
    }
   ],
   "source": [
    "data_text.text.apply(lambda i: len(i))"
   ],
   "metadata": {
    "collapsed": false,
    "pycharm": {
     "name": "#%%\n"
    }
   }
  },
  {
   "cell_type": "code",
   "execution_count": 18,
   "outputs": [
    {
     "data": {
      "text/plain": "<AxesSubplot:xlabel='text'>"
     },
     "execution_count": 18,
     "metadata": {},
     "output_type": "execute_result"
    },
    {
     "data": {
      "text/plain": "<Figure size 432x288 with 1 Axes>",
      "image/png": "[encoded data removed]"
     },
     "metadata": {
      "needs_background": "light"
     },
     "output_type": "display_data"
    }
   ],
   "source": [
    "tmp = data_text.text.str.len()\n",
    "data_text[\"_len_txt_\"] = tmp\n",
    "\n",
    "sns.boxplot(tmp)"
   ],
   "metadata": {
    "collapsed": false,
    "pycharm": {
     "name": "#%%\n"
    }
   }
  },
  {
   "cell_type": "code",
   "execution_count": 19,
   "outputs": [
    {
     "data": {
      "text/plain": "<seaborn.axisgrid.FacetGrid at 0x15e9e7dcaf0>"
     },
     "execution_count": 19,
     "metadata": {},
     "output_type": "execute_result"
    },
    {
     "data": {
      "text/plain": "<Figure size 360x360 with 1 Axes>",
      "image/png": "[encoded data removed]"
     },
     "metadata": {
      "needs_background": "light"
     },
     "output_type": "display_data"
    }
   ],
   "source": [
    "sns.displot(tmp)"
   ],
   "metadata": {
    "collapsed": false,
    "pycharm": {
     "name": "#%%\n"
    }
   }
  },
  {
   "cell_type": "code",
   "execution_count": 20,
   "outputs": [
    {
     "data": {
      "text/plain": "<AxesSubplot:xlabel='product_name'>"
     },
     "execution_count": 20,
     "metadata": {},
     "output_type": "execute_result"
    },
    {
     "data": {
      "text/plain": "<Figure size 432x288 with 1 Axes>",
      "image/png": "[encoded data removed]"
     },
     "metadata": {
      "needs_background": "light"
     },
     "output_type": "display_data"
    }
   ],
   "source": [
    "tmp = data_text.product_name.str.len()\n",
    "data_text[\"_len_product_name_\"] = tmp\n",
    "\n",
    "sns.boxplot(tmp)"
   ],
   "metadata": {
    "collapsed": false,
    "pycharm": {
     "name": "#%%\n"
    }
   }
  },
  {
   "cell_type": "code",
   "execution_count": 21,
   "outputs": [
    {
     "data": {
      "text/plain": "<seaborn.axisgrid.FacetGrid at 0x15ea0a71e50>"
     },
     "execution_count": 21,
     "metadata": {},
     "output_type": "execute_result"
    },
    {
     "data": {
      "text/plain": "<Figure size 360x360 with 1 Axes>",
      "image/png": "[encoded data removed]"
     },
     "metadata": {
      "needs_background": "light"
     },
     "output_type": "display_data"
    }
   ],
   "source": [
    "sns.displot(tmp)"
   ],
   "metadata": {
    "collapsed": false,
    "pycharm": {
     "name": "#%%\n"
    }
   }
  },
  {
   "cell_type": "markdown",
   "source": [],
   "metadata": {
    "collapsed": false,
    "pycharm": {
     "name": "#%% md\n"
    }
   }
  },
  {
   "cell_type": "code",
   "execution_count": 22,
   "outputs": [
    {
     "data": {
      "text/plain": "                                           product_name  \\\n0     Elegance Polyester Multicolor Abstract Eyelet ...   \n1                            Sathiyas Cotton Bath Towel   \n2                   Eurospa Cotton Terry Face Towel Set   \n3     SANTOSH ROYAL FASHION Cotton Printed King size...   \n4     Jaipur Print Cotton Floral King sized Double B...   \n...                                                 ...   \n1045     Oren Empower Extra Large Self Adhesive Sticker   \n1046             Wallmantra Large Vinyl Sticker Sticker   \n1047  Uberlyfe Extra Large Pigmented Polyvinyl Films...   \n1048            Wallmantra Medium Vinyl Sticker Sticker   \n1049                       Uberlyfe Large Vinyl Sticker   \n\n                                                   text         category  \\\n0     Key Features of Elegance Polyester Multicolor ...  Home Furnishing   \n1     Specifications of Sathiyas Cotton Bath Towel (...        Baby Care   \n2     Key Features of Eurospa Cotton Terry Face Towe...        Baby Care   \n3     Key Features of SANTOSH ROYAL FASHION Cotton P...  Home Furnishing   \n4     Key Features of Jaipur Print Cotton Floral Kin...  Home Furnishing   \n...                                                 ...              ...   \n1045  Oren Empower Extra Large Self Adhesive Sticker...        Baby Care   \n1046  Wallmantra Large Vinyl Sticker Sticker (Pack o...        Baby Care   \n1047  Buy Uberlyfe Extra Large Pigmented Polyvinyl F...        Baby Care   \n1048  Buy Wallmantra Medium Vinyl Sticker Sticker fo...        Baby Care   \n1049  Buy Uberlyfe Large Vinyl Sticker for Rs.595 on...        Baby Care   \n\n      target  _len_txt_  _len_product_name_  \n0          4       1420                  58  \n1          0        444                  26  \n2          0       1258                  35  \n3          4        858                  63  \n4          4       1197                  53  \n...      ...        ...                 ...  \n1045       0       2432                  46  \n1046       0       1660                  38  \n1047       0        262                  65  \n1048       0        210                  39  \n1049       0        187                  28  \n\n[1050 rows x 6 columns]",
      "text/html": "<div>\n<style scoped>\n    .dataframe tbody tr th:only-of-type {\n        vertical-align: middle;\n    }\n\n    .dataframe tbody tr th {\n        vertical-align: top;\n    }\n\n    .dataframe thead th {\n        text-align: right;\n    }\n</style>\n<table border=\"1\" class=\"dataframe\">\n  <thead>\n    <tr style=\"text-align: right;\">\n      <th></th>\n      <th>product_name</th>\n      <th>text</th>\n      <th>category</th>\n      <th>target</th>\n      <th>_len_txt_</th>\n      <th>_len_product_name_</th>\n    </tr>\n  </thead>\n  <tbody>\n    <tr>\n      <th>0</th>\n      <td>Elegance Polyester Multicolor Abstract Eyelet ...</td>\n      <td>Key Features of Elegance Polyester Multicolor ...</td>\n      <td>Home Furnishing</td>\n      <td>4</td>\n      <td>1420</td>\n      <td>58</td>\n    </tr>\n    <tr>\n      <th>1</th>\n      <td>Sathiyas Cotton Bath Towel</td>\n      <td>Specifications of Sathiyas Cotton Bath Towel (...</td>\n      <td>Baby Care</td>\n      <td>0</td>\n      <td>444</td>\n      <td>26</td>\n    </tr>\n    <tr>\n      <th>2</th>\n      <td>Eurospa Cotton Terry Face Towel Set</td>\n      <td>Key Features of Eurospa Cotton Terry Face Towe...</td>\n      <td>Baby Care</td>\n      <td>0</td>\n      <td>1258</td>\n      <td>35</td>\n    </tr>\n    <tr>\n      <th>3</th>\n      <td>SANTOSH ROYAL FASHION Cotton Printed King size...</td>\n      <td>Key Features of SANTOSH ROYAL FASHION Cotton P...</td>\n      <td>Home Furnishing</td>\n      <td>4</td>\n      <td>858</td>\n      <td>63</td>\n    </tr>\n    <tr>\n      <th>4</th>\n      <td>Jaipur Print Cotton Floral King sized Double B...</td>\n      <td>Key Features of Jaipur Print Cotton Floral Kin...</td>\n      <td>Home Furnishing</td>\n      <td>4</td>\n      <td>1197</td>\n      <td>53</td>\n    </tr>\n    <tr>\n      <th>...</th>\n      <td>...</td>\n      <td>...</td>\n      <td>...</td>\n      <td>...</td>\n      <td>...</td>\n      <td>...</td>\n    </tr>\n    <tr>\n      <th>1045</th>\n      <td>Oren Empower Extra Large Self Adhesive Sticker</td>\n      <td>Oren Empower Extra Large Self Adhesive Sticker...</td>\n      <td>Baby Care</td>\n      <td>0</td>\n      <td>2432</td>\n      <td>46</td>\n    </tr>\n    <tr>\n      <th>1046</th>\n      <td>Wallmantra Large Vinyl Sticker Sticker</td>\n      <td>Wallmantra Large Vinyl Sticker Sticker (Pack o...</td>\n      <td>Baby Care</td>\n      <td>0</td>\n      <td>1660</td>\n      <td>38</td>\n    </tr>\n    <tr>\n      <th>1047</th>\n      <td>Uberlyfe Extra Large Pigmented Polyvinyl Films...</td>\n      <td>Buy Uberlyfe Extra Large Pigmented Polyvinyl F...</td>\n      <td>Baby Care</td>\n      <td>0</td>\n      <td>262</td>\n      <td>65</td>\n    </tr>\n    <tr>\n      <th>1048</th>\n      <td>Wallmantra Medium Vinyl Sticker Sticker</td>\n      <td>Buy Wallmantra Medium Vinyl Sticker Sticker fo...</td>\n      <td>Baby Care</td>\n      <td>0</td>\n      <td>210</td>\n      <td>39</td>\n    </tr>\n    <tr>\n      <th>1049</th>\n      <td>Uberlyfe Large Vinyl Sticker</td>\n      <td>Buy Uberlyfe Large Vinyl Sticker for Rs.595 on...</td>\n      <td>Baby Care</td>\n      <td>0</td>\n      <td>187</td>\n      <td>28</td>\n    </tr>\n  </tbody>\n</table>\n<p>1050 rows × 6 columns</p>\n</div>"
     },
     "execution_count": 22,
     "metadata": {},
     "output_type": "execute_result"
    }
   ],
   "source": [
    "data_text"
   ],
   "metadata": {
    "collapsed": false,
    "pycharm": {
     "name": "#%%\n"
    }
   }
  },
  {
   "cell_type": "markdown",
   "source": [
    "##### Multivariate analysis"
   ],
   "metadata": {
    "collapsed": false,
    "pycharm": {
     "name": "#%% md\n"
    }
   }
  },
  {
   "cell_type": "code",
   "execution_count": 23,
   "outputs": [
    {
     "data": {
      "text/plain": "                      target  _len_txt_  _len_product_name_\ntarget              1.000000  -0.020285           -0.011436\n_len_txt_          -0.020285   1.000000            0.174393\n_len_product_name_ -0.011436   0.174393            1.000000",
      "text/html": "<div>\n<style scoped>\n    .dataframe tbody tr th:only-of-type {\n        vertical-align: middle;\n    }\n\n    .dataframe tbody tr th {\n        vertical-align: top;\n    }\n\n    .dataframe thead th {\n        text-align: right;\n    }\n</style>\n<table border=\"1\" class=\"dataframe\">\n  <thead>\n    <tr style=\"text-align: right;\">\n      <th></th>\n      <th>target</th>\n      <th>_len_txt_</th>\n      <th>_len_product_name_</th>\n    </tr>\n  </thead>\n  <tbody>\n    <tr>\n      <th>target</th>\n      <td>1.000000</td>\n      <td>-0.020285</td>\n      <td>-0.011436</td>\n    </tr>\n    <tr>\n      <th>_len_txt_</th>\n      <td>-0.020285</td>\n      <td>1.000000</td>\n      <td>0.174393</td>\n    </tr>\n    <tr>\n      <th>_len_product_name_</th>\n      <td>-0.011436</td>\n      <td>0.174393</td>\n      <td>1.000000</td>\n    </tr>\n  </tbody>\n</table>\n</div>"
     },
     "execution_count": 23,
     "metadata": {},
     "output_type": "execute_result"
    }
   ],
   "source": [
    "corr = data_text.corr()\n",
    "corr"
   ],
   "metadata": {
    "collapsed": false,
    "pycharm": {
     "name": "#%%\n"
    }
   }
  },
  {
   "cell_type": "code",
   "execution_count": 24,
   "outputs": [
    {
     "data": {
      "text/plain": "<AxesSubplot:>"
     },
     "execution_count": 24,
     "metadata": {},
     "output_type": "execute_result"
    },
    {
     "data": {
      "text/plain": "<Figure size 432x288 with 2 Axes>",
      "image/png": "[encoded data removed]"
     },
     "metadata": {
      "needs_background": "light"
     },
     "output_type": "display_data"
    }
   ],
   "source": [
    "sns.heatmap(corr)"
   ],
   "metadata": {
    "collapsed": false,
    "pycharm": {
     "name": "#%%\n"
    }
   }
  },
  {
   "cell_type": "code",
   "execution_count": 25,
   "outputs": [
    {
     "data": {
      "text/plain": "<seaborn.axisgrid.PairGrid at 0x15ea0bd56a0>"
     },
     "execution_count": 25,
     "metadata": {},
     "output_type": "execute_result"
    },
    {
     "data": {
      "text/plain": "<Figure size 401.625x360 with 6 Axes>",
      "image/png": "[encoded data removed]"
     },
     "metadata": {
      "needs_background": "light"
     },
     "output_type": "display_data"
    }
   ],
   "source": [
    "sns.pairplot(data_text, hue=\"target\")"
   ],
   "metadata": {
    "collapsed": false,
    "pycharm": {
     "name": "#%%\n"
    }
   }
  },
  {
   "cell_type": "code",
   "execution_count": 26,
   "outputs": [
    {
     "data": {
      "text/plain": "                                    product_name  \\\n877                        Nkp Cotton Bath Towel   \n890                        IWS Cotton Bath Towel   \n1030               OMRD RD6697 Hot and cold Pack   \n651                     Marvel Cotton Bath Towel   \n892                      MB Cotton Set of Towels   \n599         Next Steps Baby Girl's Layered Dress   \n1005  Milani Runway shadow Wet/Dry Black Out 3 g   \n678                   Neyth Cotton Set of Towels   \n874                   Mafatlal Cotton Bath Towel   \n884                   Amber Cotton Set of Towels   \n\n                                                   text  \\\n877   Buy Nkp Cotton Bath Towel at Rs. 549 at Flipka...   \n890   Buy IWS Cotton Bath Towel at Rs. 299 at Flipka...   \n1030  Specifications of OMRD RD6697 Hot and cold Pac...   \n651   Buy Marvel Cotton Bath Towel at Rs. 449 at Fli...   \n892   Buy MB Cotton Set of Towels at Rs. 1195 at Fli...   \n599   Next Steps Baby Girl's Layered Dress\\r\\n      ...   \n1005  Specifications of Milani Runway shadow Wet/Dry...   \n678   Buy Neyth Cotton Set of Towels at Rs. 170 at F...   \n874   Buy Mafatlal Cotton Bath Towel at Rs. 545 at F...   \n884   Buy Amber Cotton Set of Towels at Rs. 239 at F...   \n\n                      category  target  _len_txt_  _len_product_name_  \n877            Home Furnishing       4        109                  21  \n890            Home Furnishing       4        109                  21  \n1030  Beauty and Personal Care       1        111                  29  \n651                  Baby Care       0        112                  24  \n892            Home Furnishing       4        112                  23  \n599                  Baby Care       0        112                  36  \n1005  Beauty and Personal Care       1        113                  42  \n678                  Baby Care       0        114                  26  \n874            Home Furnishing       4        114                  26  \n884            Home Furnishing       4        114                  26  ",
      "text/html": "<div>\n<style scoped>\n    .dataframe tbody tr th:only-of-type {\n        vertical-align: middle;\n    }\n\n    .dataframe tbody tr th {\n        vertical-align: top;\n    }\n\n    .dataframe thead th {\n        text-align: right;\n    }\n</style>\n<table border=\"1\" class=\"dataframe\">\n  <thead>\n    <tr style=\"text-align: right;\">\n      <th></th>\n      <th>product_name</th>\n      <th>text</th>\n      <th>category</th>\n      <th>target</th>\n      <th>_len_txt_</th>\n      <th>_len_product_name_</th>\n    </tr>\n  </thead>\n  <tbody>\n    <tr>\n      <th>877</th>\n      <td>Nkp Cotton Bath Towel</td>\n      <td>Buy Nkp Cotton Bath Towel at Rs. 549 at Flipka...</td>\n      <td>Home Furnishing</td>\n      <td>4</td>\n      <td>109</td>\n      <td>21</td>\n    </tr>\n    <tr>\n      <th>890</th>\n      <td>IWS Cotton Bath Towel</td>\n      <td>Buy IWS Cotton Bath Towel at Rs. 299 at Flipka...</td>\n      <td>Home Furnishing</td>\n      <td>4</td>\n      <td>109</td>\n      <td>21</td>\n    </tr>\n    <tr>\n      <th>1030</th>\n      <td>OMRD RD6697 Hot and cold Pack</td>\n      <td>Specifications of OMRD RD6697 Hot and cold Pac...</td>\n      <td>Beauty and Personal Care</td>\n      <td>1</td>\n      <td>111</td>\n      <td>29</td>\n    </tr>\n    <tr>\n      <th>651</th>\n      <td>Marvel Cotton Bath Towel</td>\n      <td>Buy Marvel Cotton Bath Towel at Rs. 449 at Fli...</td>\n      <td>Baby Care</td>\n      <td>0</td>\n      <td>112</td>\n      <td>24</td>\n    </tr>\n    <tr>\n      <th>892</th>\n      <td>MB Cotton Set of Towels</td>\n      <td>Buy MB Cotton Set of Towels at Rs. 1195 at Fli...</td>\n      <td>Home Furnishing</td>\n      <td>4</td>\n      <td>112</td>\n      <td>23</td>\n    </tr>\n    <tr>\n      <th>599</th>\n      <td>Next Steps Baby Girl's Layered Dress</td>\n      <td>Next Steps Baby Girl's Layered Dress\\r\\n      ...</td>\n      <td>Baby Care</td>\n      <td>0</td>\n      <td>112</td>\n      <td>36</td>\n    </tr>\n    <tr>\n      <th>1005</th>\n      <td>Milani Runway shadow Wet/Dry Black Out 3 g</td>\n      <td>Specifications of Milani Runway shadow Wet/Dry...</td>\n      <td>Beauty and Personal Care</td>\n      <td>1</td>\n      <td>113</td>\n      <td>42</td>\n    </tr>\n    <tr>\n      <th>678</th>\n      <td>Neyth Cotton Set of Towels</td>\n      <td>Buy Neyth Cotton Set of Towels at Rs. 170 at F...</td>\n      <td>Baby Care</td>\n      <td>0</td>\n      <td>114</td>\n      <td>26</td>\n    </tr>\n    <tr>\n      <th>874</th>\n      <td>Mafatlal Cotton Bath Towel</td>\n      <td>Buy Mafatlal Cotton Bath Towel at Rs. 545 at F...</td>\n      <td>Home Furnishing</td>\n      <td>4</td>\n      <td>114</td>\n      <td>26</td>\n    </tr>\n    <tr>\n      <th>884</th>\n      <td>Amber Cotton Set of Towels</td>\n      <td>Buy Amber Cotton Set of Towels at Rs. 239 at F...</td>\n      <td>Home Furnishing</td>\n      <td>4</td>\n      <td>114</td>\n      <td>26</td>\n    </tr>\n  </tbody>\n</table>\n</div>"
     },
     "execution_count": 26,
     "metadata": {},
     "output_type": "execute_result"
    }
   ],
   "source": [
    "data_text.sort_values(\"_len_txt_\").head(10)"
   ],
   "metadata": {
    "collapsed": false,
    "pycharm": {
     "name": "#%%\n"
    }
   }
  },
  {
   "cell_type": "code",
   "execution_count": 27,
   "outputs": [
    {
     "data": {
      "text/plain": "                                           product_name  \\\n433   Smartpro 19.5v,3.9a Replacement Charger for Va...   \n435   Smartpro 19.5v,3.9a Replacement Charger for Va...   \n696   Tallenge Christmas Collection - Nativity Art -...   \n694   Tallenge Christmas Collection - Echoes Of Wint...   \n1045     Oren Empower Extra Large Self Adhesive Sticker   \n589   Shopfloor.XYZ Vacuum Cleaner for Computers, La...   \n916              wallskart Floral & Botanical Wallpaper   \n715          Pioneer Pragati Floral Single Duvet Orange   \n639                     Sunlast 16 inch Laptop Backpack   \n437                        HomeEdge Solid Wood King Bed   \n\n                                                   text  \\\n433   Key Features of Smartpro 19.5v,3.9a Replacemen...   \n435   Key Features of Smartpro 19.5v,3.9a Replacemen...   \n696   Tallenge Christmas Collection - Nativity Art -...   \n694   Tallenge Christmas Collection - Echoes Of Wint...   \n1045  Oren Empower Extra Large Self Adhesive Sticker...   \n589   Shopfloor.XYZ Vacuum Cleaner for Computers, La...   \n916   Key Features of wallskart Floral & Botanical W...   \n715   Pioneer Pragati Floral Single Duvet Orange (1 ...   \n639   Key Features of Sunlast 16 inch Laptop Backpac...   \n437   Key Features of HomeEdge Solid Wood King Bed K...   \n\n                        category  target  _len_txt_  _len_product_name_  \n433                    Computers       2       2297                  79  \n435                    Computers       2       2298                  79  \n696   Home Decor & Festive Needs       3       2405                  75  \n694   Home Decor & Festive Needs       3       2409                  79  \n1045                   Baby Care       0       2432                  46  \n589                    Computers       2       2436                  60  \n916   Home Decor & Festive Needs       3       2529                  38  \n715              Home Furnishing       4       2594                  42  \n639                    Computers       2       3447                  31  \n437     Beauty and Personal Care       1       3490                  28  ",
      "text/html": "<div>\n<style scoped>\n    .dataframe tbody tr th:only-of-type {\n        vertical-align: middle;\n    }\n\n    .dataframe tbody tr th {\n        vertical-align: top;\n    }\n\n    .dataframe thead th {\n        text-align: right;\n    }\n</style>\n<table border=\"1\" class=\"dataframe\">\n  <thead>\n    <tr style=\"text-align: right;\">\n      <th></th>\n      <th>product_name</th>\n      <th>text</th>\n      <th>category</th>\n      <th>target</th>\n      <th>_len_txt_</th>\n      <th>_len_product_name_</th>\n    </tr>\n  </thead>\n  <tbody>\n    <tr>\n      <th>433</th>\n      <td>Smartpro 19.5v,3.9a Replacement Charger for Va...</td>\n      <td>Key Features of Smartpro 19.5v,3.9a Replacemen...</td>\n      <td>Computers</td>\n      <td>2</td>\n      <td>2297</td>\n      <td>79</td>\n    </tr>\n    <tr>\n      <th>435</th>\n      <td>Smartpro 19.5v,3.9a Replacement Charger for Va...</td>\n      <td>Key Features of Smartpro 19.5v,3.9a Replacemen...</td>\n      <td>Computers</td>\n      <td>2</td>\n      <td>2298</td>\n      <td>79</td>\n    </tr>\n    <tr>\n      <th>696</th>\n      <td>Tallenge Christmas Collection - Nativity Art -...</td>\n      <td>Tallenge Christmas Collection - Nativity Art -...</td>\n      <td>Home Decor &amp; Festive Needs</td>\n      <td>3</td>\n      <td>2405</td>\n      <td>75</td>\n    </tr>\n    <tr>\n      <th>694</th>\n      <td>Tallenge Christmas Collection - Echoes Of Wint...</td>\n      <td>Tallenge Christmas Collection - Echoes Of Wint...</td>\n      <td>Home Decor &amp; Festive Needs</td>\n      <td>3</td>\n      <td>2409</td>\n      <td>79</td>\n    </tr>\n    <tr>\n      <th>1045</th>\n      <td>Oren Empower Extra Large Self Adhesive Sticker</td>\n      <td>Oren Empower Extra Large Self Adhesive Sticker...</td>\n      <td>Baby Care</td>\n      <td>0</td>\n      <td>2432</td>\n      <td>46</td>\n    </tr>\n    <tr>\n      <th>589</th>\n      <td>Shopfloor.XYZ Vacuum Cleaner for Computers, La...</td>\n      <td>Shopfloor.XYZ Vacuum Cleaner for Computers, La...</td>\n      <td>Computers</td>\n      <td>2</td>\n      <td>2436</td>\n      <td>60</td>\n    </tr>\n    <tr>\n      <th>916</th>\n      <td>wallskart Floral &amp; Botanical Wallpaper</td>\n      <td>Key Features of wallskart Floral &amp; Botanical W...</td>\n      <td>Home Decor &amp; Festive Needs</td>\n      <td>3</td>\n      <td>2529</td>\n      <td>38</td>\n    </tr>\n    <tr>\n      <th>715</th>\n      <td>Pioneer Pragati Floral Single Duvet Orange</td>\n      <td>Pioneer Pragati Floral Single Duvet Orange (1 ...</td>\n      <td>Home Furnishing</td>\n      <td>4</td>\n      <td>2594</td>\n      <td>42</td>\n    </tr>\n    <tr>\n      <th>639</th>\n      <td>Sunlast 16 inch Laptop Backpack</td>\n      <td>Key Features of Sunlast 16 inch Laptop Backpac...</td>\n      <td>Computers</td>\n      <td>2</td>\n      <td>3447</td>\n      <td>31</td>\n    </tr>\n    <tr>\n      <th>437</th>\n      <td>HomeEdge Solid Wood King Bed</td>\n      <td>Key Features of HomeEdge Solid Wood King Bed K...</td>\n      <td>Beauty and Personal Care</td>\n      <td>1</td>\n      <td>3490</td>\n      <td>28</td>\n    </tr>\n  </tbody>\n</table>\n</div>"
     },
     "execution_count": 27,
     "metadata": {},
     "output_type": "execute_result"
    }
   ],
   "source": [
    "data_text.sort_values(\"_len_txt_\").tail(10)"
   ],
   "metadata": {
    "collapsed": false,
    "pycharm": {
     "name": "#%%\n"
    }
   }
  },
  {
   "cell_type": "code",
   "execution_count": 28,
   "outputs": [
    {
     "data": {
      "text/plain": "                                           product_name  \\\n0     Elegance Polyester Multicolor Abstract Eyelet ...   \n1                            Sathiyas Cotton Bath Towel   \n2                   Eurospa Cotton Terry Face Towel Set   \n3     SANTOSH ROYAL FASHION Cotton Printed King size...   \n4     Jaipur Print Cotton Floral King sized Double B...   \n...                                                 ...   \n1045     Oren Empower Extra Large Self Adhesive Sticker   \n1046             Wallmantra Large Vinyl Sticker Sticker   \n1047  Uberlyfe Extra Large Pigmented Polyvinyl Films...   \n1048            Wallmantra Medium Vinyl Sticker Sticker   \n1049                       Uberlyfe Large Vinyl Sticker   \n\n                                                   text         category  \\\n0     Key Features of Elegance Polyester Multicolor ...  Home Furnishing   \n1     Specifications of Sathiyas Cotton Bath Towel (...        Baby Care   \n2     Key Features of Eurospa Cotton Terry Face Towe...        Baby Care   \n3     Key Features of SANTOSH ROYAL FASHION Cotton P...  Home Furnishing   \n4     Key Features of Jaipur Print Cotton Floral Kin...  Home Furnishing   \n...                                                 ...              ...   \n1045  Oren Empower Extra Large Self Adhesive Sticker...        Baby Care   \n1046  Wallmantra Large Vinyl Sticker Sticker (Pack o...        Baby Care   \n1047  Buy Uberlyfe Extra Large Pigmented Polyvinyl F...        Baby Care   \n1048  Buy Wallmantra Medium Vinyl Sticker Sticker fo...        Baby Care   \n1049  Buy Uberlyfe Large Vinyl Sticker for Rs.595 on...        Baby Care   \n\n      target  \n0          4  \n1          0  \n2          0  \n3          4  \n4          4  \n...      ...  \n1045       0  \n1046       0  \n1047       0  \n1048       0  \n1049       0  \n\n[1050 rows x 4 columns]",
      "text/html": "<div>\n<style scoped>\n    .dataframe tbody tr th:only-of-type {\n        vertical-align: middle;\n    }\n\n    .dataframe tbody tr th {\n        vertical-align: top;\n    }\n\n    .dataframe thead th {\n        text-align: right;\n    }\n</style>\n<table border=\"1\" class=\"dataframe\">\n  <thead>\n    <tr style=\"text-align: right;\">\n      <th></th>\n      <th>product_name</th>\n      <th>text</th>\n      <th>category</th>\n      <th>target</th>\n    </tr>\n  </thead>\n  <tbody>\n    <tr>\n      <th>0</th>\n      <td>Elegance Polyester Multicolor Abstract Eyelet ...</td>\n      <td>Key Features of Elegance Polyester Multicolor ...</td>\n      <td>Home Furnishing</td>\n      <td>4</td>\n    </tr>\n    <tr>\n      <th>1</th>\n      <td>Sathiyas Cotton Bath Towel</td>\n      <td>Specifications of Sathiyas Cotton Bath Towel (...</td>\n      <td>Baby Care</td>\n      <td>0</td>\n    </tr>\n    <tr>\n      <th>2</th>\n      <td>Eurospa Cotton Terry Face Towel Set</td>\n      <td>Key Features of Eurospa Cotton Terry Face Towe...</td>\n      <td>Baby Care</td>\n      <td>0</td>\n    </tr>\n    <tr>\n      <th>3</th>\n      <td>SANTOSH ROYAL FASHION Cotton Printed King size...</td>\n      <td>Key Features of SANTOSH ROYAL FASHION Cotton P...</td>\n      <td>Home Furnishing</td>\n      <td>4</td>\n    </tr>\n    <tr>\n      <th>4</th>\n      <td>Jaipur Print Cotton Floral King sized Double B...</td>\n      <td>Key Features of Jaipur Print Cotton Floral Kin...</td>\n      <td>Home Furnishing</td>\n      <td>4</td>\n    </tr>\n    <tr>\n      <th>...</th>\n      <td>...</td>\n      <td>...</td>\n      <td>...</td>\n      <td>...</td>\n    </tr>\n    <tr>\n      <th>1045</th>\n      <td>Oren Empower Extra Large Self Adhesive Sticker</td>\n      <td>Oren Empower Extra Large Self Adhesive Sticker...</td>\n      <td>Baby Care</td>\n      <td>0</td>\n    </tr>\n    <tr>\n      <th>1046</th>\n      <td>Wallmantra Large Vinyl Sticker Sticker</td>\n      <td>Wallmantra Large Vinyl Sticker Sticker (Pack o...</td>\n      <td>Baby Care</td>\n      <td>0</td>\n    </tr>\n    <tr>\n      <th>1047</th>\n      <td>Uberlyfe Extra Large Pigmented Polyvinyl Films...</td>\n      <td>Buy Uberlyfe Extra Large Pigmented Polyvinyl F...</td>\n      <td>Baby Care</td>\n      <td>0</td>\n    </tr>\n    <tr>\n      <th>1048</th>\n      <td>Wallmantra Medium Vinyl Sticker Sticker</td>\n      <td>Buy Wallmantra Medium Vinyl Sticker Sticker fo...</td>\n      <td>Baby Care</td>\n      <td>0</td>\n    </tr>\n    <tr>\n      <th>1049</th>\n      <td>Uberlyfe Large Vinyl Sticker</td>\n      <td>Buy Uberlyfe Large Vinyl Sticker for Rs.595 on...</td>\n      <td>Baby Care</td>\n      <td>0</td>\n    </tr>\n  </tbody>\n</table>\n<p>1050 rows × 4 columns</p>\n</div>"
     },
     "execution_count": 28,
     "metadata": {},
     "output_type": "execute_result"
    }
   ],
   "source": [
    "data_text = data_text.drop(columns=[\"_len_txt_\", \"_len_product_name_\"])\n",
    "data_text"
   ],
   "metadata": {
    "collapsed": false,
    "pycharm": {
     "name": "#%%\n"
    }
   }
  },
  {
   "cell_type": "markdown",
   "source": [
    "#### Explore corpus and documents"
   ],
   "metadata": {
    "collapsed": false,
    "pycharm": {
     "name": "#%% md\n"
    }
   }
  },
  {
   "cell_type": "markdown",
   "source": [
    "##### 1) print N random documents"
   ],
   "metadata": {
    "collapsed": false,
    "pycharm": {
     "name": "#%% md\n"
    }
   }
  },
  {
   "cell_type": "code",
   "execution_count": 29,
   "outputs": [
    {
     "data": {
      "text/plain": "                                          product_name  \\\n508  Lapguard HP Pavilion dv5-1015nr 6 Cell Laptop ...   \n770                Offspring Solid Single Blanket Pink   \n392                    Wild Stone Drift,Wave Combo Set   \n747  Mxofere Combo Papaya Aloevera Jasmine Rose Alm...   \n442                         Rute Baby Girl's Sleepsuit   \n451                        Lushomes Plain Back Cushion   \n779  Mxofere Combo Rose Jasmine Almond Honey Aloeve...   \n529  Times 317TMS317 Party-Wedding Analog Watch  - ...   \n182                      Printland PMR1902 Ceramic Mug   \n381               Envy 1000 Intense,Magnetic Combo Set   \n827                    meSleep Abstract Cushions Cover   \n316               Wild Stone Smoke And Juice Combo Set   \n839                   Himtek light led 1 USB Led Light   \n757  SVM Navratri Special 7 Analog Watch  - For Gir...   \n414              Playboy London And New York Combo Set   \n416                           Playboy Berlin Combo Set   \n923     Pinc Ginger 90.6 inch Black, White Rice Lights   \n95   Exotic India Blessing Buddha Showpiece  -  36....   \n327                                   Edimax BR-6428NC   \n372                  Wild Stone Charge,Surge Combo Set   \n\n                                                  text  \\\n508  Buy Lapguard HP Pavilion dv5-1015nr 6 Cell Lap...   \n770  Buy Offspring Solid Single Blanket Pink at Rs....   \n392  Flipkart.com: Buy Wild Stone Drift,Wave Combo ...   \n747  Buy Mxofere Combo Papaya Aloevera Jasmine Rose...   \n442  Key Features of Rute Baby Girl's Sleepsuit Fab...   \n451  Key Features of Lushomes Plain Back Cushion Av...   \n779  Buy Mxofere Combo Rose Jasmine Almond Honey Al...   \n529  Times 317TMS317 Party-Wedding Analog Watch  - ...   \n182  Printland PMR1902 Ceramic Mug (350 ml)\\r\\n    ...   \n381  Flipkart.com: Buy Envy 1000 Intense,Magnetic C...   \n827  Buy meSleep Abstract Cushions Cover at Rs. 599...   \n316  Flipkart.com: Buy Wild Stone Smoke And Juice C...   \n839  Buy Himtek light led 1 USB Led Light for Rs.11...   \n757  SVM Navratri Special 7 Analog Watch  - For Gir...   \n414  Flipkart.com: Buy Playboy London And New York ...   \n416  Flipkart.com: Buy Playboy Berlin Combo Set onl...   \n923  Buy Pinc Ginger 90.6 inch Black, White Rice Li...   \n95   Buy Exotic India Blessing Buddha Showpiece  - ...   \n327  Buy Edimax BR-6428NC only for Rs. 2150 from Fl...   \n372  Flipkart.com: Buy Wild Stone Charge,Surge Comb...   \n\n                       category  target  \n508                   Computers       2  \n770                   Baby Care       0  \n392    Beauty and Personal Care       1  \n747    Beauty and Personal Care       1  \n442                   Baby Care       0  \n451             Home Furnishing       4  \n779    Beauty and Personal Care       1  \n529                     Watches       6  \n182            Kitchen & Dining       5  \n381    Beauty and Personal Care       1  \n827             Home Furnishing       4  \n316    Beauty and Personal Care       1  \n839                   Computers       2  \n757                     Watches       6  \n414    Beauty and Personal Care       1  \n416    Beauty and Personal Care       1  \n923  Home Decor & Festive Needs       3  \n95   Home Decor & Festive Needs       3  \n327                   Computers       2  \n372    Beauty and Personal Care       1  ",
      "text/html": "<div>\n<style scoped>\n    .dataframe tbody tr th:only-of-type {\n        vertical-align: middle;\n    }\n\n    .dataframe tbody tr th {\n        vertical-align: top;\n    }\n\n    .dataframe thead th {\n        text-align: right;\n    }\n</style>\n<table border=\"1\" class=\"dataframe\">\n  <thead>\n    <tr style=\"text-align: right;\">\n      <th></th>\n      <th>product_name</th>\n      <th>text</th>\n      <th>category</th>\n      <th>target</th>\n    </tr>\n  </thead>\n  <tbody>\n    <tr>\n      <th>508</th>\n      <td>Lapguard HP Pavilion dv5-1015nr 6 Cell Laptop ...</td>\n      <td>Buy Lapguard HP Pavilion dv5-1015nr 6 Cell Lap...</td>\n      <td>Computers</td>\n      <td>2</td>\n    </tr>\n    <tr>\n      <th>770</th>\n      <td>Offspring Solid Single Blanket Pink</td>\n      <td>Buy Offspring Solid Single Blanket Pink at Rs....</td>\n      <td>Baby Care</td>\n      <td>0</td>\n    </tr>\n    <tr>\n      <th>392</th>\n      <td>Wild Stone Drift,Wave Combo Set</td>\n      <td>Flipkart.com: Buy Wild Stone Drift,Wave Combo ...</td>\n      <td>Beauty and Personal Care</td>\n      <td>1</td>\n    </tr>\n    <tr>\n      <th>747</th>\n      <td>Mxofere Combo Papaya Aloevera Jasmine Rose Alm...</td>\n      <td>Buy Mxofere Combo Papaya Aloevera Jasmine Rose...</td>\n      <td>Beauty and Personal Care</td>\n      <td>1</td>\n    </tr>\n    <tr>\n      <th>442</th>\n      <td>Rute Baby Girl's Sleepsuit</td>\n      <td>Key Features of Rute Baby Girl's Sleepsuit Fab...</td>\n      <td>Baby Care</td>\n      <td>0</td>\n    </tr>\n    <tr>\n      <th>451</th>\n      <td>Lushomes Plain Back Cushion</td>\n      <td>Key Features of Lushomes Plain Back Cushion Av...</td>\n      <td>Home Furnishing</td>\n      <td>4</td>\n    </tr>\n    <tr>\n      <th>779</th>\n      <td>Mxofere Combo Rose Jasmine Almond Honey Aloeve...</td>\n      <td>Buy Mxofere Combo Rose Jasmine Almond Honey Al...</td>\n      <td>Beauty and Personal Care</td>\n      <td>1</td>\n    </tr>\n    <tr>\n      <th>529</th>\n      <td>Times 317TMS317 Party-Wedding Analog Watch  - ...</td>\n      <td>Times 317TMS317 Party-Wedding Analog Watch  - ...</td>\n      <td>Watches</td>\n      <td>6</td>\n    </tr>\n    <tr>\n      <th>182</th>\n      <td>Printland PMR1902 Ceramic Mug</td>\n      <td>Printland PMR1902 Ceramic Mug (350 ml)\\r\\n    ...</td>\n      <td>Kitchen &amp; Dining</td>\n      <td>5</td>\n    </tr>\n    <tr>\n      <th>381</th>\n      <td>Envy 1000 Intense,Magnetic Combo Set</td>\n      <td>Flipkart.com: Buy Envy 1000 Intense,Magnetic C...</td>\n      <td>Beauty and Personal Care</td>\n      <td>1</td>\n    </tr>\n    <tr>\n      <th>827</th>\n      <td>meSleep Abstract Cushions Cover</td>\n      <td>Buy meSleep Abstract Cushions Cover at Rs. 599...</td>\n      <td>Home Furnishing</td>\n      <td>4</td>\n    </tr>\n    <tr>\n      <th>316</th>\n      <td>Wild Stone Smoke And Juice Combo Set</td>\n      <td>Flipkart.com: Buy Wild Stone Smoke And Juice C...</td>\n      <td>Beauty and Personal Care</td>\n      <td>1</td>\n    </tr>\n    <tr>\n      <th>839</th>\n      <td>Himtek light led 1 USB Led Light</td>\n      <td>Buy Himtek light led 1 USB Led Light for Rs.11...</td>\n      <td>Computers</td>\n      <td>2</td>\n    </tr>\n    <tr>\n      <th>757</th>\n      <td>SVM Navratri Special 7 Analog Watch  - For Gir...</td>\n      <td>SVM Navratri Special 7 Analog Watch  - For Gir...</td>\n      <td>Watches</td>\n      <td>6</td>\n    </tr>\n    <tr>\n      <th>414</th>\n      <td>Playboy London And New York Combo Set</td>\n      <td>Flipkart.com: Buy Playboy London And New York ...</td>\n      <td>Beauty and Personal Care</td>\n      <td>1</td>\n    </tr>\n    <tr>\n      <th>416</th>\n      <td>Playboy Berlin Combo Set</td>\n      <td>Flipkart.com: Buy Playboy Berlin Combo Set onl...</td>\n      <td>Beauty and Personal Care</td>\n      <td>1</td>\n    </tr>\n    <tr>\n      <th>923</th>\n      <td>Pinc Ginger 90.6 inch Black, White Rice Lights</td>\n      <td>Buy Pinc Ginger 90.6 inch Black, White Rice Li...</td>\n      <td>Home Decor &amp; Festive Needs</td>\n      <td>3</td>\n    </tr>\n    <tr>\n      <th>95</th>\n      <td>Exotic India Blessing Buddha Showpiece  -  36....</td>\n      <td>Buy Exotic India Blessing Buddha Showpiece  - ...</td>\n      <td>Home Decor &amp; Festive Needs</td>\n      <td>3</td>\n    </tr>\n    <tr>\n      <th>327</th>\n      <td>Edimax BR-6428NC</td>\n      <td>Buy Edimax BR-6428NC only for Rs. 2150 from Fl...</td>\n      <td>Computers</td>\n      <td>2</td>\n    </tr>\n    <tr>\n      <th>372</th>\n      <td>Wild Stone Charge,Surge Combo Set</td>\n      <td>Flipkart.com: Buy Wild Stone Charge,Surge Comb...</td>\n      <td>Beauty and Personal Care</td>\n      <td>1</td>\n    </tr>\n  </tbody>\n</table>\n</div>"
     },
     "execution_count": 29,
     "metadata": {},
     "output_type": "execute_result"
    }
   ],
   "source": [
    "df_sample = data_text.sample(20)\n",
    "df_sample"
   ],
   "metadata": {
    "collapsed": false,
    "pycharm": {
     "name": "#%%\n"
    }
   }
  },
  {
   "cell_type": "code",
   "execution_count": 30,
   "outputs": [
    {
     "name": "stdout",
     "output_type": "stream",
     "text": [
      "target: 2\n",
      "Buy Lapguard HP Pavilion dv5-1015nr 6 Cell Laptop Battery only for Rs. 0.0 from Flipkart.com. Only Genuine Products. 30 Day Replacement Guarantee. Free Shipping. Cash On Delivery!...\n",
      "\n",
      "\n",
      "target: 0\n",
      "Buy Offspring Solid Single Blanket Pink at Rs. 305 at Flipkart.com. Only Genuine Products. Free Shipping. Cash On Delivery!...\n",
      "\n",
      "\n",
      "target: 1\n",
      "Flipkart.com: Buy Wild Stone Drift,Wave Combo Set online only for Rs. 355 from Flipkart.com. Only Genuine Products. 30 Day Replacement Guarantee. Free Shipping. Cash On Delivery!...\n",
      "\n",
      "\n",
      "target: 1\n",
      "Buy Mxofere Combo Papaya Aloevera Jasmine Rose Almond Honey Soap Kit for Rs.295 online. Mxofere Combo Papaya Aloevera Jasmine Rose Almond Honey Soap Kit at best prices with FREE shipping & cash on delivery. Only Genuine Products. 30 Day Replacement Guarantee....\n",
      "\n",
      "\n",
      "target: 0\n",
      "Key Features of Rute Baby Girl's Sleepsuit Fabric: Cotton Brand Color: Pink,Rute Baby Girl's Sleepsuit Price: Rs. 399 Rute Pink embroidered cotton sleepsuit,Specifications of Rute Baby Girl's Sleepsuit General Details Ideal For Baby Girl's Age Group 0 -  24 month Pattern Embroidered Fabric Cotton Neck Round Neck Sleeve Full Sleeve Bootie Yes Hood No Closure Snap Buttons Number of Contents in Sales Package Pack of 1 Fabric Care Wash with Similar Colors, Use Detergent for Colors Dimensions Length Full In The Box 1 Sleepsuit...\n",
      "\n",
      "\n",
      "target: 4\n",
      "Key Features of Lushomes Plain Back Cushion Available in various color options and packing combination to suit every décor need. Super soft and fluffy. Uber stylish cushions to take you from the ordinary to the extra ordinary. Package Contents: 5 Cushions with fancy buttons Size: 16 inch x 16 inch or 40 cm x 40 cm,Lushomes Plain Back Cushion (Pack of5, Brown) Price: Rs. 1,599 Elevate your living with theseuberstylish cushions which come with coordinating buttons. The multi-tone fabric leaves the guest amazed whereas the fantastic design goes with any home décor setting. The variety of color options will leave you greedy for more. They are filled with high quality hollow siliconised polyester and stitched to perfection. Available in different sizes and packing combinations to vivify your homes. As we have vacuum packed it, kindly get it out of the poly bag and blow some direct air to make your lounge or any bedroom look fabulous.,Specifications of Lushomes Plain Back Cushion (Pack of5, Brown) General External Material Velvet Brand Lushomes Type Back Cushion Model Name Fancy Buttons Filling Material Polyester Fibre Model ID PLBF16P5-1010 Pillow Design Cushions with Buttons Color Brown Dimensions Weight 880 g Length 40 cm Width 40 cm Depth 2 cm In the Box Number of Contents in Sales Package 5 Sales Package 5 Cushions with Buttons...\n",
      "\n",
      "\n",
      "target: 1\n",
      "Buy Mxofere Combo Rose Jasmine Almond Honey Aloevera Mixfruit Soap Kit for Rs.295 online. Mxofere Combo Rose Jasmine Almond Honey Aloevera Mixfruit Soap Kit at best prices with FREE shipping & cash on delivery. Only Genuine Products. 30 Day Replacement Guarantee....\n",
      "\n",
      "\n",
      "target: 6\n",
      "Times 317TMS317 Party-Wedding Analog Watch  - For Men - Buy Times 317TMS317 Party-Wedding Analog Watch  - For Men  317TMS317 Online at Rs.550 in India Only at Flipkart.com. - Great Discounts, Only Genuine Products, 30 Day Replacement Guarantee, Free Shipping. Cash On Delivery!...\n",
      "\n",
      "\n",
      "target: 5\n",
      "Printland PMR1902 Ceramic Mug (350 ml)\r\n",
      "                         Price: Rs. 299\r\n",
      "\t\t\t\t\r\n",
      "\t\t\tPrintland coffee mug is an adorable and a fantastic coffee mug. One can enjoy their morning coffee/tea in this huge mug. It is made of ceramic material. It is a perfect add on to your kitchen wardrobe. It looks very stylish & elegant to serve tea/coffee in this mug during a casual get together at home. It is also a perfect gift to be presented to your loved one.\r\n",
      "Printland coffee mug is an adorable and a fantastic coffee mug. One can enjoy their morning coffee/tea in this huge mug. It is made of ceramic material. It is a perfect add on to your kitchen wardrobe. It looks very stylish & elegant to serve tea/coffee in this mug during a casual get together at home. It is also a perfect gift to be presented to your loved one....\n",
      "\n",
      "\n",
      "target: 1\n",
      "Flipkart.com: Buy Envy 1000 Intense,Magnetic Combo Set online only for Rs. 350 from Flipkart.com. Only Genuine Products. 30 Day Replacement Guarantee. Free Shipping. Cash On Delivery!...\n",
      "\n",
      "\n",
      "target: 4\n",
      "Buy meSleep Abstract Cushions Cover at Rs. 599 at Flipkart.com. Only Genuine Products. Free Shipping. Cash On Delivery!...\n",
      "\n",
      "\n",
      "target: 1\n",
      "Flipkart.com: Buy Wild Stone Smoke And Juice Combo Set online only for Rs. 350 from Flipkart.com. Only Genuine Products. 30 Day Replacement Guarantee. Free Shipping. Cash On Delivery!...\n",
      "\n",
      "\n",
      "target: 2\n",
      "Buy Himtek light led 1 USB Led Light for Rs.119 online. Himtek light led 1 USB Led Light at best prices with FREE shipping & cash on delivery. Only Genuine Products. 30 Day Replacement Guarantee....\n",
      "\n",
      "\n",
      "target: 6\n",
      "SVM Navratri Special 7 Analog Watch  - For Girls, Women - Buy SVM Navratri Special 7 Analog Watch  - For Girls, Women  Navratri Special 7 Online at Rs.244 in India Only at Flipkart.com. - Great Discounts, Only Genuine Products, 30 Day Replacement Guarantee, Free Shipping. Cash On Delivery!...\n",
      "\n",
      "\n",
      "target: 1\n",
      "Flipkart.com: Buy Playboy London And New York Combo Set online only for Rs. 350 from Flipkart.com. Only Genuine Products. 30 Day Replacement Guarantee. Free Shipping. Cash On Delivery!...\n",
      "\n",
      "\n",
      "target: 1\n",
      "Flipkart.com: Buy Playboy Berlin Combo Set online only for Rs. 349 from Flipkart.com. Only Genuine Products. 30 Day Replacement Guarantee. Free Shipping. Cash On Delivery!...\n",
      "\n",
      "\n",
      "target: 3\n",
      "Buy Pinc Ginger 90.6 inch Black, White Rice Lights for Rs.3000 online. Pinc Ginger 90.6 inch Black, White Rice Lights at best prices with FREE shipping & cash on delivery. Only Genuine Products. 30 Day Replacement Guarantee....\n",
      "\n",
      "\n",
      "target: 3\n",
      "Buy Exotic India Blessing Buddha Showpiece  -  36.83 cm for Rs.15000 online. Exotic India Blessing Buddha Showpiece  -  36.83 cm at best prices with FREE shipping & cash on delivery. Only Genuine Products. 30 Day Replacement Guarantee....\n",
      "\n",
      "\n",
      "target: 2\n",
      "Buy Edimax BR-6428NC only for Rs. 2150 from Flipkart.com. Only Genuine Products. 30 Day Replacement Guarantee. Free Shipping. Cash On Delivery!...\n",
      "\n",
      "\n",
      "target: 1\n",
      "Flipkart.com: Buy Wild Stone Charge,Surge Combo Set online only for Rs. 345 from Flipkart.com. Only Genuine Products. 30 Day Replacement Guarantee. Free Shipping. Cash On Delivery!...\n",
      "\n",
      "\n"
     ]
    }
   ],
   "source": [
    "for index, series in df_sample.iterrows():\n",
    "    text_1 = f\"target: {series['target']}\\n\"\n",
    "    print(text_1 + series[\"text\"] + \"...\" + \"\\n\\n\")"
   ],
   "metadata": {
    "collapsed": false,
    "pycharm": {
     "name": "#%%\n"
    }
   }
  },
  {
   "cell_type": "markdown",
   "source": [
    "##### 2) print documents vs target"
   ],
   "metadata": {
    "collapsed": false,
    "pycharm": {
     "name": "#%% md\n"
    }
   }
  },
  {
   "cell_type": "code",
   "execution_count": 31,
   "outputs": [],
   "source": [
    "def print_sample(sub_df, n_sample=10):\n",
    "    \"\"\"\n",
    "    Prints out n_sample documents from a corpus\n",
    "    :param sub_df:\n",
    "    :param n_sample:\n",
    "    :return:\n",
    "    \"\"\"\n",
    "    sample = sub_df.sample(n_sample)\n",
    "\n",
    "    for index, series in sample.iterrows():\n",
    "        text_1 = f\"target: {series['target']}\\n\"\n",
    "        print(text_1 + series[\"text\"] + \"...\" + \"\\n\\n\")"
   ],
   "metadata": {
    "collapsed": false,
    "pycharm": {
     "name": "#%%\n"
    }
   }
  },
  {
   "cell_type": "code",
   "execution_count": 32,
   "outputs": [
    {
     "data": {
      "text/plain": "                                         product_name  \\\n43  Burt s Bees Hair Repair Shea And Grapefruit De...   \n49    Suave Naturals Everlasting Sunshine Conditioner   \n56        Borse N16 Make Up And Jewellery Vanity Case   \n57  RYTHMX FB NAIL POLISHES BLACK LIPSTICKS IMPORT...   \n58  RYTHMX FB NAIL POLISHES BLACK LIPSTICKS IMPORT...   \n\n                                                 text  \\\n43  Key Features of Burt s Bees Hair Repair Shea A...   \n49  Key Features of Suave Naturals Everlasting Sun...   \n56  Buy Borse N16 Make Up And Jewellery Vanity Cas...   \n57  Specifications of RYTHMX FB NAIL POLISHES BLAC...   \n58  Key Features of RYTHMX FB NAIL POLISHES BLACK ...   \n\n                    category  target  \n43  Beauty and Personal Care       1  \n49  Beauty and Personal Care       1  \n56  Beauty and Personal Care       1  \n57  Beauty and Personal Care       1  \n58  Beauty and Personal Care       1  ",
      "text/html": "<div>\n<style scoped>\n    .dataframe tbody tr th:only-of-type {\n        vertical-align: middle;\n    }\n\n    .dataframe tbody tr th {\n        vertical-align: top;\n    }\n\n    .dataframe thead th {\n        text-align: right;\n    }\n</style>\n<table border=\"1\" class=\"dataframe\">\n  <thead>\n    <tr style=\"text-align: right;\">\n      <th></th>\n      <th>product_name</th>\n      <th>text</th>\n      <th>category</th>\n      <th>target</th>\n    </tr>\n  </thead>\n  <tbody>\n    <tr>\n      <th>43</th>\n      <td>Burt s Bees Hair Repair Shea And Grapefruit De...</td>\n      <td>Key Features of Burt s Bees Hair Repair Shea A...</td>\n      <td>Beauty and Personal Care</td>\n      <td>1</td>\n    </tr>\n    <tr>\n      <th>49</th>\n      <td>Suave Naturals Everlasting Sunshine Conditioner</td>\n      <td>Key Features of Suave Naturals Everlasting Sun...</td>\n      <td>Beauty and Personal Care</td>\n      <td>1</td>\n    </tr>\n    <tr>\n      <th>56</th>\n      <td>Borse N16 Make Up And Jewellery Vanity Case</td>\n      <td>Buy Borse N16 Make Up And Jewellery Vanity Cas...</td>\n      <td>Beauty and Personal Care</td>\n      <td>1</td>\n    </tr>\n    <tr>\n      <th>57</th>\n      <td>RYTHMX FB NAIL POLISHES BLACK LIPSTICKS IMPORT...</td>\n      <td>Specifications of RYTHMX FB NAIL POLISHES BLAC...</td>\n      <td>Beauty and Personal Care</td>\n      <td>1</td>\n    </tr>\n    <tr>\n      <th>58</th>\n      <td>RYTHMX FB NAIL POLISHES BLACK LIPSTICKS IMPORT...</td>\n      <td>Key Features of RYTHMX FB NAIL POLISHES BLACK ...</td>\n      <td>Beauty and Personal Care</td>\n      <td>1</td>\n    </tr>\n  </tbody>\n</table>\n</div>"
     },
     "execution_count": 32,
     "metadata": {},
     "output_type": "execute_result"
    }
   ],
   "source": [
    "df_1 = data_text[data_text.target == 1]\n",
    "df_1.head()"
   ],
   "metadata": {
    "collapsed": false,
    "pycharm": {
     "name": "#%%\n"
    }
   }
  },
  {
   "cell_type": "code",
   "execution_count": 33,
   "outputs": [
    {
     "name": "stdout",
     "output_type": "stream",
     "text": [
      "target: 1\n",
      "Buy Mxofere Combo Rose Soap And Aloevera Lemon Facewash Kit for Rs.285 online. Mxofere Combo Rose Soap And Aloevera Lemon Facewash Kit at best prices with FREE shipping & cash on delivery. Only Genuine Products. 30 Day Replacement Guarantee....\n",
      "\n",
      "\n",
      "target: 1\n",
      "SSCP Pine Oil (30 ml)\r\n",
      "                         Price: Rs. 319\r\n",
      "\t\t\t\t\r\n",
      "\t\t\tPine oil is most useful to relieve mental, physical and sexual fatigue, while having a cleansing and invigorating effect on an area and is great for vapor therapy in a sick room as it promotes healing. It can be used for cuts and sores, scabies and lice and for excessive perspiration, while its warming properties help with rheumatism, arthritis, gout, muscular aches and pains and it can stimulate circulation. Furthermore it can help in cases of bronchitis, asthma, catarrh, coughs, laryngitis, colds and flu. It eases breathlessness and sinusitis.\r\n",
      "Pine oil is most useful to relieve mental, physical and sexual fatigue, while having a cleansing and invigorating effect on an area and is great for vapor therapy in a sick room as it promotes healing. It can be used for cuts and sores, scabies and lice and for excessive perspiration, while its warming properties help with rheumatism, arthritis, gout, muscular aches and pains and it can stimulate circulation. Furthermore it can help in cases of bronchitis, asthma, catarrh, coughs, laryngitis, colds and flu. It eases breathlessness and sinusitis....\n",
      "\n",
      "\n",
      "target: 1\n",
      "Good Way Peppermint Lip Balm Pepper (8 g) Price: Rs. 85 Refresh your lips with the cool sensation of soothing Peppermint! Scented with Peppermint essential oil and other natural moisturizers, this Peppermint Lip Balm softens for lips that are sure to stir-up a Buzz.,Specifications of Good Way Peppermint Lip Balm Pepper (8 g) Lip Balm Traits Flavor Pepper General Traits Organic Type Natural Quantity 8 g Shade pink Ideal For Women In the Box 1...\n",
      "\n",
      "\n",
      "target: 1\n",
      "Specifications of Kerastase Nutritive Bain Satin 1 Complete Nutrition Shampoo (250 ml) Shampoo Traits Hair Type Dry Hair, Normal Hair Applied For Nourishment & Moisturization Ideal For Women, Men Composition Cationic Polymers, Silicone Derivatives General Traits Brand Kerastase Quantity 250 ml Other Traits Smoothes and Protects Hair, Leaves Hair Soft, Supple, Shiny and Manageable, Also Ideal for Slightly Sensitive Hair Model Name Nutritive Bain Satin 1 Complete Nutrition Shampoo Container Type Bottle...\n",
      "\n",
      "\n",
      "target: 1\n",
      "Flipkart.com: Buy Addiction Rio,Hawaii Combo Set online only for Rs. 250 from Flipkart.com. Only Genuine Products. 30 Day Replacement Guarantee. Free Shipping. Cash On Delivery!...\n",
      "\n",
      "\n",
      "target: 1\n",
      "Flipkart.com: Buy Nike Casual Combo Set online only for Rs. 410 from Flipkart.com. Only Genuine Products. 30 Day Replacement Guarantee. Free Shipping. Cash On Delivery!...\n",
      "\n",
      "\n",
      "target: 1\n",
      "Giorgio Armani SMOOTH SILK LIP PENCIL 12 (Soyeux 12) Price: Rs. 1,710 Glides on smoothly and defines the look of your lips with gorgeous colour.,Specifications of Giorgio Armani SMOOTH SILK LIP PENCIL 12 (Soyeux 12) Lip Liner Details Dual-tipped No Shade Soyeux 12 Waterproof No Smudge-free No Size 1.14 In the Box 1 Lip Pencil...\n",
      "\n",
      "\n",
      "target: 1\n",
      "Flipkart.com: Buy Yardley Red Roses and Lace Combo Set online only for Rs. 319 from Flipkart.com. Only Genuine Products. 30 Day Replacement Guarantee. Free Shipping. Cash On Delivery!...\n",
      "\n",
      "\n",
      "target: 1\n",
      "Flipkart.com: Buy Denver Cool,Honour Combo Set online only for Rs. 350 from Flipkart.com. Only Genuine Products. 30 Day Replacement Guarantee. Free Shipping. Cash On Delivery!...\n",
      "\n",
      "\n",
      "target: 1\n",
      "Flipkart.com: Buy Aero Care La Royal Orange & Ice Combo Set online only for Rs. 165 from Flipkart.com. Only Genuine Products. 30 Day Replacement Guarantee. Free Shipping. Cash On Delivery!...\n",
      "\n",
      "\n"
     ]
    }
   ],
   "source": [
    "print_sample(df_1)"
   ],
   "metadata": {
    "collapsed": false,
    "pycharm": {
     "name": "#%%\n"
    }
   }
  },
  {
   "cell_type": "code",
   "execution_count": 34,
   "outputs": [
    {
     "name": "stdout",
     "output_type": "stream",
     "text": [
      "target: 6\n",
      "CB Fashion 108-121 Analog Watch  - For Women - Buy CB Fashion 108-121 Analog Watch  - For Women  108-121 Online at Rs.619 in India Only at Flipkart.com. - Great Discounts, Only Genuine Products, 30 Day Replacement Guarantee, Free Shipping. Cash On Delivery!...\n",
      "\n",
      "\n",
      "target: 6\n",
      "Perucci PC-218 Decker Analog Watch  - For Men - Buy Perucci PC-218 Decker Analog Watch  - For Men  PC-218 Online at Rs.1290 in India Only at Flipkart.com. Beautifull Watches, Comfortable Watches, Fancy Watche, Stylish Watches - Great Discounts, Only Genuine Products, 30 Day Replacement Guarantee, Free Shipping. Cash On Delivery!...\n",
      "\n",
      "\n",
      "target: 6\n",
      "Times 284TMS284 Party-Wedding Analog Watch  - For Women - Buy Times 284TMS284 Party-Wedding Analog Watch  - For Women  284TMS284 Online at Rs.550 in India Only at Flipkart.com. - Great Discounts, Only Genuine Products, 30 Day Replacement Guarantee, Free Shipping. Cash On Delivery!...\n",
      "\n",
      "\n",
      "target: 6\n",
      "Lois Caron LCS-4032 Analog Watch  - For Boys, Men - Buy Lois Caron LCS-4032 Analog Watch  - For Boys, Men  LCS-4032 Online at Rs.399 in India Only at Flipkart.com. - Great Discounts, Only Genuine Products, 30 Day Replacement Guarantee, Free Shipping. Cash On Delivery!...\n",
      "\n",
      "\n",
      "target: 6\n",
      "Maxima 23952LMLI Swarovski Analog Watch  - For Women - Buy Maxima 23952LMLI Swarovski Analog Watch  - For Women  23952LMLI Online at Rs.895 in India Only at Flipkart.com. Rectangular Dial, Buckle Clasp, Pink Strap, Brass Case, Water Resistant - Great Discounts, Only Genuine Products, 30 Day Replacement Guarantee, Free Shipping. Cash On Delivery!...\n",
      "\n",
      "\n",
      "target: 6\n",
      "Lenco Bdblue Tango Analog Watch  - For Men, Boys - Buy Lenco Bdblue Tango Analog Watch  - For Men, Boys  Bdblue Online at Rs.599 in India Only at Flipkart.com. Sports Watch, Casual Watch, Big Size Dial, Colourful Strap - Great Discounts, Only Genuine Products, 30 Day Replacement Guarantee, Free Shipping. Cash On Delivery!...\n",
      "\n",
      "\n",
      "target: 6\n",
      "RRTC RRTC1105SM00 Basic Analog Watch  - For Women - Buy RRTC RRTC1105SM00 Basic Analog Watch  - For Women  RRTC1105SM00 Online at Rs.735 in India Only at Flipkart.com. - Great Discounts, Only Genuine Products, 30 Day Replacement Guarantee, Free Shipping. Cash On Delivery!...\n",
      "\n",
      "\n",
      "target: 6\n",
      "Skmei DG0939-Red Sports Digital Watch  - For Men, Boys - Buy Skmei DG0939-Red Sports Digital Watch  - For Men, Boys  DG0939-Red Online at Rs.999 in India Only at Flipkart.com. Digital Chronograph, Alarm Watch, Light Function, Date & Month Display - Great Discounts, Only Genuine Products, 30 Day Replacement Guarantee, Free Shipping. Cash On Delivery!...\n",
      "\n",
      "\n",
      "target: 6\n",
      "Maxima 24990LMLI Swarovski Analog Watch  - For Women - Buy Maxima 24990LMLI Swarovski Analog Watch  - For Women  24990LMLI Online at Rs.760 in India Only at Flipkart.com. Round Dial, Buckle Clasp, Water Resistant, Black Strap - Great Discounts, Only Genuine Products, 30 Day Replacement Guarantee, Free Shipping. Cash On Delivery!...\n",
      "\n",
      "\n",
      "target: 6\n",
      "LUBA HF45 Stylo Analog Watch  - For Men - Buy LUBA HF45 Stylo Analog Watch  - For Men  HF45 Online at Rs.265 in India Only at Flipkart.com. - Great Discounts, Only Genuine Products, 30 Day Replacement Guarantee, Free Shipping. Cash On Delivery!...\n",
      "\n",
      "\n"
     ]
    }
   ],
   "source": [
    "df_6 = data_text[data_text.target == 6]\n",
    "print_sample(df_6)"
   ],
   "metadata": {
    "collapsed": false,
    "pycharm": {
     "name": "#%%\n"
    }
   }
  },
  {
   "cell_type": "code",
   "execution_count": 34,
   "outputs": [],
   "source": [],
   "metadata": {
    "collapsed": false,
    "pycharm": {
     "name": "#%%\n"
    }
   }
  },
  {
   "cell_type": "markdown",
   "source": [
    "## Part II : Text processing"
   ],
   "metadata": {
    "collapsed": false,
    "pycharm": {
     "name": "#%% md\n"
    }
   }
  },
  {
   "cell_type": "markdown",
   "source": [
    "##### Downloads and options"
   ],
   "metadata": {
    "collapsed": false,
    "pycharm": {
     "name": "#%% md\n"
    }
   }
  },
  {
   "cell_type": "code",
   "execution_count": 35,
   "outputs": [
    {
     "name": "stderr",
     "output_type": "stream",
     "text": [
      "[nltk_data] Downloading package stopwords to\n",
      "[nltk_data]     C:\\Users\\oumei\\AppData\\Roaming\\nltk_data...\n",
      "[nltk_data]   Package stopwords is already up-to-date!\n",
      "[nltk_data] Downloading package wordnet to\n",
      "[nltk_data]     C:\\Users\\oumei\\AppData\\Roaming\\nltk_data...\n",
      "[nltk_data]   Package wordnet is already up-to-date!\n",
      "[nltk_data] Downloading package omw-1.4 to\n",
      "[nltk_data]     C:\\Users\\oumei\\AppData\\Roaming\\nltk_data...\n",
      "[nltk_data]   Package omw-1.4 is already up-to-date!\n",
      "[nltk_data] Downloading package words to\n",
      "[nltk_data]     C:\\Users\\oumei\\AppData\\Roaming\\nltk_data...\n",
      "[nltk_data]   Package words is already up-to-date!\n"
     ]
    },
    {
     "data": {
      "text/plain": "True"
     },
     "execution_count": 35,
     "metadata": {},
     "output_type": "execute_result"
    }
   ],
   "source": [
    "# download\n",
    "\n",
    "nltk.download('stopwords')\n",
    "nltk.download('wordnet')\n",
    "nltk.download('omw-1.4')\n",
    "nltk.download('words')"
   ],
   "metadata": {
    "collapsed": false,
    "pycharm": {
     "name": "#%%\n"
    }
   }
  },
  {
   "cell_type": "code",
   "execution_count": 36,
   "outputs": [
    {
     "name": "stdout",
     "output_type": "stream",
     "text": [
      "INFO: Pandarallel will run on 6 workers.\n",
      "INFO: Pandarallel will use standard multiprocessing data transfer (pipe) to transfer data between the main process and workers.\n",
      "\n",
      "WARNING: You are on Windows. If you detect any issue with pandarallel, be sure you checked out the Troubleshooting page:\n",
      "https://nalepae.github.io/pandarallel/troubleshooting/\n"
     ]
    }
   ],
   "source": [
    "# pandarallel\n",
    "pandarallel.initialize(progress_bar=True, nb_workers=6\n",
    "                       #, verbose=1\n",
    ")"
   ],
   "metadata": {
    "collapsed": false,
    "pycharm": {
     "name": "#%%\n"
    }
   }
  },
  {
   "cell_type": "code",
   "execution_count": 37,
   "outputs": [],
   "source": [
    "# init sns\n",
    "sns.set()"
   ],
   "metadata": {
    "collapsed": false,
    "pycharm": {
     "name": "#%%\n"
    }
   }
  },
  {
   "cell_type": "code",
   "execution_count": 37,
   "outputs": [],
   "source": [],
   "metadata": {
    "collapsed": false,
    "pycharm": {
     "name": "#%%\n"
    }
   }
  },
  {
   "cell_type": "markdown",
   "source": [
    "##### Loading data"
   ],
   "metadata": {
    "collapsed": false,
    "pycharm": {
     "name": "#%% md\n"
    }
   }
  },
  {
   "cell_type": "code",
   "execution_count": 38,
   "outputs": [
    {
     "data": {
      "text/plain": "                                        product_name  \\\n0  Elegance Polyester Multicolor Abstract Eyelet ...   \n1                         Sathiyas Cotton Bath Towel   \n2                Eurospa Cotton Terry Face Towel Set   \n3  SANTOSH ROYAL FASHION Cotton Printed King size...   \n4  Jaipur Print Cotton Floral King sized Double B...   \n\n                                                text         category  target  \n0  Key Features of Elegance Polyester Multicolor ...  Home Furnishing       4  \n1  Specifications of Sathiyas Cotton Bath Towel (...        Baby Care       0  \n2  Key Features of Eurospa Cotton Terry Face Towe...        Baby Care       0  \n3  Key Features of SANTOSH ROYAL FASHION Cotton P...  Home Furnishing       4  \n4  Key Features of Jaipur Print Cotton Floral Kin...  Home Furnishing       4  ",
      "text/html": "<div>\n<style scoped>\n    .dataframe tbody tr th:only-of-type {\n        vertical-align: middle;\n    }\n\n    .dataframe tbody tr th {\n        vertical-align: top;\n    }\n\n    .dataframe thead th {\n        text-align: right;\n    }\n</style>\n<table border=\"1\" class=\"dataframe\">\n  <thead>\n    <tr style=\"text-align: right;\">\n      <th></th>\n      <th>product_name</th>\n      <th>text</th>\n      <th>category</th>\n      <th>target</th>\n    </tr>\n  </thead>\n  <tbody>\n    <tr>\n      <th>0</th>\n      <td>Elegance Polyester Multicolor Abstract Eyelet ...</td>\n      <td>Key Features of Elegance Polyester Multicolor ...</td>\n      <td>Home Furnishing</td>\n      <td>4</td>\n    </tr>\n    <tr>\n      <th>1</th>\n      <td>Sathiyas Cotton Bath Towel</td>\n      <td>Specifications of Sathiyas Cotton Bath Towel (...</td>\n      <td>Baby Care</td>\n      <td>0</td>\n    </tr>\n    <tr>\n      <th>2</th>\n      <td>Eurospa Cotton Terry Face Towel Set</td>\n      <td>Key Features of Eurospa Cotton Terry Face Towe...</td>\n      <td>Baby Care</td>\n      <td>0</td>\n    </tr>\n    <tr>\n      <th>3</th>\n      <td>SANTOSH ROYAL FASHION Cotton Printed King size...</td>\n      <td>Key Features of SANTOSH ROYAL FASHION Cotton P...</td>\n      <td>Home Furnishing</td>\n      <td>4</td>\n    </tr>\n    <tr>\n      <th>4</th>\n      <td>Jaipur Print Cotton Floral King sized Double B...</td>\n      <td>Key Features of Jaipur Print Cotton Floral Kin...</td>\n      <td>Home Furnishing</td>\n      <td>4</td>\n    </tr>\n  </tbody>\n</table>\n</div>"
     },
     "execution_count": 38,
     "metadata": {},
     "output_type": "execute_result"
    }
   ],
   "source": [
    "data_text.head()"
   ],
   "metadata": {
    "collapsed": false,
    "pycharm": {
     "name": "#%%\n"
    }
   }
  },
  {
   "cell_type": "code",
   "execution_count": 39,
   "outputs": [
    {
     "data": {
      "text/plain": "(1050, 4)"
     },
     "execution_count": 39,
     "metadata": {},
     "output_type": "execute_result"
    }
   ],
   "source": [
    "data_text.shape"
   ],
   "metadata": {
    "collapsed": false,
    "pycharm": {
     "name": "#%%\n"
    }
   }
  },
  {
   "cell_type": "markdown",
   "source": [],
   "metadata": {
    "collapsed": false,
    "pycharm": {
     "name": "#%% md\n"
    }
   }
  },
  {
   "cell_type": "markdown",
   "source": [
    "### I) Cleaning the corpus"
   ],
   "metadata": {
    "collapsed": false,
    "pycharm": {
     "name": "#%% md\n"
    }
   }
  },
  {
   "cell_type": "markdown",
   "source": [
    "#### Work on a specific document"
   ],
   "metadata": {
    "collapsed": false,
    "pycharm": {
     "name": "#%% md\n"
    }
   }
  },
  {
   "cell_type": "code",
   "execution_count": 40,
   "outputs": [
    {
     "data": {
      "text/plain": "\"Sonpra Baby Boy's Bodysuit\\r\\n                         Price: Rs. 570\\r\\n\\t\\t\\t\\t\\r\\n\\t\\t\\t100% Cotton Baby Rompers Bodysuits , Combination of Solids & Stripes , Five Bodysuits (Pack of 5)- Best Gift For Your baby\\r\\n, Kids Safety & made with Premium Quality Soft Fabric\\r\\n, Save your little cutie pie . You surely avoid to go out with your baby but if you go out then do not worry about your kid's safety , from the house of Sonpra this set is now available online on this website to protect your kid.\\r\\n100% Cotton Baby Rompers Bodysuits , Combination of Solids & Stripes , Five Bodysuits (Pack of 5)- Best Gift For Your baby\\r\\n, Kids Safety & made with Premium Quality Soft Fabric\\r\\n, Save your little cutie pie . You surely avoid to go out with your baby but if you go out then do not worry about your kid's safety , from the house of Sonpra this set is now available online on this website to protect your kid.\""
     },
     "execution_count": 40,
     "metadata": {},
     "output_type": "execute_result"
    }
   ],
   "source": [
    "# select a random document\n",
    "\n",
    "doc = data_text.text.sample(1) # get a row\n",
    "doc = doc.values[0] # get a numpy array\n",
    "doc"
   ],
   "metadata": {
    "collapsed": false,
    "pycharm": {
     "name": "#%%\n"
    }
   }
  },
  {
   "cell_type": "markdown",
   "source": [
    "##### 1) Lower"
   ],
   "metadata": {
    "collapsed": false,
    "pycharm": {
     "name": "#%% md\n"
    }
   }
  },
  {
   "cell_type": "code",
   "execution_count": 41,
   "outputs": [
    {
     "data": {
      "text/plain": "\"sonpra baby boy's bodysuit\\r\\n                         price: rs. 570\\r\\n\\t\\t\\t\\t\\r\\n\\t\\t\\t100% cotton baby rompers bodysuits , combination of solids & stripes , five bodysuits (pack of 5)- best gift for your baby\\r\\n, kids safety & made with premium quality soft fabric\\r\\n, save your little cutie pie . you surely avoid to go out with your baby but if you go out then do not worry about your kid's safety , from the house of sonpra this set is now available online on this website to protect your kid.\\r\\n100% cotton baby rompers bodysuits , combination of solids & stripes , five bodysuits (pack of 5)- best gift for your baby\\r\\n, kids safety & made with premium quality soft fabric\\r\\n, save your little cutie pie . you surely avoid to go out with your baby but if you go out then do not worry about your kid's safety , from the house of sonpra this set is now available online on this website to protect your kid.\""
     },
     "execution_count": 41,
     "metadata": {},
     "output_type": "execute_result"
    }
   ],
   "source": [
    "doc = doc.lower()\n",
    "doc"
   ],
   "metadata": {
    "collapsed": false,
    "pycharm": {
     "name": "#%%\n"
    }
   }
  },
  {
   "cell_type": "markdown",
   "source": [
    "##### 2) Tokenization"
   ],
   "metadata": {
    "collapsed": false,
    "pycharm": {
     "name": "#%% md\n"
    }
   }
  },
  {
   "cell_type": "code",
   "execution_count": 42,
   "outputs": [
    {
     "data": {
      "text/plain": "['sonpra',\n 'baby',\n 'boy',\n \"'s\",\n 'bodysuit',\n 'price',\n ':',\n 'rs',\n '.',\n '570',\n '100',\n '%',\n 'cotton',\n 'baby',\n 'rompers',\n 'bodysuits',\n ',',\n 'combination',\n 'of',\n 'solids',\n '&',\n 'stripes',\n ',',\n 'five',\n 'bodysuits',\n '(',\n 'pack',\n 'of',\n '5',\n ')',\n '-',\n 'best',\n 'gift',\n 'for',\n 'your',\n 'baby',\n ',',\n 'kids',\n 'safety',\n '&',\n 'made',\n 'with',\n 'premium',\n 'quality',\n 'soft',\n 'fabric',\n ',',\n 'save',\n 'your',\n 'little',\n 'cutie',\n 'pie',\n '.',\n 'you',\n 'surely',\n 'avoid',\n 'to',\n 'go',\n 'out',\n 'with',\n 'your',\n 'baby',\n 'but',\n 'if',\n 'you',\n 'go',\n 'out',\n 'then',\n 'do',\n 'not',\n 'worry',\n 'about',\n 'your',\n 'kid',\n \"'s\",\n 'safety',\n ',',\n 'from',\n 'the',\n 'house',\n 'of',\n 'sonpra',\n 'this',\n 'set',\n 'is',\n 'now',\n 'available',\n 'online',\n 'on',\n 'this',\n 'website',\n 'to',\n 'protect',\n 'your',\n 'kid',\n '.',\n '100',\n '%',\n 'cotton',\n 'baby',\n 'rompers',\n 'bodysuits',\n ',',\n 'combination',\n 'of',\n 'solids',\n '&',\n 'stripes',\n ',',\n 'five',\n 'bodysuits',\n '(',\n 'pack',\n 'of',\n '5',\n ')',\n '-',\n 'best',\n 'gift',\n 'for',\n 'your',\n 'baby',\n ',',\n 'kids',\n 'safety',\n '&',\n 'made',\n 'with',\n 'premium',\n 'quality',\n 'soft',\n 'fabric',\n ',',\n 'save',\n 'your',\n 'little',\n 'cutie',\n 'pie',\n '.',\n 'you',\n 'surely',\n 'avoid',\n 'to',\n 'go',\n 'out',\n 'with',\n 'your',\n 'baby',\n 'but',\n 'if',\n 'you',\n 'go',\n 'out',\n 'then',\n 'do',\n 'not',\n 'worry',\n 'about',\n 'your',\n 'kid',\n \"'s\",\n 'safety',\n ',',\n 'from',\n 'the',\n 'house',\n 'of',\n 'sonpra',\n 'this',\n 'set',\n 'is',\n 'now',\n 'available',\n 'online',\n 'on',\n 'this',\n 'website',\n 'to',\n 'protect',\n 'your',\n 'kid',\n '.']"
     },
     "execution_count": 42,
     "metadata": {},
     "output_type": "execute_result"
    }
   ],
   "source": [
    "tokens = word_tokenize(doc)\n",
    "tokens"
   ],
   "metadata": {
    "collapsed": false,
    "pycharm": {
     "name": "#%%\n"
    }
   }
  },
  {
   "cell_type": "code",
   "execution_count": 43,
   "outputs": [
    {
     "data": {
      "text/plain": "182"
     },
     "execution_count": 43,
     "metadata": {},
     "output_type": "execute_result"
    }
   ],
   "source": [
    "len(tokens)"
   ],
   "metadata": {
    "collapsed": false,
    "pycharm": {
     "name": "#%%\n"
    }
   }
  },
  {
   "cell_type": "code",
   "execution_count": 44,
   "outputs": [
    {
     "data": {
      "text/plain": "69"
     },
     "execution_count": 44,
     "metadata": {},
     "output_type": "execute_result"
    }
   ],
   "source": [
    "len(set(tokens))"
   ],
   "metadata": {
    "collapsed": false,
    "pycharm": {
     "name": "#%%\n"
    }
   }
  },
  {
   "cell_type": "code",
   "execution_count": 45,
   "outputs": [
    {
     "name": "stdout",
     "output_type": "stream",
     "text": [
      "nb tokens 182, nb tokens uniques 69\n",
      "['sonpra', 'baby', 'boy', \"'s\", 'bodysuit', 'price', ':', 'rs', '.', '570', '100', '%', 'cotton', 'baby', 'rompers', 'bodysuits', ',', 'combination', 'of', 'solids', '&', 'stripes', ',', 'five', 'bodysuits', '(', 'pack', 'of', '5', ')']\n",
      "['solids', '.', '570', 'bodysuits', 'boy', '(', \"'s\", 'cotton', 'rs', 'of', '5', 'bodysuit', '%', 'pack', ':', 'price', 'five', ',', 'baby', '&', 'rompers', '100', 'sonpra', 'stripes', 'combination', ')']\n"
     ]
    }
   ],
   "source": [
    "display_tokens_info(tokens)"
   ],
   "metadata": {
    "collapsed": false,
    "pycharm": {
     "name": "#%%\n"
    }
   }
  },
  {
   "cell_type": "code",
   "execution_count": 46,
   "outputs": [
    {
     "name": "stdout",
     "output_type": "stream",
     "text": [
      "nb tokens 183, nb tokens uniques 69\n",
      "['sonpra', 'baby', 'boy', \"'\", 's', 'bodysuit', 'price', ':', 'rs', '.', '570', '100', '%', 'cotton', 'baby', 'rompers', 'bodysuits', ',', 'combination', 'of', 'solids', '&', 'stripes', ',', 'five', 'bodysuits', '(', 'pack', 'of', '5']\n",
      "['solids', '.', 's', '570', 'bodysuits', 'boy', '(', 'cotton', 'rs', 'of', '5', 'bodysuit', '%', 'pack', ':', 'price', 'five', \"'\", ',', 'baby', '&', 'rompers', '100', 'sonpra', 'stripes', 'combination']\n"
     ]
    }
   ],
   "source": [
    "# an other tokenize\n",
    "\n",
    "tokens = wordpunct_tokenize(doc)\n",
    "display_tokens_info(tokens)"
   ],
   "metadata": {
    "collapsed": false,
    "pycharm": {
     "name": "#%%\n"
    }
   }
  },
  {
   "cell_type": "markdown",
   "source": [
    "##### 3) Stopwords"
   ],
   "metadata": {
    "collapsed": false,
    "pycharm": {
     "name": "#%% md\n"
    }
   }
  },
  {
   "cell_type": "code",
   "execution_count": 47,
   "outputs": [
    {
     "name": "stdout",
     "output_type": "stream",
     "text": [
      "{'from', 'all', 'don', 'only', \"isn't\", 's', 'doing', 'nor', 'wouldn', 'both', 'does', 'so', 'same', 'too', \"wouldn't\", 'or', \"wasn't\", 'other', 'needn', \"weren't\", 'down', 'll', 'you', 'very', 'up', 'can', 'by', 'on', 'just', 'your', \"you'll\", 'off', 'myself', 'been', 'below', 'the', 'there', 'yourself', 'being', 'doesn', 'until', 'they', 'while', 'did', \"mightn't\", 'theirs', 'ourselves', 'yourselves', 'these', 'then', 'most', 'through', 'to', 'about', 'aren', \"shan't\", 'as', \"you're\", 'will', 'them', 'of', 'above', 'for', 'has', 'mustn', 'with', 'their', 'didn', 'but', 'shouldn', 'themselves', 'than', 'itself', 'what', 'how', 'own', 'yours', 'my', 'her', 'those', 'again', \"that'll\", 'am', 'when', 'where', 'hadn', 'here', 'we', \"mustn't\", 'because', 'during', 'ain', 'such', 'no', \"aren't\", 'whom', 'was', 'have', 'i', 'himself', 'y', \"haven't\", 'ma', 'over', \"should've\", 't', 'shan', 'once', \"it's\", 'she', 'isn', 'out', 'against', 'in', \"you've\", 'he', 'now', \"doesn't\", 'do', 'hasn', 'couldn', 'our', \"don't\", 'haven', 'it', 'not', 'its', 'had', \"you'd\", \"couldn't\", \"needn't\", 'which', 'each', 'some', 'at', 'before', 'd', \"didn't\", 'o', 'if', 'wasn', 'him', 'were', 'why', 'this', 'between', 've', 'm', \"won't\", 'into', 're', 'is', 'ours', 'herself', 'an', 'a', 'hers', 'and', 'few', 'won', 'any', 'under', \"hadn't\", \"hasn't\", 'mightn', 'should', 'are', 'his', 'me', 'that', 'after', \"shouldn't\", 'having', 'weren', 'more', \"she's\", 'further', 'who', 'be'}\n"
     ]
    }
   ],
   "source": [
    "# stop_words\n",
    "\n",
    "#global stop_words\n",
    "#stop_words = set(stopwords.words('english'))\n",
    "print(stop_words)"
   ],
   "metadata": {
    "collapsed": false,
    "pycharm": {
     "name": "#%%\n"
    }
   }
  },
  {
   "cell_type": "code",
   "execution_count": 48,
   "outputs": [],
   "source": [
    "tokens = [w for w in tokens if w not in stop_words]"
   ],
   "metadata": {
    "collapsed": false,
    "pycharm": {
     "name": "#%%\n"
    }
   }
  },
  {
   "cell_type": "code",
   "execution_count": 49,
   "outputs": [
    {
     "name": "stdout",
     "output_type": "stream",
     "text": [
      "nb tokens 120, nb tokens uniques 49\n",
      "['sonpra', 'baby', 'boy', \"'\", 'bodysuit', 'price', ':', 'rs', '.', '570', '100', '%', 'cotton', 'baby', 'rompers', 'bodysuits', ',', 'combination', 'solids', '&', 'stripes', ',', 'five', 'bodysuits', '(', 'pack', '5', ')-', 'best', 'gift']\n",
      "['solids', '.', '570', 'bodysuits', 'boy', '(', 'cotton', 'best', 'rs', ')-', '5', 'bodysuit', '%', 'pack', ':', 'price', 'five', 'gift', \"'\", ',', 'baby', '&', 'rompers', '100', 'sonpra', 'stripes', 'combination']\n"
     ]
    }
   ],
   "source": [
    "display_tokens_info(tokens)"
   ],
   "metadata": {
    "collapsed": false,
    "pycharm": {
     "name": "#%%\n"
    }
   }
  },
  {
   "cell_type": "code",
   "execution_count": 50,
   "outputs": [
    {
     "name": "stdout",
     "output_type": "stream",
     "text": [
      "nb tokens 154, nb tokens uniques 61\n",
      "['sonpra', 'baby', 'boy', 's', 'bodysuit', 'price', 'rs', '570', '100', 'cotton', 'baby', 'rompers', 'bodysuits', 'combination', 'of', 'solids', 'stripes', 'five', 'bodysuits', 'pack', 'of', '5', 'best', 'gift', 'for', 'your', 'baby', 'kids', 'safety', 'made']\n",
      "['solids', 'safety', 's', '570', 'bodysuits', 'boy', 'cotton', 'best', 'rs', 'made', 'kids', 'of', 'for', '5', 'bodysuit', 'pack', 'price', 'your', 'five', 'gift', 'baby', 'rompers', '100', 'sonpra', 'stripes', 'combination']\n"
     ]
    }
   ],
   "source": [
    "# an other tokenizer\n",
    "\n",
    "tokenizer = RegexpTokenizer(r\"\\w+\")\n",
    "tokens = tokenizer.tokenize(doc)\n",
    "display_tokens_info(tokens)"
   ],
   "metadata": {
    "collapsed": false,
    "pycharm": {
     "name": "#%%\n"
    }
   }
  },
  {
   "cell_type": "code",
   "execution_count": 51,
   "outputs": [
    {
     "name": "stdout",
     "output_type": "stream",
     "text": [
      "nb tokens 91, nb tokens uniques 41\n",
      "['sonpra', 'baby', 'boy', 'bodysuit', 'price', 'rs', '570', '100', 'cotton', 'baby', 'rompers', 'bodysuits', 'combination', 'solids', 'stripes', 'five', 'bodysuits', 'pack', '5', 'best', 'gift', 'baby', 'kids', 'safety', 'made', 'premium', 'quality', 'soft', 'fabric', 'save']\n",
      "['solids', 'safety', '570', 'bodysuits', 'boy', 'fabric', 'cotton', 'best', 'rs', 'save', 'made', 'kids', '5', 'bodysuit', 'pack', 'quality', 'price', 'five', 'gift', 'premium', 'baby', 'rompers', '100', 'soft', 'sonpra', 'stripes', 'combination']\n"
     ]
    }
   ],
   "source": [
    "# remove stopwords\n",
    "\n",
    "tokens = [w for w in tokens if w not in stop_words]\n",
    "display_tokens_info(tokens)"
   ],
   "metadata": {
    "collapsed": false,
    "pycharm": {
     "name": "#%%\n"
    }
   }
  },
  {
   "cell_type": "markdown",
   "source": [
    "##### 4) First cleaning function"
   ],
   "metadata": {
    "collapsed": false,
    "pycharm": {
     "name": "#%% md\n"
    }
   }
  },
  {
   "cell_type": "code",
   "execution_count": 52,
   "outputs": [
    {
     "name": "stdout",
     "output_type": "stream",
     "text": [
      "nb tokens 91, nb tokens uniques 41\n",
      "['sonpra', 'baby', 'boy', 'bodysuit', 'price', 'rs', '570', '100', 'cotton', 'baby', 'rompers', 'bodysuits', 'combination', 'solids', 'stripes', 'five', 'bodysuits', 'pack', '5', 'best', 'gift', 'baby', 'kids', 'safety', 'made', 'premium', 'quality', 'soft', 'fabric', 'save']\n",
      "['solids', 'safety', '570', 'bodysuits', 'boy', 'fabric', 'cotton', 'best', 'rs', 'save', 'made', 'kids', '5', 'bodysuit', 'pack', 'quality', 'price', 'five', 'gift', 'premium', 'baby', 'rompers', '100', 'soft', 'sonpra', 'stripes', 'combination']\n"
     ]
    }
   ],
   "source": [
    "tokens = process_text_1(doc)\n",
    "display_tokens_info(tokens)"
   ],
   "metadata": {
    "collapsed": false,
    "pycharm": {
     "name": "#%%\n"
    }
   }
  },
  {
   "cell_type": "code",
   "execution_count": 52,
   "outputs": [],
   "source": [],
   "metadata": {
    "collapsed": false,
    "pycharm": {
     "name": "#%%\n"
    }
   }
  },
  {
   "cell_type": "markdown",
   "source": [
    "#### Working on the entire corpus"
   ],
   "metadata": {
    "collapsed": false,
    "pycharm": {
     "name": "#%% md\n"
    }
   }
  },
  {
   "cell_type": "markdown",
   "source": [
    "##### 1) Build raw corpus"
   ],
   "metadata": {
    "collapsed": false,
    "pycharm": {
     "name": "#%% md\n"
    }
   }
  },
  {
   "cell_type": "code",
   "execution_count": 53,
   "outputs": [
    {
     "data": {
      "text/plain": "'Key Features of Elegance Polyester Multicolor Abstract Eyelet Door Curtain Floral Curtain,Elegance Polyester Multicolor Abstract Eyelet Door Curtain (213 cm in Height, Pack of 2) Price: Rs. 899 This curtain enhances the look of the interiors.This curtain is made from 100% high quality polyester fabric.It features an eyelet style stitch with Metal Ring.It makes the room environment romantic and loving.This curtain is ant- wrinkle and anti shrinkage and have elegant apparance.Give your home a bright and modernistic appeal with these designs. The surreal attention is sure to steal hearts. These contemporary eyelet and valance curtains slide smoothly so when you draw them apart first thing in the morning to welcome the bright sun rays you want to wish good morning to the whole world and when you draw them close in the evening, you create the most special moments of joyous beauty given by the soothing prints. Bring home the elegant curtain that softly filters light in your room so that you '"
     },
     "execution_count": 53,
     "metadata": {},
     "output_type": "execute_result"
    }
   ],
   "source": [
    "# join all corpus\n",
    "\n",
    "raw_corpus = \"\".join(data_text.text.values)\n",
    "raw_corpus[:1_000]"
   ],
   "metadata": {
    "collapsed": false,
    "pycharm": {
     "name": "#%%\n"
    }
   }
  },
  {
   "cell_type": "code",
   "execution_count": 54,
   "outputs": [
    {
     "data": {
      "text/plain": "497512"
     },
     "execution_count": 54,
     "metadata": {},
     "output_type": "execute_result"
    }
   ],
   "source": [
    "len(raw_corpus)"
   ],
   "metadata": {
    "collapsed": false,
    "pycharm": {
     "name": "#%%\n"
    }
   }
  },
  {
   "cell_type": "code",
   "execution_count": 55,
   "outputs": [
    {
     "name": "stdout",
     "output_type": "stream",
     "text": [
      "nb tokens 61452, nb tokens uniques 6165\n",
      "['key', 'features', 'elegance', 'polyester', 'multicolor', 'abstract', 'eyelet', 'door', 'curtain', 'floral', 'curtain', 'elegance', 'polyester', 'multicolor', 'abstract', 'eyelet', 'door', 'curtain', '213', 'cm', 'height', 'pack', '2', 'price', 'rs', '899', 'curtain', 'enhances', 'look', 'interiors']\n",
      "['213', 'floral', 'rs', 'elegance', 'enhances', 'key', 'interiors', 'polyester', 'door', 'pack', 'look', 'price', '899', 'curtain', 'eyelet', 'abstract', 'multicolor', 'height', '2', 'cm', 'features']\n"
     ]
    }
   ],
   "source": [
    "# process the corpus\n",
    "\n",
    "corpus = process_text_1(raw_corpus)\n",
    "display_tokens_info(corpus)"
   ],
   "metadata": {
    "collapsed": false,
    "pycharm": {
     "name": "#%%\n"
    }
   }
  },
  {
   "cell_type": "code",
   "execution_count": 56,
   "outputs": [
    {
     "data": {
      "text/plain": "rs           911\nproducts     631\nfree         618\ndelivery     567\ncash         564\n            ... \ndrawerkey      1\n680            1\nroundbuy       1\nhomeehub       1\ndell           1\nLength: 6165, dtype: int64"
     },
     "execution_count": 56,
     "metadata": {},
     "output_type": "execute_result"
    }
   ],
   "source": [
    "# value counts\n",
    "\n",
    "tmp = pd.Series(corpus).value_counts()\n",
    "tmp"
   ],
   "metadata": {
    "collapsed": false,
    "pycharm": {
     "name": "#%%\n"
    }
   }
  },
  {
   "cell_type": "code",
   "execution_count": 57,
   "outputs": [],
   "source": [
    "# visualization\n",
    "\n",
    "#sns.barplot(x=tmp.index, y=tmp.values)"
   ],
   "metadata": {
    "collapsed": false,
    "pycharm": {
     "name": "#%%\n"
    }
   }
  },
  {
   "cell_type": "code",
   "execution_count": 58,
   "outputs": [
    {
     "data": {
      "text/plain": "rs                911\nproducts          631\nfree              618\ndelivery          567\ncash              564\ngenuine           564\nshipping          564\nreplacement       559\nbuy               543\nday               540\ncm                532\n1                 524\n30                498\nflipkart          475\nguarantee         471\ncom               468\nonline            396\nfeatures          395\nprice             352\nwatch             329\ncolor             328\nbaby              320\nmug               318\npack              317\nmaterial          312\nset               306\ntype              304\ncotton            299\nspecifications    295\nbox               291\ndtype: int64"
     },
     "execution_count": 58,
     "metadata": {},
     "output_type": "execute_result"
    }
   ],
   "source": [
    "# 30th most common tokens\n",
    "\n",
    "tmp.head(30)"
   ],
   "metadata": {
    "collapsed": false,
    "pycharm": {
     "name": "#%%\n"
    }
   }
  },
  {
   "cell_type": "code",
   "execution_count": 59,
   "outputs": [
    {
     "data": {
      "text/plain": "md199hn                 1\nseaterspecifications    1\nexplode                 1\nshot                    1\nhuawei                  1\nsport                   1\nski                     1\n1399                    1\nac2400                  1\nbornbabykids            1\n552                     1\n4509                    1\nws331c                  1\narchitecture            1\n5199                    1\nsocket                  1\n1150key                 1\n6428nc                  1\n585                     1\nclothing                1\nneedybee                1\n752dru                  1\nsusceptible             1\nlinespecifications      1\nesteem                  1\ndrawerkey               1\n680                     1\nroundbuy                1\nhomeehub                1\ndell                    1\ndtype: int64"
     },
     "execution_count": 59,
     "metadata": {},
     "output_type": "execute_result"
    }
   ],
   "source": [
    "# 30th last common tokens\n",
    "\n",
    "tmp.tail(30)"
   ],
   "metadata": {
    "collapsed": false,
    "pycharm": {
     "name": "#%%\n"
    }
   }
  },
  {
   "cell_type": "code",
   "execution_count": 60,
   "outputs": [
    {
     "data": {
      "text/plain": "count    6165.000000\nmean        9.967883\nstd        38.897271\nmin         1.000000\n25%         1.000000\n50%         2.000000\n75%         5.000000\nmax       911.000000\ndtype: float64"
     },
     "execution_count": 60,
     "metadata": {},
     "output_type": "execute_result"
    }
   ],
   "source": [
    "tmp.describe()"
   ],
   "metadata": {
    "collapsed": false,
    "pycharm": {
     "name": "#%%\n"
    }
   }
  },
  {
   "cell_type": "code",
   "execution_count": 61,
   "outputs": [],
   "source": [
    "# sns.displot(tmp)"
   ],
   "metadata": {
    "collapsed": false,
    "pycharm": {
     "name": "#%%\n"
    }
   }
  },
  {
   "cell_type": "code",
   "execution_count": 62,
   "outputs": [
    {
     "data": {
      "text/plain": "<AxesSubplot:>"
     },
     "execution_count": 62,
     "metadata": {},
     "output_type": "execute_result"
    },
    {
     "data": {
      "text/plain": "<Figure size 432x288 with 1 Axes>",
      "image/png": "[encoded data removed]"
     },
     "metadata": {},
     "output_type": "display_data"
    }
   ],
   "source": [
    "sns.boxplot(tmp) # 'bad distribution'"
   ],
   "metadata": {
    "collapsed": false,
    "pycharm": {
     "name": "#%%\n"
    }
   }
  },
  {
   "cell_type": "code",
   "execution_count": 62,
   "outputs": [],
   "source": [],
   "metadata": {
    "collapsed": false,
    "pycharm": {
     "name": "#%%\n"
    }
   }
  },
  {
   "cell_type": "markdown",
   "source": [
    "##### 2) List rare tokens"
   ],
   "metadata": {
    "collapsed": false,
    "pycharm": {
     "name": "#%% md\n"
    }
   }
  },
  {
   "cell_type": "code",
   "execution_count": 63,
   "outputs": [
    {
     "data": {
      "text/plain": "paraben         1\nvinegar         1\nglycol          1\noodles          1\ningredients     1\nskip            1\nbullshit        1\nword            1\nsoapking        1\nhop             1\narabicoudh      1\ngrass           1\nstudents        1\n979             1\nleafs           1\nvegetarian      1\nlength225       1\n6645            1\nquantities      1\nsscp            1\n582             1\nappreciation    1\nflawers         1\ntulip           1\nplaying         1\nballs           1\nballsech        1\nrepeatedly      1\npmr1918         1\npmba1872        1\ndtype: int64"
     },
     "execution_count": 63,
     "metadata": {},
     "output_type": "execute_result"
    }
   ],
   "source": [
    "# unique words --> not useful\n",
    "\n",
    "tmp = pd.Series(corpus).value_counts()\n",
    "list_unique_words = tmp[tmp == 1]\n",
    "list_unique_words[:30]"
   ],
   "metadata": {
    "collapsed": false,
    "pycharm": {
     "name": "#%%\n"
    }
   }
  },
  {
   "cell_type": "code",
   "execution_count": 64,
   "outputs": [
    {
     "data": {
      "text/plain": "2114"
     },
     "execution_count": 64,
     "metadata": {},
     "output_type": "execute_result"
    }
   ],
   "source": [
    "len(list_unique_words)"
   ],
   "metadata": {
    "collapsed": false,
    "pycharm": {
     "name": "#%%\n"
    }
   }
  },
  {
   "cell_type": "code",
   "execution_count": 65,
   "outputs": [
    {
     "data": {
      "text/plain": "['paraben',\n 'vinegar',\n 'glycol',\n 'oodles',\n 'ingredients',\n 'skip',\n 'bullshit',\n 'word',\n 'soapking',\n 'hop',\n 'arabicoudh',\n 'grass',\n 'students',\n '979',\n 'leafs',\n 'vegetarian',\n 'length225',\n '6645',\n 'quantities',\n 'sscp',\n '582',\n 'appreciation',\n 'flawers',\n 'tulip',\n 'playing',\n 'balls',\n 'ballsech',\n 'repeatedly',\n 'pmr1918',\n 'pmba1872']"
     },
     "execution_count": 65,
     "metadata": {},
     "output_type": "execute_result"
    }
   ],
   "source": [
    "list_unique_words = list(list_unique_words.index)\n",
    "list_unique_words[:30]"
   ],
   "metadata": {
    "collapsed": false,
    "pycharm": {
     "name": "#%%\n"
    }
   }
  },
  {
   "cell_type": "code",
   "execution_count": 66,
   "outputs": [],
   "source": [
    "# save it for later\n",
    "\n",
    "tmp = pd.DataFrame({\"words\": list_unique_words})\n",
    "tmp.to_csv(output_path + \"unique_words.csv\", index=False)"
   ],
   "metadata": {
    "collapsed": false,
    "pycharm": {
     "name": "#%%\n"
    }
   }
  },
  {
   "cell_type": "code",
   "execution_count": 67,
   "outputs": [
    {
     "data": {
      "text/plain": "pokizo                2\nknows                 2\ndeluxe                2\nprestige              2\nbirds                 2\nthus                  2\nstyles                2\n880                   2\ndean                  2\nstage                 2\nplus                  2\nneckspecifications    2\nwelcomed              2\nmilton                2\ncamerii               2\nzipper                2\nhourglass             2\npressure              2\nbib                   2\n850                   2\ndat                   2\nneckerchew            2\nchompers              2\nv220w                 2\nfashionin             2\nvelcro                2\ncheeky                2\nbsf                   2\nhilton                2\nsuperb                2\ndtype: int64"
     },
     "execution_count": 67,
     "metadata": {},
     "output_type": "execute_result"
    }
   ],
   "source": [
    "# idem for 2 times\n",
    "\n",
    "tmp = pd.Series(corpus).value_counts()\n",
    "list_max_2_words = tmp[tmp <= 2]\n",
    "list_max_2_words[:30]"
   ],
   "metadata": {
    "collapsed": false,
    "pycharm": {
     "name": "#%%\n"
    }
   }
  },
  {
   "cell_type": "code",
   "execution_count": 68,
   "outputs": [
    {
     "data": {
      "text/plain": "3446"
     },
     "execution_count": 68,
     "metadata": {},
     "output_type": "execute_result"
    }
   ],
   "source": [
    "len(list_max_2_words)"
   ],
   "metadata": {
    "collapsed": false,
    "pycharm": {
     "name": "#%%\n"
    }
   }
  },
  {
   "cell_type": "code",
   "execution_count": 69,
   "outputs": [],
   "source": [
    "# save it\n",
    "\n",
    "list_max_2_words = list(list_max_2_words.index)\n",
    "tmp = pd.DataFrame({\"words\": list_max_2_words})\n",
    "tmp.to_csv(output_path + \"max_2_words.csv\", index=False)"
   ],
   "metadata": {
    "collapsed": false,
    "pycharm": {
     "name": "#%%\n"
    }
   }
  },
  {
   "cell_type": "code",
   "execution_count": 70,
   "outputs": [
    {
     "data": {
      "text/plain": "opener       5\ndummy        5\nmarvel       5\nordinary     5\nfollowing    5\nwatche       5\nbelt         5\nlayers       5\ntrendnet     5\nburner       5\nfb           5\nbeach        5\nmoist        5\n995          5\nattention    5\nvatika       5\nstrip        5\nintel        5\nacross       5\ncolored      5\nstyling      5\nappealing    5\npolishes     5\nserving      5\nwinter       5\nlace         5\nloves        5\n320          5\nfluffy       5\nstraps       5\ndtype: int64"
     },
     "execution_count": 70,
     "metadata": {},
     "output_type": "execute_result"
    }
   ],
   "source": [
    "# idem for 5 times\n",
    "\n",
    "tmp = pd.Series(corpus).value_counts()\n",
    "list_max_5_words = tmp[tmp <= 5]\n",
    "list_max_5_words[:30]"
   ],
   "metadata": {
    "collapsed": false,
    "pycharm": {
     "name": "#%%\n"
    }
   }
  },
  {
   "cell_type": "code",
   "execution_count": 71,
   "outputs": [
    {
     "data": {
      "text/plain": "4677"
     },
     "execution_count": 71,
     "metadata": {},
     "output_type": "execute_result"
    }
   ],
   "source": [
    "len(list_max_5_words)"
   ],
   "metadata": {
    "collapsed": false,
    "pycharm": {
     "name": "#%%\n"
    }
   }
  },
  {
   "cell_type": "code",
   "execution_count": 72,
   "outputs": [],
   "source": [
    "# save it\n",
    "\n",
    "list_max_5_words = list(list_max_5_words.index)\n",
    "tmp = pd.DataFrame({\"words\": list_max_5_words})\n",
    "tmp.to_csv(output_path + \"max_5_words.csv\", index=False)"
   ],
   "metadata": {
    "collapsed": false,
    "pycharm": {
     "name": "#%%\n"
    }
   }
  },
  {
   "cell_type": "markdown",
   "source": [
    "##### 3) 2nd cleaning function"
   ],
   "metadata": {
    "collapsed": false,
    "pycharm": {
     "name": "#%% md\n"
    }
   }
  },
  {
   "cell_type": "code",
   "execution_count": 73,
   "outputs": [
    {
     "name": "stdout",
     "output_type": "stream",
     "text": [
      "nb tokens 61452, nb tokens uniques 6165\n",
      "['key', 'features', 'elegance', 'polyester', 'multicolor', 'abstract', 'eyelet', 'door', 'curtain', 'floral', 'curtain', 'elegance', 'polyester', 'multicolor', 'abstract', 'eyelet', 'door', 'curtain', '213', 'cm', 'height', 'pack', '2', 'price', 'rs', '899', 'curtain', 'enhances', 'look', 'interiors']\n",
      "['213', 'floral', 'rs', 'elegance', 'enhances', 'key', 'interiors', 'polyester', 'door', 'pack', 'look', 'price', '899', 'curtain', 'eyelet', 'abstract', 'multicolor', 'height', '2', 'cm', 'features']\n"
     ]
    }
   ],
   "source": [
    "display_tokens_info(corpus)"
   ],
   "metadata": {
    "collapsed": false,
    "pycharm": {
     "name": "#%%\n"
    }
   }
  },
  {
   "cell_type": "code",
   "execution_count": 74,
   "outputs": [
    {
     "data": {
      "text/plain": "6165"
     },
     "execution_count": 74,
     "metadata": {},
     "output_type": "execute_result"
    }
   ],
   "source": [
    "len(set(corpus))"
   ],
   "metadata": {
    "collapsed": false,
    "pycharm": {
     "name": "#%%\n"
    }
   }
  },
  {
   "cell_type": "code",
   "execution_count": 75,
   "outputs": [
    {
     "name": "stdout",
     "output_type": "stream",
     "text": [
      "nb tokens 51097, nb tokens uniques 3396\n",
      "['key', 'features', 'elegance', 'polyester', 'multicolor', 'abstract', 'eyelet', 'door', 'curtain', 'floral', 'curtain', 'elegance', 'polyester', 'multicolor', 'abstract', 'eyelet', 'door', 'curtain', 'height', 'pack', 'price', 'curtain', 'enhances', 'look', 'interiors', 'curtain', 'made', 'high', 'quality', 'polyester']\n",
      "['floral', 'made', 'high', 'elegance', 'enhances', 'key', 'interiors', 'polyester', 'door', 'pack', 'quality', 'look', 'price', 'curtain', 'eyelet', 'abstract', 'multicolor', 'height', 'features']\n"
     ]
    }
   ],
   "source": [
    "corpus = process_text_2(raw_corpus,\n",
    "                        list_rare_words=list_unique_words,\n",
    "                        rejoin=False)\n",
    "display_tokens_info(corpus)"
   ],
   "metadata": {
    "collapsed": false,
    "pycharm": {
     "name": "#%%\n"
    }
   }
  },
  {
   "cell_type": "code",
   "execution_count": 76,
   "outputs": [
    {
     "data": {
      "text/plain": "3396"
     },
     "execution_count": 76,
     "metadata": {},
     "output_type": "execute_result"
    }
   ],
   "source": [
    "len(set(corpus))"
   ],
   "metadata": {
    "collapsed": false,
    "pycharm": {
     "name": "#%%\n"
    }
   }
  },
  {
   "cell_type": "code",
   "execution_count": 76,
   "outputs": [],
   "source": [],
   "metadata": {
    "collapsed": false,
    "pycharm": {
     "name": "#%%\n"
    }
   }
  },
  {
   "cell_type": "markdown",
   "source": [
    "##### 4) Stemming and Lemmatization"
   ],
   "metadata": {
    "collapsed": false,
    "pycharm": {
     "name": "#%% md\n"
    }
   }
  },
  {
   "cell_type": "markdown",
   "source": [
    "Lemmatization is the process of grouping together the different inflected forms of a word, so they can be analyzed as a single item. Lemmatization is similar to stemming, but it brings context to the words. So it links words with similar meanings to one word."
   ],
   "metadata": {
    "collapsed": false,
    "pycharm": {
     "name": "#%% md\n"
    }
   }
  },
  {
   "cell_type": "markdown",
   "source": [
    "Stemming is the process if producing morphological variants of a root/base word. Stemming programs are commonly referred to as stemming algorithms or stemmers."
   ],
   "metadata": {
    "collapsed": false,
    "pycharm": {
     "name": "#%% md\n"
    }
   }
  },
  {
   "cell_type": "code",
   "execution_count": 76,
   "outputs": [],
   "source": [],
   "metadata": {
    "collapsed": false,
    "pycharm": {
     "name": "#%%\n"
    }
   }
  },
  {
   "cell_type": "code",
   "execution_count": 77,
   "outputs": [
    {
     "data": {
      "text/plain": "41544      golden\n33712       paint\n34468       price\n37723        face\n2900      qualiti\n47750       ensur\n16103      casual\n8256         safe\n37056     vitamin\n3202      qualiti\n2249        model\n662        famili\n9196          tea\n108        eyelet\n10290       smile\n3887      control\n9251     distinct\n16633    deliveri\n16407       sleev\n26387    flipkart\n38580        ring\n2343          kid\n26166       onlin\n9089         love\n47225       order\n37086      diaper\n19285     qualiti\n35227        long\n11323        wild\n21379      bucket\ndtype: object"
     },
     "execution_count": 77,
     "metadata": {},
     "output_type": "execute_result"
    }
   ],
   "source": [
    "# +/- 3s\n",
    "corpus = process_text_3(raw_corpus, rejoin=False, list_rare_words=list_unique_words)\n",
    "pd.Series(corpus).sample(30)"
   ],
   "metadata": {
    "collapsed": false,
    "pycharm": {
     "name": "#%%\n"
    }
   }
  },
  {
   "cell_type": "code",
   "execution_count": 78,
   "outputs": [
    {
     "name": "stdout",
     "output_type": "stream",
     "text": [
      "nb tokens 51097, nb tokens uniques 2773\n",
      "['key', 'featur', 'eleg', 'polyest', 'multicolor', 'abstract', 'eyelet', 'door', 'curtain', 'floral', 'curtain', 'eleg', 'polyest', 'multicolor', 'abstract', 'eyelet', 'door', 'curtain', 'height', 'pack', 'price', 'curtain', 'enhanc', 'look', 'interior', 'curtain', 'made', 'high', 'qualiti', 'polyest']\n",
      "['qualiti', 'floral', 'featur', 'interior', 'made', 'high', 'key', 'door', 'eleg', 'pack', 'look', 'price', 'curtain', 'eyelet', 'abstract', 'multicolor', 'height', 'enhanc', 'polyest']\n"
     ]
    }
   ],
   "source": [
    "display_tokens_info(corpus)"
   ],
   "metadata": {
    "collapsed": false,
    "pycharm": {
     "name": "#%%\n"
    }
   }
  },
  {
   "cell_type": "code",
   "execution_count": 78,
   "outputs": [],
   "source": [],
   "metadata": {
    "collapsed": false,
    "pycharm": {
     "name": "#%%\n"
    }
   }
  },
  {
   "cell_type": "code",
   "execution_count": 79,
   "outputs": [
    {
     "data": {
      "text/plain": "38196            fruit\n40215              fan\n8949           feature\n36939         delivery\n46954          product\n36523           single\n42847         occasion\n14054          product\n35309             puff\n30254            model\n17198          genuine\n17393            apple\n6740            online\n14773             come\n14626            stick\n50156             pack\n32241          trainer\n25592            round\n40544            towel\n20763    specification\n39359          genuine\n4080         shopmania\n39490              usb\n2023            spread\n23148           cotton\n33012             free\n32350           online\n43665         bendable\n2349            pyjama\n4230              sale\ndtype: object"
     },
     "execution_count": 79,
     "metadata": {},
     "output_type": "execute_result"
    }
   ],
   "source": [
    "corpus_lem = process_text_3(raw_corpus, rejoin=False, lem_or_stem=\"lem\", list_rare_words=list_unique_words)\n",
    "pd.Series(corpus_lem).sample(30)"
   ],
   "metadata": {
    "collapsed": false,
    "pycharm": {
     "name": "#%%\n"
    }
   }
  },
  {
   "cell_type": "code",
   "execution_count": 80,
   "outputs": [
    {
     "name": "stdout",
     "output_type": "stream",
     "text": [
      "nb tokens 51097, nb tokens uniques 3123\n",
      "['key', 'feature', 'elegance', 'polyester', 'multicolor', 'abstract', 'eyelet', 'door', 'curtain', 'floral', 'curtain', 'elegance', 'polyester', 'multicolor', 'abstract', 'eyelet', 'door', 'curtain', 'height', 'pack', 'price', 'curtain', 'enhances', 'look', 'interior', 'curtain', 'made', 'high', 'quality', 'polyester']\n",
      "['floral', 'interior', 'feature', 'made', 'high', 'elegance', 'enhances', 'key', 'polyester', 'door', 'pack', 'quality', 'look', 'price', 'curtain', 'eyelet', 'abstract', 'multicolor', 'height']\n"
     ]
    }
   ],
   "source": [
    "display_tokens_info(corpus_lem)"
   ],
   "metadata": {
    "collapsed": false,
    "pycharm": {
     "name": "#%%\n"
    }
   }
  },
  {
   "cell_type": "code",
   "execution_count": 80,
   "outputs": [],
   "source": [],
   "metadata": {
    "collapsed": false,
    "pycharm": {
     "name": "#%%\n"
    }
   }
  },
  {
   "cell_type": "markdown",
   "source": [
    "##### 5) Only english words"
   ],
   "metadata": {
    "collapsed": false,
    "pycharm": {
     "name": "#%% md\n"
    }
   }
  },
  {
   "cell_type": "code",
   "execution_count": 81,
   "outputs": [
    {
     "data": {
      "text/plain": "156652         proguardian\n42033         conterminant\n80677            guessable\n50354     deliberalization\n170879              roping\n99303              jackboy\n108248            loosener\n214437         undermuslin\n24797                Boran\n124825             nocktat\n210645            umpiress\n109132             luteway\n116550              minery\n16876            axmanship\n106374         Lichnophora\n47020           curryfavel\n129270         obstruction\n171383             rubdown\n26480      brochidodromous\n87021        homolographic\n92663              inbeing\n42434     conversationally\n84246        hemocytoblast\n136995              Paguma\n160063        puncturation\n11572          apophylaxis\n157581           prostylos\n46893         curativeness\n140804                pean\n208997             tumbrel\ndtype: object"
     },
     "execution_count": 81,
     "metadata": {},
     "output_type": "execute_result"
    }
   ],
   "source": [
    "pd.Series(words.words()).sample(30)"
   ],
   "metadata": {
    "collapsed": false,
    "pycharm": {
     "name": "#%%\n"
    }
   }
  },
  {
   "cell_type": "code",
   "execution_count": 82,
   "outputs": [
    {
     "data": {
      "text/plain": "235892"
     },
     "execution_count": 82,
     "metadata": {},
     "output_type": "execute_result"
    }
   ],
   "source": [
    "len(set(words.words()))"
   ],
   "metadata": {
    "collapsed": false,
    "pycharm": {
     "name": "#%%\n"
    }
   }
  },
  {
   "cell_type": "code",
   "execution_count": 83,
   "outputs": [
    {
     "data": {
      "text/plain": "['a',\n 'a',\n 'aa',\n 'aal',\n 'aalii',\n 'aam',\n 'aani',\n 'aardvark',\n 'aardwolf',\n 'aaron',\n 'aaronic',\n 'aaronical',\n 'aaronite',\n 'aaronitic',\n 'aaru',\n 'ab',\n 'aba',\n 'ababdeh',\n 'ababua',\n 'abac',\n 'abaca',\n 'abacate',\n 'abacay',\n 'abacinate',\n 'abacination',\n 'abaciscus',\n 'abacist',\n 'aback',\n 'abactinal',\n 'abactinally']"
     },
     "execution_count": 83,
     "metadata": {},
     "output_type": "execute_result"
    }
   ],
   "source": [
    "eng_words = [i.lower() for i in words.words()]\n",
    "eng_words[:30]"
   ],
   "metadata": {
    "collapsed": false,
    "pycharm": {
     "name": "#%%\n"
    }
   }
  },
  {
   "cell_type": "code",
   "execution_count": 84,
   "outputs": [
    {
     "data": {
      "text/plain": "234377"
     },
     "execution_count": 84,
     "metadata": {},
     "output_type": "execute_result"
    }
   ],
   "source": [
    "len(set(eng_words))"
   ],
   "metadata": {
    "collapsed": false,
    "pycharm": {
     "name": "#%%\n"
    }
   }
  },
  {
   "cell_type": "code",
   "execution_count": 85,
   "outputs": [
    {
     "name": "stdout",
     "output_type": "stream",
     "text": [
      "nb tokens 236736, nb tokens uniques 178311\n",
      "['a', 'a', 'aa', 'aal', 'aalii', 'aam', 'aani', 'aardvark', 'aardwolf', 'aaron', 'aaron', 'aaron', 'aaronit', 'aaronit', 'aaru', 'ab', 'aba', 'ababdeh', 'ababua', 'abac', 'abaca', 'abac', 'abacay', 'abacin', 'abacin', 'abaciscu', 'abacist', 'aback', 'abactin', 'abactin']\n",
      "['abacin', 'abacist', 'aaron', 'aba', 'aardwolf', 'aalii', 'aaronit', 'abacay', 'ababua', 'abactin', 'aaru', 'a', 'aani', 'abaciscu', 'aardvark', 'ab', 'aa', 'aback', 'aam', 'abac', 'aal', 'abaca', 'ababdeh']\n"
     ]
    }
   ],
   "source": [
    "ps = PorterStemmer()\n",
    "eng_words_stem = [ps.stem(i) for i in eng_words]\n",
    "display_tokens_info(eng_words_stem)"
   ],
   "metadata": {
    "collapsed": false,
    "pycharm": {
     "name": "#%%\n"
    }
   }
  },
  {
   "cell_type": "code",
   "execution_count": 86,
   "outputs": [
    {
     "data": {
      "text/plain": "178311"
     },
     "execution_count": 86,
     "metadata": {},
     "output_type": "execute_result"
    }
   ],
   "source": [
    "len(set(eng_words_stem))"
   ],
   "metadata": {
    "collapsed": false,
    "pycharm": {
     "name": "#%%\n"
    }
   }
  },
  {
   "cell_type": "code",
   "execution_count": 87,
   "outputs": [
    {
     "name": "stdout",
     "output_type": "stream",
     "text": [
      "nb tokens 236736, nb tokens uniques 233450\n",
      "['a', 'a', 'aa', 'aal', 'aalii', 'aam', 'aani', 'aardvark', 'aardwolf', 'aaron', 'aaronic', 'aaronical', 'aaronite', 'aaronitic', 'aaru', 'ab', 'aba', 'ababdeh', 'ababua', 'abac', 'abaca', 'abacate', 'abacay', 'abacinate', 'abacination', 'abaciscus', 'abacist', 'aback', 'abactinal', 'abactinally']\n",
      "['abacist', 'abacination', 'aaron', 'aaronic', 'aba', 'aardwolf', 'aalii', 'abacate', 'abacinate', 'aaronical', 'abacay', 'ababua', 'abaciscus', 'aaru', 'aaronite', 'a', 'aani', 'abactinal', 'aardvark', 'abactinally', 'ab', 'aa', 'aback', 'aam', 'aaronitic', 'abac', 'aal', 'abaca', 'ababdeh']\n"
     ]
    }
   ],
   "source": [
    "lm = WordNetLemmatizer()\n",
    "eng_words_lem = [lm.lemmatize(i) for i in eng_words]\n",
    "display_tokens_info(eng_words_lem)"
   ],
   "metadata": {
    "collapsed": false,
    "pycharm": {
     "name": "#%%\n"
    }
   }
  },
  {
   "cell_type": "code",
   "execution_count": 88,
   "outputs": [
    {
     "data": {
      "text/plain": "233450"
     },
     "execution_count": 88,
     "metadata": {},
     "output_type": "execute_result"
    }
   ],
   "source": [
    "len(set(eng_words_lem))"
   ],
   "metadata": {
    "collapsed": false,
    "pycharm": {
     "name": "#%%\n"
    }
   }
  },
  {
   "cell_type": "code",
   "execution_count": 88,
   "outputs": [],
   "source": [],
   "metadata": {
    "collapsed": false,
    "pycharm": {
     "name": "#%%\n"
    }
   }
  },
  {
   "cell_type": "code",
   "execution_count": 89,
   "outputs": [
    {
     "name": "stdout",
     "output_type": "stream",
     "text": [
      "nb tokens 45937, nb tokens uniques 2166\n",
      "['key', 'featur', 'eleg', 'polyest', 'multicolor', 'abstract', 'eyelet', 'door', 'curtain', 'floral', 'curtain', 'eleg', 'polyest', 'multicolor', 'abstract', 'eyelet', 'door', 'curtain', 'height', 'pack', 'price', 'curtain', 'enhanc', 'look', 'interior', 'curtain', 'made', 'high', 'qualiti', 'polyest']\n",
      "['qualiti', 'floral', 'featur', 'interior', 'made', 'high', 'key', 'door', 'eleg', 'pack', 'look', 'price', 'curtain', 'eyelet', 'abstract', 'multicolor', 'height', 'enhanc', 'polyest']\n"
     ]
    }
   ],
   "source": [
    "corpus = process_text_4(raw_corpus, rejoin=False, lem_or_stem=\"stem\", list_rare_words=list_unique_words, eng_words=eng_words_stem)\n",
    "\n",
    "display_tokens_info(corpus)"
   ],
   "metadata": {
    "collapsed": false,
    "pycharm": {
     "name": "#%%\n"
    }
   }
  },
  {
   "cell_type": "code",
   "execution_count": 90,
   "outputs": [
    {
     "data": {
      "text/plain": "2166"
     },
     "execution_count": 90,
     "metadata": {},
     "output_type": "execute_result"
    }
   ],
   "source": [
    "len(set(corpus))"
   ],
   "metadata": {
    "collapsed": false,
    "pycharm": {
     "name": "#%%\n"
    }
   }
  },
  {
   "cell_type": "code",
   "execution_count": 90,
   "outputs": [],
   "source": [],
   "metadata": {
    "collapsed": false,
    "pycharm": {
     "name": "#%%\n"
    }
   }
  },
  {
   "cell_type": "code",
   "execution_count": 91,
   "outputs": [
    {
     "data": {
      "text/plain": "2238        grapefruit\n28738            price\n2052           printed\n810              watch\n5424           package\n16594           format\n19478             pure\n14315         suitable\n5710              name\n36799           portia\n10678           drawer\n28729        guarantee\n21006        accessory\n20525    specification\n9537           perfect\n18013          current\n41436             room\n11533           little\n4932            surely\n24694             view\n39324            large\n30962            store\n1223               day\n3430           content\n7869               mug\n19703       durability\n23853          cleaner\n29261             give\n17550      replacement\n5640            cotton\ndtype: object"
     },
     "execution_count": 91,
     "metadata": {},
     "output_type": "execute_result"
    }
   ],
   "source": [
    "corpus_lem = process_text_4(raw_corpus, rejoin=False, lem_or_stem=\"lem\", list_rare_words=list_unique_words, eng_words=eng_words_lem)\n",
    "pd.Series(corpus_lem).sample(30)"
   ],
   "metadata": {
    "collapsed": false,
    "pycharm": {
     "name": "#%%\n"
    }
   }
  },
  {
   "cell_type": "code",
   "execution_count": 92,
   "outputs": [
    {
     "data": {
      "text/plain": "2333"
     },
     "execution_count": 92,
     "metadata": {},
     "output_type": "execute_result"
    }
   ],
   "source": [
    "len(set(corpus_lem))"
   ],
   "metadata": {
    "collapsed": false,
    "pycharm": {
     "name": "#%%\n"
    }
   }
  },
  {
   "cell_type": "code",
   "execution_count": 93,
   "outputs": [
    {
     "data": {
      "text/plain": "['key',\n 'featur',\n 'eleg',\n 'polyest',\n 'multicolor',\n 'abstract',\n 'eyelet',\n 'door',\n 'curtain',\n 'floral',\n 'curtain',\n 'eleg',\n 'polyest',\n 'multicolor',\n 'abstract',\n 'eyelet',\n 'door',\n 'curtain',\n 'height',\n 'pack',\n 'price',\n 'curtain',\n 'enhanc',\n 'look',\n 'interior',\n 'curtain',\n 'made',\n 'high',\n 'qualiti',\n 'polyest',\n 'fabric',\n 'featur',\n 'eyelet',\n 'style',\n 'stitch',\n 'metal',\n 'ring',\n 'make',\n 'room',\n 'environ',\n 'curtain',\n 'ant',\n 'wrinkl',\n 'anti',\n 'shrinkag',\n 'eleg',\n 'give',\n 'home',\n 'bright',\n 'appeal',\n 'design',\n 'attent',\n 'sure',\n 'contemporari',\n 'eyelet',\n 'curtain',\n 'slide',\n 'smoothli',\n 'draw',\n 'apart',\n 'first',\n 'thing',\n 'morn',\n 'welcom',\n 'bright',\n 'sun',\n 'ray',\n 'want',\n 'wish',\n 'good',\n 'morn',\n 'whole',\n 'world',\n 'draw',\n 'even',\n 'creat',\n 'special',\n 'moment',\n 'beauti',\n 'given',\n 'sooth',\n 'print',\n 'bring',\n 'home',\n 'eleg',\n 'curtain',\n 'light',\n 'room',\n 'get',\n 'right',\n 'amount',\n 'sunlight',\n 'specif',\n 'eleg',\n 'polyest',\n 'multicolor',\n 'abstract',\n 'eyelet',\n 'door',\n 'curtain',\n 'height',\n 'pack',\n 'gener',\n 'brand',\n 'eleg',\n 'design',\n 'door',\n 'type',\n 'eyelet',\n 'model',\n 'name',\n 'abstract',\n 'polyest',\n 'door',\n 'curtain',\n 'set',\n 'model',\n 'color',\n 'multicolor',\n 'dimens',\n 'length',\n 'box',\n 'number',\n 'content',\n 'sale',\n 'packag',\n 'pack',\n 'sale',\n 'packag',\n 'curtain',\n 'bodi',\n 'design',\n 'materi',\n 'cotton',\n 'bath',\n 'towel',\n 'bath',\n 'towel',\n 'red',\n 'yellow',\n 'blue',\n 'bath',\n 'towel',\n 'featur',\n 'machin',\n 'washabl',\n 'ye',\n 'materi',\n 'cotton',\n 'design',\n 'self',\n 'design',\n 'gener',\n 'brand',\n 'type',\n 'bath',\n 'towel',\n 'model',\n 'name',\n 'cotton',\n 'bath',\n 'towel',\n 'ideal',\n 'men',\n 'boy',\n 'girl',\n 'model',\n 'color',\n 'red',\n 'yellow',\n 'blue',\n 'size',\n 'dimens',\n 'length',\n 'inch',\n 'width',\n 'inch',\n 'box',\n 'number',\n 'content',\n 'sale',\n 'packag',\n 'sale',\n 'packag',\n 'bath',\n 'featur',\n 'cotton',\n 'terri',\n 'face',\n 'towel',\n 'set',\n 'size',\n 'small',\n 'height',\n 'inch',\n 'cotton',\n 'terri',\n 'face',\n 'towel',\n 'set',\n 'piec',\n 'face',\n 'towel',\n 'set',\n 'assort',\n 'price',\n 'bring',\n 'exclus',\n 'design',\n 'soft',\n 'cotton',\n 'towel',\n 'export',\n 'qualiti',\n 'product',\n 'soft',\n 'textur',\n 'care',\n 'skin',\n 'give',\n 'feel',\n 'export',\n 'bath',\n 'towel',\n 'brand',\n 'last',\n 'year',\n 'famou',\n 'fine',\n 'print',\n 'absorb',\n 'soft',\n 'durabl',\n 'note',\n 'product',\n 'cotton',\n 'shrinkag',\n 'product',\n 'color',\n 'may',\n 'vari',\n 'pictur',\n 'size',\n 'may',\n 'vari',\n 'wash',\n 'care',\n 'wash',\n 'cold',\n 'water',\n 'iron',\n 'bleach',\n 'flat',\n 'dri',\n 'wash',\n 'first',\n 'use',\n 'size',\n 'face',\n 'towel',\n 'specif',\n 'cotton',\n 'terri',\n 'face',\n 'towel',\n 'set',\n 'piec',\n 'face',\n 'towel',\n 'set',\n 'assort',\n 'bath',\n 'towel',\n 'featur',\n 'materi',\n 'cotton',\n 'terri',\n 'design',\n 'gener',\n 'brand',\n 'type',\n 'face',\n 'towel',\n 'set',\n 'model',\n 'name',\n 'ideal',\n 'boy',\n 'girl',\n 'men',\n 'model',\n 'size',\n 'small',\n 'color',\n 'assort',\n 'dimens',\n 'weight',\n 'length',\n 'inch',\n 'width',\n 'inch',\n 'box',\n 'number',\n 'content',\n 'sale',\n 'packag',\n 'sale',\n 'packag',\n 'piec',\n 'face',\n 'towel',\n 'featur',\n 'royal',\n 'fashion',\n 'cotton',\n 'print',\n 'king',\n 'size',\n 'doubl',\n 'royal',\n 'wed',\n 'gift',\n 'specif',\n 'royal',\n 'fashion',\n 'cotton',\n 'print',\n 'king',\n 'size',\n 'doubl',\n 'pillow',\n 'cover',\n 'multicolor',\n 'gener',\n 'brand',\n 'royal',\n 'fashion',\n 'machin',\n 'washabl',\n 'ye',\n 'type',\n 'flat',\n 'materi',\n 'cotton',\n 'model',\n 'name',\n 'gold',\n 'design',\n 'royal',\n 'cotton',\n 'print',\n 'wed',\n 'gift',\n 'doubl',\n 'pillow',\n 'cover',\n 'model',\n 'color',\n 'multicolor',\n 'size',\n 'king',\n 'fabric',\n 'care',\n 'machin',\n 'wash',\n 'bleach',\n 'dimens',\n 'flat',\n 'sheet',\n 'width',\n 'inch',\n 'fit',\n 'sheet',\n 'width',\n 'pillow',\n 'cover',\n 'width',\n 'inch',\n 'pillow',\n 'cover',\n 'length',\n 'inch',\n 'fit',\n 'sheet',\n 'depth',\n 'fit',\n 'sheet',\n 'length',\n 'flat',\n 'sheet',\n 'depth',\n 'flat',\n 'sheet',\n 'length',\n 'inch',\n 'box',\n 'number',\n 'content',\n 'sale',\n 'packag',\n 'sale',\n 'packag',\n 'pillow',\n 'featur',\n 'print',\n 'cotton',\n 'floral',\n 'king',\n 'size',\n 'doubl',\n 'cotton',\n 'print',\n 'cotton',\n 'floral',\n 'king',\n 'size',\n 'doubl',\n 'bed',\n 'sheet',\n 'pillow',\n 'cover',\n 'white',\n 'price',\n 'nice',\n 'bed',\n 'sheet',\n 'made',\n 'cotton',\n 'give',\n 'comfort',\n 'bed',\n 'sheet',\n 'hand',\n 'print',\n 'give',\n 'nice',\n 'look',\n 'room',\n 'fast',\n 'colour',\n 'good',\n 'qualiti',\n 'give',\n 'long',\n 'life',\n 'specif',\n 'print',\n 'cotton',\n 'floral',\n 'king',\n 'size',\n 'doubl',\n 'bed',\n 'sheet',\n 'pillow',\n 'cover',\n 'white',\n 'gener',\n 'machin',\n 'washabl',\n 'ye',\n 'brand',\n 'print',\n 'type',\n 'flat',\n 'model',\n 'name',\n 'materi',\n 'cotton',\n 'thread',\n 'count',\n 'model',\n 'fabric',\n 'care',\n 'bleach',\n 'size',\n 'king',\n 'color',\n 'white',\n 'warranti',\n 'product',\n 'manufactur',\n 'defect',\n 'product',\n 'exchang',\n 'use',\n 'return',\n 'pack',\n 'dimens',\n 'flat',\n 'sheet',\n 'width',\n 'inch',\n 'fit',\n 'sheet',\n 'width',\n 'pillow',\n 'cover',\n 'width',\n 'inch',\n 'pillow',\n 'cover',\n 'length',\n 'inch',\n 'weight',\n 'fit',\n 'sheet',\n 'depth',\n 'fit',\n 'sheet',\n 'length',\n 'flat',\n 'sheet',\n 'depth',\n 'flat',\n 'sheet',\n 'length',\n 'inch',\n 'box',\n 'number',\n 'content',\n 'sale',\n 'packag',\n 'sale',\n 'packag',\n 'bed',\n 'sheet',\n 'pillow',\n 'time',\n 'analog',\n 'watch',\n 'boy',\n 'buy',\n 'time',\n 'analog',\n 'watch',\n 'boy',\n 'india',\n 'great',\n 'discount',\n 'genuin',\n 'product',\n 'day',\n 'replac',\n 'guarante',\n 'free',\n 'ship',\n 'cash',\n 'deliveri',\n 'eleg',\n 'analog',\n 'watch',\n 'men',\n 'boy',\n 'buy',\n 'eleg',\n 'analog',\n 'watch',\n 'men',\n 'boy',\n 'india',\n 'great',\n 'discount',\n 'genuin',\n 'product',\n 'day',\n 'replac',\n 'guarante',\n 'free',\n 'ship',\n 'cash',\n 'deliveri',\n 'star',\n 'analog',\n 'watch',\n 'boy',\n 'price',\n 'whether',\n 'way',\n 'work',\n 'travel',\n 'abroad',\n 'famili',\n 'accessori',\n 'like',\n 'watch',\n 'wallet',\n 'belt',\n 'help',\n 'add',\n 'touch',\n 'sophist',\n 'class',\n 'otherwis',\n 'mundan',\n 'regular',\n 'daili',\n 'wear',\n 'come',\n 'suav',\n 'leather',\n 'belt',\n 'intric',\n 'design',\n 'finish',\n 'timepiec',\n 'separ',\n 'rest',\n 'whether',\n 'way',\n 'work',\n 'travel',\n 'abroad',\n 'famili',\n 'accessori',\n 'like',\n 'watch',\n 'wallet',\n 'belt',\n 'help',\n 'add',\n 'touch',\n 'sophist',\n 'class',\n 'otherwis',\n 'mundan',\n 'regular',\n 'daili',\n 'wear',\n 'come',\n 'suav',\n 'leather',\n 'belt',\n 'intric',\n 'design',\n 'finish',\n 'timepiec',\n 'separ',\n 'rest',\n 'youth',\n 'digit',\n 'watch',\n 'men',\n 'boy',\n 'buy',\n 'youth',\n 'digit',\n 'watch',\n 'men',\n 'boy',\n 'india',\n 'time',\n 'around',\n 'world',\n 'prayer',\n 'direct',\n 'daili',\n 'great',\n 'discount',\n 'genuin',\n 'product',\n 'day',\n 'replac',\n 'guarante',\n 'free',\n 'ship',\n 'cash',\n 'deliveri',\n 'tag',\n 'formula',\n 'analog',\n 'watch',\n 'boy',\n 'men',\n 'buy',\n 'tag',\n 'formula',\n 'analog',\n 'watch',\n 'boy',\n 'men',\n 'india',\n 'swiss',\n 'made',\n 'quartz',\n 'movement',\n 'scratch',\n 'resist',\n 'crystal',\n 'glass',\n 'water',\n 'resist',\n 'featur',\n 'chronograph',\n 'great',\n 'discount',\n 'genuin',\n 'product',\n 'day',\n 'replac',\n 'guarante',\n 'free',\n 'ship',\n 'cash',\n 'deliveri',\n 'analog',\n 'digit',\n 'watch',\n 'men',\n 'boy',\n 'price',\n 'present',\n 'black',\n 'dial',\n 'round',\n 'watch',\n 'fashion',\n 'watch',\n 'add',\n 'style',\n 'statement',\n 'brand',\n 'known',\n 'usag',\n 'qualiti',\n 'materi',\n 'make',\n 'appeal',\n 'watch',\n 'understand',\n 'need',\n 'youth',\n 'well',\n 'abl',\n 'present',\n 'wide',\n 'rang',\n 'watch',\n 'custom',\n 'varieti',\n 'design',\n 'style',\n 'youth',\n 'approach',\n 'well',\n 'execut',\n 'brand',\n 'get',\n 'one',\n 'see',\n 'brilliantli',\n 'lead',\n 'brand',\n 'style',\n 'finish',\n 'everyth',\n 'els',\n 'matter',\n 'present',\n 'black',\n 'dial',\n 'round',\n 'watch',\n 'fashion',\n 'watch',\n 'add',\n 'style',\n 'statement',\n 'brand',\n 'known',\n 'usag',\n 'qualiti',\n 'materi',\n 'make',\n 'appeal',\n 'watch',\n 'understand',\n 'need',\n 'youth',\n 'well',\n 'abl',\n 'present',\n 'wide',\n 'rang',\n 'watch',\n 'custom',\n 'varieti',\n 'design',\n 'style',\n 'youth',\n 'approach',\n 'well',\n 'execut',\n 'brand',\n 'get',\n 'one',\n 'see',\n 'brilliantli',\n 'lead',\n 'brand',\n 'style',\n 'finish',\n 'everyth',\n 'els',\n 'matter',\n 'cartier',\n 'analog',\n 'watch',\n 'boy',\n 'men',\n 'buy',\n 'cartier',\n 'analog',\n 'watch',\n 'boy',\n 'men',\n 'india',\n 'great',\n 'discount',\n 'genuin',\n 'product',\n 'day',\n 'replac',\n 'guarante',\n 'free',\n 'ship',\n 'cash',\n 'deliveri',\n 'loi',\n 'caron',\n 'analog',\n 'watch',\n 'boy',\n 'men',\n 'buy',\n 'loi',\n 'caron',\n 'analog',\n 'watch',\n 'boy',\n 'men',\n 'india',\n 'great',\n 'discount',\n 'genuin',\n 'product',\n 'day',\n 'replac',\n 'guarante',\n 'free',\n 'ship',\n 'cash',\n 'deliveri',\n 'titan',\n 'analog',\n 'watch',\n 'boy',\n 'men',\n 'buy',\n 'titan',\n 'analog',\n 'watch',\n 'boy',\n 'men',\n 'india',\n 'great',\n 'discount',\n 'genuin',\n 'product',\n 'day',\n 'replac',\n 'guarante',\n 'free',\n 'ship',\n 'cash',\n 'deliveri',\n 'art',\n 'jewelri',\n 'digit',\n 'watch',\n 'men',\n 'boy',\n 'girl',\n 'buy',\n 'art',\n 'jewelri',\n 'digit',\n 'watch',\n 'men',\n 'boy',\n 'girl',\n 'india',\n 'led',\n 'watch',\n 'sport',\n 'led',\n 'watch',\n 'fresh',\n 'latest',\n 'fanci',\n 'men',\n 'boy',\n 'wrist',\n 'watch',\n 'great',\n 'discount',\n 'genuin',\n 'product',\n 'day',\n 'replac',\n 'guarante',\n 'free',\n 'ship',\n 'cash',\n 'deliveri',\n 'escort',\n 'analog',\n 'watch',\n 'men',\n 'boy',\n 'price',\n 'flaunt',\n 'mantra',\n 'hit',\n 'street',\n 'style',\n 'wear',\n 'black',\n 'colour',\n 'analog',\n 'watch',\n 'men',\n 'hous',\n 'escort',\n 'case',\n 'add',\n 'appeal',\n 'timepiec',\n 'worn',\n 'raini',\n 'day',\n 'thank',\n 'water',\n 'resist',\n 'flaunt',\n 'mantra',\n 'hit',\n 'street',\n 'style',\n 'wear',\n 'black',\n 'colour',\n 'analog',\n 'watch',\n 'men',\n 'hous',\n 'escort',\n 'case',\n 'add',\n 'appeal',\n 'timepiec',\n 'worn',\n 'raini',\n 'day',\n 'thank',\n 'water',\n 'resist',\n 'jack',\n 'digit',\n 'watch',\n 'boy',\n 'buy',\n 'jack',\n 'digit',\n 'watch',\n 'boy',\n 'india',\n 'great',\n 'discount',\n 'genuin',\n 'product',\n 'day',\n 'replac',\n 'guarante',\n 'free',\n 'ship',\n 'cash',\n 'deliveri',\n 'north',\n 'moon',\n 'silicon',\n 'ion',\n 'digit',\n 'watch',\n 'boy',\n 'girl',\n 'buy',\n 'north',\n 'moon',\n 'silicon',\n ...]"
     },
     "execution_count": 93,
     "metadata": {},
     "output_type": "execute_result"
    }
   ],
   "source": [
    "corpus"
   ],
   "metadata": {
    "collapsed": false,
    "pycharm": {
     "name": "#%%\n"
    }
   }
  },
  {
   "cell_type": "code",
   "execution_count": 94,
   "outputs": [
    {
     "data": {
      "text/plain": "['key',\n 'feature',\n 'elegance',\n 'polyester',\n 'multicolor',\n 'abstract',\n 'eyelet',\n 'door',\n 'curtain',\n 'floral',\n 'curtain',\n 'elegance',\n 'polyester',\n 'multicolor',\n 'abstract',\n 'eyelet',\n 'door',\n 'curtain',\n 'height',\n 'pack',\n 'price',\n 'curtain',\n 'look',\n 'interior',\n 'curtain',\n 'made',\n 'high',\n 'quality',\n 'polyester',\n 'fabric',\n 'feature',\n 'eyelet',\n 'style',\n 'stitch',\n 'metal',\n 'ring',\n 'make',\n 'room',\n 'environment',\n 'curtain',\n 'ant',\n 'wrinkle',\n 'anti',\n 'shrinkage',\n 'elegant',\n 'give',\n 'home',\n 'bright',\n 'appeal',\n 'design',\n 'attention',\n 'sure',\n 'contemporary',\n 'eyelet',\n 'curtain',\n 'slide',\n 'smoothly',\n 'draw',\n 'apart',\n 'first',\n 'thing',\n 'morning',\n 'welcome',\n 'bright',\n 'sun',\n 'ray',\n 'want',\n 'wish',\n 'good',\n 'morning',\n 'whole',\n 'world',\n 'draw',\n 'evening',\n 'create',\n 'special',\n 'moment',\n 'beauty',\n 'given',\n 'soothing',\n 'print',\n 'bring',\n 'home',\n 'elegant',\n 'curtain',\n 'light',\n 'room',\n 'get',\n 'right',\n 'amount',\n 'sunlight',\n 'specification',\n 'elegance',\n 'polyester',\n 'multicolor',\n 'abstract',\n 'eyelet',\n 'door',\n 'curtain',\n 'height',\n 'pack',\n 'general',\n 'brand',\n 'elegance',\n 'designed',\n 'door',\n 'type',\n 'eyelet',\n 'model',\n 'name',\n 'abstract',\n 'polyester',\n 'door',\n 'curtain',\n 'set',\n 'model',\n 'color',\n 'multicolor',\n 'dimension',\n 'length',\n 'box',\n 'number',\n 'content',\n 'sale',\n 'package',\n 'pack',\n 'sale',\n 'package',\n 'curtain',\n 'body',\n 'design',\n 'material',\n 'cotton',\n 'bath',\n 'towel',\n 'bath',\n 'towel',\n 'red',\n 'yellow',\n 'blue',\n 'bath',\n 'towel',\n 'feature',\n 'machine',\n 'washable',\n 'yes',\n 'material',\n 'cotton',\n 'design',\n 'self',\n 'design',\n 'general',\n 'brand',\n 'type',\n 'bath',\n 'towel',\n 'model',\n 'name',\n 'cotton',\n 'bath',\n 'towel',\n 'ideal',\n 'men',\n 'woman',\n 'boy',\n 'girl',\n 'model',\n 'color',\n 'red',\n 'yellow',\n 'blue',\n 'size',\n 'dimension',\n 'length',\n 'inch',\n 'width',\n 'inch',\n 'box',\n 'number',\n 'content',\n 'sale',\n 'package',\n 'sale',\n 'package',\n 'bath',\n 'feature',\n 'cotton',\n 'terry',\n 'face',\n 'towel',\n 'set',\n 'size',\n 'small',\n 'height',\n 'inch',\n 'cotton',\n 'terry',\n 'face',\n 'towel',\n 'set',\n 'piece',\n 'face',\n 'towel',\n 'set',\n 'assorted',\n 'price',\n 'exclusively',\n 'designed',\n 'soft',\n 'cotton',\n 'towel',\n 'export',\n 'quality',\n 'product',\n 'soft',\n 'texture',\n 'care',\n 'skin',\n 'give',\n 'feeling',\n 'bath',\n 'towel',\n 'brand',\n 'last',\n 'year',\n 'famous',\n 'fine',\n 'print',\n 'absorbency',\n 'softness',\n 'durability',\n 'note',\n 'product',\n 'cotton',\n 'shrinkage',\n 'product',\n 'color',\n 'may',\n 'vary',\n 'picture',\n 'size',\n 'may',\n 'vary',\n 'wash',\n 'care',\n 'wash',\n 'cold',\n 'water',\n 'iron',\n 'bleach',\n 'flat',\n 'dry',\n 'wash',\n 'first',\n 'use',\n 'size',\n 'face',\n 'towel',\n 'specification',\n 'cotton',\n 'terry',\n 'face',\n 'towel',\n 'set',\n 'piece',\n 'face',\n 'towel',\n 'set',\n 'assorted',\n 'bath',\n 'towel',\n 'feature',\n 'material',\n 'cotton',\n 'terry',\n 'design',\n 'general',\n 'brand',\n 'type',\n 'face',\n 'towel',\n 'set',\n 'model',\n 'name',\n 'ideal',\n 'boy',\n 'girl',\n 'men',\n 'woman',\n 'model',\n 'size',\n 'small',\n 'color',\n 'assorted',\n 'dimension',\n 'weight',\n 'length',\n 'inch',\n 'width',\n 'inch',\n 'box',\n 'number',\n 'content',\n 'sale',\n 'package',\n 'sale',\n 'package',\n 'piece',\n 'face',\n 'towel',\n 'feature',\n 'royal',\n 'fashion',\n 'cotton',\n 'printed',\n 'king',\n 'sized',\n 'double',\n 'royal',\n 'wedding',\n 'specification',\n 'royal',\n 'fashion',\n 'cotton',\n 'printed',\n 'king',\n 'sized',\n 'double',\n 'pillow',\n 'cover',\n 'multicolor',\n 'general',\n 'brand',\n 'royal',\n 'fashion',\n 'machine',\n 'washable',\n 'yes',\n 'type',\n 'flat',\n 'material',\n 'cotton',\n 'model',\n 'name',\n 'gold',\n 'design',\n 'royal',\n 'cotton',\n 'printed',\n 'wedding',\n 'gifted',\n 'double',\n 'pillow',\n 'cover',\n 'model',\n 'color',\n 'multicolor',\n 'size',\n 'king',\n 'fabric',\n 'care',\n 'machine',\n 'wash',\n 'bleach',\n 'dimension',\n 'flat',\n 'sheet',\n 'width',\n 'inch',\n 'fitted',\n 'sheet',\n 'width',\n 'pillow',\n 'cover',\n 'width',\n 'inch',\n 'pillow',\n 'cover',\n 'length',\n 'inch',\n 'fitted',\n 'sheet',\n 'depth',\n 'fitted',\n 'sheet',\n 'length',\n 'flat',\n 'sheet',\n 'depth',\n 'flat',\n 'sheet',\n 'length',\n 'inch',\n 'box',\n 'number',\n 'content',\n 'sale',\n 'package',\n 'sale',\n 'package',\n 'pillow',\n 'feature',\n 'print',\n 'cotton',\n 'floral',\n 'king',\n 'sized',\n 'double',\n 'cotton',\n 'print',\n 'cotton',\n 'floral',\n 'king',\n 'sized',\n 'double',\n 'bed',\n 'sheet',\n 'pillow',\n 'cover',\n 'white',\n 'price',\n 'nice',\n 'bed',\n 'sheet',\n 'made',\n 'cotton',\n 'give',\n 'comfort',\n 'bed',\n 'sheet',\n 'hand',\n 'printed',\n 'give',\n 'nice',\n 'look',\n 'room',\n 'fast',\n 'colour',\n 'good',\n 'quality',\n 'give',\n 'long',\n 'life',\n 'specification',\n 'print',\n 'cotton',\n 'floral',\n 'king',\n 'sized',\n 'double',\n 'bed',\n 'sheet',\n 'pillow',\n 'cover',\n 'white',\n 'general',\n 'machine',\n 'washable',\n 'yes',\n 'brand',\n 'print',\n 'type',\n 'flat',\n 'model',\n 'name',\n 'material',\n 'cotton',\n 'thread',\n 'count',\n 'model',\n 'fabric',\n 'care',\n 'bleach',\n 'size',\n 'king',\n 'color',\n 'white',\n 'warranty',\n 'product',\n 'defect',\n 'product',\n 'exchange',\n 'used',\n 'dimension',\n 'flat',\n 'sheet',\n 'width',\n 'inch',\n 'fitted',\n 'sheet',\n 'width',\n 'pillow',\n 'cover',\n 'width',\n 'inch',\n 'pillow',\n 'cover',\n 'length',\n 'inch',\n 'weight',\n 'fitted',\n 'sheet',\n 'depth',\n 'fitted',\n 'sheet',\n 'length',\n 'flat',\n 'sheet',\n 'depth',\n 'flat',\n 'sheet',\n 'length',\n 'inch',\n 'box',\n 'number',\n 'content',\n 'sale',\n 'package',\n 'sale',\n 'package',\n 'bed',\n 'sheet',\n 'pillow',\n 'time',\n 'watch',\n 'boy',\n 'buy',\n 'time',\n 'watch',\n 'boy',\n 'india',\n 'great',\n 'discount',\n 'genuine',\n 'product',\n 'day',\n 'replacement',\n 'guarantee',\n 'free',\n 'shipping',\n 'cash',\n 'delivery',\n 'elegance',\n 'watch',\n 'men',\n 'boy',\n 'buy',\n 'elegance',\n 'watch',\n 'men',\n 'boy',\n 'india',\n 'great',\n 'discount',\n 'genuine',\n 'product',\n 'day',\n 'replacement',\n 'guarantee',\n 'free',\n 'shipping',\n 'cash',\n 'delivery',\n 'star',\n 'watch',\n 'boy',\n 'price',\n 'whether',\n 'way',\n 'work',\n 'abroad',\n 'family',\n 'accessory',\n 'like',\n 'watch',\n 'wallet',\n 'belt',\n 'help',\n 'add',\n 'touch',\n 'sophistication',\n 'class',\n 'otherwise',\n 'mundane',\n 'regular',\n 'daily',\n 'wear',\n 'come',\n 'suave',\n 'leather',\n 'belt',\n 'intricately',\n 'designed',\n 'finished',\n 'timepiece',\n 'separate',\n 'rest',\n 'whether',\n 'way',\n 'work',\n 'abroad',\n 'family',\n 'accessory',\n 'like',\n 'watch',\n 'wallet',\n 'belt',\n 'help',\n 'add',\n 'touch',\n 'sophistication',\n 'class',\n 'otherwise',\n 'mundane',\n 'regular',\n 'daily',\n 'wear',\n 'come',\n 'suave',\n 'leather',\n 'belt',\n 'intricately',\n 'designed',\n 'finished',\n 'timepiece',\n 'separate',\n 'rest',\n 'youth',\n 'digital',\n 'watch',\n 'men',\n 'boy',\n 'buy',\n 'youth',\n 'digital',\n 'watch',\n 'men',\n 'boy',\n 'india',\n 'time',\n 'around',\n 'world',\n 'prayer',\n 'direction',\n 'daily',\n 'great',\n 'discount',\n 'genuine',\n 'product',\n 'day',\n 'replacement',\n 'guarantee',\n 'free',\n 'shipping',\n 'cash',\n 'delivery',\n 'tag',\n 'formula',\n 'watch',\n 'boy',\n 'men',\n 'buy',\n 'tag',\n 'formula',\n 'watch',\n 'boy',\n 'men',\n 'india',\n 'swiss',\n 'made',\n 'quartz',\n 'movement',\n 'scratch',\n 'resistant',\n 'crystal',\n 'glass',\n 'water',\n 'resistant',\n 'feature',\n 'chronograph',\n 'great',\n 'discount',\n 'genuine',\n 'product',\n 'day',\n 'replacement',\n 'guarantee',\n 'free',\n 'shipping',\n 'cash',\n 'delivery',\n 'digital',\n 'watch',\n 'men',\n 'boy',\n 'price',\n 'present',\n 'black',\n 'dial',\n 'round',\n 'watch',\n 'fashionable',\n 'watch',\n 'add',\n 'style',\n 'statement',\n 'brand',\n 'known',\n 'usage',\n 'quality',\n 'material',\n 'making',\n 'appealing',\n 'watch',\n 'need',\n 'youth',\n 'well',\n 'able',\n 'present',\n 'wide',\n 'range',\n 'watch',\n 'customer',\n 'variety',\n 'design',\n 'style',\n 'youthful',\n 'approach',\n 'well',\n 'executed',\n 'brand',\n 'get',\n 'one',\n 'see',\n 'brilliantly',\n 'lead',\n 'brand',\n 'style',\n 'finish',\n 'everything',\n 'else',\n 'matter',\n 'present',\n 'black',\n 'dial',\n 'round',\n 'watch',\n 'fashionable',\n 'watch',\n 'add',\n 'style',\n 'statement',\n 'brand',\n 'known',\n 'usage',\n 'quality',\n 'material',\n 'making',\n 'appealing',\n 'watch',\n 'need',\n 'youth',\n 'well',\n 'able',\n 'present',\n 'wide',\n 'range',\n 'watch',\n 'customer',\n 'variety',\n 'design',\n 'style',\n 'youthful',\n 'approach',\n 'well',\n 'executed',\n 'brand',\n 'get',\n 'one',\n 'see',\n 'brilliantly',\n 'lead',\n 'brand',\n 'style',\n 'finish',\n 'everything',\n 'else',\n 'matter',\n 'cartier',\n 'watch',\n 'boy',\n 'men',\n 'buy',\n 'cartier',\n 'watch',\n 'boy',\n 'men',\n 'india',\n 'great',\n 'discount',\n 'genuine',\n 'product',\n 'day',\n 'replacement',\n 'guarantee',\n 'free',\n 'shipping',\n 'cash',\n 'delivery',\n 'lois',\n 'watch',\n 'boy',\n 'men',\n 'buy',\n 'lois',\n 'watch',\n 'boy',\n 'men',\n 'india',\n 'great',\n 'discount',\n 'genuine',\n 'product',\n 'day',\n 'replacement',\n 'guarantee',\n 'free',\n 'shipping',\n 'cash',\n 'delivery',\n 'titan',\n 'watch',\n 'boy',\n 'men',\n 'buy',\n 'titan',\n 'watch',\n 'boy',\n 'men',\n 'india',\n 'great',\n 'discount',\n 'genuine',\n 'product',\n 'day',\n 'replacement',\n 'guarantee',\n 'free',\n 'shipping',\n 'cash',\n 'delivery',\n 'art',\n 'jewelry',\n 'digital',\n 'watch',\n 'men',\n 'woman',\n 'boy',\n 'girl',\n 'buy',\n 'art',\n 'jewelry',\n 'digital',\n 'watch',\n 'men',\n 'woman',\n 'boy',\n 'girl',\n 'india',\n 'led',\n 'watch',\n 'sport',\n 'led',\n 'watch',\n 'fresh',\n 'latest',\n 'fancy',\n 'men',\n 'woman',\n 'boy',\n 'wrist',\n 'watch',\n 'great',\n 'discount',\n 'genuine',\n 'product',\n 'day',\n 'replacement',\n 'guarantee',\n 'free',\n 'shipping',\n 'cash',\n 'delivery',\n 'escort',\n 'watch',\n 'men',\n 'boy',\n 'price',\n 'flaunt',\n 'mantra',\n 'hit',\n 'street',\n 'style',\n 'wearing',\n 'black',\n 'watch',\n 'men',\n 'house',\n 'escort',\n 'casing',\n 'add',\n 'appeal',\n 'timepiece',\n 'worn',\n 'rainy',\n 'day',\n 'thanks',\n 'water',\n 'resistance',\n 'flaunt',\n 'mantra',\n 'hit',\n 'street',\n 'style',\n 'wearing',\n 'black',\n 'watch',\n 'men',\n 'house',\n 'escort',\n 'casing',\n 'add',\n 'appeal',\n 'timepiece',\n 'worn',\n 'rainy',\n 'day',\n 'thanks',\n 'water',\n 'resistance',\n 'jack',\n 'digital',\n 'watch',\n 'boy',\n 'buy',\n 'jack',\n 'digital',\n 'watch',\n 'boy',\n 'india',\n 'great',\n 'discount',\n 'genuine',\n 'product',\n 'day',\n 'replacement',\n 'guarantee',\n 'free',\n 'shipping',\n 'cash',\n 'delivery',\n 'north',\n 'moon',\n 'silicone',\n 'ion',\n 'digital',\n 'watch',\n 'boy',\n 'girl',\n 'woman',\n 'buy',\n 'north',\n 'moon',\n 'silicone',\n 'ion',\n 'digital',\n 'watch',\n 'boy',\n 'girl',\n 'woman',\n 'india',\n 'great',\n 'discount',\n 'genuine',\n 'product',\n 'day',\n 'replacement',\n 'guarantee',\n 'free',\n 'shipping',\n 'cash',\n 'delivery',\n 'bella',\n 'watch',\n 'boy',\n 'men',\n 'buy',\n 'bella',\n 'watch',\n 'boy',\n ...]"
     },
     "execution_count": 94,
     "metadata": {},
     "output_type": "execute_result"
    }
   ],
   "source": [
    "corpus_lem"
   ],
   "metadata": {
    "collapsed": false,
    "pycharm": {
     "name": "#%%\n"
    }
   }
  },
  {
   "cell_type": "code",
   "execution_count": 95,
   "outputs": [
    {
     "data": {
      "text/plain": "product        863\nfree           618\ndelivery       567\ncash           564\nshipping       564\n              ... \ncaptivating      2\nnexus            2\nteal             2\nextended         2\nfilm             2\nLength: 2333, dtype: int64"
     },
     "execution_count": 95,
     "metadata": {},
     "output_type": "execute_result"
    }
   ],
   "source": [
    "tmp = pd.Series(corpus_lem).value_counts()\n",
    "tmp"
   ],
   "metadata": {
    "collapsed": false,
    "pycharm": {
     "name": "#%%\n"
    }
   }
  },
  {
   "cell_type": "code",
   "execution_count": 96,
   "outputs": [],
   "source": [
    "##sns.barplot(x=tmp.index, y=tmp.values)"
   ],
   "metadata": {
    "collapsed": false,
    "pycharm": {
     "name": "#%%\n"
    }
   }
  },
  {
   "cell_type": "code",
   "execution_count": 96,
   "outputs": [],
   "source": [],
   "metadata": {
    "collapsed": false,
    "pycharm": {
     "name": "#%%\n"
    }
   }
  },
  {
   "cell_type": "markdown",
   "source": [
    "##### 6) Wordcloud"
   ],
   "metadata": {
    "collapsed": false,
    "pycharm": {
     "name": "#%% md\n"
    }
   }
  },
  {
   "cell_type": "code",
   "execution_count": 97,
   "outputs": [
    {
     "data": {
      "text/plain": "<Figure size 432x288 with 1 Axes>",
      "image/png": "[encoded data removed]"
     },
     "metadata": {},
     "output_type": "display_data"
    }
   ],
   "source": [
    "display_wordcloud([corpus_lem])"
   ],
   "metadata": {
    "collapsed": false,
    "pycharm": {
     "name": "#%%\n"
    }
   }
  },
  {
   "cell_type": "code",
   "execution_count": 98,
   "outputs": [
    {
     "data": {
      "text/plain": "<Figure size 432x288 with 1 Axes>",
      "image/png": "[encoded data removed]"
     },
     "metadata": {},
     "output_type": "display_data"
    }
   ],
   "source": [
    "display_wordcloud([corpus])"
   ],
   "metadata": {
    "collapsed": false,
    "pycharm": {
     "name": "#%%\n"
    }
   }
  },
  {
   "cell_type": "markdown",
   "source": [
    "#### Divide the corpus"
   ],
   "metadata": {
    "collapsed": false,
    "pycharm": {
     "name": "#%% md\n"
    }
   }
  },
  {
   "cell_type": "markdown",
   "source": [
    "##### 1) Separate the 7 categories"
   ],
   "metadata": {
    "collapsed": false,
    "pycharm": {
     "name": "#%% md\n"
    }
   }
  },
  {
   "cell_type": "code",
   "execution_count": 99,
   "outputs": [],
   "source": [
    "for i in range(7):\n",
    "    globals()[\"df_\" + str(i)] = data_text[data_text.target == i]"
   ],
   "metadata": {
    "collapsed": false,
    "pycharm": {
     "name": "#%%\n"
    }
   }
  },
  {
   "cell_type": "code",
   "execution_count": 100,
   "outputs": [
    {
     "data": {
      "text/plain": "                                         product_name  \\\n1                          Sathiyas Cotton Bath Towel   \n2                 Eurospa Cotton Terry Face Towel Set   \n40  Mom and Kid Baby Girl's Printed Green Top & Py...   \n42  Mom and Kid Baby Girl's Printed Blue, Grey Top...   \n63                               KOHL Wine Bag Yellow   \n\n                                                 text   category  target  \n1   Specifications of Sathiyas Cotton Bath Towel (...  Baby Care       0  \n2   Key Features of Eurospa Cotton Terry Face Towe...  Baby Care       0  \n40  Key Features of Mom and Kid Baby Girl's Printe...  Baby Care       0  \n42  Key Features of Mom and Kid Baby Girl's Printe...  Baby Care       0  \n63  Key Features of KOHL Wine Bag Yellow Easy to c...  Baby Care       0  ",
      "text/html": "<div>\n<style scoped>\n    .dataframe tbody tr th:only-of-type {\n        vertical-align: middle;\n    }\n\n    .dataframe tbody tr th {\n        vertical-align: top;\n    }\n\n    .dataframe thead th {\n        text-align: right;\n    }\n</style>\n<table border=\"1\" class=\"dataframe\">\n  <thead>\n    <tr style=\"text-align: right;\">\n      <th></th>\n      <th>product_name</th>\n      <th>text</th>\n      <th>category</th>\n      <th>target</th>\n    </tr>\n  </thead>\n  <tbody>\n    <tr>\n      <th>1</th>\n      <td>Sathiyas Cotton Bath Towel</td>\n      <td>Specifications of Sathiyas Cotton Bath Towel (...</td>\n      <td>Baby Care</td>\n      <td>0</td>\n    </tr>\n    <tr>\n      <th>2</th>\n      <td>Eurospa Cotton Terry Face Towel Set</td>\n      <td>Key Features of Eurospa Cotton Terry Face Towe...</td>\n      <td>Baby Care</td>\n      <td>0</td>\n    </tr>\n    <tr>\n      <th>40</th>\n      <td>Mom and Kid Baby Girl's Printed Green Top &amp; Py...</td>\n      <td>Key Features of Mom and Kid Baby Girl's Printe...</td>\n      <td>Baby Care</td>\n      <td>0</td>\n    </tr>\n    <tr>\n      <th>42</th>\n      <td>Mom and Kid Baby Girl's Printed Blue, Grey Top...</td>\n      <td>Key Features of Mom and Kid Baby Girl's Printe...</td>\n      <td>Baby Care</td>\n      <td>0</td>\n    </tr>\n    <tr>\n      <th>63</th>\n      <td>KOHL Wine Bag Yellow</td>\n      <td>Key Features of KOHL Wine Bag Yellow Easy to c...</td>\n      <td>Baby Care</td>\n      <td>0</td>\n    </tr>\n  </tbody>\n</table>\n</div>"
     },
     "execution_count": 100,
     "metadata": {},
     "output_type": "execute_result"
    }
   ],
   "source": [
    "df_0.head()"
   ],
   "metadata": {
    "collapsed": false,
    "pycharm": {
     "name": "#%%\n"
    }
   }
  },
  {
   "cell_type": "code",
   "execution_count": 101,
   "outputs": [
    {
     "data": {
      "text/plain": "                                        product_name  \\\n5  Maserati Time R8851116001 Analog Watch  - For ...   \n6  Camerii WM64 Elegance Analog Watch  - For Men,...   \n7  T STAR UFT-TSW-005-BK-BR Analog Watch  - For Boys   \n8  Alfajr WY16B Youth Digital Watch  - For Men, Boys   \n9  TAG Heuer CAU1116.BA0858 Formula 1 Analog Watc...   \n\n                                                text category  target  \n5  Maserati Time R8851116001 Analog Watch  - For ...  Watches       6  \n6  Camerii WM64 Elegance Analog Watch  - For Men,...  Watches       6  \n7  T STAR UFT-TSW-005-BK-BR Analog Watch  - For B...  Watches       6  \n8  Alfajr WY16B Youth Digital Watch  - For Men, B...  Watches       6  \n9  TAG Heuer CAU1116.BA0858 Formula 1 Analog Watc...  Watches       6  ",
      "text/html": "<div>\n<style scoped>\n    .dataframe tbody tr th:only-of-type {\n        vertical-align: middle;\n    }\n\n    .dataframe tbody tr th {\n        vertical-align: top;\n    }\n\n    .dataframe thead th {\n        text-align: right;\n    }\n</style>\n<table border=\"1\" class=\"dataframe\">\n  <thead>\n    <tr style=\"text-align: right;\">\n      <th></th>\n      <th>product_name</th>\n      <th>text</th>\n      <th>category</th>\n      <th>target</th>\n    </tr>\n  </thead>\n  <tbody>\n    <tr>\n      <th>5</th>\n      <td>Maserati Time R8851116001 Analog Watch  - For ...</td>\n      <td>Maserati Time R8851116001 Analog Watch  - For ...</td>\n      <td>Watches</td>\n      <td>6</td>\n    </tr>\n    <tr>\n      <th>6</th>\n      <td>Camerii WM64 Elegance Analog Watch  - For Men,...</td>\n      <td>Camerii WM64 Elegance Analog Watch  - For Men,...</td>\n      <td>Watches</td>\n      <td>6</td>\n    </tr>\n    <tr>\n      <th>7</th>\n      <td>T STAR UFT-TSW-005-BK-BR Analog Watch  - For Boys</td>\n      <td>T STAR UFT-TSW-005-BK-BR Analog Watch  - For B...</td>\n      <td>Watches</td>\n      <td>6</td>\n    </tr>\n    <tr>\n      <th>8</th>\n      <td>Alfajr WY16B Youth Digital Watch  - For Men, Boys</td>\n      <td>Alfajr WY16B Youth Digital Watch  - For Men, B...</td>\n      <td>Watches</td>\n      <td>6</td>\n    </tr>\n    <tr>\n      <th>9</th>\n      <td>TAG Heuer CAU1116.BA0858 Formula 1 Analog Watc...</td>\n      <td>TAG Heuer CAU1116.BA0858 Formula 1 Analog Watc...</td>\n      <td>Watches</td>\n      <td>6</td>\n    </tr>\n  </tbody>\n</table>\n</div>"
     },
     "execution_count": 101,
     "metadata": {},
     "output_type": "execute_result"
    }
   ],
   "source": [
    "df_6.head()"
   ],
   "metadata": {
    "collapsed": false,
    "pycharm": {
     "name": "#%%\n"
    }
   }
  },
  {
   "cell_type": "code",
   "execution_count": 102,
   "outputs": [],
   "source": [
    "for i in range(7):\n",
    "    globals()[\"corpus_\" + str(i)] = \" \".join(globals()[\"df_\" + str(i)].text)"
   ],
   "metadata": {
    "collapsed": false,
    "pycharm": {
     "name": "#%%\n"
    }
   }
  },
  {
   "cell_type": "code",
   "execution_count": 103,
   "outputs": [
    {
     "data": {
      "text/plain": "'Specifications of Sathiyas Cotton Bath Towel (3 Bath Towel, Red, Yellow, Blue) Bath Towel Features Machine Washable Yes Material Cotton Design Self Design General Brand Sathiyas Type Bath Towel GSM 500 Model Name Sathiyas cotton bath towel Ideal For Men, Women, Boys, Girls Model ID asvtwl322 Color Red, Yellow, Blue Size Mediam Dimensions Length 30 inch Width 60 inch In the Box Number of Contents in Sales Package 3 Sales Package 3 Bath Towel Key Features of Eurospa Cotton Terry Face Towel Set Size: small Height: 9 inch GSM: 360,Eurospa Cotton Terry Face Towel Set (20 PIECE FACE TOWEL SET, Assorted) Price: Rs. 299 Eurospa brings to you an exclusively designed, 100% soft cotton towels of export quality. All our products have soft texture that takes care of your skin and gives you that enriched feeling you deserve. Eurospa has been exporting its bath towels to lot of renowned brands for last 10 years and is famous for its fine prints, absorbency, softness and durability. NOTE: Our product '"
     },
     "execution_count": 103,
     "metadata": {},
     "output_type": "execute_result"
    }
   ],
   "source": [
    "corpus_0[:1000]"
   ],
   "metadata": {
    "collapsed": false,
    "pycharm": {
     "name": "#%%\n"
    }
   }
  },
  {
   "cell_type": "code",
   "execution_count": 104,
   "outputs": [
    {
     "data": {
      "text/plain": "72541"
     },
     "execution_count": 104,
     "metadata": {},
     "output_type": "execute_result"
    }
   ],
   "source": [
    "len(corpus_0)"
   ],
   "metadata": {
    "collapsed": false,
    "pycharm": {
     "name": "#%%\n"
    }
   }
  },
  {
   "cell_type": "code",
   "execution_count": 105,
   "outputs": [
    {
     "data": {
      "text/plain": "49083"
     },
     "execution_count": 105,
     "metadata": {},
     "output_type": "execute_result"
    }
   ],
   "source": [
    "len(corpus_6)"
   ],
   "metadata": {
    "collapsed": false,
    "pycharm": {
     "name": "#%%\n"
    }
   }
  },
  {
   "cell_type": "markdown",
   "source": [
    "##### 2) Process all of them"
   ],
   "metadata": {
    "collapsed": false,
    "pycharm": {
     "name": "#%% md\n"
    }
   }
  },
  {
   "cell_type": "code",
   "execution_count": 106,
   "outputs": [
    {
     "name": "stdout",
     "output_type": "stream",
     "text": [
      "\n",
      "\n",
      "__Before__Category__0\n",
      "nb tokens 72541, nb tokens uniques 93\n",
      "Specifications of Sathiyas Cot\n",
      "[' ', 'o', 'S', 'c', 's', 'a', 't', 'e', 'f', 'h', 'n', 'p', 'C', 'i', 'y']\n",
      "\n",
      "\n",
      "__Before__Category__1\n",
      "nb tokens 56618, nb tokens uniques 83\n",
      "Key Features of Burt s Bees Ha\n",
      "['u', 'K', ' ', 'F', 'o', 'r', 's', 'B', 'a', 't', 'e', 'f', 'H', 'y']\n",
      "\n",
      "\n",
      "__Before__Category__2\n",
      "nb tokens 83329, nb tokens uniques 87\n",
      "Key Features of D-Link DAP1320\n",
      "['K', '1', 'L', 'o', 's', '3', 'e', 'i', 'y', 'u', 't', '-', 'f', 'D', 'k', ' ', 'F', 'a', 'P', 'r', '2', 'A', '0', 'n']\n",
      "\n",
      "\n",
      "__Before__Category__3\n",
      "nb tokens 84704, nb tokens uniques 92\n",
      "Myesquire Ceramic Burner Pot L\n",
      "['M', 'L', 'o', 's', 'e', 'i', 'y', 'u', 't', 'm', 'C', 'q', ' ', 'B', 'a', 'P', 'r', 'c', 'n']\n",
      "\n",
      "\n",
      "__Before__Category__4\n",
      "nb tokens 57118, nb tokens uniques 84\n",
      "Key Features of Elegance Polye\n",
      "['u', 'K', 'E', ' ', 'l', 'F', 'o', 'r', 's', 'g', 'a', 't', 'c', 'e', 'f', 'n', 'P', 'y']\n",
      "\n",
      "\n",
      "__Before__Category__5\n",
      "nb tokens 95162, nb tokens uniques 85\n",
      "Key Features of Dungri India C\n",
      "['d', 'K', 'o', 's', 'I', 'e', 'i', 'y', 'u', 'g', 't', 'f', 'D', 'C', ' ', 'F', 'a', 'r', 'n']\n",
      "\n",
      "\n",
      "__Before__Category__6\n",
      "nb tokens 49083, nb tokens uniques 76\n",
      "Maserati Time R8851116001 Anal\n",
      "['M', '1', 's', '8', 'e', 'i', 'l', 't', 'm', '6', ' ', '5', 'a', 'r', 'R', 'A', '0', 'n', 'T']\n"
     ]
    }
   ],
   "source": [
    "for i in range(7):\n",
    "    print(\"\\n\\n__Before__Category__{}\".format(str(i)))\n",
    "    display_tokens_info(globals()[\"corpus_\" + str(i)])"
   ],
   "metadata": {
    "collapsed": false,
    "pycharm": {
     "name": "#%%\n"
    }
   }
  },
  {
   "cell_type": "code",
   "execution_count": null,
   "outputs": [],
   "source": [
    "for i in range(7):\n",
    "    globals()[\"corpus_\" + str(i)] = process_text_4(globals()[\"corpus_\" + str(i)],\n",
    "                          rejoin=False,\n",
    "                          list_rare_words=list_unique_words,\n",
    "                          eng_words=eng_words_stem)"
   ],
   "metadata": {
    "collapsed": false,
    "pycharm": {
     "name": "#%%\n",
     "is_executing": true
    }
   }
  },
  {
   "cell_type": "code",
   "execution_count": null,
   "outputs": [],
   "source": [
    "for i in range(7):\n",
    "    print(\"\\n\\n__After__Category__{}\".format(str(i)))\n",
    "    display_tokens_info(globals()[\"corpus_\" + str(i)])"
   ],
   "metadata": {
    "collapsed": false,
    "pycharm": {
     "name": "#%%\n",
     "is_executing": true
    }
   }
  },
  {
   "cell_type": "code",
   "execution_count": null,
   "outputs": [],
   "source": [
    "corpus_list = [globals()[\"corpus_\" + str(i)] for i in range(7)]"
   ],
   "metadata": {
    "collapsed": false,
    "pycharm": {
     "name": "#%%\n",
     "is_executing": true
    }
   }
  },
  {
   "cell_type": "code",
   "execution_count": null,
   "outputs": [],
   "source": [
    "display_wordcloud(corpus_list)"
   ],
   "metadata": {
    "collapsed": false,
    "pycharm": {
     "name": "#%%\n",
     "is_executing": true
    }
   }
  },
  {
   "cell_type": "code",
   "execution_count": null,
   "outputs": [],
   "source": [
    "pd.Series(corpus_0).value_counts().head(20)"
   ],
   "metadata": {
    "collapsed": false,
    "pycharm": {
     "name": "#%%\n",
     "is_executing": true
    }
   }
  },
  {
   "cell_type": "code",
   "execution_count": null,
   "outputs": [],
   "source": [
    "pd.Series(corpus_6).value_counts().head(20)"
   ],
   "metadata": {
    "collapsed": false,
    "pycharm": {
     "name": "#%%\n",
     "is_executing": true
    }
   }
  },
  {
   "cell_type": "markdown",
   "source": [
    "##### Duplicated words in all of the 7 categories"
   ],
   "metadata": {
    "collapsed": false,
    "pycharm": {
     "name": "#%% md\n"
    }
   }
  },
  {
   "cell_type": "code",
   "execution_count": null,
   "outputs": [],
   "source": [
    "n = 10\n",
    "doublons = [i for i in pd.Series(corpus_0).value_counts().head(n).index if i in pd.Series(corpus_1).value_counts().head(n).index]\n",
    "\n",
    "doublons"
   ],
   "metadata": {
    "collapsed": false,
    "pycharm": {
     "name": "#%%\n",
     "is_executing": true
    }
   }
  },
  {
   "cell_type": "code",
   "execution_count": null,
   "outputs": [],
   "source": [
    "n = 20\n",
    "doublons = [i for i in pd.Series(corpus_0).value_counts().head(n).index if i in pd.Series(corpus_1).value_counts().head(n).index]\n",
    "\n",
    "doublons"
   ],
   "metadata": {
    "collapsed": false,
    "pycharm": {
     "name": "#%%\n",
     "is_executing": true
    }
   }
  },
  {
   "cell_type": "code",
   "execution_count": null,
   "outputs": [],
   "source": [
    "n = 30\n",
    "doublons = [i for i in pd.Series(corpus_0).value_counts().head(n).index if i in pd.Series(corpus_1).value_counts().head(n).index]\n",
    "\n",
    "doublons"
   ],
   "metadata": {
    "collapsed": false,
    "pycharm": {
     "name": "#%%\n",
     "is_executing": true
    }
   }
  },
  {
   "cell_type": "code",
   "execution_count": null,
   "outputs": [],
   "source": [
    "test = generate_duplicated_words_list(corpus_list, n=20)"
   ],
   "metadata": {
    "collapsed": false,
    "pycharm": {
     "name": "#%%\n",
     "is_executing": true
    }
   }
  },
  {
   "cell_type": "code",
   "execution_count": null,
   "outputs": [],
   "source": [
    "duplicated_words_set = generate_duplicated_words_list(corpus_list, n=10)"
   ],
   "metadata": {
    "collapsed": false,
    "pycharm": {
     "name": "#%%\n",
     "is_executing": true
    }
   }
  },
  {
   "cell_type": "code",
   "execution_count": null,
   "outputs": [],
   "source": [
    "duplicated_words_set"
   ],
   "metadata": {
    "collapsed": false,
    "pycharm": {
     "name": "#%%\n",
     "is_executing": true
    }
   }
  },
  {
   "cell_type": "markdown",
   "source": [
    "#### Final cleaning"
   ],
   "metadata": {
    "collapsed": false,
    "pycharm": {
     "name": "#%% md\n"
    }
   }
  },
  {
   "cell_type": "code",
   "execution_count": null,
   "outputs": [],
   "source": [
    "l = [w for w in list_unique_words if w in eng_words]\n",
    "print(len(l))"
   ],
   "metadata": {
    "collapsed": false,
    "pycharm": {
     "name": "#%%\n",
     "is_executing": true
    }
   }
  },
  {
   "cell_type": "code",
   "execution_count": null,
   "outputs": [],
   "source": [
    "len(l)"
   ],
   "metadata": {
    "collapsed": false,
    "pycharm": {
     "name": "#%%\n",
     "is_executing": true
    }
   }
  },
  {
   "cell_type": "code",
   "execution_count": null,
   "outputs": [],
   "source": [
    "l = [w for w in list_unique_words if w not in eng_words_stem]\n",
    "print(len(l))"
   ],
   "metadata": {
    "collapsed": false,
    "pycharm": {
     "name": "#%%\n",
     "is_executing": true
    }
   }
  },
  {
   "cell_type": "code",
   "execution_count": null,
   "outputs": [],
   "source": [
    "l"
   ],
   "metadata": {
    "collapsed": false,
    "pycharm": {
     "name": "#%%\n",
     "is_executing": true
    }
   }
  },
  {
   "cell_type": "markdown",
   "source": [
    "##### 1) cleaning per document"
   ],
   "metadata": {
    "collapsed": false,
    "pycharm": {
     "name": "#%% md\n"
    }
   }
  },
  {
   "cell_type": "code",
   "execution_count": null,
   "outputs": [],
   "source": [
    "#data[\"clean_text\"] = data.text.apply(final_clean)\n",
    "#df = data.copy()\n",
    "#df[\"clean_text\"] = df.text.parallel_apply(final_clean)"
   ],
   "metadata": {
    "collapsed": false,
    "pycharm": {
     "name": "#%%\n",
     "is_executing": true
    }
   }
  },
  {
   "cell_type": "code",
   "execution_count": null,
   "outputs": [],
   "source": [
    "data_text[\"clean_text\"] = data_text.text.apply(lambda x: final_clean(x, process_text_5, \"stem\", l, eng_words_stem, duplicated_words_set)) # l / list_unique_words"
   ],
   "metadata": {
    "collapsed": false,
    "pycharm": {
     "name": "#%%\n",
     "is_executing": true
    }
   }
  },
  {
   "cell_type": "code",
   "execution_count": null,
   "outputs": [],
   "source": [
    "data_text.sample(20)"
   ],
   "metadata": {
    "collapsed": false,
    "pycharm": {
     "name": "#%%\n",
     "is_executing": true
    }
   }
  },
  {
   "cell_type": "code",
   "execution_count": null,
   "outputs": [],
   "source": [
    "sub_data = data_text[data_text.target == 0]\n",
    "\n",
    "for index, series in sub_data.sample(10).iterrows():\n",
    "    print(\"__Before__\")\n",
    "    print(series[\"text\"], end=\"\\n\\n\")\n",
    "    print(\"__After__\")\n",
    "    print(series[\"clean_text\"], end=\"\\n\\n\\n\")\n",
    "    print()"
   ],
   "metadata": {
    "collapsed": false,
    "pycharm": {
     "name": "#%%\n",
     "is_executing": true
    }
   }
  },
  {
   "cell_type": "code",
   "execution_count": null,
   "outputs": [],
   "source": [
    "# check no missing values\n",
    "data_text.isna().mean()"
   ],
   "metadata": {
    "collapsed": false,
    "pycharm": {
     "name": "#%%\n",
     "is_executing": true
    }
   }
  },
  {
   "cell_type": "markdown",
   "source": [
    "# save\n",
    "data_text.to_csv(output_path + \"final_data_text.csv\", index=False)"
   ],
   "metadata": {
    "collapsed": false,
    "pycharm": {
     "name": "#%% md\n"
    }
   }
  },
  {
   "cell_type": "markdown",
   "source": [
    "##### 2) cleaning corpus (per category) (like above) : to display wordcloud"
   ],
   "metadata": {
    "collapsed": false,
    "pycharm": {
     "name": "#%% md\n"
    }
   }
  },
  {
   "cell_type": "code",
   "execution_count": null,
   "outputs": [],
   "source": [
    "for i in range(7):\n",
    "    globals()[\"df_clean_\" + str(i)] = data_text[data_text.target == i]"
   ],
   "metadata": {
    "collapsed": false,
    "pycharm": {
     "name": "#%%\n",
     "is_executing": true
    }
   }
  },
  {
   "cell_type": "code",
   "execution_count": null,
   "outputs": [],
   "source": [
    "df_clean_0.head()"
   ],
   "metadata": {
    "collapsed": false,
    "pycharm": {
     "name": "#%%\n",
     "is_executing": true
    }
   }
  },
  {
   "cell_type": "code",
   "execution_count": null,
   "outputs": [],
   "source": [
    "for i in range(7):\n",
    "    globals()[\"corpus_clean_\" + str(i)] = \" \".join(globals()[\"df_clean_\" + str(i)].clean_text)\n",
    "\n",
    "for i in range(7):\n",
    "    globals()[\"corpus_clean_\" + str(i)] = process_text_5(globals()[\"corpus_clean_\" + str(i)],\n",
    "                                                   rejoin=False,\n",
    "                                                         lem_or_stem=\"stem\",\n",
    "                                                   list_rare_words=list_unique_words,\n",
    "                                                   eng_words=eng_words_stem,\n",
    "                                                    extra_words=duplicated_words_set)"
   ],
   "metadata": {
    "collapsed": false,
    "pycharm": {
     "name": "#%%\n",
     "is_executing": true
    }
   }
  },
  {
   "cell_type": "code",
   "execution_count": null,
   "outputs": [],
   "source": [
    "corpus_clean_list = [globals()[\"corpus_clean_\" + str(i)] for i in range(7)]"
   ],
   "metadata": {
    "collapsed": false,
    "pycharm": {
     "name": "#%%\n",
     "is_executing": true
    }
   }
  },
  {
   "cell_type": "code",
   "execution_count": null,
   "outputs": [],
   "source": [
    "corpus_clean_0[:1000]"
   ],
   "metadata": {
    "collapsed": false,
    "pycharm": {
     "name": "#%%\n",
     "is_executing": true
    }
   }
  },
  {
   "cell_type": "code",
   "execution_count": null,
   "outputs": [],
   "source": [
    "display_wordcloud(corpus_clean_list)"
   ],
   "metadata": {
    "collapsed": false,
    "pycharm": {
     "name": "#%%\n",
     "is_executing": true
    }
   }
  },
  {
   "cell_type": "code",
   "execution_count": null,
   "outputs": [],
   "source": [],
   "metadata": {
    "collapsed": false,
    "pycharm": {
     "name": "#%%\n",
     "is_executing": true
    }
   }
  },
  {
   "cell_type": "code",
   "execution_count": null,
   "outputs": [],
   "source": [],
   "metadata": {
    "collapsed": false,
    "pycharm": {
     "name": "#%%\n",
     "is_executing": true
    }
   }
  },
  {
   "cell_type": "markdown",
   "source": [
    "#### Cleaning product_name"
   ],
   "metadata": {
    "collapsed": false,
    "pycharm": {
     "name": "#%% md\n"
    }
   }
  },
  {
   "cell_type": "code",
   "execution_count": null,
   "outputs": [],
   "source": [
    "raw_corpus = \"\".join(data_text.product_name.values)\n",
    "print(raw_corpus[:1_000])\n",
    "print(len(raw_corpus))"
   ],
   "metadata": {
    "collapsed": false,
    "pycharm": {
     "name": "#%%\n",
     "is_executing": true
    }
   }
  },
  {
   "cell_type": "code",
   "execution_count": null,
   "outputs": [],
   "source": [
    "corpus = process_text_1(raw_corpus)\n",
    "display_tokens_info(corpus)"
   ],
   "metadata": {
    "collapsed": false,
    "pycharm": {
     "name": "#%%\n",
     "is_executing": true
    }
   }
  },
  {
   "cell_type": "code",
   "execution_count": null,
   "outputs": [],
   "source": [
    "display_wordcloud([corpus])"
   ],
   "metadata": {
    "collapsed": false,
    "pycharm": {
     "name": "#%%\n",
     "is_executing": true
    }
   }
  },
  {
   "cell_type": "code",
   "execution_count": null,
   "outputs": [],
   "source": [
    "for i in range(7):\n",
    "    globals()[\"corpus_product_name_\" + str(i)] = \" \".join(globals()[\"df_\" + str(i)].product_name)\n"
   ],
   "metadata": {
    "collapsed": false,
    "pycharm": {
     "name": "#%%\n",
     "is_executing": true
    }
   }
  },
  {
   "cell_type": "code",
   "execution_count": null,
   "outputs": [],
   "source": [
    "corpus_product_name_0[:1000]"
   ],
   "metadata": {
    "collapsed": false,
    "pycharm": {
     "name": "#%%\n",
     "is_executing": true
    }
   }
  },
  {
   "cell_type": "code",
   "execution_count": null,
   "outputs": [],
   "source": [
    "len(corpus_product_name_0)"
   ],
   "metadata": {
    "collapsed": false,
    "pycharm": {
     "name": "#%%\n",
     "is_executing": true
    }
   }
  },
  {
   "cell_type": "code",
   "execution_count": null,
   "outputs": [],
   "source": [
    "for i in range(7):\n",
    "    print(\"\\n\\n__Before__Category__{}\".format(str(i)))\n",
    "    display_tokens_info(globals()[\"corpus_product_name_\" + str(i)])\n"
   ],
   "metadata": {
    "collapsed": false,
    "pycharm": {
     "name": "#%%\n",
     "is_executing": true
    }
   }
  },
  {
   "cell_type": "code",
   "execution_count": null,
   "outputs": [],
   "source": [
    "for i in range(7):\n",
    "    globals()[\"corpus_product_name_\" + str(i)] = process_text_4(globals()[\"corpus_product_name_\" + str(i)],\n",
    "                                                                rejoin=False,\n",
    "                                                                list_rare_words=[],\n",
    "                                                                eng_words=eng_words_stem)"
   ],
   "metadata": {
    "collapsed": false,
    "pycharm": {
     "name": "#%%\n",
     "is_executing": true
    }
   }
  },
  {
   "cell_type": "code",
   "execution_count": null,
   "outputs": [],
   "source": [
    "for i in range(7):\n",
    "    print(\"\\n\\n__After__Category__{}\".format(str(i)))\n",
    "    display_tokens_info(globals()[\"corpus_product_name_\" + str(i)])\n"
   ],
   "metadata": {
    "collapsed": false,
    "pycharm": {
     "name": "#%%\n",
     "is_executing": true
    }
   }
  },
  {
   "cell_type": "code",
   "execution_count": null,
   "outputs": [],
   "source": [
    "corpus_list_product_name = [globals()[\"corpus_product_name_\" + str(i)] for i in range(7)]\n"
   ],
   "metadata": {
    "collapsed": false,
    "pycharm": {
     "name": "#%%\n",
     "is_executing": true
    }
   }
  },
  {
   "cell_type": "code",
   "execution_count": null,
   "outputs": [],
   "source": [
    "display_wordcloud(corpus_list_product_name)"
   ],
   "metadata": {
    "collapsed": false,
    "pycharm": {
     "name": "#%%\n",
     "is_executing": true
    }
   }
  },
  {
   "cell_type": "code",
   "execution_count": null,
   "outputs": [],
   "source": [
    "duplicated_words_set = generate_duplicated_words_list(corpus_list_product_name, n=15)\n",
    "print(duplicated_words_set)"
   ],
   "metadata": {
    "collapsed": false,
    "pycharm": {
     "name": "#%%\n",
     "is_executing": true
    }
   }
  },
  {
   "cell_type": "code",
   "execution_count": null,
   "outputs": [],
   "source": [
    "# idem for 2 times\n",
    "\n",
    "tmp = pd.Series(corpus).value_counts()\n",
    "list_max_1_words_product_name = tmp[tmp <= 1]\n",
    "print(list_max_1_words_product_name[:30])\n",
    "\n",
    "# save it\n",
    "\n",
    "list_max_1_words_product_name = list(list_max_1_words_product_name.index)\n",
    "tmp = pd.DataFrame({\"words\": list_max_1_words_product_name})\n",
    "tmp.to_csv(output_path + \"product_name_max_1_words.csv\", index=False)"
   ],
   "metadata": {
    "collapsed": false,
    "pycharm": {
     "name": "#%%\n",
     "is_executing": true
    }
   }
  },
  {
   "cell_type": "code",
   "execution_count": null,
   "outputs": [],
   "source": [
    "list_max_1_words_product_name"
   ],
   "metadata": {
    "collapsed": false,
    "pycharm": {
     "name": "#%%\n",
     "is_executing": true
    }
   }
  },
  {
   "cell_type": "code",
   "execution_count": null,
   "outputs": [],
   "source": [
    "data_text[\"clean_product_name\"] = data_text.product_name.apply(lambda x: final_clean(x, process_text_5, \"stem\", list_max_1_words_product_name, eng_words_stem, [])) # list_max_1_words_product_name duplicated_words_set"
   ],
   "metadata": {
    "collapsed": false,
    "pycharm": {
     "name": "#%%\n",
     "is_executing": true
    }
   }
  },
  {
   "cell_type": "code",
   "execution_count": null,
   "outputs": [],
   "source": [
    "data_text.sample(20)"
   ],
   "metadata": {
    "collapsed": false,
    "pycharm": {
     "name": "#%%\n",
     "is_executing": true
    }
   }
  },
  {
   "cell_type": "code",
   "execution_count": null,
   "outputs": [],
   "source": [
    "sub_data = data_text[data_text.target == 0]\n",
    "\n",
    "for index, series in sub_data.sample(10).iterrows():\n",
    "    print(\"__Before__\")\n",
    "    print(series[\"product_name\"], end=\"\\n\\n\")\n",
    "    print(\"__After__\")\n",
    "    print(series[\"clean_product_name\"], end=\"\\n\\n\\n\")\n",
    "    print()"
   ],
   "metadata": {
    "collapsed": false,
    "pycharm": {
     "name": "#%%\n",
     "is_executing": true
    }
   }
  },
  {
   "cell_type": "markdown",
   "source": [
    "print(\"Counting number of characters in each row / product\")\n",
    "data_text[\"_len_clean_text_\"] = data_text.clean_text.str.len()\n",
    "data_text[\"_len_clean_product_name_\"] = data_text.clean_product_name.str.len()\n"
   ],
   "metadata": {
    "collapsed": false,
    "pycharm": {
     "name": "#%% md\n"
    }
   }
  },
  {
   "cell_type": "code",
   "execution_count": null,
   "outputs": [],
   "source": [
    "print(\"Counting number of words in each row / product\")\n",
    "data_text[\"_len_clean_text_\"] = data_text.clean_text.str.split().apply(len)\n",
    "data_text[\"_len_clean_product_name_\"] = data_text.clean_product_name.str.split().apply(len)\n"
   ],
   "metadata": {
    "collapsed": false,
    "pycharm": {
     "name": "#%%\n",
     "is_executing": true
    }
   }
  },
  {
   "cell_type": "code",
   "execution_count": null,
   "outputs": [],
   "source": [
    "data_text"
   ],
   "metadata": {
    "collapsed": false,
    "pycharm": {
     "name": "#%%\n",
     "is_executing": true
    }
   }
  },
  {
   "cell_type": "code",
   "execution_count": null,
   "outputs": [],
   "source": [
    "#data_text[\"_len_clean_text_\"].value_counts(normalize=True).plot(kind=\"pie\")"
   ],
   "metadata": {
    "collapsed": false,
    "pycharm": {
     "name": "#%%\n",
     "is_executing": true
    }
   }
  },
  {
   "cell_type": "code",
   "execution_count": null,
   "outputs": [],
   "source": [
    "#data_text[\"_len_clean_text_\"].sort_values()\n",
    "data_text[data_text[\"_len_clean_text_\"] == 0]"
   ],
   "metadata": {
    "collapsed": false,
    "pycharm": {
     "name": "#%%\n",
     "is_executing": true
    }
   }
  },
  {
   "cell_type": "code",
   "execution_count": null,
   "outputs": [],
   "source": [
    "sns.boxplot(data_text[\"_len_clean_text_\"])"
   ],
   "metadata": {
    "collapsed": false,
    "pycharm": {
     "name": "#%%\n",
     "is_executing": true
    }
   }
  },
  {
   "cell_type": "code",
   "execution_count": null,
   "outputs": [],
   "source": [
    "data_text[data_text[\"_len_clean_product_name_\"] == 0]"
   ],
   "metadata": {
    "collapsed": false,
    "pycharm": {
     "name": "#%%\n",
     "is_executing": true
    }
   }
  },
  {
   "cell_type": "code",
   "execution_count": null,
   "outputs": [],
   "source": [
    "sns.boxplot(data_text[\"_len_clean_product_name_\"])"
   ],
   "metadata": {
    "collapsed": false,
    "pycharm": {
     "name": "#%%\n",
     "is_executing": true
    }
   }
  },
  {
   "cell_type": "code",
   "execution_count": null,
   "outputs": [],
   "source": [
    "data_text[(data_text[\"_len_clean_product_name_\"] == 0) & (data_text[\"_len_clean_text_\"] == 0)]"
   ],
   "metadata": {
    "collapsed": false,
    "pycharm": {
     "name": "#%%\n",
     "is_executing": true
    }
   }
  },
  {
   "cell_type": "code",
   "execution_count": null,
   "outputs": [],
   "source": [],
   "metadata": {
    "collapsed": false,
    "pycharm": {
     "name": "#%%\n",
     "is_executing": true
    }
   }
  },
  {
   "cell_type": "code",
   "execution_count": null,
   "outputs": [],
   "source": [],
   "metadata": {
    "collapsed": false,
    "pycharm": {
     "name": "#%%\n",
     "is_executing": true
    }
   }
  },
  {
   "cell_type": "code",
   "execution_count": null,
   "outputs": [],
   "source": [
    "# save\n",
    "data_text.to_csv(output_path + \"final_data_text.csv\", index=False)"
   ],
   "metadata": {
    "collapsed": false,
    "pycharm": {
     "name": "#%%\n",
     "is_executing": true
    }
   }
  },
  {
   "cell_type": "code",
   "execution_count": null,
   "outputs": [],
   "source": [
    "def clean_text(df):\n",
    "    pass #TODOOOO"
   ],
   "metadata": {
    "collapsed": false,
    "pycharm": {
     "name": "#%%\n",
     "is_executing": true
    }
   }
  },
  {
   "cell_type": "code",
   "execution_count": null,
   "outputs": [],
   "source": [],
   "metadata": {
    "collapsed": false,
    "pycharm": {
     "name": "#%%\n",
     "is_executing": true
    }
   }
  },
  {
   "cell_type": "markdown",
   "source": [
    "### II) Transformations"
   ],
   "metadata": {
    "collapsed": false,
    "pycharm": {
     "name": "#%% md\n"
    }
   }
  },
  {
   "cell_type": "code",
   "execution_count": null,
   "outputs": [],
   "source": [
    "from common_graphs import *"
   ],
   "metadata": {
    "collapsed": false,
    "pycharm": {
     "name": "#%%\n",
     "is_executing": true
    }
   }
  },
  {
   "cell_type": "code",
   "execution_count": null,
   "outputs": [],
   "source": [
    "data = pd.read_csv(output_path + \"final_data_text.csv\")"
   ],
   "metadata": {
    "collapsed": false,
    "pycharm": {
     "name": "#%%\n",
     "is_executing": true
    }
   }
  },
  {
   "cell_type": "code",
   "execution_count": null,
   "outputs": [],
   "source": [
    "data"
   ],
   "metadata": {
    "collapsed": false,
    "pycharm": {
     "name": "#%%\n",
     "is_executing": true
    }
   }
  },
  {
   "cell_type": "markdown",
   "source": [
    "#### 1) Bag of Words : Count words + TF-IDF"
   ],
   "metadata": {
    "collapsed": false,
    "pycharm": {
     "name": "#%% md\n"
    }
   }
  },
  {
   "cell_type": "code",
   "execution_count": null,
   "outputs": [],
   "source": [
    "from bag_of_words import *"
   ],
   "metadata": {
    "collapsed": false,
    "pycharm": {
     "name": "#%%\n",
     "is_executing": true
    }
   }
  },
  {
   "cell_type": "code",
   "execution_count": null,
   "outputs": [],
   "source": [
    "# 1) texte / 2) images (paralleles can do)\n",
    "# 1 vocab pour chaque doc\n",
    "\n",
    "# texte :\n",
    "# nettoyage du texte / normalisation (pré ttt cf notebook)\n",
    "# bag of words\n",
    "# reduction dimension tSNE ici\n",
    "# 7 clusters\n",
    "# ARI score : sur la valeur à obtenir 0.4/0.5 (0.6 ou 0.7)\n",
    "# objectifs : cours OC x2 + webinair / Youtube\n",
    "# vendredi"
   ],
   "metadata": {
    "collapsed": false,
    "pycharm": {
     "name": "#%%\n",
     "is_executing": true
    }
   }
  },
  {
   "cell_type": "markdown",
   "source": [],
   "metadata": {
    "collapsed": false,
    "pycharm": {
     "name": "#%% md\n"
    }
   }
  },
  {
   "cell_type": "code",
   "execution_count": null,
   "outputs": [],
   "source": [
    "import logging\n",
    "\n",
    "logging.disable(logging.WARNING) # disable WARNING, INFO and DEBUG logging everywhere"
   ],
   "metadata": {
    "collapsed": false,
    "pycharm": {
     "name": "#%%\n",
     "is_executing": true
    }
   }
  },
  {
   "cell_type": "code",
   "execution_count": null,
   "outputs": [],
   "source": [
    "l_cat = list(set(data['category']))\n",
    "l_cat\n",
    "\n",
    "print(\"catégories : \", l_cat)\n",
    "y_cat_num = data[\"target\"]### ?? ## [(1-l_cat.index(data.iloc[i]['category'])) for i in range(len(data))]\n",
    "y_cat_num"
   ],
   "metadata": {
    "collapsed": false,
    "pycharm": {
     "name": "#%%\n",
     "is_executing": true
    }
   }
  },
  {
   "cell_type": "code",
   "execution_count": null,
   "outputs": [],
   "source": [
    "data"
   ],
   "metadata": {
    "collapsed": false,
    "pycharm": {
     "name": "#%%\n",
     "is_executing": true
    }
   }
  },
  {
   "cell_type": "markdown",
   "source": [
    "#### 1) fit / transform description - text"
   ],
   "metadata": {
    "collapsed": false,
    "pycharm": {
     "name": "#%% md\n"
    }
   }
  },
  {
   "cell_type": "markdown",
   "source": [
    "##### 1) Préparation sentences"
   ],
   "metadata": {
    "collapsed": false,
    "pycharm": {
     "name": "#%% md\n"
    }
   }
  },
  {
   "cell_type": "code",
   "execution_count": null,
   "outputs": [],
   "source": [
    "feat = ['text'] # 'text' 0.399 et 0.5567\n",
    "\n",
    "cv_transform, ctf_transform = create_bag_of_words_vectors(data, feat, feat)"
   ],
   "metadata": {
    "collapsed": false,
    "pycharm": {
     "name": "#%%\n",
     "is_executing": true
    }
   }
  },
  {
   "cell_type": "code",
   "execution_count": null,
   "outputs": [],
   "source": [
    "print(ctf_transform.shape)"
   ],
   "metadata": {
    "collapsed": false,
    "pycharm": {
     "name": "#%%\n",
     "is_executing": true
    }
   }
  },
  {
   "cell_type": "markdown",
   "source": [
    "##### 2) Exécution des modèles"
   ],
   "metadata": {
    "collapsed": false,
    "pycharm": {
     "name": "#%% md\n"
    }
   }
  },
  {
   "cell_type": "code",
   "execution_count": null,
   "outputs": [],
   "source": [
    "print(\"CountVectorizer : \")\n",
    "print(\"-----------------\")\n",
    "ARI, X_tsne, labels = ARI_fct(cv_transform, l_cat, y_cat_num)\n",
    "print()\n",
    "print(\"Tf-idf : \")\n",
    "print(\"--------\")\n",
    "ARI, X_tsne, labels = ARI_fct(ctf_transform, l_cat, y_cat_num)\n"
   ],
   "metadata": {
    "collapsed": false,
    "pycharm": {
     "name": "#%%\n",
     "is_executing": true
    }
   }
  },
  {
   "cell_type": "markdown",
   "source": [
    "##### 3) Graphiques"
   ],
   "metadata": {
    "collapsed": false,
    "pycharm": {
     "name": "#%% md\n"
    }
   }
  },
  {
   "cell_type": "code",
   "execution_count": null,
   "outputs": [],
   "source": [
    "TSNE_visu_fct(X_tsne, y_cat_num, l_cat, labels, ARI)"
   ],
   "metadata": {
    "collapsed": false,
    "pycharm": {
     "name": "#%%\n",
     "is_executing": true
    }
   }
  },
  {
   "cell_type": "markdown",
   "source": [
    "#### 2) fit / transform product_name + text"
   ],
   "metadata": {
    "collapsed": false,
    "pycharm": {
     "name": "#%% md\n"
    }
   }
  },
  {
   "cell_type": "markdown",
   "source": [
    "##### 1) Préparation sentences"
   ],
   "metadata": {
    "collapsed": false,
    "pycharm": {
     "name": "#%% md\n"
    }
   }
  },
  {
   "cell_type": "code",
   "execution_count": null,
   "outputs": [],
   "source": [
    "# création du bag of words (CountVectorizer et Tf-idf)\n",
    "print(\"Separate vocabulary\")\n",
    "\n",
    "textual_columns = ['product_name', 'text']\n",
    "\n",
    "cv_transform, ctf_transform = create_bag_of_words_vectors(data_text, textual_columns, textual_columns)\n"
   ],
   "metadata": {
    "collapsed": false,
    "pycharm": {
     "name": "#%%\n",
     "is_executing": true
    }
   }
  },
  {
   "cell_type": "code",
   "execution_count": null,
   "outputs": [],
   "source": [
    "cv_transform.shape"
   ],
   "metadata": {
    "collapsed": false,
    "pycharm": {
     "name": "#%%\n",
     "is_executing": true
    }
   }
  },
  {
   "cell_type": "code",
   "execution_count": null,
   "outputs": [],
   "source": [
    "ctf_transform.shape"
   ],
   "metadata": {
    "collapsed": false,
    "pycharm": {
     "name": "#%%\n",
     "is_executing": true
    }
   }
  },
  {
   "cell_type": "markdown",
   "source": [
    "##### 2) Exécution des modèles"
   ],
   "metadata": {
    "collapsed": false,
    "pycharm": {
     "name": "#%% md\n"
    }
   }
  },
  {
   "cell_type": "code",
   "execution_count": null,
   "outputs": [],
   "source": [
    "print(\"CountVectorizer : \")\n",
    "print(\"-----------------\")\n",
    "ARI, X_tsne, labels = ARI_fct(cv_transform, l_cat, y_cat_num)\n",
    "print()\n",
    "print(\"Tf-idf : \")\n",
    "print(\"--------\")\n",
    "ARI, X_tsne, labels = ARI_fct(ctf_transform, l_cat, y_cat_num)\n"
   ],
   "metadata": {
    "collapsed": false,
    "pycharm": {
     "name": "#%%\n",
     "is_executing": true
    }
   }
  },
  {
   "cell_type": "markdown",
   "source": [
    "##### 3) Graphiques"
   ],
   "metadata": {
    "collapsed": false,
    "pycharm": {
     "name": "#%% md\n"
    }
   }
  },
  {
   "cell_type": "code",
   "execution_count": null,
   "outputs": [],
   "source": [
    "TSNE_visu_fct(X_tsne, y_cat_num, l_cat, labels, ARI)"
   ],
   "metadata": {
    "collapsed": false,
    "pycharm": {
     "name": "#%%\n",
     "is_executing": true
    }
   }
  },
  {
   "cell_type": "markdown",
   "source": [
    "#### 3) fit product_name / transform text"
   ],
   "metadata": {
    "collapsed": false,
    "pycharm": {
     "name": "#%% md\n"
    }
   }
  },
  {
   "cell_type": "markdown",
   "source": [
    "##### 1) Préparation sentences"
   ],
   "metadata": {
    "collapsed": false,
    "pycharm": {
     "name": "#%% md\n"
    }
   }
  },
  {
   "cell_type": "code",
   "execution_count": null,
   "outputs": [],
   "source": [
    "# création du bag of words (CountVectorizer et Tf-idf)\n",
    "\n",
    "feat_fit = ['product_name']\n",
    "feat_transform = ['text']\n",
    "\n",
    "cv_transform, ctf_transform = create_bag_of_words_vectors(data, feat_fit, feat_transform)"
   ],
   "metadata": {
    "collapsed": false,
    "pycharm": {
     "name": "#%%\n",
     "is_executing": true
    }
   }
  },
  {
   "cell_type": "markdown",
   "source": [
    "##### 2) Exécution des modèles"
   ],
   "metadata": {
    "collapsed": false,
    "pycharm": {
     "name": "#%% md\n"
    }
   }
  },
  {
   "cell_type": "code",
   "execution_count": null,
   "outputs": [],
   "source": [
    "print(\"CountVectorizer : \")\n",
    "print(\"-----------------\")\n",
    "ARI, X_tsne, labels = ARI_fct(cv_transform, l_cat, y_cat_num)\n",
    "print()\n",
    "print(\"Tf-idf : \")\n",
    "print(\"--------\")\n",
    "ARI, X_tsne, labels = ARI_fct(ctf_transform, l_cat, y_cat_num)\n"
   ],
   "metadata": {
    "collapsed": false,
    "pycharm": {
     "name": "#%%\n",
     "is_executing": true
    }
   }
  },
  {
   "cell_type": "markdown",
   "source": [
    "##### 3) Graphiques"
   ],
   "metadata": {
    "collapsed": false,
    "pycharm": {
     "name": "#%% md\n"
    }
   }
  },
  {
   "cell_type": "code",
   "execution_count": null,
   "outputs": [],
   "source": [
    "TSNE_visu_fct(X_tsne, y_cat_num, l_cat, labels, ARI)"
   ],
   "metadata": {
    "collapsed": false,
    "pycharm": {
     "name": "#%%\n",
     "is_executing": true
    }
   }
  },
  {
   "cell_type": "code",
   "execution_count": null,
   "outputs": [],
   "source": [],
   "metadata": {
    "collapsed": false,
    "pycharm": {
     "name": "#%%\n",
     "is_executing": true
    }
   }
  },
  {
   "cell_type": "markdown",
   "source": [
    "### II) Words Embeddings : Word2Vec"
   ],
   "metadata": {
    "collapsed": false,
    "pycharm": {
     "name": "#%% md\n"
    }
   }
  },
  {
   "cell_type": "code",
   "execution_count": null,
   "outputs": [],
   "source": [
    "from Word2Vec import *"
   ],
   "metadata": {
    "collapsed": false,
    "pycharm": {
     "name": "#%%\n",
     "is_executing": true
    }
   }
  },
  {
   "cell_type": "markdown",
   "source": [
    "##### 1) Création du modèle Word2Vec"
   ],
   "metadata": {
    "collapsed": false,
    "pycharm": {
     "name": "#%% md\n"
    }
   }
  },
  {
   "cell_type": "code",
   "execution_count": null,
   "outputs": [],
   "source": [
    "w2v_size=300\n",
    "w2v_window=5\n",
    "w2v_min_count=1\n",
    "w2v_epochs=100\n",
    "maxlen = 24 # adapt to length of sentences\n",
    "sentences = data['clean_text'].to_list() # text : 0.19 ARI\n",
    "sentences = [gensim.utils.simple_preprocess(text) for text in sentences]"
   ],
   "metadata": {
    "collapsed": false,
    "pycharm": {
     "name": "#%%\n",
     "is_executing": true
    }
   }
  },
  {
   "cell_type": "code",
   "execution_count": null,
   "outputs": [],
   "source": [
    "w2v_words, model_vectors = create_w2v_model(sentences, w2v_min_count, w2v_size, w2v_window, w2v_epochs)"
   ],
   "metadata": {
    "collapsed": false,
    "pycharm": {
     "name": "#%%\n",
     "is_executing": true
    }
   }
  },
  {
   "cell_type": "code",
   "execution_count": null,
   "outputs": [],
   "source": [
    "# Préparation des sentences (tokenization)\n",
    "x_sentences, tokenizer = tokenize_sentences(sentences, maxlen)"
   ],
   "metadata": {
    "collapsed": false,
    "pycharm": {
     "name": "#%%\n",
     "is_executing": true
    }
   }
  },
  {
   "cell_type": "markdown",
   "source": [
    "##### 3) Création de la matrice d'embedding"
   ],
   "metadata": {
    "collapsed": false,
    "pycharm": {
     "name": "#%% md\n"
    }
   }
  },
  {
   "cell_type": "code",
   "execution_count": null,
   "outputs": [],
   "source": [
    "# Création de la matrice d'embedding\n",
    "\n",
    "embedding_matrix, vocab_size = create_embedding_matrix(w2v_words, model_vectors, tokenizer)"
   ],
   "metadata": {
    "collapsed": false,
    "pycharm": {
     "name": "#%%\n",
     "is_executing": true
    }
   }
  },
  {
   "cell_type": "markdown",
   "source": [
    "##### 4) Création du modèle d'embedding"
   ],
   "metadata": {
    "collapsed": false,
    "pycharm": {
     "name": "#%% md\n"
    }
   }
  },
  {
   "cell_type": "code",
   "execution_count": null,
   "outputs": [],
   "source": [
    "# Création du modèle\n",
    "\n",
    "embed_model = create_embedding_model(x_sentences, maxlen, vocab_size, w2v_size, embedding_matrix)"
   ],
   "metadata": {
    "collapsed": false,
    "pycharm": {
     "name": "#%%\n",
     "is_executing": true
    }
   }
  },
  {
   "cell_type": "markdown",
   "source": [
    "##### 5) Exécution du modèle"
   ],
   "metadata": {
    "collapsed": false,
    "pycharm": {
     "name": "#%% md\n"
    }
   }
  },
  {
   "cell_type": "code",
   "execution_count": null,
   "outputs": [],
   "source": [
    "embeddings = embed_model.predict(x_sentences)\n",
    "embeddings.shape"
   ],
   "metadata": {
    "collapsed": false,
    "pycharm": {
     "name": "#%%\n",
     "is_executing": true
    }
   }
  },
  {
   "cell_type": "code",
   "execution_count": null,
   "outputs": [],
   "source": [
    "ARI, X_tsne, labels = ARI_fct(embeddings, l_cat, y_cat_num)"
   ],
   "metadata": {
    "collapsed": false,
    "pycharm": {
     "name": "#%%\n",
     "is_executing": true
    }
   }
  },
  {
   "cell_type": "code",
   "execution_count": null,
   "outputs": [],
   "source": [
    "TSNE_visu_fct(X_tsne, y_cat_num, l_cat, labels, ARI)"
   ],
   "metadata": {
    "collapsed": false,
    "pycharm": {
     "name": "#%%\n",
     "is_executing": true
    }
   }
  },
  {
   "cell_type": "code",
   "execution_count": null,
   "outputs": [],
   "source": [],
   "metadata": {
    "collapsed": false,
    "pycharm": {
     "name": "#%%\n",
     "is_executing": true
    }
   }
  },
  {
   "cell_type": "markdown",
   "source": [
    "### III) Words Embeddings : BERT"
   ],
   "metadata": {
    "collapsed": false,
    "pycharm": {
     "name": "#%% md\n"
    }
   }
  },
  {
   "cell_type": "code",
   "execution_count": null,
   "outputs": [],
   "source": [
    "from BERT import *\n",
    "from transformers import TFAutoModel\n",
    "\n",
    "import tensorflow_hub as hub"
   ],
   "metadata": {
    "collapsed": false,
    "pycharm": {
     "name": "#%%\n",
     "is_executing": true
    }
   }
  },
  {
   "cell_type": "markdown",
   "source": [
    "https://www.tensorflow.org/text/guide/word_embeddings"
   ],
   "metadata": {
    "collapsed": false,
    "pycharm": {
     "name": "#%% md\n"
    }
   }
  },
  {
   "cell_type": "code",
   "execution_count": null,
   "outputs": [],
   "source": [
    "os.environ[\"TF_KERAS\"]='1'"
   ],
   "metadata": {
    "collapsed": false,
    "pycharm": {
     "name": "#%%\n",
     "is_executing": true
    }
   }
  },
  {
   "cell_type": "code",
   "execution_count": null,
   "outputs": [],
   "source": [
    "print(tf.__version__)\n",
    "#print(tensorflow.__version__)\n",
    "print(\"Num GPUs Available: \", len(tf.config.experimental.list_physical_devices('GPU')))\n",
    "print(tf.test.is_built_with_cuda())"
   ],
   "metadata": {
    "collapsed": false,
    "pycharm": {
     "name": "#%%\n",
     "is_executing": true
    }
   }
  },
  {
   "cell_type": "markdown",
   "source": [
    "#### 1) BERT HuggingFace"
   ],
   "metadata": {
    "collapsed": false,
    "pycharm": {
     "name": "#%% md\n"
    }
   }
  },
  {
   "cell_type": "markdown",
   "source": [
    "##### 1.1) 'bert-base-uncased'"
   ],
   "metadata": {
    "collapsed": false,
    "pycharm": {
     "name": "#%% md\n"
    }
   }
  },
  {
   "cell_type": "code",
   "execution_count": null,
   "outputs": [],
   "source": [
    "max_length = 64\n",
    "batch_size = 10\n",
    "model_type = 'bert-base-uncased'\n",
    "model = TFAutoModel.from_pretrained(model_type)\n",
    "sentences = data['product_name'].to_list() # clean_text 0.29"
   ],
   "metadata": {
    "collapsed": false,
    "pycharm": {
     "name": "#%%\n",
     "is_executing": true
    }
   }
  },
  {
   "cell_type": "code",
   "execution_count": null,
   "outputs": [],
   "source": [
    "# Création des features\n",
    "\n",
    "features_bert, last_hidden_states_tot = feature_BERT_fct(model, model_type, sentences,\n",
    "                                                         max_length, batch_size, mode='HF')"
   ],
   "metadata": {
    "collapsed": false,
    "pycharm": {
     "name": "#%%\n",
     "is_executing": true
    }
   }
  },
  {
   "cell_type": "code",
   "execution_count": null,
   "outputs": [],
   "source": [
    "ARI, X_tsne, labels = ARI_fct(features_bert, l_cat, y_cat_num)"
   ],
   "metadata": {
    "collapsed": false,
    "pycharm": {
     "name": "#%%\n",
     "is_executing": true
    }
   }
  },
  {
   "cell_type": "code",
   "execution_count": null,
   "outputs": [],
   "source": [
    "TSNE_visu_fct(X_tsne, y_cat_num, l_cat, labels, ARI)"
   ],
   "metadata": {
    "collapsed": false,
    "pycharm": {
     "name": "#%%\n",
     "is_executing": true
    }
   }
  },
  {
   "cell_type": "code",
   "execution_count": null,
   "outputs": [],
   "source": [],
   "metadata": {
    "collapsed": false,
    "pycharm": {
     "name": "#%%\n",
     "is_executing": true
    }
   }
  },
  {
   "cell_type": "markdown",
   "source": [
    "##### 1.2) 'cardiffnlp/twitter-roberta-base-sentiment'\n",
    "* Modèle pré-entraîné sur des tweets pour l'analyse de sentiment = particulièrement adapté au contexte"
   ],
   "metadata": {
    "collapsed": false,
    "pycharm": {
     "name": "#%% md\n"
    }
   }
  },
  {
   "cell_type": "code",
   "execution_count": null,
   "outputs": [],
   "source": [
    "max_length = 64\n",
    "batch_size = 10\n",
    "model_type = 'cardiffnlp/twitter-roberta-base-sentiment'\n",
    "model = TFAutoModel.from_pretrained(model_type)\n",
    "sentences = data['text'].to_list()"
   ],
   "metadata": {
    "collapsed": false,
    "pycharm": {
     "name": "#%%\n",
     "is_executing": true
    }
   }
  },
  {
   "cell_type": "code",
   "execution_count": null,
   "outputs": [],
   "source": [
    "features_bert, last_hidden_states_tot = feature_BERT_fct(model, model_type, sentences,\n",
    "                                                         max_length, batch_size, mode='HF')"
   ],
   "metadata": {
    "collapsed": false,
    "pycharm": {
     "name": "#%%\n",
     "is_executing": true
    }
   }
  },
  {
   "cell_type": "code",
   "execution_count": null,
   "outputs": [],
   "source": [
    "ARI, X_tsne, labels = ARI_fct(features_bert, l_cat, y_cat_num)"
   ],
   "metadata": {
    "collapsed": false,
    "pycharm": {
     "name": "#%%\n",
     "is_executing": true
    }
   }
  },
  {
   "cell_type": "code",
   "execution_count": null,
   "outputs": [],
   "source": [],
   "metadata": {
    "collapsed": false,
    "pycharm": {
     "name": "#%%\n",
     "is_executing": true
    }
   }
  },
  {
   "cell_type": "markdown",
   "source": [
    "#### 2) BERT hub Tensorflow"
   ],
   "metadata": {
    "collapsed": false,
    "pycharm": {
     "name": "#%% md\n"
    }
   }
  },
  {
   "cell_type": "markdown",
   "source": [
    "import tensorflow_text"
   ],
   "metadata": {
    "collapsed": false,
    "pycharm": {
     "name": "#%% md\n"
    }
   }
  },
  {
   "cell_type": "code",
   "execution_count": null,
   "outputs": [],
   "source": [
    "# Guide sur le Tensorflow hub : https://www.tensorflow.org/text/tutorials/classify_text_with_bert\n",
    "model_url = 'https://tfhub.dev/tensorflow/bert_en_uncased_L-12_H-768_A-12/4'\n",
    "bert_layer = hub.KerasLayer(model_url, trainable=True)"
   ],
   "metadata": {
    "collapsed": false,
    "pycharm": {
     "name": "#%%\n",
     "is_executing": true
    }
   }
  },
  {
   "cell_type": "code",
   "execution_count": null,
   "outputs": [],
   "source": [
    "sentences = data['text'].to_list()"
   ],
   "metadata": {
    "collapsed": false,
    "pycharm": {
     "name": "#%%\n",
     "is_executing": true
    }
   }
  },
  {
   "cell_type": "code",
   "execution_count": null,
   "outputs": [],
   "source": [
    "max_length = 64\n",
    "batch_size = 10\n",
    "model_type = 'bert-base-uncased'\n",
    "model = bert_layer\n",
    "\n",
    "features_bert, last_hidden_states_tot = feature_BERT_fct(model, model_type, sentences,\n",
    "                                                         max_length, batch_size, mode='TFhub')"
   ],
   "metadata": {
    "collapsed": false,
    "pycharm": {
     "name": "#%%\n",
     "is_executing": true
    }
   }
  },
  {
   "cell_type": "code",
   "execution_count": null,
   "outputs": [],
   "source": [
    "ARI, X_tsne, labels = ARI_fct(features_bert, l_cat, y_cat_num)"
   ],
   "metadata": {
    "collapsed": false,
    "pycharm": {
     "name": "#%%\n",
     "is_executing": true
    }
   }
  },
  {
   "cell_type": "code",
   "execution_count": null,
   "outputs": [],
   "source": [
    "TSNE_visu_fct(X_tsne, y_cat_num, l_cat, labels, ARI)"
   ],
   "metadata": {
    "collapsed": false,
    "pycharm": {
     "name": "#%%\n",
     "is_executing": true
    }
   }
  },
  {
   "cell_type": "code",
   "execution_count": null,
   "outputs": [],
   "source": [],
   "metadata": {
    "collapsed": false,
    "pycharm": {
     "name": "#%%\n",
     "is_executing": true
    }
   }
  },
  {
   "cell_type": "markdown",
   "source": [
    "### IV) Words Embeddings : USE (Universal Sentence Encoder)"
   ],
   "metadata": {
    "collapsed": false,
    "pycharm": {
     "name": "#%% md\n"
    }
   }
  },
  {
   "cell_type": "code",
   "execution_count": null,
   "outputs": [],
   "source": [
    "from USE import *"
   ],
   "metadata": {
    "collapsed": false,
    "pycharm": {
     "name": "#%%\n",
     "is_executing": true
    }
   }
  },
  {
   "cell_type": "markdown",
   "source": [
    "https://tfhub.dev/google/universal-sentence-encoder/4"
   ],
   "metadata": {
    "collapsed": false,
    "pycharm": {
     "name": "#%% md\n"
    }
   }
  },
  {
   "cell_type": "code",
   "execution_count": null,
   "outputs": [],
   "source": [
    "os.environ[\"TF_KERAS\"]='1'"
   ],
   "metadata": {
    "collapsed": false,
    "pycharm": {
     "name": "#%%\n",
     "is_executing": true
    }
   }
  },
  {
   "cell_type": "code",
   "execution_count": null,
   "outputs": [],
   "source": [
    "print(tf.__version__)\n",
    "#print(tensorflow.__version__)\n",
    "print(\"Num GPUs Available: \", len(tf.config.experimental.list_physical_devices('GPU')))\n",
    "print(tf.test.is_built_with_cuda())"
   ],
   "metadata": {
    "collapsed": false,
    "pycharm": {
     "name": "#%%\n",
     "is_executing": true
    }
   }
  },
  {
   "cell_type": "code",
   "execution_count": null,
   "outputs": [],
   "source": [
    "embed = hub.load(\"https://tfhub.dev/google/universal-sentence-encoder/4\")"
   ],
   "metadata": {
    "collapsed": false,
    "pycharm": {
     "name": "#%%\n",
     "is_executing": true
    }
   }
  },
  {
   "cell_type": "markdown",
   "source": [
    "##### Using product_name"
   ],
   "metadata": {
    "collapsed": false,
    "pycharm": {
     "name": "#%% md\n"
    }
   }
  },
  {
   "cell_type": "code",
   "execution_count": null,
   "outputs": [],
   "source": [
    "batch_size = 10\n",
    "sentences = data['product_name'].to_list() # no preprocessing better !! ? to check"
   ],
   "metadata": {
    "collapsed": false,
    "pycharm": {
     "name": "#%%\n",
     "is_executing": true
    }
   }
  },
  {
   "cell_type": "code",
   "execution_count": null,
   "outputs": [],
   "source": [
    "features_USE = feature_USE_fct(embed, sentences, batch_size)"
   ],
   "metadata": {
    "collapsed": false,
    "pycharm": {
     "name": "#%%\n",
     "is_executing": true
    }
   }
  },
  {
   "cell_type": "code",
   "execution_count": null,
   "outputs": [],
   "source": [
    "ARI, X_tsne, labels = ARI_fct(features_USE, l_cat, y_cat_num)"
   ],
   "metadata": {
    "collapsed": false,
    "pycharm": {
     "name": "#%%\n",
     "is_executing": true
    }
   }
  },
  {
   "cell_type": "code",
   "execution_count": null,
   "outputs": [],
   "source": [
    "TSNE_visu_fct(X_tsne, y_cat_num, l_cat, labels, ARI)"
   ],
   "metadata": {
    "collapsed": false,
    "pycharm": {
     "name": "#%%\n",
     "is_executing": true
    }
   }
  },
  {
   "cell_type": "markdown",
   "source": [
    "##### Using text / clean_text : cleaned or not"
   ],
   "metadata": {
    "collapsed": false,
    "pycharm": {
     "name": "#%% md\n"
    }
   }
  },
  {
   "cell_type": "code",
   "execution_count": null,
   "outputs": [],
   "source": [
    "batch_size = 10\n",
    "sentences = data['text'].to_list() # no preprocessing better !! ? to check"
   ],
   "metadata": {
    "collapsed": false,
    "pycharm": {
     "name": "#%%\n",
     "is_executing": true
    }
   }
  },
  {
   "cell_type": "code",
   "execution_count": null,
   "outputs": [],
   "source": [
    "features_USE = feature_USE_fct(sentences, batch_size)"
   ],
   "metadata": {
    "collapsed": false,
    "pycharm": {
     "name": "#%%\n",
     "is_executing": true
    }
   }
  },
  {
   "cell_type": "code",
   "execution_count": null,
   "outputs": [],
   "source": [
    "ARI, X_tsne, labels = ARI_fct(features_USE, l_cat, y_cat_num)"
   ],
   "metadata": {
    "collapsed": false,
    "pycharm": {
     "name": "#%%\n",
     "is_executing": true
    }
   }
  },
  {
   "cell_type": "code",
   "execution_count": null,
   "outputs": [],
   "source": [
    "TSNE_visu_fct(X_tsne, y_cat_num, l_cat, labels, ARI)"
   ],
   "metadata": {
    "collapsed": false,
    "pycharm": {
     "name": "#%%\n",
     "is_executing": true
    }
   }
  },
  {
   "cell_type": "code",
   "execution_count": null,
   "outputs": [],
   "source": [],
   "metadata": {
    "collapsed": false,
    "pycharm": {
     "name": "#%%\n",
     "is_executing": true
    }
   }
  },
  {
   "cell_type": "code",
   "execution_count": null,
   "outputs": [],
   "source": [],
   "metadata": {
    "collapsed": false,
    "pycharm": {
     "name": "#%%\n",
     "is_executing": true
    }
   }
  },
  {
   "cell_type": "code",
   "execution_count": null,
   "outputs": [],
   "source": [
    "# End of notebook time\n",
    "t1 = time()\n",
    "print(\"computing time : {:8.6f} sec\".format(t1 - t0))\n",
    "print(\"computing time : \" + strftime('%H:%M:%S', gmtime(t1 - t0)))"
   ],
   "metadata": {
    "collapsed": false,
    "pycharm": {
     "name": "#%%\n",
     "is_executing": true
    }
   }
  }
 ],
 "metadata": {
  "kernelspec": {
   "display_name": "Python 3",
   "language": "python",
   "name": "python3"
  },
  "language_info": {
   "codemirror_mode": {
    "name": "ipython",
    "version": 2
   },
   "file_extension": ".py",
   "mimetype": "text/x-python",
   "name": "python",
   "nbconvert_exporter": "python",
   "pygments_lexer": "ipython2",
   "version": "2.7.6"
  }
 },
 "nbformat": 4,
 "nbformat_minor": 0
}