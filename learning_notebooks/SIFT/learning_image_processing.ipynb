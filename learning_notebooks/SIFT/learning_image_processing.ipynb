{
 "cells": [
  {
   "cell_type": "code",
   "execution_count": 48,
   "outputs": [],
   "source": [
    "import matplotlib.pyplot as plt\n",
    "%matplotlib inline\n",
    "\n",
    "import numpy as np\n",
    "from PIL import Image"
   ],
   "metadata": {
    "collapsed": false,
    "pycharm": {
     "name": "#%%\n"
    }
   }
  },
  {
   "cell_type": "markdown",
   "source": [
    "### 1) definition / resolution img"
   ],
   "metadata": {
    "collapsed": false,
    "pycharm": {
     "name": "#%% md\n"
    }
   }
  },
  {
   "cell_type": "code",
   "execution_count": 49,
   "metadata": {
    "collapsed": true,
    "pycharm": {
     "name": "#%%\n"
    }
   },
   "outputs": [],
   "source": [
    "# Charger l'image\n",
    "img = Image.open(\"simba.png\")\n",
    "\n",
    "# Afficher l'image chargée\n",
    "img.show()"
   ]
  },
  {
   "cell_type": "code",
   "execution_count": 50,
   "outputs": [
    {
     "name": "stdout",
     "output_type": "stream",
     "text": [
      "Largeur : 250 px, hauteur : 263 px\n"
     ]
    }
   ],
   "source": [
    "# Récupérer et afficher la taille de l'image (en pixels)\n",
    "w, h = img.size\n",
    "print(\"Largeur : {} px, hauteur : {} px\".format(w, h))"
   ],
   "metadata": {
    "collapsed": false,
    "pycharm": {
     "name": "#%%\n"
    }
   }
  },
  {
   "cell_type": "code",
   "execution_count": 51,
   "outputs": [
    {
     "name": "stdout",
     "output_type": "stream",
     "text": [
      "Format des pixels : L\n",
      "Valeur du pixel situé en (20,100) : 196\n"
     ]
    }
   ],
   "source": [
    "# Afficher son mode de quantification\n",
    "print(\"Format des pixels : {}\".format(img.mode))\n",
    "\n",
    "# Récupérer et afficher la valeur du pixel à une position précise\n",
    "px_value = img.getpixel((20,100))\n",
    "print(\"Valeur du pixel situé en (20,100) : {}\".format(px_value))"
   ],
   "metadata": {
    "collapsed": false,
    "pycharm": {
     "name": "#%%\n"
    }
   }
  },
  {
   "cell_type": "code",
   "execution_count": 52,
   "outputs": [
    {
     "name": "stdout",
     "output_type": "stream",
     "text": [
      "[[247 245 245 ... 224 228 228]\n",
      " [246 244 243 ... 228 230 230]\n",
      " [244 242 240 ... 230 231 231]\n",
      " ...\n",
      " [183 169 169 ... 108  95 102]\n",
      " [170 160 171 ...  81  95  99]\n",
      " [150 155 174 ... 133 115 111]]\n",
      "Taille de la matrice de pixels : (263, 250)\n"
     ]
    }
   ],
   "source": [
    "# Récupérer les valeurs de tous les pixels sous forme d'une matrice\n",
    "mat = np.array(img)\n",
    "print(mat)\n",
    "\n",
    "# Afficher la taille de la matrice de pixels\n",
    "print(\"Taille de la matrice de pixels : {}\".format(mat.shape))"
   ],
   "metadata": {
    "collapsed": false,
    "pycharm": {
     "name": "#%%\n"
    }
   }
  },
  {
   "cell_type": "markdown",
   "source": [
    "### 2) hist"
   ],
   "metadata": {
    "collapsed": false,
    "pycharm": {
     "name": "#%% md\n"
    }
   }
  },
  {
   "cell_type": "code",
   "execution_count": 53,
   "outputs": [
    {
     "data": {
      "text/plain": "<Figure size 432x288 with 1 Axes>",
      "image/png": "[encoded data removed]"
     },
     "metadata": {
      "needs_background": "light"
     },
     "output_type": "display_data"
    }
   ],
   "source": [
    "# Charger l'image comme matrice de pixels\n",
    "img = np.array(Image.open('simba.png'))\n",
    "\n",
    "# Générer et afficher l'histogramme\n",
    "# Pour le normaliser : argument density=True dans plt.hist\n",
    "# Pour avoir l'histogramme cumulé : argument cumulative=True\n",
    "n, bins, patches = plt.hist(img.flatten(), bins=range(256))\n",
    "plt.show()"
   ],
   "metadata": {
    "collapsed": false,
    "pycharm": {
     "name": "#%%\n"
    }
   }
  },
  {
   "cell_type": "code",
   "execution_count": 54,
   "outputs": [
    {
     "data": {
      "text/plain": "<Figure size 432x288 with 1 Axes>",
      "image/png": "[encoded data removed]"
     },
     "metadata": {
      "needs_background": "light"
     },
     "output_type": "display_data"
    }
   ],
   "source": [
    "# Pour le normaliser : argument density=True dans plt.hist\n",
    "# Pour avoir l'histogramme cumulé : argument cumulative=True\n",
    "n, bins, patches = plt.hist(img.flatten(), bins=range(256), density=True)\n",
    "plt.show()"
   ],
   "metadata": {
    "collapsed": false,
    "pycharm": {
     "name": "#%%\n"
    }
   }
  },
  {
   "cell_type": "code",
   "execution_count": 55,
   "outputs": [
    {
     "data": {
      "text/plain": "<Figure size 432x288 with 1 Axes>",
      "image/png": "[encoded data removed]"
     },
     "metadata": {
      "needs_background": "light"
     },
     "output_type": "display_data"
    }
   ],
   "source": [
    "# Pour avoir l'histogramme cumulé : argument cumulative=True\n",
    "n, bins, patches = plt.hist(img.flatten(), bins=range(256), density=True, cumulative=True)\n",
    "plt.show()"
   ],
   "metadata": {
    "collapsed": false,
    "pycharm": {
     "name": "#%%\n"
    }
   }
  },
  {
   "cell_type": "markdown",
   "source": [
    "#### LUMINOSITE : Etirement hist"
   ],
   "metadata": {
    "collapsed": false,
    "pycharm": {
     "name": "#%% md\n"
    }
   }
  },
  {
   "cell_type": "code",
   "execution_count": 81,
   "outputs": [],
   "source": [
    "img_name = \"simba_surexp.png\""
   ],
   "metadata": {
    "collapsed": false,
    "pycharm": {
     "name": "#%%\n"
    }
   }
  },
  {
   "cell_type": "code",
   "execution_count": 82,
   "outputs": [
    {
     "data": {
      "text/plain": "<Figure size 432x288 with 1 Axes>",
      "image/png": "[encoded data removed]"
     },
     "metadata": {
      "needs_background": "light"
     },
     "output_type": "display_data"
    }
   ],
   "source": [
    "img_obj = Image.open(img_name)\n",
    "img_mat = np.array(img_obj)\n",
    "\n",
    "# Générer et afficher l'histogramme\n",
    "# Pour le normaliser : argument density=True dans plt.hist\n",
    "# Pour avoir l'histogramme cumulé : argument cumulative=True\n",
    "n, bins, patches = plt.hist(img_mat.flatten(), bins=range(256), density=False)\n",
    "plt.show()\n",
    "\n",
    "img_obj.show()"
   ],
   "metadata": {
    "collapsed": false,
    "pycharm": {
     "name": "#%%\n"
    }
   }
  },
  {
   "cell_type": "code",
   "execution_count": 83,
   "outputs": [
    {
     "data": {
      "text/plain": "<Figure size 432x288 with 1 Axes>",
      "image/png": "[encoded data removed]"
     },
     "metadata": {
      "needs_background": "light"
     },
     "output_type": "display_data"
    }
   ],
   "source": [
    "# Pour avoir l'histogramme cumulé : argument cumulative=True\n",
    "n, bins, patches = plt.hist(img_mat.flatten(), bins=range(256), density=True, cumulative=True)\n",
    "plt.show()"
   ],
   "metadata": {
    "collapsed": false,
    "pycharm": {
     "name": "#%%\n"
    }
   }
  },
  {
   "cell_type": "code",
   "execution_count": 84,
   "outputs": [],
   "source": [
    "# Importing Image and ImageOps module from PIL package\n",
    "from PIL import ImageOps\n",
    "\n",
    "# creating a image1 object\n",
    "#im1 = Image.open(\"montage_simba_surexp.png\")\n",
    "\n",
    "# applying autocontrast method\n",
    "img_c = ImageOps.autocontrast(img_obj, cutoff=1, ignore=None) # 1 1% of extrem values to cut off\n",
    "\n",
    "img_c.show()"
   ],
   "metadata": {
    "collapsed": false,
    "pycharm": {
     "name": "#%%\n"
    }
   }
  },
  {
   "cell_type": "code",
   "execution_count": 85,
   "outputs": [
    {
     "data": {
      "text/plain": "<Figure size 432x288 with 1 Axes>",
      "image/png": "[encoded data removed]"
     },
     "metadata": {
      "needs_background": "light"
     },
     "output_type": "display_data"
    }
   ],
   "source": [
    "img_c_mat = np.array(img_c)\n",
    "n, bins, patches = plt.hist(img_c_mat.flatten(), bins=range(256))\n",
    "plt.show()"
   ],
   "metadata": {
    "collapsed": false,
    "pycharm": {
     "name": "#%%\n"
    }
   }
  },
  {
   "cell_type": "markdown",
   "source": [
    "#### CONTRASTE : Egalisation hist"
   ],
   "metadata": {
    "collapsed": false,
    "pycharm": {
     "name": "#%% md\n"
    }
   }
  },
  {
   "cell_type": "code",
   "execution_count": 97,
   "outputs": [],
   "source": [
    "img_name = \"simba_surexp.png\""
   ],
   "metadata": {
    "collapsed": false,
    "pycharm": {
     "name": "#%%\n"
    }
   }
  },
  {
   "cell_type": "code",
   "execution_count": 98,
   "outputs": [
    {
     "data": {
      "text/plain": "<Figure size 432x288 with 1 Axes>",
      "image/png": "[encoded data removed]"
     },
     "metadata": {
      "needs_background": "light"
     },
     "output_type": "display_data"
    }
   ],
   "source": [
    "img_obj = Image.open(img_name)\n",
    "img_mat = np.array(img_obj)\n",
    "\n",
    "# Générer et afficher l'histogramme\n",
    "# Pour le normaliser : argument density=True dans plt.hist\n",
    "# Pour avoir l'histogramme cumulé : argument cumulative=True\n",
    "n, bins, patches = plt.hist(img_mat.flatten(), bins=range(256), density=False)\n",
    "plt.show()\n",
    "\n",
    "img_obj.show()"
   ],
   "metadata": {
    "collapsed": false,
    "pycharm": {
     "name": "#%%\n"
    }
   }
  },
  {
   "cell_type": "code",
   "execution_count": 99,
   "outputs": [
    {
     "data": {
      "text/plain": "<Figure size 432x288 with 1 Axes>",
      "image/png": "[encoded data removed]"
     },
     "metadata": {
      "needs_background": "light"
     },
     "output_type": "display_data"
    }
   ],
   "source": [
    "n, bins, patches = plt.hist(img_mat.flatten(), bins=range(256), density=True, cumulative=True)\n",
    "plt.show()"
   ],
   "metadata": {
    "collapsed": false,
    "pycharm": {
     "name": "#%%\n"
    }
   }
  },
  {
   "cell_type": "code",
   "execution_count": 101,
   "outputs": [],
   "source": [
    "# applying equalize method\n",
    "img_c = ImageOps.equalize(img_obj, mask = None)\n",
    "\n",
    "img_c.show()\n",
    "\n",
    "img_c_mat = np.array(img_c)"
   ],
   "metadata": {
    "collapsed": false,
    "pycharm": {
     "name": "#%%\n"
    }
   }
  },
  {
   "cell_type": "code",
   "execution_count": 102,
   "outputs": [
    {
     "data": {
      "text/plain": "<Figure size 432x288 with 1 Axes>",
      "image/png": "[encoded data removed]"
     },
     "metadata": {
      "needs_background": "light"
     },
     "output_type": "display_data"
    }
   ],
   "source": [
    "n, bins, patches = plt.hist(img_c_mat.flatten(), bins=range(256), density=True, cumulative=True)\n",
    "plt.show()"
   ],
   "metadata": {
    "collapsed": false,
    "pycharm": {
     "name": "#%%\n"
    }
   }
  },
  {
   "cell_type": "code",
   "execution_count": 103,
   "outputs": [
    {
     "data": {
      "text/plain": "<Figure size 432x288 with 1 Axes>",
      "image/png": "[encoded data removed]"
     },
     "metadata": {
      "needs_background": "light"
     },
     "output_type": "display_data"
    }
   ],
   "source": [
    "n, bins, patches = plt.hist(img_c_mat.flatten(), bins=range(256), density=True, cumulative=False)\n",
    "plt.show()"
   ],
   "metadata": {
    "collapsed": false,
    "pycharm": {
     "name": "#%%\n"
    }
   }
  },
  {
   "cell_type": "markdown",
   "source": [
    "### Transformations géométriques"
   ],
   "metadata": {
    "collapsed": false,
    "pycharm": {
     "name": "#%% md\n"
    }
   }
  },
  {
   "cell_type": "code",
   "execution_count": null,
   "outputs": [],
   "source": [],
   "metadata": {
    "collapsed": false,
    "pycharm": {
     "name": "#%%\n"
    }
   }
  },
  {
   "cell_type": "code",
   "execution_count": null,
   "outputs": [],
   "source": [],
   "metadata": {
    "collapsed": false,
    "pycharm": {
     "name": "#%%\n"
    }
   }
  },
  {
   "cell_type": "markdown",
   "source": [
    "#### Noise"
   ],
   "metadata": {
    "collapsed": false,
    "pycharm": {
     "name": "#%% md\n"
    }
   }
  },
  {
   "cell_type": "code",
   "execution_count": null,
   "outputs": [],
   "source": [
    "# Charger l'image sous forme d'une matrice de pixels\n",
    "img = np.array(Image.open('simba.png'))\n",
    "\n",
    "# Générer le bruit gaussien de moyenne nulle et d'écart-type 7 (variance 49)\n",
    "noise = np.random.normal(0, 7, img.shape)\n",
    "\n",
    "# Créer l'image bruitée et l'afficher\n",
    "noisy_img = Image.fromarray(img + noise).convert('L')\n",
    "noisy_img.show()"
   ],
   "metadata": {
    "collapsed": false,
    "pycharm": {
     "name": "#%%\n"
    }
   }
  },
  {
   "cell_type": "code",
   "execution_count": null,
   "outputs": [],
   "source": [
    "from PIL import ImageFilter\n",
    "\n",
    "# Appliquer le lissage par moyennage (fenêtre de taille 9) et afficher le résultat\n",
    "noisy_img.filter(ImageFilter.BoxBlur(1)).show()"
   ],
   "metadata": {
    "collapsed": false,
    "pycharm": {
     "name": "#%%\n"
    }
   }
  }
 ],
 "metadata": {
  "kernelspec": {
   "display_name": "Python 3",
   "language": "python",
   "name": "python3"
  },
  "language_info": {
   "codemirror_mode": {
    "name": "ipython",
    "version": 2
   },
   "file_extension": ".py",
   "mimetype": "text/x-python",
   "name": "python",
   "nbconvert_exporter": "python",
   "pygments_lexer": "ipython2",
   "version": "2.7.6"
  }
 },
 "nbformat": 4,
 "nbformat_minor": 0
}