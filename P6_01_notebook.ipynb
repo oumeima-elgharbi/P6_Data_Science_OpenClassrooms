{
 "cells": [
  {
   "cell_type": "markdown",
   "source": [
    "- OpenClassrooms Project 6, Data Scientist\n",
    "- Author : Oumeima EL GHARBI\n",
    "- Date : October, November 2022"
   ],
   "metadata": {
    "collapsed": false,
    "pycharm": {
     "name": "#%% md\n"
    }
   }
  },
  {
   "cell_type": "markdown",
   "source": [
    "## Part I : Preprocessing"
   ],
   "metadata": {
    "collapsed": false,
    "pycharm": {
     "name": "#%% md\n"
    }
   }
  },
  {
   "cell_type": "markdown",
   "source": [
    "### Importing libraries"
   ],
   "metadata": {
    "collapsed": false,
    "pycharm": {
     "name": "#%% md\n"
    }
   }
  },
  {
   "cell_type": "code",
   "execution_count": 94,
   "metadata": {
    "collapsed": true,
    "pycharm": {
     "name": "#%%\n"
    }
   },
   "outputs": [
    {
     "data": {
      "application/javascript": "IPython.notebook.set_autosave_interval(300000)"
     },
     "metadata": {},
     "output_type": "display_data"
    },
    {
     "name": "stdout",
     "output_type": "stream",
     "text": [
      "Autosaving every 300 seconds\n"
     ]
    }
   ],
   "source": [
    "import pandas as pd\n",
    "%reset -f\n",
    "\n",
    "from functions import *\n",
    "\n",
    "%matplotlib inline\n",
    "%autosave 300"
   ]
  },
  {
   "cell_type": "code",
   "execution_count": 95,
   "outputs": [],
   "source": [
    "# Starting time\n",
    "t0 = time()\n",
    "\n",
    "input_path = \"./dataset/\"\n",
    "text_path = input_path + \"/text/\"\n",
    "images_path = input_path + \"/images/\"\n",
    "\n",
    "input_text_filename = \"flipkart_com-ecommerce_sample.csv\"\n",
    "input_text_file = \"{}{}\".format(text_path, input_text_filename)\n",
    "\n",
    "#input_filename = \"input.csv\"\n",
    "#input_dataset_file = \"{}{}\".format(input_path, input_filename)\n",
    "\n",
    "#output_path = \"./dataset/cleaned/\"\n",
    "#output_filename = \"output.csv\"\n",
    "#output_dataset_file = \"{}{}\".format(output_path, output_filename)"
   ],
   "metadata": {
    "collapsed": false,
    "pycharm": {
     "name": "#%%\n"
    }
   }
  },
  {
   "cell_type": "markdown",
   "source": [
    "### Importing the images' description from a csv file"
   ],
   "metadata": {
    "collapsed": false,
    "pycharm": {
     "name": "#%% md\n"
    }
   }
  },
  {
   "cell_type": "markdown",
   "source": [
    "##### Getting the images' description"
   ],
   "metadata": {
    "collapsed": false,
    "pycharm": {
     "name": "#%% md\n"
    }
   }
  },
  {
   "cell_type": "code",
   "execution_count": 96,
   "outputs": [],
   "source": [
    "data_text = pd.read_csv(input_text_file)"
   ],
   "metadata": {
    "collapsed": false,
    "pycharm": {
     "name": "#%%\n"
    }
   }
  },
  {
   "cell_type": "code",
   "execution_count": 117,
   "outputs": [
    {
     "data": {
      "text/plain": "                            uniq_id            crawl_timestamp  \\\n0  55b85ea15a1536d46b7190ad6fff8ce7  2016-04-30 03:22:56 +0000   \n1  7b72c92c2f6c40268628ec5f14c6d590  2016-04-30 03:22:56 +0000   \n2  64d5d4a258243731dc7bbb1eef49ad74  2016-04-30 03:22:56 +0000   \n3  d4684dcdc759dd9cdf41504698d737d8  2016-06-20 08:49:52 +0000   \n4  6325b6870c54cd47be6ebfbffa620ec7  2016-06-20 08:49:52 +0000   \n\n                                         product_url  \\\n0  http://www.flipkart.com/elegance-polyester-mul...   \n1  http://www.flipkart.com/sathiyas-cotton-bath-t...   \n2  http://www.flipkart.com/eurospa-cotton-terry-f...   \n3  http://www.flipkart.com/santosh-royal-fashion-...   \n4  http://www.flipkart.com/jaipur-print-cotton-fl...   \n\n                                        product_name  \\\n0  Elegance Polyester Multicolor Abstract Eyelet ...   \n1                         Sathiyas Cotton Bath Towel   \n2                Eurospa Cotton Terry Face Towel Set   \n3  SANTOSH ROYAL FASHION Cotton Printed King size...   \n4  Jaipur Print Cotton Floral King sized Double B...   \n\n                               product_category_tree               pid  \\\n0  [\"Home Furnishing >> Curtains & Accessories >>...  CRNEG7BKMFFYHQ8Z   \n1  [\"Baby Care >> Baby Bath & Skin >> Baby Bath T...  BTWEGFZHGBXPHZUH   \n2  [\"Baby Care >> Baby Bath & Skin >> Baby Bath T...  BTWEG6SHXTDB2A2Y   \n3  [\"Home Furnishing >> Bed Linen >> Bedsheets >>...  BDSEJT9UQWHDUBH4   \n4  [\"Home Furnishing >> Bed Linen >> Bedsheets >>...  BDSEJTHNGWVGWWQU   \n\n   retail_price  discounted_price                                 image  \\\n0        1899.0             899.0  55b85ea15a1536d46b7190ad6fff8ce7.jpg   \n1         600.0             449.0  7b72c92c2f6c40268628ec5f14c6d590.jpg   \n2           NaN               NaN  64d5d4a258243731dc7bbb1eef49ad74.jpg   \n3        2699.0            1299.0  d4684dcdc759dd9cdf41504698d737d8.jpg   \n4        2599.0             698.0  6325b6870c54cd47be6ebfbffa620ec7.jpg   \n\n   is_FK_Advantage_product                                        description  \\\n0                    False  Key Features of Elegance Polyester Multicolor ...   \n1                    False  Specifications of Sathiyas Cotton Bath Towel (...   \n2                    False  Key Features of Eurospa Cotton Terry Face Towe...   \n3                    False  Key Features of SANTOSH ROYAL FASHION Cotton P...   \n4                    False  Key Features of Jaipur Print Cotton Floral Kin...   \n\n        product_rating       overall_rating                  brand  \\\n0  No rating available  No rating available               Elegance   \n1  No rating available  No rating available               Sathiyas   \n2  No rating available  No rating available                Eurospa   \n3  No rating available  No rating available  SANTOSH ROYAL FASHION   \n4  No rating available  No rating available           Jaipur Print   \n\n                              product_specifications  \n0  {\"product_specification\"=>[{\"key\"=>\"Brand\", \"v...  \n1  {\"product_specification\"=>[{\"key\"=>\"Machine Wa...  \n2  {\"product_specification\"=>[{\"key\"=>\"Material\",...  \n3  {\"product_specification\"=>[{\"key\"=>\"Brand\", \"v...  \n4  {\"product_specification\"=>[{\"key\"=>\"Machine Wa...  ",
      "text/html": "<div>\n<style scoped>\n    .dataframe tbody tr th:only-of-type {\n        vertical-align: middle;\n    }\n\n    .dataframe tbody tr th {\n        vertical-align: top;\n    }\n\n    .dataframe thead th {\n        text-align: right;\n    }\n</style>\n<table border=\"1\" class=\"dataframe\">\n  <thead>\n    <tr style=\"text-align: right;\">\n      <th></th>\n      <th>uniq_id</th>\n      <th>crawl_timestamp</th>\n      <th>product_url</th>\n      <th>product_name</th>\n      <th>product_category_tree</th>\n      <th>pid</th>\n      <th>retail_price</th>\n      <th>discounted_price</th>\n      <th>image</th>\n      <th>is_FK_Advantage_product</th>\n      <th>description</th>\n      <th>product_rating</th>\n      <th>overall_rating</th>\n      <th>brand</th>\n      <th>product_specifications</th>\n    </tr>\n  </thead>\n  <tbody>\n    <tr>\n      <th>0</th>\n      <td>55b85ea15a1536d46b7190ad6fff8ce7</td>\n      <td>2016-04-30 03:22:56 +0000</td>\n      <td>http://www.flipkart.com/elegance-polyester-mul...</td>\n      <td>Elegance Polyester Multicolor Abstract Eyelet ...</td>\n      <td>[\"Home Furnishing &gt;&gt; Curtains &amp; Accessories &gt;&gt;...</td>\n      <td>CRNEG7BKMFFYHQ8Z</td>\n      <td>1899.0</td>\n      <td>899.0</td>\n      <td>55b85ea15a1536d46b7190ad6fff8ce7.jpg</td>\n      <td>False</td>\n      <td>Key Features of Elegance Polyester Multicolor ...</td>\n      <td>No rating available</td>\n      <td>No rating available</td>\n      <td>Elegance</td>\n      <td>{\"product_specification\"=&gt;[{\"key\"=&gt;\"Brand\", \"v...</td>\n    </tr>\n    <tr>\n      <th>1</th>\n      <td>7b72c92c2f6c40268628ec5f14c6d590</td>\n      <td>2016-04-30 03:22:56 +0000</td>\n      <td>http://www.flipkart.com/sathiyas-cotton-bath-t...</td>\n      <td>Sathiyas Cotton Bath Towel</td>\n      <td>[\"Baby Care &gt;&gt; Baby Bath &amp; Skin &gt;&gt; Baby Bath T...</td>\n      <td>BTWEGFZHGBXPHZUH</td>\n      <td>600.0</td>\n      <td>449.0</td>\n      <td>7b72c92c2f6c40268628ec5f14c6d590.jpg</td>\n      <td>False</td>\n      <td>Specifications of Sathiyas Cotton Bath Towel (...</td>\n      <td>No rating available</td>\n      <td>No rating available</td>\n      <td>Sathiyas</td>\n      <td>{\"product_specification\"=&gt;[{\"key\"=&gt;\"Machine Wa...</td>\n    </tr>\n    <tr>\n      <th>2</th>\n      <td>64d5d4a258243731dc7bbb1eef49ad74</td>\n      <td>2016-04-30 03:22:56 +0000</td>\n      <td>http://www.flipkart.com/eurospa-cotton-terry-f...</td>\n      <td>Eurospa Cotton Terry Face Towel Set</td>\n      <td>[\"Baby Care &gt;&gt; Baby Bath &amp; Skin &gt;&gt; Baby Bath T...</td>\n      <td>BTWEG6SHXTDB2A2Y</td>\n      <td>NaN</td>\n      <td>NaN</td>\n      <td>64d5d4a258243731dc7bbb1eef49ad74.jpg</td>\n      <td>False</td>\n      <td>Key Features of Eurospa Cotton Terry Face Towe...</td>\n      <td>No rating available</td>\n      <td>No rating available</td>\n      <td>Eurospa</td>\n      <td>{\"product_specification\"=&gt;[{\"key\"=&gt;\"Material\",...</td>\n    </tr>\n    <tr>\n      <th>3</th>\n      <td>d4684dcdc759dd9cdf41504698d737d8</td>\n      <td>2016-06-20 08:49:52 +0000</td>\n      <td>http://www.flipkart.com/santosh-royal-fashion-...</td>\n      <td>SANTOSH ROYAL FASHION Cotton Printed King size...</td>\n      <td>[\"Home Furnishing &gt;&gt; Bed Linen &gt;&gt; Bedsheets &gt;&gt;...</td>\n      <td>BDSEJT9UQWHDUBH4</td>\n      <td>2699.0</td>\n      <td>1299.0</td>\n      <td>d4684dcdc759dd9cdf41504698d737d8.jpg</td>\n      <td>False</td>\n      <td>Key Features of SANTOSH ROYAL FASHION Cotton P...</td>\n      <td>No rating available</td>\n      <td>No rating available</td>\n      <td>SANTOSH ROYAL FASHION</td>\n      <td>{\"product_specification\"=&gt;[{\"key\"=&gt;\"Brand\", \"v...</td>\n    </tr>\n    <tr>\n      <th>4</th>\n      <td>6325b6870c54cd47be6ebfbffa620ec7</td>\n      <td>2016-06-20 08:49:52 +0000</td>\n      <td>http://www.flipkart.com/jaipur-print-cotton-fl...</td>\n      <td>Jaipur Print Cotton Floral King sized Double B...</td>\n      <td>[\"Home Furnishing &gt;&gt; Bed Linen &gt;&gt; Bedsheets &gt;&gt;...</td>\n      <td>BDSEJTHNGWVGWWQU</td>\n      <td>2599.0</td>\n      <td>698.0</td>\n      <td>6325b6870c54cd47be6ebfbffa620ec7.jpg</td>\n      <td>False</td>\n      <td>Key Features of Jaipur Print Cotton Floral Kin...</td>\n      <td>No rating available</td>\n      <td>No rating available</td>\n      <td>Jaipur Print</td>\n      <td>{\"product_specification\"=&gt;[{\"key\"=&gt;\"Machine Wa...</td>\n    </tr>\n  </tbody>\n</table>\n</div>"
     },
     "execution_count": 117,
     "metadata": {},
     "output_type": "execute_result"
    }
   ],
   "source": [
    "data_text.head()"
   ],
   "metadata": {
    "collapsed": false,
    "pycharm": {
     "name": "#%%\n"
    }
   }
  },
  {
   "cell_type": "code",
   "execution_count": 98,
   "outputs": [
    {
     "name": "stdout",
     "output_type": "stream",
     "text": [
      "We have 1050 unique ids for the textual descriptions\n"
     ]
    }
   ],
   "source": [
    "all_text_id = data_text['uniq_id']\n",
    "print(\"We have\", all_text_id.unique().shape[0], \"unique ids for the textual descriptions\")"
   ],
   "metadata": {
    "collapsed": false,
    "pycharm": {
     "name": "#%%\n"
    }
   }
  },
  {
   "cell_type": "markdown",
   "source": [
    "##### Getting the images' id"
   ],
   "metadata": {
    "collapsed": false,
    "pycharm": {
     "name": "#%% md\n"
    }
   }
  },
  {
   "cell_type": "code",
   "execution_count": 99,
   "outputs": [
    {
     "name": "stdout",
     "output_type": "stream",
     "text": [
      "We read the folder in which we have all the csv files.\n",
      "We have locally 1050 images.\n"
     ]
    }
   ],
   "source": [
    "from os import listdir\n",
    "from os.path import isfile, join\n",
    "\n",
    "print(\"We read the folder in which we have all the csv files.\")\n",
    "\n",
    "all_images_id = [f for f in listdir(images_path) if isfile(join(images_path, f))]\n",
    "\n",
    "print(\"We have locally\", len(all_images_id), \"images.\")"
   ],
   "metadata": {
    "collapsed": false,
    "pycharm": {
     "name": "#%%\n"
    }
   }
  },
  {
   "cell_type": "markdown",
   "source": [
    "##### Checking that the 1050 images match the textual descriptions"
   ],
   "metadata": {
    "collapsed": false,
    "pycharm": {
     "name": "#%% md\n"
    }
   }
  },
  {
   "cell_type": "raw",
   "source": [
    "all_text_id_list = all_text_id.tolist()\n",
    "\n",
    "all_text_id_list"
   ],
   "metadata": {
    "collapsed": false,
    "pycharm": {
     "name": "#%% raw\n"
    }
   }
  },
  {
   "cell_type": "code",
   "execution_count": 111,
   "outputs": [],
   "source": [
    "df_images_id = pd.DataFrame({\"id\": [img[:-4] for img in all_images_id]}) # :-4 o remove the .jpg of the string\n",
    "\n",
    "df_text_id = all_text_id.copy()\n",
    "# transforming the pandas Series into a Df\n",
    "df_text_id = pd.DataFrame({\"id\": all_text_id})"
   ],
   "metadata": {
    "collapsed": false,
    "pycharm": {
     "name": "#%%\n"
    }
   }
  },
  {
   "cell_type": "code",
   "execution_count": 114,
   "outputs": [
    {
     "data": {
      "text/plain": "                                 id\n0  55b85ea15a1536d46b7190ad6fff8ce7\n1  7b72c92c2f6c40268628ec5f14c6d590\n2  64d5d4a258243731dc7bbb1eef49ad74\n3  d4684dcdc759dd9cdf41504698d737d8\n4  6325b6870c54cd47be6ebfbffa620ec7",
      "text/html": "<div>\n<style scoped>\n    .dataframe tbody tr th:only-of-type {\n        vertical-align: middle;\n    }\n\n    .dataframe tbody tr th {\n        vertical-align: top;\n    }\n\n    .dataframe thead th {\n        text-align: right;\n    }\n</style>\n<table border=\"1\" class=\"dataframe\">\n  <thead>\n    <tr style=\"text-align: right;\">\n      <th></th>\n      <th>id</th>\n    </tr>\n  </thead>\n  <tbody>\n    <tr>\n      <th>0</th>\n      <td>55b85ea15a1536d46b7190ad6fff8ce7</td>\n    </tr>\n    <tr>\n      <th>1</th>\n      <td>7b72c92c2f6c40268628ec5f14c6d590</td>\n    </tr>\n    <tr>\n      <th>2</th>\n      <td>64d5d4a258243731dc7bbb1eef49ad74</td>\n    </tr>\n    <tr>\n      <th>3</th>\n      <td>d4684dcdc759dd9cdf41504698d737d8</td>\n    </tr>\n    <tr>\n      <th>4</th>\n      <td>6325b6870c54cd47be6ebfbffa620ec7</td>\n    </tr>\n  </tbody>\n</table>\n</div>"
     },
     "execution_count": 114,
     "metadata": {},
     "output_type": "execute_result"
    }
   ],
   "source": [
    "df_text_id.head()"
   ],
   "metadata": {
    "collapsed": false,
    "pycharm": {
     "name": "#%%\n"
    }
   }
  },
  {
   "cell_type": "code",
   "execution_count": 113,
   "outputs": [
    {
     "data": {
      "text/plain": "                                 id\n0  009099b1f6e1e8f893ec29a7023153c4\n1  0096e89cc25a8b96fb9808716406fe94\n2  00cbbc837d340fa163d11e169fbdb952\n3  00d84a518e0550612fcfcba3b02b6255\n4  00e966a5049a262cfc72e6bbf68b80e7",
      "text/html": "<div>\n<style scoped>\n    .dataframe tbody tr th:only-of-type {\n        vertical-align: middle;\n    }\n\n    .dataframe tbody tr th {\n        vertical-align: top;\n    }\n\n    .dataframe thead th {\n        text-align: right;\n    }\n</style>\n<table border=\"1\" class=\"dataframe\">\n  <thead>\n    <tr style=\"text-align: right;\">\n      <th></th>\n      <th>id</th>\n    </tr>\n  </thead>\n  <tbody>\n    <tr>\n      <th>0</th>\n      <td>009099b1f6e1e8f893ec29a7023153c4</td>\n    </tr>\n    <tr>\n      <th>1</th>\n      <td>0096e89cc25a8b96fb9808716406fe94</td>\n    </tr>\n    <tr>\n      <th>2</th>\n      <td>00cbbc837d340fa163d11e169fbdb952</td>\n    </tr>\n    <tr>\n      <th>3</th>\n      <td>00d84a518e0550612fcfcba3b02b6255</td>\n    </tr>\n    <tr>\n      <th>4</th>\n      <td>00e966a5049a262cfc72e6bbf68b80e7</td>\n    </tr>\n  </tbody>\n</table>\n</div>"
     },
     "execution_count": 113,
     "metadata": {},
     "output_type": "execute_result"
    }
   ],
   "source": [
    "df_images_id.head()"
   ],
   "metadata": {
    "collapsed": false,
    "pycharm": {
     "name": "#%%\n"
    }
   }
  },
  {
   "cell_type": "code",
   "execution_count": 115,
   "outputs": [
    {
     "data": {
      "text/plain": "(2100, 1)"
     },
     "metadata": {},
     "output_type": "display_data"
    }
   ],
   "source": [
    "df_concat = pd.concat([df_images_id, df_text_id]) #.drop_duplicates(keep=False)\n",
    "display(df_concat.shape)"
   ],
   "metadata": {
    "collapsed": false,
    "pycharm": {
     "name": "#%%\n"
    }
   }
  },
  {
   "cell_type": "code",
   "execution_count": 116,
   "outputs": [
    {
     "data": {
      "text/plain": "Empty DataFrame\nColumns: [id]\nIndex: []",
      "text/html": "<div>\n<style scoped>\n    .dataframe tbody tr th:only-of-type {\n        vertical-align: middle;\n    }\n\n    .dataframe tbody tr th {\n        vertical-align: top;\n    }\n\n    .dataframe thead th {\n        text-align: right;\n    }\n</style>\n<table border=\"1\" class=\"dataframe\">\n  <thead>\n    <tr style=\"text-align: right;\">\n      <th></th>\n      <th>id</th>\n    </tr>\n  </thead>\n  <tbody>\n  </tbody>\n</table>\n</div>"
     },
     "metadata": {},
     "output_type": "display_data"
    }
   ],
   "source": [
    "df_concat = pd.concat([df_images_id, df_text_id]).drop_duplicates(keep=False)\n",
    "display(df_concat)"
   ],
   "metadata": {
    "collapsed": false,
    "pycharm": {
     "name": "#%%\n"
    }
   }
  },
  {
   "cell_type": "markdown",
   "source": [
    "We have checked that every image that we have locally matches a description that can be found in the csv file."
   ],
   "metadata": {
    "collapsed": false,
    "pycharm": {
     "name": "#%% md\n"
    }
   }
  },
  {
   "cell_type": "markdown",
   "source": [
    "##### Exploration of the dataset that contains the descriptions"
   ],
   "metadata": {
    "collapsed": false,
    "pycharm": {
     "name": "#%% md\n"
    }
   }
  },
  {
   "cell_type": "code",
   "execution_count": 119,
   "outputs": [
    {
     "name": "stdout",
     "output_type": "stream",
     "text": [
      "<class 'pandas.core.frame.DataFrame'>\n",
      "RangeIndex: 1050 entries, 0 to 1049\n",
      "Data columns (total 15 columns):\n",
      " #   Column                   Non-Null Count  Dtype  \n",
      "---  ------                   --------------  -----  \n",
      " 0   uniq_id                  1050 non-null   object \n",
      " 1   crawl_timestamp          1050 non-null   object \n",
      " 2   product_url              1050 non-null   object \n",
      " 3   product_name             1050 non-null   object \n",
      " 4   product_category_tree    1050 non-null   object \n",
      " 5   pid                      1050 non-null   object \n",
      " 6   retail_price             1049 non-null   float64\n",
      " 7   discounted_price         1049 non-null   float64\n",
      " 8   image                    1050 non-null   object \n",
      " 9   is_FK_Advantage_product  1050 non-null   bool   \n",
      " 10  description              1050 non-null   object \n",
      " 11  product_rating           1050 non-null   object \n",
      " 12  overall_rating           1050 non-null   object \n",
      " 13  brand                    712 non-null    object \n",
      " 14  product_specifications   1049 non-null   object \n",
      "dtypes: bool(1), float64(2), object(12)\n",
      "memory usage: 116.0+ KB\n"
     ]
    }
   ],
   "source": [
    "data_text.info()"
   ],
   "metadata": {
    "collapsed": false,
    "pycharm": {
     "name": "#%%\n"
    }
   }
  },
  {
   "cell_type": "code",
   "execution_count": 120,
   "outputs": [
    {
     "data": {
      "text/plain": "                               uniq_id            crawl_timestamp  \\\n0     55b85ea15a1536d46b7190ad6fff8ce7  2016-04-30 03:22:56 +0000   \n1     7b72c92c2f6c40268628ec5f14c6d590  2016-04-30 03:22:56 +0000   \n2     64d5d4a258243731dc7bbb1eef49ad74  2016-04-30 03:22:56 +0000   \n3     d4684dcdc759dd9cdf41504698d737d8  2016-06-20 08:49:52 +0000   \n4     6325b6870c54cd47be6ebfbffa620ec7  2016-06-20 08:49:52 +0000   \n...                                ...                        ...   \n1045  958f54f4c46b53c8a0a9b8167d9140bc  2015-12-01 10:15:43 +0000   \n1046  fd6cbcc22efb6b761bd564c28928483c  2015-12-01 10:15:43 +0000   \n1047  5912e037d12774bb73a2048f35a00009  2015-12-01 10:15:43 +0000   \n1048  c3edc504d1b4f0ba6224fa53a43a7ad6  2015-12-01 10:15:43 +0000   \n1049  f2f027ad6a6df617c9f125173da71e44  2015-12-01 10:15:43 +0000   \n\n                                            product_url  \\\n0     http://www.flipkart.com/elegance-polyester-mul...   \n1     http://www.flipkart.com/sathiyas-cotton-bath-t...   \n2     http://www.flipkart.com/eurospa-cotton-terry-f...   \n3     http://www.flipkart.com/santosh-royal-fashion-...   \n4     http://www.flipkart.com/jaipur-print-cotton-fl...   \n...                                                 ...   \n1045  http://www.flipkart.com/oren-empower-extra-lar...   \n1046  http://www.flipkart.com/wallmantra-large-vinyl...   \n1047  http://www.flipkart.com/uberlyfe-extra-large-p...   \n1048  http://www.flipkart.com/wallmantra-medium-viny...   \n1049  http://www.flipkart.com/uberlyfe-large-vinyl-s...   \n\n                                           product_name  \\\n0     Elegance Polyester Multicolor Abstract Eyelet ...   \n1                            Sathiyas Cotton Bath Towel   \n2                   Eurospa Cotton Terry Face Towel Set   \n3     SANTOSH ROYAL FASHION Cotton Printed King size...   \n4     Jaipur Print Cotton Floral King sized Double B...   \n...                                                 ...   \n1045     Oren Empower Extra Large Self Adhesive Sticker   \n1046             Wallmantra Large Vinyl Sticker Sticker   \n1047  Uberlyfe Extra Large Pigmented Polyvinyl Films...   \n1048            Wallmantra Medium Vinyl Sticker Sticker   \n1049                       Uberlyfe Large Vinyl Sticker   \n\n                                  product_category_tree               pid  \\\n0     [\"Home Furnishing >> Curtains & Accessories >>...  CRNEG7BKMFFYHQ8Z   \n1     [\"Baby Care >> Baby Bath & Skin >> Baby Bath T...  BTWEGFZHGBXPHZUH   \n2     [\"Baby Care >> Baby Bath & Skin >> Baby Bath T...  BTWEG6SHXTDB2A2Y   \n3     [\"Home Furnishing >> Bed Linen >> Bedsheets >>...  BDSEJT9UQWHDUBH4   \n4     [\"Home Furnishing >> Bed Linen >> Bedsheets >>...  BDSEJTHNGWVGWWQU   \n...                                                 ...               ...   \n1045  [\"Baby Care >> Baby & Kids Gifts >> Stickers >...  STIE88ZGTX65GH4V   \n1046  [\"Baby Care >> Baby & Kids Gifts >> Stickers >...  STIEC889ZD5GDCVQ   \n1047  [\"Baby Care >> Baby & Kids Gifts >> Stickers >...  STIE5UVGW2JWVWCT   \n1048  [\"Baby Care >> Baby & Kids Gifts >> Stickers >...  STIEC889ZGFD3RCE   \n1049  [\"Baby Care >> Baby & Kids Gifts >> Stickers >...  STIE2ZEPACRQJKH7   \n\n      retail_price  discounted_price                                 image  \\\n0           1899.0             899.0  55b85ea15a1536d46b7190ad6fff8ce7.jpg   \n1            600.0             449.0  7b72c92c2f6c40268628ec5f14c6d590.jpg   \n2              NaN               NaN  64d5d4a258243731dc7bbb1eef49ad74.jpg   \n3           2699.0            1299.0  d4684dcdc759dd9cdf41504698d737d8.jpg   \n4           2599.0             698.0  6325b6870c54cd47be6ebfbffa620ec7.jpg   \n...            ...               ...                                   ...   \n1045        1399.0             999.0  958f54f4c46b53c8a0a9b8167d9140bc.jpg   \n1046        4930.0            1896.0  fd6cbcc22efb6b761bd564c28928483c.jpg   \n1047        4500.0            1449.0  5912e037d12774bb73a2048f35a00009.jpg   \n1048        3465.0            1333.0  c3edc504d1b4f0ba6224fa53a43a7ad6.jpg   \n1049        1190.0             595.0  f2f027ad6a6df617c9f125173da71e44.jpg   \n\n      is_FK_Advantage_product  \\\n0                       False   \n1                       False   \n2                       False   \n3                       False   \n4                       False   \n...                       ...   \n1045                    False   \n1046                    False   \n1047                    False   \n1048                    False   \n1049                    False   \n\n                                            description       product_rating  \\\n0     Key Features of Elegance Polyester Multicolor ...  No rating available   \n1     Specifications of Sathiyas Cotton Bath Towel (...  No rating available   \n2     Key Features of Eurospa Cotton Terry Face Towe...  No rating available   \n3     Key Features of SANTOSH ROYAL FASHION Cotton P...  No rating available   \n4     Key Features of Jaipur Print Cotton Floral Kin...  No rating available   \n...                                                 ...                  ...   \n1045  Oren Empower Extra Large Self Adhesive Sticker...  No rating available   \n1046  Wallmantra Large Vinyl Sticker Sticker (Pack o...  No rating available   \n1047  Buy Uberlyfe Extra Large Pigmented Polyvinyl F...  No rating available   \n1048  Buy Wallmantra Medium Vinyl Sticker Sticker fo...  No rating available   \n1049  Buy Uberlyfe Large Vinyl Sticker for Rs.595 on...                    4   \n\n           overall_rating                  brand  \\\n0     No rating available               Elegance   \n1     No rating available               Sathiyas   \n2     No rating available                Eurospa   \n3     No rating available  SANTOSH ROYAL FASHION   \n4     No rating available           Jaipur Print   \n...                   ...                    ...   \n1045  No rating available           Oren Empower   \n1046  No rating available             Wallmantra   \n1047  No rating available               Uberlyfe   \n1048  No rating available             Wallmantra   \n1049                    4               Uberlyfe   \n\n                                 product_specifications  \n0     {\"product_specification\"=>[{\"key\"=>\"Brand\", \"v...  \n1     {\"product_specification\"=>[{\"key\"=>\"Machine Wa...  \n2     {\"product_specification\"=>[{\"key\"=>\"Material\",...  \n3     {\"product_specification\"=>[{\"key\"=>\"Brand\", \"v...  \n4     {\"product_specification\"=>[{\"key\"=>\"Machine Wa...  \n...                                                 ...  \n1045  {\"product_specification\"=>[{\"key\"=>\"Number of ...  \n1046  {\"product_specification\"=>[{\"key\"=>\"Number of ...  \n1047  {\"product_specification\"=>[{\"key\"=>\"Number of ...  \n1048  {\"product_specification\"=>[{\"key\"=>\"Number of ...  \n1049  {\"product_specification\"=>[{\"key\"=>\"Sales Pack...  \n\n[1050 rows x 15 columns]",
      "text/html": "<div>\n<style scoped>\n    .dataframe tbody tr th:only-of-type {\n        vertical-align: middle;\n    }\n\n    .dataframe tbody tr th {\n        vertical-align: top;\n    }\n\n    .dataframe thead th {\n        text-align: right;\n    }\n</style>\n<table border=\"1\" class=\"dataframe\">\n  <thead>\n    <tr style=\"text-align: right;\">\n      <th></th>\n      <th>uniq_id</th>\n      <th>crawl_timestamp</th>\n      <th>product_url</th>\n      <th>product_name</th>\n      <th>product_category_tree</th>\n      <th>pid</th>\n      <th>retail_price</th>\n      <th>discounted_price</th>\n      <th>image</th>\n      <th>is_FK_Advantage_product</th>\n      <th>description</th>\n      <th>product_rating</th>\n      <th>overall_rating</th>\n      <th>brand</th>\n      <th>product_specifications</th>\n    </tr>\n  </thead>\n  <tbody>\n    <tr>\n      <th>0</th>\n      <td>55b85ea15a1536d46b7190ad6fff8ce7</td>\n      <td>2016-04-30 03:22:56 +0000</td>\n      <td>http://www.flipkart.com/elegance-polyester-mul...</td>\n      <td>Elegance Polyester Multicolor Abstract Eyelet ...</td>\n      <td>[\"Home Furnishing &gt;&gt; Curtains &amp; Accessories &gt;&gt;...</td>\n      <td>CRNEG7BKMFFYHQ8Z</td>\n      <td>1899.0</td>\n      <td>899.0</td>\n      <td>55b85ea15a1536d46b7190ad6fff8ce7.jpg</td>\n      <td>False</td>\n      <td>Key Features of Elegance Polyester Multicolor ...</td>\n      <td>No rating available</td>\n      <td>No rating available</td>\n      <td>Elegance</td>\n      <td>{\"product_specification\"=&gt;[{\"key\"=&gt;\"Brand\", \"v...</td>\n    </tr>\n    <tr>\n      <th>1</th>\n      <td>7b72c92c2f6c40268628ec5f14c6d590</td>\n      <td>2016-04-30 03:22:56 +0000</td>\n      <td>http://www.flipkart.com/sathiyas-cotton-bath-t...</td>\n      <td>Sathiyas Cotton Bath Towel</td>\n      <td>[\"Baby Care &gt;&gt; Baby Bath &amp; Skin &gt;&gt; Baby Bath T...</td>\n      <td>BTWEGFZHGBXPHZUH</td>\n      <td>600.0</td>\n      <td>449.0</td>\n      <td>7b72c92c2f6c40268628ec5f14c6d590.jpg</td>\n      <td>False</td>\n      <td>Specifications of Sathiyas Cotton Bath Towel (...</td>\n      <td>No rating available</td>\n      <td>No rating available</td>\n      <td>Sathiyas</td>\n      <td>{\"product_specification\"=&gt;[{\"key\"=&gt;\"Machine Wa...</td>\n    </tr>\n    <tr>\n      <th>2</th>\n      <td>64d5d4a258243731dc7bbb1eef49ad74</td>\n      <td>2016-04-30 03:22:56 +0000</td>\n      <td>http://www.flipkart.com/eurospa-cotton-terry-f...</td>\n      <td>Eurospa Cotton Terry Face Towel Set</td>\n      <td>[\"Baby Care &gt;&gt; Baby Bath &amp; Skin &gt;&gt; Baby Bath T...</td>\n      <td>BTWEG6SHXTDB2A2Y</td>\n      <td>NaN</td>\n      <td>NaN</td>\n      <td>64d5d4a258243731dc7bbb1eef49ad74.jpg</td>\n      <td>False</td>\n      <td>Key Features of Eurospa Cotton Terry Face Towe...</td>\n      <td>No rating available</td>\n      <td>No rating available</td>\n      <td>Eurospa</td>\n      <td>{\"product_specification\"=&gt;[{\"key\"=&gt;\"Material\",...</td>\n    </tr>\n    <tr>\n      <th>3</th>\n      <td>d4684dcdc759dd9cdf41504698d737d8</td>\n      <td>2016-06-20 08:49:52 +0000</td>\n      <td>http://www.flipkart.com/santosh-royal-fashion-...</td>\n      <td>SANTOSH ROYAL FASHION Cotton Printed King size...</td>\n      <td>[\"Home Furnishing &gt;&gt; Bed Linen &gt;&gt; Bedsheets &gt;&gt;...</td>\n      <td>BDSEJT9UQWHDUBH4</td>\n      <td>2699.0</td>\n      <td>1299.0</td>\n      <td>d4684dcdc759dd9cdf41504698d737d8.jpg</td>\n      <td>False</td>\n      <td>Key Features of SANTOSH ROYAL FASHION Cotton P...</td>\n      <td>No rating available</td>\n      <td>No rating available</td>\n      <td>SANTOSH ROYAL FASHION</td>\n      <td>{\"product_specification\"=&gt;[{\"key\"=&gt;\"Brand\", \"v...</td>\n    </tr>\n    <tr>\n      <th>4</th>\n      <td>6325b6870c54cd47be6ebfbffa620ec7</td>\n      <td>2016-06-20 08:49:52 +0000</td>\n      <td>http://www.flipkart.com/jaipur-print-cotton-fl...</td>\n      <td>Jaipur Print Cotton Floral King sized Double B...</td>\n      <td>[\"Home Furnishing &gt;&gt; Bed Linen &gt;&gt; Bedsheets &gt;&gt;...</td>\n      <td>BDSEJTHNGWVGWWQU</td>\n      <td>2599.0</td>\n      <td>698.0</td>\n      <td>6325b6870c54cd47be6ebfbffa620ec7.jpg</td>\n      <td>False</td>\n      <td>Key Features of Jaipur Print Cotton Floral Kin...</td>\n      <td>No rating available</td>\n      <td>No rating available</td>\n      <td>Jaipur Print</td>\n      <td>{\"product_specification\"=&gt;[{\"key\"=&gt;\"Machine Wa...</td>\n    </tr>\n    <tr>\n      <th>...</th>\n      <td>...</td>\n      <td>...</td>\n      <td>...</td>\n      <td>...</td>\n      <td>...</td>\n      <td>...</td>\n      <td>...</td>\n      <td>...</td>\n      <td>...</td>\n      <td>...</td>\n      <td>...</td>\n      <td>...</td>\n      <td>...</td>\n      <td>...</td>\n      <td>...</td>\n    </tr>\n    <tr>\n      <th>1045</th>\n      <td>958f54f4c46b53c8a0a9b8167d9140bc</td>\n      <td>2015-12-01 10:15:43 +0000</td>\n      <td>http://www.flipkart.com/oren-empower-extra-lar...</td>\n      <td>Oren Empower Extra Large Self Adhesive Sticker</td>\n      <td>[\"Baby Care &gt;&gt; Baby &amp; Kids Gifts &gt;&gt; Stickers &gt;...</td>\n      <td>STIE88ZGTX65GH4V</td>\n      <td>1399.0</td>\n      <td>999.0</td>\n      <td>958f54f4c46b53c8a0a9b8167d9140bc.jpg</td>\n      <td>False</td>\n      <td>Oren Empower Extra Large Self Adhesive Sticker...</td>\n      <td>No rating available</td>\n      <td>No rating available</td>\n      <td>Oren Empower</td>\n      <td>{\"product_specification\"=&gt;[{\"key\"=&gt;\"Number of ...</td>\n    </tr>\n    <tr>\n      <th>1046</th>\n      <td>fd6cbcc22efb6b761bd564c28928483c</td>\n      <td>2015-12-01 10:15:43 +0000</td>\n      <td>http://www.flipkart.com/wallmantra-large-vinyl...</td>\n      <td>Wallmantra Large Vinyl Sticker Sticker</td>\n      <td>[\"Baby Care &gt;&gt; Baby &amp; Kids Gifts &gt;&gt; Stickers &gt;...</td>\n      <td>STIEC889ZD5GDCVQ</td>\n      <td>4930.0</td>\n      <td>1896.0</td>\n      <td>fd6cbcc22efb6b761bd564c28928483c.jpg</td>\n      <td>False</td>\n      <td>Wallmantra Large Vinyl Sticker Sticker (Pack o...</td>\n      <td>No rating available</td>\n      <td>No rating available</td>\n      <td>Wallmantra</td>\n      <td>{\"product_specification\"=&gt;[{\"key\"=&gt;\"Number of ...</td>\n    </tr>\n    <tr>\n      <th>1047</th>\n      <td>5912e037d12774bb73a2048f35a00009</td>\n      <td>2015-12-01 10:15:43 +0000</td>\n      <td>http://www.flipkart.com/uberlyfe-extra-large-p...</td>\n      <td>Uberlyfe Extra Large Pigmented Polyvinyl Films...</td>\n      <td>[\"Baby Care &gt;&gt; Baby &amp; Kids Gifts &gt;&gt; Stickers &gt;...</td>\n      <td>STIE5UVGW2JWVWCT</td>\n      <td>4500.0</td>\n      <td>1449.0</td>\n      <td>5912e037d12774bb73a2048f35a00009.jpg</td>\n      <td>False</td>\n      <td>Buy Uberlyfe Extra Large Pigmented Polyvinyl F...</td>\n      <td>No rating available</td>\n      <td>No rating available</td>\n      <td>Uberlyfe</td>\n      <td>{\"product_specification\"=&gt;[{\"key\"=&gt;\"Number of ...</td>\n    </tr>\n    <tr>\n      <th>1048</th>\n      <td>c3edc504d1b4f0ba6224fa53a43a7ad6</td>\n      <td>2015-12-01 10:15:43 +0000</td>\n      <td>http://www.flipkart.com/wallmantra-medium-viny...</td>\n      <td>Wallmantra Medium Vinyl Sticker Sticker</td>\n      <td>[\"Baby Care &gt;&gt; Baby &amp; Kids Gifts &gt;&gt; Stickers &gt;...</td>\n      <td>STIEC889ZGFD3RCE</td>\n      <td>3465.0</td>\n      <td>1333.0</td>\n      <td>c3edc504d1b4f0ba6224fa53a43a7ad6.jpg</td>\n      <td>False</td>\n      <td>Buy Wallmantra Medium Vinyl Sticker Sticker fo...</td>\n      <td>No rating available</td>\n      <td>No rating available</td>\n      <td>Wallmantra</td>\n      <td>{\"product_specification\"=&gt;[{\"key\"=&gt;\"Number of ...</td>\n    </tr>\n    <tr>\n      <th>1049</th>\n      <td>f2f027ad6a6df617c9f125173da71e44</td>\n      <td>2015-12-01 10:15:43 +0000</td>\n      <td>http://www.flipkart.com/uberlyfe-large-vinyl-s...</td>\n      <td>Uberlyfe Large Vinyl Sticker</td>\n      <td>[\"Baby Care &gt;&gt; Baby &amp; Kids Gifts &gt;&gt; Stickers &gt;...</td>\n      <td>STIE2ZEPACRQJKH7</td>\n      <td>1190.0</td>\n      <td>595.0</td>\n      <td>f2f027ad6a6df617c9f125173da71e44.jpg</td>\n      <td>False</td>\n      <td>Buy Uberlyfe Large Vinyl Sticker for Rs.595 on...</td>\n      <td>4</td>\n      <td>4</td>\n      <td>Uberlyfe</td>\n      <td>{\"product_specification\"=&gt;[{\"key\"=&gt;\"Sales Pack...</td>\n    </tr>\n  </tbody>\n</table>\n<p>1050 rows × 15 columns</p>\n</div>"
     },
     "execution_count": 120,
     "metadata": {},
     "output_type": "execute_result"
    }
   ],
   "source": [
    "data_text"
   ],
   "metadata": {
    "collapsed": false,
    "pycharm": {
     "name": "#%%\n"
    }
   }
  },
  {
   "cell_type": "markdown",
   "source": [
    "##### Checking that the uniq_id = image without .jpg"
   ],
   "metadata": {
    "collapsed": false,
    "pycharm": {
     "name": "#%% md\n"
    }
   }
  },
  {
   "cell_type": "code",
   "execution_count": 130,
   "outputs": [
    {
     "data": {
      "text/plain": "                            uniq_id                                 image  \\\n0  55b85ea15a1536d46b7190ad6fff8ce7  55b85ea15a1536d46b7190ad6fff8ce7.jpg   \n1  7b72c92c2f6c40268628ec5f14c6d590  7b72c92c2f6c40268628ec5f14c6d590.jpg   \n2  64d5d4a258243731dc7bbb1eef49ad74  64d5d4a258243731dc7bbb1eef49ad74.jpg   \n3  d4684dcdc759dd9cdf41504698d737d8  d4684dcdc759dd9cdf41504698d737d8.jpg   \n4  6325b6870c54cd47be6ebfbffa620ec7  6325b6870c54cd47be6ebfbffa620ec7.jpg   \n\n   Matches  \n0     True  \n1     True  \n2     True  \n3     True  \n4     True  ",
      "text/html": "<div>\n<style scoped>\n    .dataframe tbody tr th:only-of-type {\n        vertical-align: middle;\n    }\n\n    .dataframe tbody tr th {\n        vertical-align: top;\n    }\n\n    .dataframe thead th {\n        text-align: right;\n    }\n</style>\n<table border=\"1\" class=\"dataframe\">\n  <thead>\n    <tr style=\"text-align: right;\">\n      <th></th>\n      <th>uniq_id</th>\n      <th>image</th>\n      <th>Matches</th>\n    </tr>\n  </thead>\n  <tbody>\n    <tr>\n      <th>0</th>\n      <td>55b85ea15a1536d46b7190ad6fff8ce7</td>\n      <td>55b85ea15a1536d46b7190ad6fff8ce7.jpg</td>\n      <td>True</td>\n    </tr>\n    <tr>\n      <th>1</th>\n      <td>7b72c92c2f6c40268628ec5f14c6d590</td>\n      <td>7b72c92c2f6c40268628ec5f14c6d590.jpg</td>\n      <td>True</td>\n    </tr>\n    <tr>\n      <th>2</th>\n      <td>64d5d4a258243731dc7bbb1eef49ad74</td>\n      <td>64d5d4a258243731dc7bbb1eef49ad74.jpg</td>\n      <td>True</td>\n    </tr>\n    <tr>\n      <th>3</th>\n      <td>d4684dcdc759dd9cdf41504698d737d8</td>\n      <td>d4684dcdc759dd9cdf41504698d737d8.jpg</td>\n      <td>True</td>\n    </tr>\n    <tr>\n      <th>4</th>\n      <td>6325b6870c54cd47be6ebfbffa620ec7</td>\n      <td>6325b6870c54cd47be6ebfbffa620ec7.jpg</td>\n      <td>True</td>\n    </tr>\n  </tbody>\n</table>\n</div>"
     },
     "execution_count": 130,
     "metadata": {},
     "output_type": "execute_result"
    }
   ],
   "source": [
    "dataset_ids = data_text.copy()\n",
    "dataset_ids = dataset_ids[[\"uniq_id\", \"image\"]]\n",
    "\n",
    "#dataset_ids[\"image_without_jpg\"] = dataset_ids[\"image\"].str.slice(stop=-4)\n",
    "dataset_ids[\"Matches\"] = dataset_ids[\"uniq_id\"] == dataset_ids[\"image\"].str.slice(stop=-4)\n",
    "\n",
    "dataset_ids.head()"
   ],
   "metadata": {
    "collapsed": false,
    "pycharm": {
     "name": "#%%\n"
    }
   }
  },
  {
   "cell_type": "code",
   "execution_count": 135,
   "outputs": [
    {
     "name": "stdout",
     "output_type": "stream",
     "text": [
      "We checked if the unique id matches the image name for all the data and we got only :  [ True]\n"
     ]
    }
   ],
   "source": [
    "print(\"We checked if the unique id matches the image name for all the data and we got only : \", dataset_ids[\"Matches\"].unique())"
   ],
   "metadata": {
    "collapsed": false,
    "pycharm": {
     "name": "#%%\n"
    }
   }
  },
  {
   "cell_type": "markdown",
   "source": [
    "##### Exploration"
   ],
   "metadata": {
    "collapsed": false,
    "pycharm": {
     "name": "#%% md\n"
    }
   }
  },
  {
   "cell_type": "code",
   "execution_count": 145,
   "outputs": [
    {
     "data": {
      "text/plain": "0    [\"Home Furnishing >> Curtains & Accessories >>...\n1    [\"Baby Care >> Baby Bath & Skin >> Baby Bath T...\n2    [\"Baby Care >> Baby Bath & Skin >> Baby Bath T...\n3    [\"Home Furnishing >> Bed Linen >> Bedsheets >>...\n4    [\"Home Furnishing >> Bed Linen >> Bedsheets >>...\nName: product_category_tree, dtype: object"
     },
     "execution_count": 145,
     "metadata": {},
     "output_type": "execute_result"
    }
   ],
   "source": [
    "pd.set_option('display.width', None)\n",
    "data_text[\"product_category_tree\"].head()"
   ],
   "metadata": {
    "collapsed": false,
    "pycharm": {
     "name": "#%%\n"
    }
   }
  },
  {
   "cell_type": "code",
   "execution_count": 140,
   "outputs": [
    {
     "data": {
      "text/plain": "0    {\"product_specification\"=>[{\"key\"=>\"Brand\", \"v...\n1    {\"product_specification\"=>[{\"key\"=>\"Machine Wa...\n2    {\"product_specification\"=>[{\"key\"=>\"Material\",...\n3    {\"product_specification\"=>[{\"key\"=>\"Brand\", \"v...\n4    {\"product_specification\"=>[{\"key\"=>\"Machine Wa...\nName: product_specifications, dtype: object"
     },
     "execution_count": 140,
     "metadata": {},
     "output_type": "execute_result"
    }
   ],
   "source": [
    "data_text[\"product_specifications\"].head()"
   ],
   "metadata": {
    "collapsed": false,
    "pycharm": {
     "name": "#%%\n"
    }
   }
  },
  {
   "cell_type": "code",
   "execution_count": null,
   "outputs": [],
   "source": [],
   "metadata": {
    "collapsed": false,
    "pycharm": {
     "name": "#%%\n"
    }
   }
  },
  {
   "cell_type": "markdown",
   "source": [
    "## Part II : Dimension Reduction"
   ],
   "metadata": {
    "collapsed": false,
    "pycharm": {
     "name": "#%% md\n"
    }
   }
  },
  {
   "cell_type": "code",
   "execution_count": 104,
   "outputs": [],
   "source": [],
   "metadata": {
    "collapsed": false,
    "pycharm": {
     "name": "#%%\n"
    }
   }
  },
  {
   "cell_type": "markdown",
   "source": [
    "## Part III : Clustering"
   ],
   "metadata": {
    "collapsed": false,
    "pycharm": {
     "name": "#%% md\n"
    }
   }
  },
  {
   "cell_type": "code",
   "execution_count": 104,
   "outputs": [],
   "source": [],
   "metadata": {
    "collapsed": false,
    "pycharm": {
     "name": "#%%\n"
    }
   }
  },
  {
   "cell_type": "code",
   "execution_count": 104,
   "outputs": [],
   "source": [],
   "metadata": {
    "collapsed": false,
    "pycharm": {
     "name": "#%%\n"
    }
   }
  },
  {
   "cell_type": "code",
   "execution_count": 105,
   "outputs": [
    {
     "name": "stdout",
     "output_type": "stream",
     "text": [
      "computing time : 0.393173 sec\n",
      "computing time : 00:00:00\n"
     ]
    }
   ],
   "source": [
    "# End of notebook time\n",
    "t1 = time()\n",
    "print(\"computing time : {:8.6f} sec\".format(t1 - t0))\n",
    "print(\"computing time : \" + strftime('%H:%M:%S', gmtime(t1 - t0)))"
   ],
   "metadata": {
    "collapsed": false,
    "pycharm": {
     "name": "#%%\n"
    }
   }
  }
 ],
 "metadata": {
  "kernelspec": {
   "display_name": "Python 3",
   "language": "python",
   "name": "python3"
  },
  "language_info": {
   "codemirror_mode": {
    "name": "ipython",
    "version": 2
   },
   "file_extension": ".py",
   "mimetype": "text/x-python",
   "name": "python",
   "nbconvert_exporter": "python",
   "pygments_lexer": "ipython2",
   "version": "2.7.6"
  }
 },
 "nbformat": 4,
 "nbformat_minor": 0
}